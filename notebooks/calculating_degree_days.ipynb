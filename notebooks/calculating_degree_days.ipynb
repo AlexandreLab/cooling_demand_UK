{
 "cells": [
  {
   "cell_type": "code",
   "execution_count": 1,
   "id": "121ce942",
   "metadata": {},
   "outputs": [],
   "source": [
    "%load_ext autoreload\n",
    "%autoreload 2"
   ]
  },
  {
   "cell_type": "code",
   "execution_count": 2,
   "id": "73832dd1-220b-43df-9d83-c3dec37f1734",
   "metadata": {},
   "outputs": [],
   "source": [
    "import sys\n",
    "sys.path.insert(0, '..//')\n",
    "import pandas as pd\n",
    "import numpy as np\n",
    "\n",
    "from pathlib import Path\n",
    "import xarray as xr\n",
    "\n",
    "from src.common import functions\n",
    "from src.common import enums, schema"
   ]
  },
  {
   "cell_type": "code",
   "execution_count": 3,
   "id": "175868ed",
   "metadata": {},
   "outputs": [
    {
     "data": {
      "text/html": [
       "<div>\n",
       "<style scoped>\n",
       "    .dataframe tbody tr th:only-of-type {\n",
       "        vertical-align: middle;\n",
       "    }\n",
       "\n",
       "    .dataframe tbody tr th {\n",
       "        vertical-align: top;\n",
       "    }\n",
       "\n",
       "    .dataframe thead th {\n",
       "        text-align: right;\n",
       "    }\n",
       "</style>\n",
       "<table border=\"1\" class=\"dataframe\">\n",
       "  <thead>\n",
       "    <tr style=\"text-align: right;\">\n",
       "      <th></th>\n",
       "      <th>Solar_radiation_(W/m2)</th>\n",
       "      <th>Temperature_(degreeC)</th>\n",
       "    </tr>\n",
       "    <tr>\n",
       "      <th>Datetime_UTC</th>\n",
       "      <th></th>\n",
       "      <th></th>\n",
       "    </tr>\n",
       "  </thead>\n",
       "  <tbody>\n",
       "    <tr>\n",
       "      <th>2022-07-31 20:00:00+00:00</th>\n",
       "      <td>17.05125</td>\n",
       "      <td>19.231354</td>\n",
       "    </tr>\n",
       "    <tr>\n",
       "      <th>2022-07-31 21:00:00+00:00</th>\n",
       "      <td>0.00000</td>\n",
       "      <td>18.669556</td>\n",
       "    </tr>\n",
       "    <tr>\n",
       "      <th>2022-07-31 22:00:00+00:00</th>\n",
       "      <td>0.00000</td>\n",
       "      <td>18.107727</td>\n",
       "    </tr>\n",
       "    <tr>\n",
       "      <th>2022-07-31 23:00:00+00:00</th>\n",
       "      <td>0.00000</td>\n",
       "      <td>17.723083</td>\n",
       "    </tr>\n",
       "    <tr>\n",
       "      <th>2022-08-01 00:00:00+00:00</th>\n",
       "      <td>0.00000</td>\n",
       "      <td>17.177185</td>\n",
       "    </tr>\n",
       "  </tbody>\n",
       "</table>\n",
       "</div>"
      ],
      "text/plain": [
       "                           Solar_radiation_(W/m2)  Temperature_(degreeC)\n",
       "Datetime_UTC                                                            \n",
       "2022-07-31 20:00:00+00:00                17.05125              19.231354\n",
       "2022-07-31 21:00:00+00:00                 0.00000              18.669556\n",
       "2022-07-31 22:00:00+00:00                 0.00000              18.107727\n",
       "2022-07-31 23:00:00+00:00                 0.00000              17.723083\n",
       "2022-08-01 00:00:00+00:00                 0.00000              17.177185"
      ]
     },
     "execution_count": 3,
     "metadata": {},
     "output_type": "execute_result"
    }
   ],
   "source": [
    "target_area = enums.Area.CARDIFF\n",
    "HDD_ref_temperature:float = 15.5\n",
    "CDD_ref_temperature:float = 24\n",
    "path_results:Path = Path().absolute().parent/\"data\"\n",
    "\n",
    "input_data = functions.get_all_data(target_area.value)\n",
    "input_data.tail()"
   ]
  },
  {
   "cell_type": "code",
   "execution_count": 4,
   "id": "37ee1753",
   "metadata": {},
   "outputs": [],
   "source": [
    "degree_day_dataf = functions.get_degree_days_dataframe(input_data, \n",
    "                                                        HDD_ref_temperature, \n",
    "                                                        CDD_ref_temperature)\n",
    "#export results\n",
    "degree_day_dataf.to_csv(str(Path(path_results)/\"raw\"/f\"{target_area.value}_degree_days.csv\"))"
   ]
  },
  {
   "cell_type": "code",
   "execution_count": 5,
   "id": "69b7b3f0-dfc4-473f-ad50-f83047d581b2",
   "metadata": {},
   "outputs": [],
   "source": [
    "\n",
    "\n",
    "#Calculate HDD and CDD based on a rolling period of 1 day, 1 week, 2 weeks\n",
    "\n",
    "list_periods = [1, 7, 14, 21, 28] #number of days by rolling periods\n",
    "\n",
    "for number_days in list_periods:\n",
    "    target_col = f\"{schema.OutputDataSchema.HDD}_{HDD_ref_temperature:0.1f}\"\n",
    "    temp_HDD_dataf = functions.get_rolling_average_daily_degree_days_dataf(degree_day_dataf, target_col, number_days).round(3)\n",
    "    name = f\"{target_area.value}_hdd_rolling_{number_days:02}_days\"\n",
    "\n",
    "    filename = f\"{name}.csv\"\n",
    "    temp_HDD_dataf.to_csv(str(Path(path_results)/\"rolling\"/filename))\n",
    "\n",
    "    target_col = f\"{schema.OutputDataSchema.CDD}_{CDD_ref_temperature:0.1f}\"\n",
    "    temp_CDD_dataf = functions.get_rolling_average_daily_degree_days_dataf(degree_day_dataf, target_col, number_days).round(3)\n",
    "    filename = f\"{target_area.value}_cdd_rolling_{number_days:02}_days.csv\"\n",
    "    temp_CDD_dataf.to_csv(str(Path(path_results)/\"rolling\"/filename))\n"
   ]
  }
 ],
 "metadata": {
  "kernelspec": {
   "display_name": "Python 3.10.7 ('degree_days': venv)",
   "language": "python",
   "name": "python3"
  },
  "language_info": {
   "codemirror_mode": {
    "name": "ipython",
    "version": 3
   },
   "file_extension": ".py",
   "mimetype": "text/x-python",
   "name": "python",
   "nbconvert_exporter": "python",
   "pygments_lexer": "ipython3",
   "version": "3.10.7"
  },
  "vscode": {
   "interpreter": {
    "hash": "4dee939fb3b4de230198db21b7ca14f383f52f4aba21cf97569bc855125f1cdf"
   }
  }
 },
 "nbformat": 4,
 "nbformat_minor": 5
}
