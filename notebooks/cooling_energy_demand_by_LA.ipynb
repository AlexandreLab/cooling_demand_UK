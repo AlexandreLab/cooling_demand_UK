{
 "cells": [
  {
   "cell_type": "code",
   "execution_count": 1,
   "id": "ed6a6a76",
   "metadata": {},
   "outputs": [],
   "source": [
    "%load_ext autoreload\n",
    "%autoreload 2"
   ]
  },
  {
   "cell_type": "code",
   "execution_count": null,
   "id": "73832dd1-220b-43df-9d83-c3dec37f1734",
   "metadata": {},
   "outputs": [],
   "source": [
    "import sys\n",
    "sys.path.insert(0, '..//src/')\n",
    "\n",
    "import pandas as pd\n",
    "import numpy as np\n",
    "from datetime import datetime\n",
    "from pathlib import Path\n",
    "import xarray as xr\n",
    "import matplotlib.pyplot as plt\n",
    "import seaborn as sns\n",
    "from pathlib import Path\n",
    "import icecream as ic\n",
    "\n",
    "sns.set_palette(sns.color_palette(\"colorblind\", 15))\n",
    "plt.rcParams['font.family'] = 'Times New Roman'\n",
    "font_size = 12\n",
    "params = {'axes.labelsize': font_size+2,\n",
    "          'axes.titlesize':font_size+4,\n",
    "          'legend.fontsize': font_size, \n",
    "          'xtick.labelsize': font_size,\n",
    "          'ytick.labelsize': font_size,\n",
    "          'font.size': font_size}\n",
    "plt.rcParams.update(params)\n",
    "sns.set_style(\"whitegrid\")\n",
    "export_fig_format = \"pdf\"\n",
    "fig_format = \"png\"\n",
    "dpi = 300\n",
    "figsize = (12, 3.5)\n",
    "figsize_map = (16, 8)\n",
    "\n",
    "markers = ['P', 'o', '^', 's', '*', 'v']\n",
    "linewidth = 0.1\n",
    "edgecolor = 'black'\n",
    "\n",
    "import main\n",
    "from models import thermal_model\n",
    "from common import functions, enums, schema\n",
    "from data import source\n"
   ]
  },
  {
   "cell_type": "code",
   "execution_count": 3,
   "id": "02b2b0c9",
   "metadata": {},
   "outputs": [],
   "source": [
    "PATH_GB_DATA = Path(r'C:\\Users\\sceac10\\OneDrive - Cardiff University\\04 - Projects\\00 - Final data\\Annual_demand')\n",
    "PATH_CIBSE_DATA = Path(r\"C:\\Users\\sceac10\\OneDrive - Cardiff University\\General\\data\\CIBSE weather data\\WD16SET\\WD16SET\\WDD16SET\\WDD16SET\\WMD16SET\\WMD16SET\")\n",
    "PATH_RESULTS = Path(r'C:\\Users\\sceac10\\OneDrive - Cardiff University\\General\\04 - Analysis')"
   ]
  },
  {
   "cell_type": "code",
   "execution_count": 4,
   "id": "ba769d1b",
   "metadata": {},
   "outputs": [],
   "source": [
    "temp_dataf = functions.get_LSOA_code_to_LADCD_lookup()\n",
    "temp_dataf = temp_dataf.set_index(schema.geoLookupSchema.lsoa)"
   ]
  },
  {
   "cell_type": "code",
   "execution_count": null,
   "id": "6c4ac138",
   "metadata": {},
   "outputs": [],
   "source": [
    "residential_data = main.import_thermal_characteristics_data(main.PATH_GB_DATA / 'Thermal_characteristics_afterEE.csv', 2020, 2050)"
   ]
  },
  {
   "cell_type": "code",
   "execution_count": null,
   "id": "b3e0babc",
   "metadata": {},
   "outputs": [],
   "source": [
    "filt = residential_data[schema.DwellingDataSchema.LADCD] == 'S12000013'\n",
    "residential_data.loc[filt, :]\n"
   ]
  },
  {
   "cell_type": "code",
   "execution_count": null,
   "id": "608c30cf",
   "metadata": {},
   "outputs": [],
   "source": [
    "residential_data.loc[filt, schema.DwellingDataSchema.THERMAL_LOSSES].hist(bins=10)"
   ]
  },
  {
   "cell_type": "code",
   "execution_count": null,
   "id": "eecab58b",
   "metadata": {},
   "outputs": [],
   "source": [
    "filt = residential_data[schema.DwellingDataSchema.CIBSE_CITY] == 'London_LHR'\n",
    "residential_data[filt]"
   ]
  },
  {
   "cell_type": "code",
   "execution_count": null,
   "id": "eb4df96c",
   "metadata": {},
   "outputs": [],
   "source": [
    "pathlist = Path(PATH_CIBSE_DATA).rglob('*_DSY2_2050High50*.csv')\n",
    "\n",
    "for path in pathlist:\n",
    "  print(path)\n",
    "  print(f\"{path.stem.split('_DSY2_')[0]},\")"
   ]
  },
  {
   "cell_type": "code",
   "execution_count": null,
   "id": "7e4da53a",
   "metadata": {},
   "outputs": [],
   "source": [
    "LA_str = \"Cardiff\"\n",
    "column_names = [\n",
    "  'Year', 'Month', 'Day', 'Hour', 'PWC', 'Cloud', 'DBT', 'WBT', 'RH', 'Press', 'WD', 'WS', 'GSR', 'DSR', 'Alt', 'Dec', 'Cloud1', 'DBT1', 'WBT1', 'Press1', 'WD1', 'WS1'\n",
    "]\n",
    "pathlist = Path(PATH_CIBSE_DATA).rglob('Cardiff_DSY2_2050High50*.csv')\n",
    "\n",
    "list_files = []\n",
    "for path in pathlist:\n",
    "  print(path.stem)\n",
    "  list_files.append(path.stem)\n",
    "  temp_dataf = pd.read_csv(path, skiprows=32, header=None, delimiter=\",\", names=column_names)"
   ]
  },
  {
   "cell_type": "code",
   "execution_count": null,
   "id": "0dcdaba2",
   "metadata": {},
   "outputs": [],
   "source": [
    "external_data = functions.format_weather_data(temp_dataf)"
   ]
  },
  {
   "cell_type": "code",
   "execution_count": null,
   "id": "9db9deaa",
   "metadata": {},
   "outputs": [],
   "source": [
    "residential_data.head()"
   ]
  },
  {
   "cell_type": "code",
   "execution_count": null,
   "metadata": {},
   "outputs": [],
   "source": [
    "residential_data.iloc[211857]"
   ]
  },
  {
   "cell_type": "code",
   "execution_count": null,
   "id": "3c26ecd7",
   "metadata": {},
   "outputs": [],
   "source": [
    "LA_str  = \"Cardiff\"\n",
    "\n",
    "filt = (residential_data[schema.DwellingDataSchema.LOCAL_AUTHORITY]==LA_str) & (residential_data[schema.DwellingDataSchema.THERMAL_CAPACITY_LEVEL]==\"medium\")\n",
    "LA_residential_data = residential_data.loc[filt, :]\n",
    "data_source = source.SimulationData(external_data)\n",
    "\n",
    "sim_dataf = data_source.create_CIBSE_based_simulation_data()\n",
    "\n",
    "row = LA_residential_data.iloc[0]\n",
    "results_df = functions.run_simulation(sim_dataf.copy(), row, initial_indoor_air_temperature=21)\n",
    "print(functions.print_heating_and_cooling_demand(results_df))"
   ]
  },
  {
   "cell_type": "code",
   "execution_count": null,
   "id": "21649562",
   "metadata": {},
   "outputs": [],
   "source": [
    "results_df[schema.DataSchema.HEATINGOUTPUT].plot()"
   ]
  },
  {
   "cell_type": "code",
   "execution_count": null,
   "id": "47a81539",
   "metadata": {},
   "outputs": [],
   "source": [
    "results_df[schema.DataSchema.IAT].plot()"
   ]
  },
  {
   "cell_type": "code",
   "execution_count": null,
   "id": "73d545d9",
   "metadata": {},
   "outputs": [],
   "source": [
    "results_df[[schema.DataSchema.IAT,schema.DataSchema.OAT]].plot()"
   ]
  },
  {
   "cell_type": "code",
   "execution_count": null,
   "id": "f1ecbc6c",
   "metadata": {},
   "outputs": [],
   "source": [
    "column_names = [\n",
    "  'Year', 'Month', 'Day', 'Hour', 'PWC', 'Cloud', 'DBT', 'WBT', 'RH', 'Press', 'WD', 'WS', 'GSR', 'DSR', 'Alt', 'Dec', 'Cloud1', 'DBT1', 'WBT1', 'Press1', 'WD1', 'WS1'\n",
    "]\n",
    "pathlist = Path(PATH_CIBSE_DATA).rglob('Cardiff_DSY2_2050High50*.csv')\n",
    "\n",
    "list_files = []\n",
    "for path in pathlist:\n",
    "  # ic.ic(path.stem)\n",
    "  cibse_city = path.stem.split('_')[0]\n",
    "  ic.ic(cibse_city)\n",
    "  # list_files.append(path.stem)\n",
    "  temp_dataf = pd.read_csv(path, skiprows=32, header=None, delimiter=\",\", names=column_names)\n",
    "  weather_data = functions.format_weather_data(temp_dataf)\n",
    "  data_source = source.SimulationData(weather_data)\n",
    "  sim_dataf = data_source.create_CIBSE_based_simulation_data()\n",
    "  filt_las = (residential_data[schema.DwellingDataSchema.CIBSE_CITY]==cibse_city)\n",
    "  list_las = list(residential_data.loc[filt_las, schema.DwellingDataSchema.LOCAL_AUTHORITY].unique())\n",
    "  for LA_str in list_las:\n",
    "    ic.ic(LA_str)\n",
    "    filt = ((residential_data[schema.DwellingDataSchema.LOCAL_AUTHORITY]==LA_str) \n",
    "            & (residential_data[schema.DwellingDataSchema.THERMAL_CAPACITY_LEVEL]==\"medium\"))\n",
    "    LA_residential_data = residential_data.loc[filt, :]\n",
    "\n",
    "    summary_results, metadata = functions.run_batch_simulation(LA_residential_data.head(), sim_dataf, PATH_RESULTS)\n",
    "    # save_summary_results_path =  PATH_RESULTS/f'summary_results'\n",
    "    # save_summary_results_path.mkdir(parents=True, exist_ok=True)\n",
    "    # summary_results.to_parquet(save_summary_results_path/f'{LA_str}_summary_results.gzip')\n",
    "    # save_metadata_path =  PATH_RESULTS/f'metadata'\n",
    "    # save_metadata_path.mkdir(parents=True, exist_ok=True)\n",
    "    # metadata.to_parquet(save_metadata_path/f'{LA_str}_metadata.gzip')\n",
    "\n",
    "  "
   ]
  },
  {
   "cell_type": "code",
   "execution_count": null,
   "id": "2e2ea416",
   "metadata": {},
   "outputs": [],
   "source": [
    "LA_residential_data"
   ]
  },
  {
   "cell_type": "code",
   "execution_count": null,
   "id": "7a054446",
   "metadata": {},
   "outputs": [],
   "source": [
    "temp_concat_results = pd.concat([LA_residential_data, summary_results], axis=1)\n",
    "temp_concat_results.head()"
   ]
  },
  {
   "cell_type": "code",
   "execution_count": null,
   "id": "c49227df",
   "metadata": {},
   "outputs": [],
   "source": [
    "cooling_per_m2 = schema.ResultSchema.SPECIFICCOOLINGDEMAND.replace(\"kWh/dwelling\", \"kWh/m2\")\n",
    "temp_concat_results[cooling_per_m2] = temp_concat_results[schema.ResultSchema.SPECIFICCOOLINGDEMAND]/temp_concat_results[\"Average floor area m2\"]\n",
    "temp_concat_results[cooling_per_m2]"
   ]
  },
  {
   "cell_type": "code",
   "execution_count": null,
   "id": "cf41ec06",
   "metadata": {},
   "outputs": [],
   "source": [
    "nb_dwellings = temp_concat_results[\"Number of dwellings\"].sum()\n",
    "total_floor_area = temp_concat_results[\"Average floor area m2\"].sum()*nb_dwellings\n",
    "print(f\"In {LA_str}, there are {nb_dwellings:,.0f} dwellings for a total floor area of {total_floor_area/1_000_000:,.0f} km2\")"
   ]
  },
  {
   "cell_type": "code",
   "execution_count": null,
   "id": "e67609e5",
   "metadata": {},
   "outputs": [],
   "source": [
    "(-temp_concat_results.groupby(\"Dwelling forms\").agg({cooling_per_m2:\"mean\"})).plot.bar(rot=0)\n"
   ]
  },
  {
   "cell_type": "code",
   "execution_count": null,
   "id": "2993d8e7",
   "metadata": {},
   "outputs": [],
   "source": [
    "(-temp_concat_results.groupby(\"Dwelling forms\").agg({schema.ResultSchema.COOLINGDEMAND:\"sum\"})).plot.bar(rot=0)"
   ]
  },
  {
   "cell_type": "code",
   "execution_count": null,
   "id": "8cdfeda6",
   "metadata": {},
   "outputs": [],
   "source": [
    "(-temp_concat_results.groupby(\"Dwelling forms\").agg({schema.ResultSchema.SPECIFICCOOLINGDEMAND:\"mean\"})).plot.bar(rot=0)"
   ]
  },
  {
   "cell_type": "code",
   "execution_count": null,
   "id": "ad1ddea9",
   "metadata": {},
   "outputs": [],
   "source": [
    "temp_LA_results[schema.ResultSchema.COOLINGDEMAND].sum"
   ]
  }
 ],
 "metadata": {
  "kernelspec": {
   "display_name": "Python 3.10.7 ('degree_days': venv)",
   "language": "python",
   "name": "python3"
  },
  "language_info": {
   "codemirror_mode": {
    "name": "ipython",
    "version": 3
   },
   "file_extension": ".py",
   "mimetype": "text/x-python",
   "name": "python",
   "nbconvert_exporter": "python",
   "pygments_lexer": "ipython3",
   "version": "3.10.7"
  },
  "vscode": {
   "interpreter": {
    "hash": "4dee939fb3b4de230198db21b7ca14f383f52f4aba21cf97569bc855125f1cdf"
   }
  }
 },
 "nbformat": 4,
 "nbformat_minor": 5
}
