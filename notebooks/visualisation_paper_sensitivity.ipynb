{
 "cells": [
  {
   "cell_type": "code",
   "execution_count": null,
   "metadata": {},
   "outputs": [],
   "source": [
    "%load_ext autoreload\n",
    "%autoreload 2"
   ]
  },
  {
   "cell_type": "code",
   "execution_count": 13,
   "metadata": {},
   "outputs": [],
   "source": [
    "import sys\n",
    "sys.path.insert(0, '..//src/')"
   ]
  },
  {
   "cell_type": "code",
   "execution_count": null,
   "metadata": {},
   "outputs": [],
   "source": [
    "import numpy as np\n",
    "import pandas as pd\n",
    "import os\n",
    "import matplotlib.pyplot as plt\n",
    "import matplotlib.ticker as tkr\n",
    "from matplotlib.colors import LinearSegmentedColormap\n",
    "import matplotlib as mpl\n",
    "import seaborn as sns\n",
    "import sys\n",
    "import random\n",
    "import geopandas as gpd\n",
    "from common import enums, functions, schema\n",
    "import main\n",
    "\n",
    "from pathlib import Path\n",
    "\n",
    "random.seed(42)\n",
    "\n",
    "# blues = [x for x in reversed(sns.color_palette(\"Blues_d\", 11))]\n",
    "# sns.set_palette(sns.color_palette(\"Paired\", 10))\n",
    "# sns.set_style(\"white\")\n",
    "sns.set_palette(sns.color_palette(\"colorblind\", 15))\n",
    "plt.rcParams['font.family'] = 'Times New Roman'\n",
    "font_size = 12\n",
    "params = {'axes.labelsize': font_size+2,\n",
    "          'axes.titlesize':font_size+4,\n",
    "          'legend.fontsize': font_size, \n",
    "          'xtick.labelsize': font_size,\n",
    "          'ytick.labelsize': font_size,\n",
    "          'font.size': font_size}\n",
    "plt.rcParams.update(params)\n",
    "sns.set_style(\"whitegrid\")\n",
    "export_fig_format = \"pdf\"\n",
    "fig_format = \"png\"\n",
    "dpi = 300\n",
    "figsize = (12, 3.5)\n",
    "figsize_map = (16, 8)\n",
    "sns.palplot(sns.color_palette())\n",
    "\n",
    "markers = ['P', 'o', '^', 's', '*', 'v']\n",
    "linewidth = 0.1\n",
    "edgecolor = 'black'\n",
    "\n",
    "print(os.getcwd())\n",
    "computer_path= \"\"\n",
    "for x in os.getcwd().split(os.path.sep):\n",
    "    print(x)\n",
    "    computer_path=computer_path+x+os.path.sep\n",
    "    if x == \"sceac10\":\n",
    "        break    \n",
    "    else: computer_path = os.getcwd().split(os.path.sep)[0]+os.path.sep\n",
    "print(computer_path)\n"
   ]
  },
  {
   "cell_type": "code",
   "execution_count": 15,
   "metadata": {},
   "outputs": [],
   "source": [
    "PATH_ORG = main.PATH_ORG\n",
    "PATH_TABLES = PATH_ORG / r\"General\\communication\\tables\"\n",
    "PATH_SAVE_FIGURES = PATH_ORG / r\"General\\communication\\figures\"\n",
    "scop=14/3.412 #https://www.eia.gov/todayinenergy/detail.php?id=40232\n",
    "cop = scop * 0.875"
   ]
  },
  {
   "cell_type": "markdown",
   "metadata": {},
   "source": [
    "## Cooling demand in GB"
   ]
  },
  {
   "cell_type": "code",
   "execution_count": null,
   "metadata": {},
   "outputs": [],
   "source": [
    "residential_data = main.import_thermal_characteristics_data(\n",
    "    main.PATH_GB_DATA / 'Thermal_characteristics_afterEE.csv', 2020, 2050)\n",
    "residential_data.head()"
   ]
  },
  {
   "cell_type": "code",
   "execution_count": null,
   "metadata": {},
   "outputs": [],
   "source": [
    "residential_data[schema.DwellingDataSchema.NB_DWELLINGS].sum()/3"
   ]
  },
  {
   "cell_type": "code",
   "execution_count": null,
   "metadata": {},
   "outputs": [],
   "source": [
    "225000000/29362354.0"
   ]
  },
  {
   "cell_type": "code",
   "execution_count": 19,
   "metadata": {},
   "outputs": [],
   "source": [
    "scenario_dict = {\n",
    "    \"high thermal capacity\": (\"high\", '2050 high emission high thermal capacity') ,\n",
    "    \"medium thermal capacity\": (\"medium\", '2050 high emission medium thermal capacity'),\n",
    "    \"low thermal capacity\": (\"low\", '2050 high emission low thermal capacity') ,\n",
    "}"
   ]
  },
  {
   "cell_type": "code",
   "execution_count": null,
   "metadata": {},
   "outputs": [],
   "source": [
    "main.PATH_ORG / r'General/04 - Analysis' / folder"
   ]
  },
  {
   "cell_type": "code",
   "execution_count": null,
   "metadata": {},
   "outputs": [],
   "source": [
    "import icecream as ic\n",
    "\n",
    "peak_results = []\n",
    "cooling_demand_results = []\n",
    "\n",
    "for sc_name, (thermal_capacity_level, folder) in scenario_dict.items():\n",
    "  ic.ic(sc_name)\n",
    "  PATH_RESULTS = main.PATH_ORG / r'General/04 - Analysis' / folder\n",
    "  try:\n",
    "    cooling_demand = pd.read_csv(PATH_RESULTS /\n",
    "                                 'cooling_demand_profiles_la.csv',\n",
    "                                 index_col=0, parse_dates=True)\n",
    "    lsoa_peak = pd.read_csv(PATH_RESULTS / 'cooling_peak_results_lsoa.csv',\n",
    "                            index_col=[0, 1])\n",
    "  except:\n",
    "    filt = residential_data[schema.DwellingDataSchema.\n",
    "                            THERMAL_CAPACITY_LEVEL] == thermal_capacity_level\n",
    "    temp_residential_data = residential_data.loc[filt].copy()\n",
    "    lsoa_peak, cooling_demand = functions.extract_cooling_demand_profiles_and_peaks(\n",
    "        PATH_RESULTS, temp_residential_data)\n",
    "  lsoa_peak[schema.DwellingDataSchema.\n",
    "            THERMAL_CAPACITY_LEVEL] = thermal_capacity_level\n",
    "  peak_results.append(lsoa_peak)\n",
    "  total_cooling_demand = cooling_demand.sum(axis=1).to_frame()\n",
    "  total_cooling_demand[schema.DwellingDataSchema.\n",
    "                       THERMAL_CAPACITY_LEVEL] = thermal_capacity_level\n",
    "  cooling_demand_results.append(total_cooling_demand)\n",
    "lsoa_peak = pd.concat(peak_results)\n",
    "lsoa_peak[schema.VisualisationSchema.PEAK_COOLING] = lsoa_peak[\n",
    "      schema.VisualisationSchema.PEAK_COOLING] / 1000\n",
    "cooling_demand = pd.concat(cooling_demand_results)\n",
    "cooling_demand = pd.pivot_table(cooling_demand, index=cooling_demand.index, columns=schema.DwellingDataSchema.THERMAL_CAPACITY_LEVEL, values=0)"
   ]
  },
  {
   "cell_type": "code",
   "execution_count": null,
   "metadata": {},
   "outputs": [],
   "source": [
    "avg_cooling_demand = (cooling_demand.groupby(cooling_demand.index.hour).mean()/1000000)\n",
    "avg_cooling_demand.head()"
   ]
  },
  {
   "cell_type": "code",
   "execution_count": null,
   "metadata": {},
   "outputs": [],
   "source": []
  },
  {
   "cell_type": "code",
   "execution_count": null,
   "metadata": {},
   "outputs": [],
   "source": [
    "avg_cooling_demand.idxmax()"
   ]
  },
  {
   "cell_type": "code",
   "execution_count": null,
   "metadata": {},
   "outputs": [],
   "source": [
    "fig, ax = plt.subplots(figsize=figsize)\n",
    "avg_cooling_demand['high'].plot(ax=ax, marker='*', color = sns.color_palette()[0])\n",
    "avg_cooling_demand['medium'].plot(ax=ax, marker='^', color='black')\n",
    "avg_cooling_demand['low'].plot(ax=ax, marker='o', color = sns.color_palette()[0])\n",
    "# ax.fill_between(avg_cooling_demand.index, avg_cooling_demand['high'],avg_cooling_demand['low'], color = sns.color_palette()[0], alpha=0.5)\n",
    "\n",
    "ax.set_ylabel(schema.VisualisationSchema.AVG_COOLINGDEMAND_GW)\n",
    "ax.set_xlim(0, 23)\n",
    "ax.set_ylim(0, None)\n",
    "ax.set_xlabel(\"Hours of the day\")\n",
    "ax.legend(title=schema.DwellingDataSchema.THERMAL_CAPACITY_LEVEL)\n",
    "\n",
    "fig.savefig(PATH_SAVE_FIGURES/f\"thermal_capacity.{fig_format}\", bbox_inches='tight', format=fig_format, dpi=dpi)\n",
    "fig.savefig(PATH_SAVE_FIGURES/f\"thermal_capacity.{export_fig_format}\", bbox_inches='tight', format=export_fig_format, dpi=dpi)"
   ]
  },
  {
   "cell_type": "code",
   "execution_count": null,
   "metadata": {},
   "outputs": [],
   "source": []
  },
  {
   "cell_type": "code",
   "execution_count": null,
   "metadata": {},
   "outputs": [],
   "source": [
    "(cooling_demand.groupby(cooling_demand.index.hour).mean() /\n",
    " 1000000).max()"
   ]
  },
  {
   "cell_type": "code",
   "execution_count": null,
   "metadata": {},
   "outputs": [],
   "source": []
  },
  {
   "cell_type": "code",
   "execution_count": null,
   "metadata": {},
   "outputs": [],
   "source": [
    "fig, ax = plt.subplots(figsize=figsize)\n",
    "(cooling_demand / 1000000000).sum().plot.bar(ax=ax, rot=0)\n",
    "ax.get_yaxis().set_major_formatter(\n",
    "    tkr.FuncFormatter(lambda x, p: \"{:,.0f}\".format(x)))\n",
    "ax.set_ylabel(schema.VisualisationSchema.COOLINGDEMAND_TWH)\n",
    "(cooling_demand / 1000000000).sum()"
   ]
  },
  {
   "cell_type": "code",
   "execution_count": null,
   "metadata": {},
   "outputs": [],
   "source": [
    "PATH_TABLES"
   ]
  },
  {
   "cell_type": "code",
   "execution_count": null,
   "metadata": {},
   "outputs": [],
   "source": [
    "summary_results = pd.concat([(cooling_demand / 1000000).max(),\n",
    "                             (cooling_demand / 1000000000).sum()],\n",
    "                            axis=1)\n",
    "summary_results.columns = [\n",
    "    schema.VisualisationSchema.COOLINGDEMAND_GW,\n",
    "    schema.VisualisationSchema.COOLINGDEMAND_TWH\n",
    "]\n",
    "summary_results = summary_results.round(0).astype(int)\n",
    "summary_results.to_csv(PATH_TABLES/\"sensitivity_summary_results.csv\")\n",
    "summary_results"
   ]
  },
  {
   "cell_type": "code",
   "execution_count": null,
   "metadata": {},
   "outputs": [],
   "source": [
    "(26636.061763-38234.490018)/38234.490018"
   ]
  },
  {
   "cell_type": "code",
   "execution_count": null,
   "metadata": {},
   "outputs": [],
   "source": [
    "(450 - 250) / 250\n",
    "(62-38)/38"
   ]
  },
  {
   "cell_type": "code",
   "execution_count": null,
   "metadata": {},
   "outputs": [],
   "source": [
    "fig, ax = plt.subplots(figsize=figsize)\n",
    "markers = ['*', '^', 'o']\n",
    "for ii,c in enumerate(cooling_demand):\n",
    "  (cooling_demand[c].sort_values(ascending=False).reset_index(drop=True)/1000000).plot(\n",
    "      ax=ax, marker=markers[ii], markevery=100)\n",
    "ax.margins(0, None)\n",
    "ax.set_ylabel(schema.VisualisationSchema.COOLINGDEMAND_GW)\n",
    "ax.set_xlabel(\"Number of hours\")\n",
    "ax.legend(title=schema.DwellingDataSchema.THERMAL_CAPACITY_LEVEL)\n",
    "ax.set_xlim(0, 1000)\n",
    "ax.set_ylim(0, None)\n",
    "ax.get_xaxis().set_major_formatter(\n",
    "    tkr.FuncFormatter(lambda x, p: \"{:,.0f}\".format(x)))\n",
    "fig.savefig(PATH_SAVE_FIGURES/f\"sensitivity_load_duration_curves.{fig_format}\", bbox_inches='tight', format=fig_format, dpi=dpi)\n",
    "fig.savefig(PATH_SAVE_FIGURES/f\"sensitivity_load_duration_curves.{export_fig_format}\", bbox_inches='tight', format=export_fig_format, dpi=dpi)"
   ]
  },
  {
   "cell_type": "markdown",
   "metadata": {},
   "source": [
    "### Specific cooling demand by dwelling type, dwelling category and heating systems"
   ]
  },
  {
   "cell_type": "code",
   "execution_count": null,
   "metadata": {},
   "outputs": [],
   "source": [
    "fig, ax = plt.subplots(figsize=figsize)\n",
    "sns.histplot(data= lsoa_peak.reset_index(drop=True), x=schema.VisualisationSchema.PEAK_COOLING, hue=schema.DwellingDataSchema.THERMAL_CAPACITY_LEVEL, ax=ax)"
   ]
  }
 ],
 "metadata": {
  "kernelspec": {
   "display_name": "degree-days-analysis-g6MexP5C-py3.11",
   "language": "python",
   "name": "python3"
  },
  "language_info": {
   "codemirror_mode": {
    "name": "ipython",
    "version": 3
   },
   "file_extension": ".py",
   "mimetype": "text/x-python",
   "name": "python",
   "nbconvert_exporter": "python",
   "pygments_lexer": "ipython3",
   "version": "3.11.2"
  }
 },
 "nbformat": 4,
 "nbformat_minor": 4
}
