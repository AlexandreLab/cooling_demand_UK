{
 "cells": [
  {
   "cell_type": "code",
   "execution_count": null,
   "id": "121ce942",
   "metadata": {},
   "outputs": [],
   "source": [
    "%load_ext autoreload\n",
    "%autoreload 2"
   ]
  },
  {
   "cell_type": "code",
   "execution_count": null,
   "id": "73832dd1-220b-43df-9d83-c3dec37f1734",
   "metadata": {},
   "outputs": [],
   "source": [
    "import sys\n",
    "sys.path.insert(0, '..//src/')\n",
    "import pandas as pd\n",
    "import numpy as np\n",
    "import seaborn as sns\n",
    "import matplotlib.pyplot as plt\n",
    "import matplotlib.ticker as tkr\n",
    "import main\n",
    "from common import enums, functions, schema\n",
    "from pathlib import Path\n",
    "\n",
    "\n",
    "sns.set_palette(sns.color_palette(\"colorblind\", 15))\n",
    "plt.rcParams['font.family'] = 'Times New Roman'\n",
    "font_size = 12\n",
    "params = {'axes.labelsize': font_size+2,\n",
    "          'axes.titlesize':font_size+4,\n",
    "          'legend.fontsize': font_size,\n",
    "          'xtick.labelsize': font_size,\n",
    "          'ytick.labelsize': font_size,\n",
    "          'font.size': font_size}\n",
    "plt.rcParams.update(params)\n",
    "sns.set_style(\"whitegrid\")\n",
    "fig_format = \"pdf\"\n",
    "dpi = 300\n",
    "figsize = (12, 3.5)\n",
    "figsize_map = (16, 8)\n",
    "sns.palplot(sns.color_palette())"
   ]
  },
  {
   "cell_type": "markdown",
   "metadata": {},
   "source": [
    "## National Grid distribution South Wales"
   ]
  },
  {
   "cell_type": "code",
   "execution_count": null,
   "metadata": {},
   "outputs": [],
   "source": [
    "south_wales_data_path = Path(\n",
    "    r'C:\\Users\\sceac10\\OneDrive - Cardiff University\\General\\data\\Electricity substation data\\national grid'\n",
    ")\n",
    "fn = 'lsoa_to_substations_south_wales.csv'\n",
    "\n",
    "dataf = pd.read_csv(south_wales_data_path/fn, low_memory=False)\n",
    "dataf.head()\n",
    "cols_to_keep = [\n",
    "    'GeographyCode', 'PRIM_NRID_NAME', 'PRIM_NRID', 'BSP_NRID_NAME',\n",
    "    'BSP_NRID', 'GSP_NRID_NAME', 'GSP_NRID'\n",
    "]\n",
    "dataf = dataf[cols_to_keep]\n",
    "dataf.head()\n",
    "# dataf.to_csv(south_wales_data_path/fn)"
   ]
  },
  {
   "cell_type": "code",
   "execution_count": null,
   "metadata": {},
   "outputs": [],
   "source": [
    "#include number of lsoa supplied by each substation to the table\n",
    "nb_lsoa_supplied_by_substation = dataf.groupby('PRIM_NRID_NAME').agg({'GeographyCode': 'count'})\n",
    "nb_lsoa_supplied_by_substation.columns = ['Number_lsoas_supplied']\n",
    "nb_lsoa_supplied_by_substation.head()"
   ]
  },
  {
   "cell_type": "code",
   "execution_count": 82,
   "metadata": {},
   "outputs": [],
   "source": [
    "dataf = pd.merge(dataf,\n",
    "                 nb_lsoa_supplied_by_substation,\n",
    "                 left_on='PRIM_NRID_NAME',\n",
    "                 right_index=True)\n",
    "dataf = dataf.sort_index()"
   ]
  },
  {
   "cell_type": "code",
   "execution_count": null,
   "metadata": {},
   "outputs": [],
   "source": [
    "fn = r'Network Headroom Report\\South Wales Network Headroom Report.xlsx'\n",
    "sheet_name = 'Demand headroom'\n",
    "demand_headroom = pd.read_excel(south_wales_data_path / fn,\n",
    "                                sheet_name=sheet_name,\n",
    "                                header=0)\n",
    "scenario ='Leading the Way'  #'Consumer Transformation', 'Leading the Way', 'Steady Progression', 'System Transformation', 'WPD Best View'\n",
    "filt = (demand_headroom['Scenario'] == scenario)\n",
    "cols_to_keep = ['Substation', '2050']\n",
    "demand_headroom = demand_headroom.loc[filt, cols_to_keep]\n",
    "demand_headroom.head()"
   ]
  },
  {
   "cell_type": "code",
   "execution_count": 84,
   "metadata": {},
   "outputs": [],
   "source": [
    "## Merged dataset including thermal headroom"
   ]
  },
  {
   "cell_type": "code",
   "execution_count": null,
   "metadata": {},
   "outputs": [],
   "source": [
    "dataf = pd.merge(dataf,\n",
    "                 demand_headroom,\n",
    "                 left_on='PRIM_NRID_NAME',\n",
    "                 right_on='Substation')\n",
    "dataf['Thermal_demand_headroom_available_for_lsoa'] = dataf['2050'] / dataf[\n",
    "    'Number_lsoas_supplied']\n",
    "dataf.head()"
   ]
  },
  {
   "cell_type": "code",
   "execution_count": null,
   "metadata": {},
   "outputs": [],
   "source": [
    "## Extract cooling demand of LSOAs in national grid south wales network"
   ]
  },
  {
   "cell_type": "code",
   "execution_count": null,
   "metadata": {},
   "outputs": [],
   "source": [
    "PATH_RESULTS = Path(\n",
    "    r'C:\\Users\\sceac10\\OneDrive - Cardiff University\\General\\04 - Analysis\\2050 high emission')\n",
    "\n",
    "lsoa_peak = pd.read_csv(PATH_RESULTS / 'cooling_peak_results_lsoa.csv',\n",
    "                        index_col=0)\n",
    "lsoa_peak.head()"
   ]
  },
  {
   "cell_type": "code",
   "execution_count": null,
   "metadata": {},
   "outputs": [],
   "source": [
    "count_lsoas = dataf.groupby('GeographyCode').agg({'GeographyCode': 'count'})\n",
    "lsoa_peak = pd.merge(lsoa_peak,\n",
    "                     count_lsoas,\n",
    "                     left_on='LSOA_code',\n",
    "                     right_index=True)\n",
    "lsoa_peak = lsoa_peak.reset_index()\n",
    "lsoa_peak['Specific peak cooling demand [kW/area]'] = lsoa_peak[\n",
    "    schema.VisualisationSchema.PEAK_COOLING] / lsoa_peak['GeographyCode']\n",
    "lsoa_peak.head()"
   ]
  },
  {
   "cell_type": "code",
   "execution_count": null,
   "metadata": {},
   "outputs": [],
   "source": [
    "dataf = pd.merge(\n",
    "    dataf,\n",
    "    lsoa_peak[['LSOA_code', 'Specific peak cooling demand [kW/area]']],\n",
    "    left_on='GeographyCode',\n",
    "    right_on='LSOA_code')\n",
    "dataf.head()"
   ]
  },
  {
   "cell_type": "code",
   "execution_count": 107,
   "metadata": {},
   "outputs": [],
   "source": [
    "substation_df = dataf.groupby('Substation').agg({'Thermal_demand_headroom_available_for_lsoa':'sum', 'Specific peak cooling demand [kW/area]':'sum'})"
   ]
  },
  {
   "cell_type": "code",
   "execution_count": null,
   "metadata": {},
   "outputs": [],
   "source": [
    "rename_dict = {\n",
    "    'Thermal_demand_headroom_available_for_lsoa':\n",
    "    schema.VisualisationSchema.DEMAND_HEADROOM,\n",
    "    'Specific peak cooling demand [kW/area]':\n",
    "    schema.VisualisationSchema.PEAK_COOLING\n",
    "}\n",
    "substation_df = substation_df.rename(columns=rename_dict)\n",
    "substation_df[schema.VisualisationSchema.DEMAND_HEADROOM] = substation_df[\n",
    "    schema.VisualisationSchema.DEMAND_HEADROOM] * 1000\n",
    "substation_df.head()"
   ]
  },
  {
   "cell_type": "code",
   "execution_count": null,
   "metadata": {},
   "outputs": [],
   "source": [
    "substation_df[\n",
    "    schema.VisualisationSchema.DEMAND_HEADROOM_AFTER_COOLING] = substation_df[\n",
    "        schema.VisualisationSchema.DEMAND_HEADROOM] - substation_df[\n",
    "            schema.VisualisationSchema.PEAK_COOLING]\n",
    "substation_df.head()"
   ]
  },
  {
   "cell_type": "code",
   "execution_count": 111,
   "metadata": {},
   "outputs": [],
   "source": [
    "substation_df.to_csv(PATH_RESULTS / 'substation_analysis.csv')"
   ]
  },
  {
   "cell_type": "code",
   "execution_count": null,
   "metadata": {},
   "outputs": [],
   "source": []
  },
  {
   "cell_type": "code",
   "execution_count": null,
   "metadata": {},
   "outputs": [],
   "source": []
  },
  {
   "cell_type": "code",
   "execution_count": null,
   "metadata": {},
   "outputs": [],
   "source": [
    "## Only keep the LSOAs"
   ]
  },
  {
   "cell_type": "code",
   "execution_count": null,
   "metadata": {},
   "outputs": [],
   "source": [
    "len([x for x in demand_headroom['Substation'].unique() if x in dataf['PRIM_NRID_NAME'].unique()])"
   ]
  },
  {
   "cell_type": "code",
   "execution_count": null,
   "metadata": {},
   "outputs": [],
   "source": [
    "cols_to_keep = [\n",
    "    'GeographyCode', 'Group', 'Bulk Supply Point Name', 'Primary Substation', 'distance'\n",
    "]\n",
    "dataf = dataf[cols_to_keep]\n",
    "dataf.tail()"
   ]
  },
  {
   "cell_type": "code",
   "execution_count": null,
   "metadata": {},
   "outputs": [],
   "source": [
    "dataf.sort_values('distance')"
   ]
  },
  {
   "cell_type": "code",
   "execution_count": 22,
   "metadata": {},
   "outputs": [],
   "source": []
  },
  {
   "cell_type": "code",
   "execution_count": null,
   "metadata": {},
   "outputs": [],
   "source": [
    "demand_headroom"
   ]
  },
  {
   "cell_type": "code",
   "execution_count": null,
   "metadata": {},
   "outputs": [],
   "source": [
    "new_columns = ['Grid Supply Point', 'Primary Substation ', 'Scenario', 'Grid Reference', 'Single Transformer Site \\n(YES/NO)', 'Upstream Constraint\\n(YES / NO)']\n",
    "\n",
    "# dataf.columns\n",
    "\n",
    "[x for x in range(2024) ]"
   ]
  },
  {
   "cell_type": "code",
   "execution_count": 176,
   "id": "175868ed",
   "metadata": {},
   "outputs": [],
   "source": [
    "path_saving_results =Path(r'C:\\Users\\sceac10\\OneDrive - Cardiff University\\04 - Projects\\25 - Geothermal district heating\\04 - Data\\viable_lsoas')\n",
    "path_scotland_results = Path(r\"C:\\Users\\sceac10\\OneDrive - Cardiff University\\04 - Projects\\22 - Heat demand scotland\\data\")\n",
    "# path_ukerc_england_wales_df = Path(r\"C:\\Users\\sceac10\\Cardiff University\\National Grid Project - Documents\\General\\Paper\\data for UKERC\")\n",
    "path_england_wales_df = Path(r\"C:\\Users\\sceac10\\OneDrive - Cardiff University\\04 - Projects\\03 - PhD\\03 - Analysis\\03 - LSOAs\\00 - Data\")\n",
    "ukerc_save_data = Path(r'C:\\Users\\sceac10\\OneDrive - Cardiff University\\04 - Projects\\20 - UKERC\\03 - Code\\flexibilitydwellings\\data\\UKERC\\01 - Thermal_Characteristics')\n",
    "\n",
    "path_scotland_la_region_lookup = Path(r\"C:\\Users\\sceac10\\OneDrive - Cardiff University\\04 - Projects\\00 - Final data\\Geo_lookup_tables\\Scotland_LAregionlookup.csv\")\n",
    "aaa\n",
    "path_gb_data = Path(r'C:\\Users\\sceac10\\OneDrive - Cardiff University\\04 - Projects\\00 - Final data\\Annual_demand')"
   ]
  },
  {
   "cell_type": "code",
   "execution_count": null,
   "id": "7916e359",
   "metadata": {},
   "outputs": [],
   "source": []
  },
  {
   "cell_type": "code",
   "execution_count": null,
   "id": "6beb5d94",
   "metadata": {},
   "outputs": [],
   "source": [
    "# thermal characteristics LSOA data\n",
    "lookup_geolocation_df = pd.read_csv(ukerc_save_data/f\"Thermal_characteristics_afterEE.csv\", index_col=0)\n",
    "lookup_geolocation_df.head()\n"
   ]
  },
  {
   "cell_type": "code",
   "execution_count": 178,
   "id": "d6b89d47",
   "metadata": {},
   "outputs": [],
   "source": [
    "\n",
    "lookup_lsoa_LA = dict(zip(lookup_geolocation_df['LSOA_code'].values, lookup_geolocation_df['Local Authority'].values))\n",
    "lookup_lsoa_Region = dict(zip(lookup_geolocation_df['LSOA_code'].values, lookup_geolocation_df['Region'].values))\n"
   ]
  },
  {
   "cell_type": "code",
   "execution_count": null,
   "id": "1bc45216",
   "metadata": {},
   "outputs": [],
   "source": [
    "scenario = 'before'\n",
    "england_wales_df = pd.read_csv(path_england_wales_df/f\"LSOAs_in_England_Wales_{scenario}_EE_heat_demand.csv\")\n",
    "england_wales_df.columns = [x.lower() for x in england_wales_df.columns]\n",
    "england_wales_df.head()"
   ]
  },
  {
   "cell_type": "code",
   "execution_count": null,
   "id": "9f4b2c18",
   "metadata": {},
   "outputs": [],
   "source": [
    "england_wales_df.columns = [x+\" (m2)\" if \"average floor area\" in x else x for x in england_wales_df.columns ]\n",
    "for x in england_wales_df.columns:\n",
    "  print(x)"
   ]
  },
  {
   "cell_type": "code",
   "execution_count": null,
   "id": "365bb976",
   "metadata": {},
   "outputs": [],
   "source": [
    "scotland_df = pd.read_csv(path_scotland_results/\"full_scotland_results.csv\", index_col=0)\n",
    "scotland_df.columns = [x.lower() for x in scotland_df.columns]\n",
    "scotland_df.columns = [c.replace('resistance', 'resistance heating') for c in scotland_df.columns]\n",
    "scotland_df.columns = [c.replace('solid fuel boiler', 'biomass boiler') for c in scotland_df.columns]\n",
    "scotland_df.head()"
   ]
  },
  {
   "cell_type": "code",
   "execution_count": 182,
   "id": "36dbc178",
   "metadata": {},
   "outputs": [],
   "source": [
    "lookup_lsoa_LA_scotland = dict(scotland_df[['lsoa11cd', 'ladnm']].values)\n",
    "\n",
    "lookup_la_region_scotland = pd.read_csv(path_scotland_la_region_lookup, index_col=0)\n",
    "lookup_la_region_scotland = dict(lookup_la_region_scotland.values)"
   ]
  },
  {
   "cell_type": "code",
   "execution_count": 183,
   "id": "3e2384a8",
   "metadata": {},
   "outputs": [],
   "source": [
    "gb_df = pd.concat([scotland_df, england_wales_df], axis=0)#.dropna(axis=1)"
   ]
  },
  {
   "cell_type": "code",
   "execution_count": null,
   "id": "4a67dd77",
   "metadata": {},
   "outputs": [],
   "source": [
    "cols_to_keep = ['lsoa11cd', 'msoa11cd', 'road length (m)', 'area (km2)']\n",
    "cols_to_keep = cols_to_keep + [x for x in gb_df.columns if f\"average heat demand {scenario} energy efficiency measures for\" in x]\n",
    "cols_to_keep = cols_to_keep + [x for x in gb_df.columns if \"average floor area\" in x]\n",
    "cols_to_keep = cols_to_keep + [x for x in gb_df.columns if \"number of\" in x and 'in 2018' in x and 'total' not in x]\n",
    "cols_to_keep = cols_to_keep + [x for x in gb_df.columns if \"number of\" in x and 'in 2011' in x and 'total' not in x]\n",
    "cols_to_keep"
   ]
  },
  {
   "cell_type": "code",
   "execution_count": null,
   "id": "7f5ca084",
   "metadata": {},
   "outputs": [],
   "source": [
    "gb_df = gb_df[cols_to_keep]\n",
    "gb_df['Region'] = gb_df['lsoa11cd'].map(lookup_lsoa_Region)\n",
    "gb_df['Local Authority'] = gb_df['lsoa11cd'].map(lookup_lsoa_LA)\n",
    "gb_df['Local Authority'] = gb_df['Local Authority'].fillna(gb_df['lsoa11cd'].map(lookup_lsoa_LA_scotland))\n",
    "gb_df['Region'] = gb_df['Region'].fillna(gb_df['Local Authority'].map(lookup_la_region_scotland))\n",
    "gb_df.head()"
   ]
  },
  {
   "cell_type": "code",
   "execution_count": 186,
   "id": "88f84fec",
   "metadata": {},
   "outputs": [],
   "source": [
    "floor_area_cols = [x for x in gb_df.columns if \"average floor area\" in x]\n",
    "gb_df[floor_area_cols] = gb_df[floor_area_cols].fillna(gb_df[floor_area_cols].mean())"
   ]
  },
  {
   "cell_type": "code",
   "execution_count": 187,
   "id": "5b8e0de6",
   "metadata": {},
   "outputs": [],
   "source": [
    "gb_df.columns = [x.capitalize().replace('kwh', 'kWh') for x in gb_df.columns]"
   ]
  },
  {
   "cell_type": "code",
   "execution_count": null,
   "id": "9bc082a0",
   "metadata": {},
   "outputs": [],
   "source": [
    "gb_df.head()"
   ]
  },
  {
   "cell_type": "code",
   "execution_count": 189,
   "id": "957a0ec3",
   "metadata": {},
   "outputs": [],
   "source": [
    "for c in gb_df.columns:\n",
    "  if len(gb_df[gb_df[c].isna()]) > 0:\n",
    "    print(f'{c} for {len(gb_df[gb_df[c].isna()])}')"
   ]
  },
  {
   "cell_type": "code",
   "execution_count": 190,
   "id": "4ffa7c46",
   "metadata": {},
   "outputs": [],
   "source": [
    "gb_df.reset_index(inplace=True, drop=True)\n",
    "gb_df.to_csv(path_gb_data/f\"GB_Annual_heat_demand_{scenario}_EE_LSOA.csv\")"
   ]
  },
  {
   "cell_type": "code",
   "execution_count": null,
   "id": "60322928",
   "metadata": {},
   "outputs": [],
   "source": []
  },
  {
   "cell_type": "code",
   "execution_count": null,
   "id": "f6284d35",
   "metadata": {},
   "outputs": [],
   "source": []
  },
  {
   "cell_type": "code",
   "execution_count": null,
   "id": "b0756f13",
   "metadata": {},
   "outputs": [],
   "source": []
  }
 ],
 "metadata": {
  "kernelspec": {
   "display_name": "Python 3.10.7 ('demand-estimation': venv)",
   "language": "python",
   "name": "python3"
  },
  "language_info": {
   "codemirror_mode": {
    "name": "ipython",
    "version": 3
   },
   "file_extension": ".py",
   "mimetype": "text/x-python",
   "name": "python",
   "nbconvert_exporter": "python",
   "pygments_lexer": "ipython3",
   "version": "3.10.7"
  },
  "vscode": {
   "interpreter": {
    "hash": "a6d68ac37bed0a7bc33aef7847dc8cbc6f1b67df2eba538a10ea8d1feb2c9512"
   }
  }
 },
 "nbformat": 4,
 "nbformat_minor": 5
}
