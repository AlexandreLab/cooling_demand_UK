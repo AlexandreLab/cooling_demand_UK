{
 "cells": [
  {
   "cell_type": "code",
   "execution_count": null,
   "id": "ed6a6a76",
   "metadata": {},
   "outputs": [],
   "source": [
    "%load_ext autoreload\n",
    "%autoreload 2"
   ]
  },
  {
   "cell_type": "code",
   "execution_count": 25,
   "id": "73832dd1-220b-43df-9d83-c3dec37f1734",
   "metadata": {},
   "outputs": [],
   "source": [
    "import sys\n",
    "sys.path.insert(0, '..//')\n",
    "\n",
    "import pandas as pd\n",
    "import numpy as np\n",
    "from datetime import datetime\n",
    "from pathlib import Path\n",
    "import xarray as xr\n",
    "import matplotlib.pyplot as plt\n",
    "import seaborn as sns\n",
    "from pathlib import Path\n",
    "\n",
    "sns.set_palette(sns.color_palette(\"colorblind\", 15))\n",
    "plt.rcParams['font.family'] = 'Times New Roman'\n",
    "font_size = 12\n",
    "params = {'axes.labelsize': font_size+2,\n",
    "          'axes.titlesize':font_size+4,\n",
    "          'legend.fontsize': font_size, \n",
    "          'xtick.labelsize': font_size,\n",
    "          'ytick.labelsize': font_size,\n",
    "          'font.size': font_size}\n",
    "plt.rcParams.update(params)\n",
    "sns.set_style(\"whitegrid\")\n",
    "export_fig_format = \"pdf\"\n",
    "fig_format = \"png\"\n",
    "dpi = 300\n",
    "figsize = (12, 3.5)\n",
    "figsize_map = (16, 8)\n",
    "\n",
    "markers = ['P', 'o', '^', 's', '*', 'v']\n",
    "linewidth = 0.1\n",
    "edgecolor = 'black'\n",
    "\n",
    "from src.models import thermal_model\n",
    "from src.common import functions, enums, schema\n",
    "from src.data import source\n"
   ]
  },
  {
   "cell_type": "code",
   "execution_count": 26,
   "id": "c6a5c3b2",
   "metadata": {},
   "outputs": [],
   "source": [
    "# Parameters \n",
    "path_results:Path = Path().absolute().parent/\"data\"\n",
    "target_area:enums.Area = enums.Area.CARDIFF\n",
    "target_year:int = 2020\n",
    "CDD_ref_temperature:float = 24\n",
    "solar_gains = True\n",
    "timestep:int = 3600\n",
    "\n",
    "# Dwelling parameters\n",
    "R_dwelling = 1/0.2 #K/kW\n",
    "C_dwelling = 20_000 #kJ/K\n",
    "floor_area = 50 #m2\n",
    "initial_indoor_air_temperature = 21"
   ]
  },
  {
   "cell_type": "code",
   "execution_count": 27,
   "id": "3d4785de",
   "metadata": {},
   "outputs": [],
   "source": [
    "# Load outdoor air temperature data for Cardiff\n",
    "input_data = pd.read_csv(path_results/\"raw\"/f\"{target_area.value}_degree_days.csv\", index_col=0, parse_dates=True)\n",
    "\n",
    "# Create models\n",
    "dwelling = thermal_model.ThermalModel(R=R_dwelling, C=C_dwelling, initial_indoor_air_temperature=initial_indoor_air_temperature)\n",
    "data_source = source.SimulationData(dwelling, input_data, timestep_simulation=3600)"
   ]
  },
  {
   "cell_type": "code",
   "execution_count": null,
   "id": "ddc062df",
   "metadata": {},
   "outputs": [],
   "source": [
    "fig, ax = plt.subplots(figsize=figsize)\n",
    "dataf = data_source.filter_era5_data(list_years=[target_year])\n",
    "ax2 = ax.twinx()\n",
    "dataf[schema.OutputDataSchema.SOLARRADIATION].plot(ax=ax2, color=sns.color_palette()[1])\n",
    "ax2.set_ylabel(schema.OutputDataSchema.SOLARRADIATION, color=sns.color_palette()[1])\n",
    "dataf[schema.OutputDataSchema.OAT].plot(ax=ax, color=sns.color_palette()[0])\n",
    "ax.set_ylabel(schema.OutputDataSchema.OAT, color=sns.color_palette()[0])\n",
    "\n",
    "ax2.grid(False)\n",
    "ax.set_title(f\"{target_area.value}\")\n",
    "ax.legend().remove()\n",
    "ax.margins(0, None)"
   ]
  },
  {
   "cell_type": "code",
   "execution_count": null,
   "id": "22375d68",
   "metadata": {},
   "outputs": [],
   "source": [
    "fig, ax = plt.subplots(figsize=figsize)\n",
    "dataf[schema.OutputDataSchema.HEATINGSEASON].plot(ax=ax)\n",
    "ax.set_ylabel(schema.OutputDataSchema.HEATINGSEASON)"
   ]
  },
  {
   "cell_type": "code",
   "execution_count": null,
   "id": "7c158f2b",
   "metadata": {},
   "outputs": [],
   "source": [
    "rcmodel_dataf=data_source.create_era5_based_simulation_data(estimate_solar_gains=solar_gains, list_years=[target_year])\n",
    "rcmodel_dataf = dwelling.estimate_heating_demand(rcmodel_dataf)\n",
    "resampled_rcmodel_dataf = data_source.resample_modelling_results(rcmodel_dataf)\n",
    "functions.print_heating_and_cooling_demand(resampled_rcmodel_dataf)"
   ]
  },
  {
   "cell_type": "code",
   "execution_count": null,
   "id": "2f525b96",
   "metadata": {},
   "outputs": [],
   "source": [
    "fig, ax = plt.subplots(figsize=figsize)\n",
    "resampled_rcmodel_dataf[schema.DataSchema.SOLARGAINS].plot(ax=ax, color=sns.color_palette()[0])\n",
    "ax.set_ylabel(schema.DataSchema.SOLARGAINS, color=sns.color_palette()[0])\n",
    "ax.margins(0, None)"
   ]
  },
  {
   "cell_type": "code",
   "execution_count": null,
   "id": "9a51f71f",
   "metadata": {},
   "outputs": [],
   "source": [
    "fig, ax = plt.subplots(figsize=figsize)\n",
    "ax2 = ax.twinx()\n",
    "resampled_rcmodel_dataf[schema.DataSchema.HEATINGOUTPUT].plot(ax=ax, color=sns.color_palette()[0])\n",
    "ax.set_ylabel(schema.DataSchema.HEATINGOUTPUT, color=sns.color_palette()[0])\n",
    "resampled_rcmodel_dataf[schema.DataSchema.IAT].plot(ax=ax2, color=sns.color_palette()[1])\n",
    "ax2.set_ylabel(schema.DataSchema.IAT, color=sns.color_palette()[1])\n",
    "ax2.set_ylim(0, 30)\n",
    "ax2.grid(False)\n",
    "ax.margins(0, None)"
   ]
  },
  {
   "cell_type": "code",
   "execution_count": 33,
   "id": "8bb2eb48",
   "metadata": {},
   "outputs": [],
   "source": [
    "resampled_rcmodel_dataf.index= dataf.index\n",
    "resampled_rcmodel_dataf.to_csv(r\"../data/demo_dwelling_results/simulation_results.csv\")"
   ]
  },
  {
   "cell_type": "code",
   "execution_count": 18,
   "id": "37617f19",
   "metadata": {},
   "outputs": [],
   "source": [
    "\n",
    "functions.add_time_features(resampled_rcmodel_dataf)\n",
    "\n",
    "resampled_rcmodel_dataf[schema.OutputDataSchema.HEATINGSEASON] = dataf[schema.OutputDataSchema.HEATINGSEASON] \n",
    "resampled_rcmodel_dataf[schema.OutputDataSchema.SOLARRADIATION] = dataf[schema.OutputDataSchema.SOLARRADIATION] "
   ]
  },
  {
   "cell_type": "code",
   "execution_count": null,
   "id": "ff1d66b4",
   "metadata": {},
   "outputs": [],
   "source": []
  },
  {
   "cell_type": "code",
   "execution_count": null,
   "id": "0748c5d7",
   "metadata": {},
   "outputs": [],
   "source": [
    "fig, ax = plt.subplots(figsize=figsize)\n",
    "ax2 = ax.twinx()\n",
    "filt = (resampled_rcmodel_dataf[schema.OutputDataSchema.HEATINGSEASON]==0)\n",
    "\n",
    "(resampled_rcmodel_dataf.loc[filt].groupby(\"Hour\").agg({schema.OutputDataSchema.SOLARRADIATION:\"mean\"})).plot(ax=ax2, color=sns.color_palette()[1])\n",
    "(-resampled_rcmodel_dataf.loc[filt].groupby(\"Hour\").agg({schema.DataSchema.HEATINGOUTPUT:\"mean\"})).plot(ax=ax, color=sns.color_palette()[0])\n",
    "ax.set_ylabel(\"Cooling output (kW)\", color=sns.color_palette()[0])\n",
    "ax.legend().remove()\n",
    "ax2.set_ylabel(schema.OutputDataSchema.SOLARRADIATION, color=sns.color_palette()[1])\n",
    "ax2.grid(False)\n",
    "ax.margins(0, None)"
   ]
  },
  {
   "cell_type": "code",
   "execution_count": null,
   "id": "a376d9db",
   "metadata": {},
   "outputs": [],
   "source": []
  },
  {
   "cell_type": "code",
   "execution_count": null,
   "id": "8d6edb5d",
   "metadata": {},
   "outputs": [],
   "source": [
    "fig, ax = plt.subplots(figsize=figsize)\n",
    "ax2 = ax.twinx()\n",
    "filt = (resampled_rcmodel_dataf[schema.OutputDataSchema.HEATINGSEASON]==0)\n",
    "\n",
    "resampled_rcmodel_dataf.loc[filt].groupby(\"Hour\").agg({schema.DataSchema.IAT:\"mean\"}).plot(ax=ax2, color=sns.color_palette()[1])\n",
    "resampled_rcmodel_dataf.loc[filt].groupby(\"Hour\").agg({schema.DataSchema.OAT:\"mean\"}).plot(ax=ax2, color=sns.color_palette()[2])\n",
    "(-resampled_rcmodel_dataf.loc[filt].groupby(\"Hour\").agg({schema.DataSchema.HEATINGOUTPUT:\"mean\"})).plot(ax=ax, color=sns.color_palette()[0])\n",
    "ax.set_ylabel(\"Cooling output (kW)\", color=sns.color_palette()[0])\n",
    "ax.legend().remove()\n",
    "ax2.set_ylabel(\"Temperature\")\n",
    "ax2.grid(False)\n",
    "ax.margins(0, None)\n",
    "\n"
   ]
  },
  {
   "cell_type": "code",
   "execution_count": null,
   "id": "930d4e5f",
   "metadata": {},
   "outputs": [],
   "source": [
    "resampled_rcmodel_dataf"
   ]
  },
  {
   "cell_type": "code",
   "execution_count": null,
   "id": "f288b50b",
   "metadata": {},
   "outputs": [],
   "source": [
    "dataf"
   ]
  },
  {
   "cell_type": "code",
   "execution_count": null,
   "id": "e5e64b9e",
   "metadata": {},
   "outputs": [],
   "source": [
    "results_dict = {}\n",
    "heating_demand_dict = {}\n",
    "for year in data_source.all_years[5:]:\n",
    "    print(year)\n",
    "    rcmodel_dataf=data_source.create_era5_based_simulation_data(estimate_solar_gains=solar_gains,list_years=[year])\n",
    "    rcmodel_dataf = dwelling.estimate_heating_demand(rcmodel_dataf)\n",
    "    resampled_rcmodel_dataf = data_source.resample_modelling_results(rcmodel_dataf)\n",
    "    heating_demand, cooling_demand = functions.print_heating_and_cooling_demand(resampled_rcmodel_dataf)\n",
    "    results_dict[year] = (heating_demand, cooling_demand)\n",
    "    heating_demand_dict[year] = resampled_rcmodel_dataf.loc[:5088, schema.DataSchema.HEATINGOUTPUT].values\n",
    "results_df = pd.DataFrame(results_dict, index=[schema.ResultSchema.HEATINGDEMAND, schema.ResultSchema.COOLINGDEMAND])\n",
    "results_df.columns.names = [schema.ResultSchema.YEAR]"
   ]
  },
  {
   "cell_type": "code",
   "execution_count": null,
   "id": "29d59110",
   "metadata": {},
   "outputs": [],
   "source": []
  },
  {
   "cell_type": "code",
   "execution_count": 11,
   "id": "f488fa26",
   "metadata": {},
   "outputs": [],
   "source": [
    "profiles_df = pd.DataFrame.from_dict(heating_demand_dict)\n"
   ]
  },
  {
   "cell_type": "code",
   "execution_count": null,
   "id": "10b70a72",
   "metadata": {},
   "outputs": [],
   "source": [
    "fig, ax = plt.subplots(figsize=figsize)\n",
    "for c in profiles_df.columns:\n",
    "\n",
    "    profiles_df.loc[3500:, c].rolling(window=48).mean().plot(ax=ax)\n",
    "\n",
    "ax.legend()"
   ]
  },
  {
   "cell_type": "code",
   "execution_count": null,
   "id": "868f27ee",
   "metadata": {},
   "outputs": [],
   "source": [
    "fig, ax = plt.subplots(figsize=figsize)\n",
    "ax2 = ax.twinx()\n",
    "results_df.T[schema.ResultSchema.HEATINGDEMAND].plot(ax=ax, color=sns.color_palette()[0])\n",
    "ax.set_ylabel(schema.ResultSchema.HEATINGDEMAND, color=sns.color_palette()[0])\n",
    "\n",
    "\n",
    "x_arr = results_df.columns\n",
    "y_mean = [results_df.T[schema.ResultSchema.COOLINGDEMAND].mean()]*len(x_arr)\n",
    "ax2.plot(x_arr, y_mean, label=f\"Mean {schema.ResultSchema.COOLINGDEMAND}\", color='red')\n",
    "results_df.T[schema.ResultSchema.COOLINGDEMAND].plot(ax=ax2, color=sns.color_palette()[1])\n",
    "ax2.set_ylabel(schema.ResultSchema.COOLINGDEMAND, color=sns.color_palette()[1])\n",
    "ax2.set_ylim(None, 0)\n",
    "ax.set_ylim(0, None)\n",
    "ax2.grid(False)\n",
    "ax.margins(0, None)\n",
    "lines, labels = ax.get_legend_handles_labels()\n",
    "lines2, labels2 = ax2.get_legend_handles_labels()\n",
    "ax2.legend(lines + lines2, labels + labels2, loc=0)"
   ]
  }
 ],
 "metadata": {
  "kernelspec": {
   "display_name": "Python 3.10.7 ('degree_days': venv)",
   "language": "python",
   "name": "python3"
  },
  "language_info": {
   "codemirror_mode": {
    "name": "ipython",
    "version": 3
   },
   "file_extension": ".py",
   "mimetype": "text/x-python",
   "name": "python",
   "nbconvert_exporter": "python",
   "pygments_lexer": "ipython3",
   "version": "3.10.7"
  },
  "vscode": {
   "interpreter": {
    "hash": "4dee939fb3b4de230198db21b7ca14f383f52f4aba21cf97569bc855125f1cdf"
   }
  }
 },
 "nbformat": 4,
 "nbformat_minor": 5
}
