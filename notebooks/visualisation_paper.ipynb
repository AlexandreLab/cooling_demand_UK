{
 "cells": [
  {
   "cell_type": "code",
   "execution_count": 1,
   "metadata": {},
   "outputs": [],
   "source": [
    "%load_ext autoreload\n",
    "%autoreload 2"
   ]
  },
  {
   "cell_type": "code",
   "execution_count": 2,
   "metadata": {},
   "outputs": [],
   "source": [
    "import sys\n",
    "sys.path.insert(0, '..//src/')"
   ]
  },
  {
   "cell_type": "code",
   "execution_count": null,
   "metadata": {},
   "outputs": [],
   "source": [
    "import numpy as np\n",
    "import pandas as pd\n",
    "import os\n",
    "import matplotlib.pyplot as plt\n",
    "import matplotlib.ticker as tkr\n",
    "from matplotlib.colors import LinearSegmentedColormap\n",
    "import matplotlib as mpl\n",
    "import seaborn as sns\n",
    "import sys\n",
    "import random\n",
    "import geopandas as gpd\n",
    "from common import enums, functions, schema, viz_functions\n",
    "import main\n",
    "from pathlib import Path\n",
    "\n",
    "random.seed(42)\n",
    "\n",
    "# blues = [x for x in reversed(sns.color_palette(\"Blues_d\", 11))]\n",
    "# sns.set_palette(sns.color_palette(\"Paired\", 10))\n",
    "# sns.set_style(\"white\")\n",
    "sns.set_palette(sns.color_palette(\"colorblind\", 15))\n",
    "plt.rcParams['font.family'] = 'Times New Roman'\n",
    "font_size = 12\n",
    "params = {'axes.labelsize': font_size+2,\n",
    "          'axes.titlesize':font_size+4,\n",
    "          'legend.fontsize': font_size, \n",
    "          'xtick.labelsize': font_size,\n",
    "          'ytick.labelsize': font_size,\n",
    "          'font.size': font_size}\n",
    "plt.rcParams.update(params)\n",
    "sns.set_style(\"whitegrid\")\n",
    "export_fig_format = \"pdf\"\n",
    "fig_format = \"png\"\n",
    "dpi = 300\n",
    "figsize = (12, 3.5)\n",
    "figsize_map = (16, 8)\n",
    "sns.palplot(sns.color_palette())\n",
    "\n",
    "markers = ['P', 'o', '^', 's', '*', 'v']\n",
    "linewidth = 0.1\n",
    "edgecolor = 'black'\n",
    "\n",
    "print(os.getcwd())\n",
    "computer_path= \"\"\n",
    "for x in os.getcwd().split(os.path.sep):\n",
    "    print(x)\n",
    "    computer_path=computer_path+x+os.path.sep\n",
    "    if x == \"sceac10\":\n",
    "        break    \n",
    "    else: computer_path = os.getcwd().split(os.path.sep)[0]+os.path.sep\n",
    "print(computer_path)\n"
   ]
  },
  {
   "cell_type": "code",
   "execution_count": null,
   "metadata": {},
   "outputs": [],
   "source": [
    "PATH_ORG = main.PATH_ORG\n",
    "PATH_TABLES = PATH_ORG / r\"General/communication/tables\"\n",
    "PATH_SAVE_FIGURES = PATH_ORG / r\"General/communication/figures\"\n",
    "PATH_TABLES"
   ]
  },
  {
   "cell_type": "markdown",
   "metadata": {},
   "source": [
    "## Number of households - projection from FES 2023 - Consumer transformation - NZ.22-NZ.25: Estimated number of heating technologies and the associated emissions reduction to 2050"
   ]
  },
  {
   "cell_type": "code",
   "execution_count": null,
   "metadata": {},
   "outputs": [],
   "source": [
    "fn = \"Dwellings_size.csv\"\n",
    "dataf = pd.read_csv(PATH_TABLES/fn, index_col=0, thousands=r',')\n",
    "dataf = dataf.dropna(how='any').T\n",
    "dataf = dataf/1000000\n",
    "dataf.head()"
   ]
  },
  {
   "cell_type": "code",
   "execution_count": null,
   "metadata": {},
   "outputs": [],
   "source": [
    "fig, ax = plt.subplots(figsize=figsize)\n",
    "dataf.plot(ax=ax)\n",
    "ax.set_ylabel('Number of households in millions')\n",
    "ax.set_xlabel('Year')\n",
    "ax.legend().remove()\n",
    "ax.margins(0, None)\n",
    "\n",
    "fig.savefig(PATH_SAVE_FIGURES/f\"dwelling_projections.{fig_format}\", bbox_inches='tight', format=fig_format, dpi=dpi)\n",
    "fig.savefig(PATH_SAVE_FIGURES/f\"dwelling_projections.{export_fig_format}\", bbox_inches='tight', format=export_fig_format, dpi=dpi)"
   ]
  },
  {
   "cell_type": "markdown",
   "metadata": {},
   "source": [
    "## Normalised profile for equipment gains"
   ]
  },
  {
   "cell_type": "code",
   "execution_count": 7,
   "metadata": {},
   "outputs": [],
   "source": [
    "PATH_EQUIPMENT_GAINS_PROFILE = PATH_ORG /  r'General/resources/Equipment_gain_profile_TM59.xlsx'\n",
    "SHEET_EQUIPMENT_GAINS_PROFILE = 'Normalised'\n",
    "\n",
    "equipment_gains_df = pd.read_excel(PATH_EQUIPMENT_GAINS_PROFILE, sheet_name=SHEET_EQUIPMENT_GAINS_PROFILE, index_col=0)"
   ]
  },
  {
   "cell_type": "code",
   "execution_count": null,
   "metadata": {},
   "outputs": [],
   "source": [
    "\n",
    "\n",
    "\n",
    "fig, ax = plt.subplots(figsize=figsize)\n",
    "equipment_gains_df.loc['Normalised profile', :].plot(ax=ax)\n",
    "ax.set_ylabel('Normalised hourly\\nequipment gains profile')\n",
    "ax.set_xlabel('Hours of the day')\n",
    "ax.legend().remove()\n",
    "ax.margins(0, None)\n",
    "ax.set_ylim(0, None)\n",
    "\n",
    "fig.savefig(PATH_SAVE_FIGURES/f\"equipment_gains.{fig_format}\", bbox_inches='tight', format=fig_format, dpi=dpi)\n",
    "fig.savefig(PATH_SAVE_FIGURES/f\"equipment_gains.{export_fig_format}\", bbox_inches='tight', format=export_fig_format, dpi=dpi)"
   ]
  },
  {
   "cell_type": "markdown",
   "metadata": {},
   "source": [
    "## Temperature profiles from CIBSE"
   ]
  },
  {
   "cell_type": "code",
   "execution_count": null,
   "metadata": {},
   "outputs": [],
   "source": [
    "column_names = [\n",
    "  'Year', 'Month', 'Day', 'Hour', 'PWC', 'Cloud', 'DBT', 'WBT', 'RH', 'Press', 'WD', 'WS', 'GSR', 'DSR', 'Alt', 'Dec', 'Cloud1', 'DBT1', 'WBT1', 'Press1', 'WD1', 'WS1'\n",
    "]\n",
    "pathlist = Path(main.PATH_CIBSE_DATA).rglob('*_DSY2_2050High50*.csv')\n",
    "\n",
    "dict_cibse_temperature: dict[str, pd.Series] = {}\n",
    "for path in pathlist:\n",
    "  print(path.stem)\n",
    "  if ('London' not in path.stem) and ('Belfast' not in path.stem):\n",
    "    fig, ax = plt.subplots(figsize=figsize)\n",
    "    la_str = path.stem.split('_DSY2_2050High50')[0]\n",
    "    temp_dataf = pd.read_csv(path,\n",
    "                             skiprows=32,\n",
    "                             header=None,\n",
    "                             delimiter=\",\",\n",
    "                             names=column_names)\n",
    "    weather_data = functions.format_weather_data(temp_dataf)\n",
    "    weather_data.resample('1w').agg({schema.DataSchema.SOLARRADIATION:'sum', schema.DataSchema.OAT:'mean'}).plot.scatter(\n",
    "        x=schema.DataSchema.SOLARRADIATION, y=schema.DataSchema.OAT, ax=ax)"
   ]
  },
  {
   "cell_type": "code",
   "execution_count": null,
   "metadata": {},
   "outputs": [],
   "source": [
    "column_names = [\n",
    "  'Year', 'Month', 'Day', 'Hour', 'PWC', 'Cloud', 'DBT', 'WBT', 'RH', 'Press', 'WD', 'WS', 'GSR', 'DSR', 'Alt', 'Dec', 'Cloud1', 'DBT1', 'WBT1', 'Press1', 'WD1', 'WS1'\n",
    "]\n",
    "pathlist = Path(main.PATH_CIBSE_DATA).rglob('*_DSY2_2050High50*.csv')\n",
    "\n",
    "dict_cibse_temperature: dict[str, pd.Series] = {}\n",
    "for path in pathlist:\n",
    "  print(path.stem)\n",
    "  if ('London' not in path.stem) and ('Belfast' not in path.stem):\n",
    "    la_str = path.stem.split('_DSY2_2050High50')[0]\n",
    "    temp_dataf = pd.read_csv(path, skiprows=32, header=None, delimiter=\",\", names=column_names, parse_dates=True)\n",
    "    dict_cibse_temperature[la_str] = functions.format_weather_data(temp_dataf)[schema.DataSchema.OAT]"
   ]
  },
  {
   "cell_type": "code",
   "execution_count": null,
   "metadata": {},
   "outputs": [],
   "source": [
    "cibse_temp_df = pd.DataFrame(dict_cibse_temperature)\n",
    "cibse_temp_df\n",
    "fig, ax = plt.subplots(figsize=figsize)\n",
    "for c in cibse_temp_df:\n",
    "  cibse_temp_df[c].sort_values(ascending=False).reset_index(drop=True).plot(\n",
    "      ax=ax)\n",
    "ax.margins(0, None)\n",
    "ax.set_ylabel(schema.VisualisationSchema.HOURLY_OAT)\n",
    "ax.set_xlabel(\"Number of hours\")\n",
    "ax.legend(bbox_to_anchor=(0.8, -0.2), ncol=4, borderaxespad=0.)\n",
    "fig.savefig(PATH_SAVE_FIGURES/f\"ldc_temperature_cibse.{fig_format}\", bbox_inches='tight', format=fig_format, dpi=dpi)\n",
    "fig.savefig(PATH_SAVE_FIGURES/f\"ldc_temperature_cibse.{export_fig_format}\", bbox_inches='tight', format=export_fig_format, dpi=dpi)\n"
   ]
  },
  {
   "cell_type": "code",
   "execution_count": null,
   "metadata": {},
   "outputs": [],
   "source": [
    "fig, ax = plt.subplots(figsize=figsize)\n",
    "cibse_temp_df = pd.DataFrame(dict_cibse_temperature)\n",
    "cibse_temp_df.groupby([cibse_temp_df.index.hour]).mean().plot(ax=ax, linewidth=0.8)\n",
    "ax.set_ylabel(schema.VisualisationSchema.HOURLY_OAT)\n",
    "ax.set_xlabel(\"\")\n",
    "ax.legend(bbox_to_anchor=(0.8, -0.13), ncol=4, borderaxespad=0.)\n",
    "ax.margins(0, None)\n",
    "fig.savefig(PATH_SAVE_FIGURES/f\"average_hourly_temperature.{fig_format}\", bbox_inches='tight', format=fig_format, dpi=dpi)\n",
    "fig.savefig(PATH_SAVE_FIGURES/f\"average_hourly_temperature.{export_fig_format}\", bbox_inches='tight', format=export_fig_format, dpi=dpi)\n",
    "fig"
   ]
  },
  {
   "cell_type": "code",
   "execution_count": null,
   "metadata": {},
   "outputs": [],
   "source": [
    "fig, ax = plt.subplots(figsize=figsize)\n",
    "cibse_temp_df.plot(ax=ax, linewidth=0.8)\n",
    "ax.set_ylabel(schema.VisualisationSchema.HOURLY_OAT)\n",
    "ax.set_xlabel(\"\")\n",
    "ax.legend(bbox_to_anchor=(0.8, -0.13), ncol=4, borderaxespad=0.)\n",
    "ax.margins(0, None)\n",
    "\n",
    "fig.savefig(PATH_SAVE_FIGURES/f\"cibse_temperature_profiles_DSY2_2050High50.{fig_format}\", bbox_inches='tight', format=fig_format, dpi=dpi)\n",
    "fig.savefig(PATH_SAVE_FIGURES/f\"cibse_temperature_profiles_DSY2_2050High50.{export_fig_format}\", bbox_inches='tight', format=export_fig_format, dpi=dpi)"
   ]
  },
  {
   "cell_type": "markdown",
   "metadata": {},
   "source": [
    "## Cooling demand in GB"
   ]
  },
  {
   "cell_type": "code",
   "execution_count": null,
   "metadata": {},
   "outputs": [],
   "source": [
    "residential_data = main.import_thermal_characteristics_data(\n",
    "    main.PATH_GB_DATA / 'Thermal_characteristics_afterEE.csv', 2020, 2050)\n",
    "residential_data = residential_data.loc[residential_data[schema.DwellingDataSchema.THERMAL_CAPACITY_LEVEL]==\"medium\"]\n",
    "residential_data.head()"
   ]
  },
  {
   "cell_type": "code",
   "execution_count": null,
   "metadata": {},
   "outputs": [],
   "source": [
    "import icecream as ic\n",
    "PATH_RESULTS = PATH_ORG / r'General/04 - Analysis/2050 high emission medium thermal capacity'\n",
    "try:\n",
    "  cooling_demand = pd.read_csv(PATH_RESULTS /\n",
    "                                'cooling_demand_profiles_la.csv',\n",
    "                                index_col=0, parse_dates=True)\n",
    "  lsoa_peak = pd.read_csv(PATH_RESULTS / 'cooling_peak_results_lsoa.csv',\n",
    "                          index_col=[0, 1], parse_dates=True)\n",
    "except:\n",
    "  lsoa_peak, cooling_demand = functions.extract_cooling_demand_profiles_and_peaks(\n",
    "      PATH_RESULTS, residential_data)"
   ]
  },
  {
   "cell_type": "code",
   "execution_count": null,
   "metadata": {},
   "outputs": [],
   "source": [
    "pathlist = (Path(PATH_RESULTS) /\n",
    "            'simulation').rglob('*_total_heating_outputs.csv')\n",
    "\n",
    "index_demand_frames: dict[int, pd.Series] = {}\n",
    "for temp_path in pathlist:\n",
    "  ic.ic(temp_path)\n",
    "  la_str = temp_path.stem.split('_total_heating_outputs')[0]\n",
    "  la_code = la_str.split('_')[-1]\n",
    "  temp_sim_results = pd.read_csv(temp_path, index_col=0, parse_dates=True)\n",
    "  index_demand_frames[la_code] = -temp_sim_results.sum()\n",
    "\n",
    "index_demand = pd.concat(index_demand_frames).to_frame()\n",
    "index_demand.columns = [schema.VisualisationSchema.COOLINGDEMAND]"
   ]
  },
  {
   "cell_type": "markdown",
   "metadata": {},
   "source": [
    "## Correlation between OAT and cooling demand"
   ]
  },
  {
   "cell_type": "code",
   "execution_count": 17,
   "metadata": {},
   "outputs": [],
   "source": [
    "lookup_cibse_to_ladcd = residential_data[[schema.DwellingDataSchema.CIBSE_CITY, schema.DwellingDataSchema.LADCD]].drop_duplicates()"
   ]
  },
  {
   "cell_type": "code",
   "execution_count": 18,
   "metadata": {},
   "outputs": [],
   "source": [
    "lookup_cibse_to_ladcd = lookup_cibse_to_ladcd.groupby(schema.DwellingDataSchema.CIBSE_CITY).agg({schema.DwellingDataSchema.LADCD:lambda x: list(x)})"
   ]
  },
  {
   "cell_type": "code",
   "execution_count": null,
   "metadata": {},
   "outputs": [],
   "source": [
    "daily_cooling_demand = cooling_demand.resample('1d').sum()\n",
    "daily_cooling_demand.to_csv(PATH_RESULTS /\n",
    "                            'daily_cooling_demand_profiles_la.csv')\n",
    "daily_cooling_demand.head()"
   ]
  },
  {
   "cell_type": "code",
   "execution_count": null,
   "metadata": {},
   "outputs": [],
   "source": [
    "cibse_temp_df.head(500).plot()"
   ]
  },
  {
   "cell_type": "code",
   "execution_count": 21,
   "metadata": {},
   "outputs": [],
   "source": [
    "cibse_daily_temp_df = cibse_temp_df.resample('1d').mean()"
   ]
  },
  {
   "cell_type": "code",
   "execution_count": null,
   "metadata": {},
   "outputs": [],
   "source": [
    "# The daily cooling demand against OAT is not as correlated as similar graph using heat demand as solar irradiance has a big impact on the cooling demand\n",
    "# A composite outside air temperature metric would need to be used to have better correlation.\n",
    "for city, list_lacd in lookup_cibse_to_ladcd.head(1).iterrows():\n",
    "  fig, ax = plt.subplots(figsize=figsize)\n",
    "  temp_df = daily_cooling_demand.loc[:, list_lacd.values[0]]\n",
    "  for c in temp_df.columns:\n",
    "\n",
    "    y_val = temp_df[c].values\n",
    "    x_val = cibse_daily_temp_df[city]\n",
    "    ax.scatter(x=x_val, y=y_val)"
   ]
  },
  {
   "cell_type": "code",
   "execution_count": null,
   "metadata": {},
   "outputs": [],
   "source": [
    "# Number of cooling degree days per city\n",
    "cibse_temp_df.map(lambda x: functions.calculate_cooling_degree(x, 24)).sum()/24"
   ]
  },
  {
   "cell_type": "code",
   "execution_count": null,
   "metadata": {},
   "outputs": [],
   "source": []
  },
  {
   "cell_type": "markdown",
   "metadata": {},
   "source": [
    "### Specific cooling demand by dwelling type, dwelling category and heating systems"
   ]
  },
  {
   "cell_type": "code",
   "execution_count": null,
   "metadata": {},
   "outputs": [],
   "source": [
    "fig, ax = plt.subplots(figsize=figsize)\n",
    "(lsoa_peak/1000).reset_index(drop=True).plot.hist(bins=20, ax=ax)\n",
    "ax.set_xlabel('Peak cooling demand (MW)')\n",
    "ax.legend().remove()"
   ]
  },
  {
   "cell_type": "code",
   "execution_count": null,
   "metadata": {},
   "outputs": [],
   "source": [
    "fig, ax = plt.subplots(figsize=figsize)\n",
    "index_demand.reset_index(drop=True).plot.hist(bins=10, ax=ax)\n",
    "\n"
   ]
  },
  {
   "cell_type": "code",
   "execution_count": 26,
   "metadata": {},
   "outputs": [],
   "source": [
    "index_demand.index = index_demand.index.droplevel(0)\n",
    "index_demand.index= index_demand.index.astype(int)"
   ]
  },
  {
   "cell_type": "code",
   "execution_count": null,
   "metadata": {},
   "outputs": [],
   "source": [
    "all_data = pd.merge(index_demand, residential_data, left_index=True, right_index=True)\n",
    "all_data[schema.ResultSchema.SPECIFICCOOLINGDEMAND_DWELLING] = all_data[schema.ResultSchema.COOLINGDEMAND]/all_data[schema.DwellingDataSchema.NB_DWELLINGS]\n",
    "all_data[schema.ResultSchema.SPECIFICCOOLINGDEMAND_AREA] = all_data[\n",
    "    schema.ResultSchema.SPECIFICCOOLINGDEMAND_DWELLING] / all_data[\n",
    "        schema.DwellingDataSchema.FLOOR_AREA]\n",
    "all_data.to_csv(PATH_RESULTS/'cooling_demand_results.csv')\n",
    "all_data.head()\n"
   ]
  },
  {
   "cell_type": "code",
   "execution_count": null,
   "metadata": {},
   "outputs": [],
   "source": [
    "all_data.head()\n",
    "temp_pivot_data = pd.pivot_table(all_data, values='Specific cooling demand (kWh/dwelling)', columns='Dwelling forms', index='LSOA_code')\n",
    "temp_pivot_data.describe()"
   ]
  },
  {
   "cell_type": "code",
   "execution_count": null,
   "metadata": {},
   "outputs": [],
   "source": [
    "all_data.head()\n",
    "temp_pivot_data = pd.pivot_table(all_data, values='Average floor area m2', columns='Dwelling forms', index='LSOA_code')\n",
    "temp_pivot_data.describe()"
   ]
  },
  {
   "cell_type": "code",
   "execution_count": null,
   "metadata": {},
   "outputs": [],
   "source": [
    "all_data.head()\n",
    "temp_pivot_data = pd.pivot_table(all_data, values='Specific cooling demand (kWh/m2)', columns='Dwelling forms', index='LSOA_code')\n",
    "temp_pivot_data.describe()"
   ]
  },
  {
   "cell_type": "code",
   "execution_count": null,
   "metadata": {},
   "outputs": [],
   "source": [
    "fig, ax = plt.subplots(figsize=figsize)\n",
    "all_data[schema.DwellingDataSchema.DWELLING_FORMS] = [x.capitalize() for x in all_data[schema.DwellingDataSchema.DWELLING_FORMS]]\n",
    "sns.boxplot(all_data, x=schema.DwellingDataSchema.DWELLING_FORMS, y=schema.ResultSchema.SPECIFICCOOLINGDEMAND_DWELLING, ax=ax, showfliers=False)\n",
    "ax.set_ylabel(schema.VisualisationSchema.SPECIFICCOOLINGDEMAND_DWELLING)\n",
    "ax.set_ylim(0, None)\n",
    "ax.get_yaxis().set_major_formatter(\n",
    "    tkr.FuncFormatter(lambda x, p: \"{:,.0f}\".format(x)))\n",
    "fig.savefig(PATH_SAVE_FIGURES/f\"dwelling_cooling_demand.{fig_format}\", bbox_inches='tight', format=fig_format, dpi=dpi)\n",
    "fig.savefig(PATH_SAVE_FIGURES/f\"dwelling_cooling_demand.{export_fig_format}\", bbox_inches='tight', format=export_fig_format, dpi=dpi)\n",
    "fig"
   ]
  },
  {
   "cell_type": "code",
   "execution_count": null,
   "metadata": {},
   "outputs": [],
   "source": [
    "fig, ax = plt.subplots(figsize=figsize)\n",
    "sns.boxplot(all_data, x=schema.DwellingDataSchema.DWELLING_FORMS, y=schema.ResultSchema.SPECIFICCOOLINGDEMAND_AREA, ax=ax)\n",
    "ax.set_ylabel(schema.VisualisationSchema.SPECIFICCOOLINGDEMAND_AREA)\n",
    "ax.set_ylim(0, None)\n",
    "fig.savefig(PATH_SAVE_FIGURES/f\"specific_cooling_demand.{fig_format}\", bbox_inches='tight', format=fig_format, dpi=dpi)\n",
    "fig.savefig(PATH_SAVE_FIGURES/f\"specific_cooling_demand.{export_fig_format}\", bbox_inches='tight', format=export_fig_format, dpi=dpi)\n",
    "fig"
   ]
  },
  {
   "cell_type": "code",
   "execution_count": null,
   "metadata": {},
   "outputs": [],
   "source": [
    "(cooling_demand.sum(axis=1)/1000000).sum()"
   ]
  },
  {
   "cell_type": "code",
   "execution_count": null,
   "metadata": {},
   "outputs": [],
   "source": [
    "fig, ax = plt.subplots(figsize=figsize)\n",
    "\n",
    "ax2 = ax.twinx()\n",
    "(cooling_demand.sum(axis=1)/1000000).plot(ax=ax)\n",
    "ax.set_ylabel('Hourly cooling demand [GW]', color=sns.color_palette()[0])\n",
    "ax.set_xlabel('Time')\n",
    "ax.set_ylim(0, 300)\n",
    "ax.legend().remove()\n",
    "ax.margins(0, None)\n",
    "\n",
    "pd.DataFrame(dict_cibse_temperature).mean(axis=1).plot(ax=ax2, linewidth=0.5, color='black', linestyle='--')\n",
    "ax2.set_ylabel(f'Average {schema.VisualisationSchema.HOURLY_OAT.lower()}')\n",
    "ax2.set_ylim(0, 35)\n",
    "ax2.grid(False)\n",
    "# ax.set_ylim(0, None)\n",
    "fig.savefig(PATH_SAVE_FIGURES/f\"cooling_demand_GB.{fig_format}\", bbox_inches='tight', format=fig_format, dpi=dpi)\n",
    "fig.savefig(PATH_SAVE_FIGURES/f\"cooling_demand_GB.{export_fig_format}\", bbox_inches='tight', format=export_fig_format, dpi=dpi)\n",
    "fig"
   ]
  },
  {
   "cell_type": "code",
   "execution_count": 35,
   "metadata": {},
   "outputs": [],
   "source": [
    "### Electricity for cooling"
   ]
  },
  {
   "cell_type": "code",
   "execution_count": 36,
   "metadata": {},
   "outputs": [],
   "source": [
    "scop=14/3.412 #https://www.eia.gov/todayinenergy/detail.php?id=40232\n",
    "cop = scop*0.875"
   ]
  },
  {
   "cell_type": "code",
   "execution_count": null,
   "metadata": {},
   "outputs": [],
   "source": [
    "ic.ic('electricity for cooling', (cooling_demand.sum(axis=1)/1000000/scop).sum())\n",
    "ic.ic('max cooling demand',(cooling_demand.sum(axis=1)/1000000/cop).max())\n",
    "ic.ic('95% percentiles cooling demand',(cooling_demand.sum(axis=1)/1000000/cop).quantile(0.95))"
   ]
  },
  {
   "cell_type": "code",
   "execution_count": null,
   "metadata": {},
   "outputs": [],
   "source": []
  },
  {
   "cell_type": "code",
   "execution_count": null,
   "metadata": {},
   "outputs": [],
   "source": [
    "fig, ax = plt.subplots(figsize=figsize)\n",
    "ax2 = ax.twiny()\n",
    "(cooling_demand.sum(axis=1) / 1000000 / cop).plot(ax=ax, label='Hourly demand')\n",
    "ldc = cooling_demand.sum(axis=1).copy()\n",
    "ldc = ldc.sort_values(ascending=False).reset_index(drop=True)/1000000/ cop\n",
    "ldc.plot(ax=ax2, label='Load duration curve', marker='o', markevery=100, color=sns.color_palette()[1])\n",
    "ax.set_ylabel('Hourly electricity\\nfor cooling demand [GW]')\n",
    "ax.set_xlabel('')\n",
    "\n",
    "ax2.grid(False)\n",
    "ax.xaxis.grid(False)\n",
    "ax2.set_xlim(0, None)\n",
    "ax2.set_xlabel('Number of hours')\n",
    "ax2.xaxis.label.set_color(sns.color_palette()[1])\n",
    "ax2.tick_params(axis='x', colors=sns.color_palette()[1])\n",
    "ax2.get_xaxis().set_major_formatter(tkr.FuncFormatter(lambda x, p: format(int(x), ',')))\n",
    "ax.margins(0, None)\n",
    "ax.set_ylim(0, None)\n",
    "\n",
    "lines, labels = ax.get_legend_handles_labels()\n",
    "lines2, labels2 = ax2.get_legend_handles_labels()\n",
    "ax2.legend(lines + lines2, labels + labels2, loc=0)\n",
    "fig.savefig(PATH_SAVE_FIGURES/f\"electricity_for_cooling_demand_GB.{fig_format}\", bbox_inches='tight', format=fig_format, dpi=dpi)\n",
    "fig.savefig(PATH_SAVE_FIGURES/f\"electricity_for_cooling_demand_GB.{export_fig_format}\", bbox_inches='tight', format=export_fig_format, dpi=dpi)"
   ]
  },
  {
   "cell_type": "code",
   "execution_count": null,
   "metadata": {},
   "outputs": [],
   "source": [
    "ldc[ldc>0.1]*1000"
   ]
  },
  {
   "cell_type": "code",
   "execution_count": null,
   "metadata": {},
   "outputs": [],
   "source": [
    "average_week_day = cooling_demand.sum(axis=1).groupby(\n",
    "    [cooling_demand.index.hour]).mean().reset_index(drop=True)\n",
    "average_week_day.plot()"
   ]
  },
  {
   "cell_type": "code",
   "execution_count": null,
   "metadata": {},
   "outputs": [],
   "source": [
    "# Peak cooling day\n",
    "from datetime import datetime\n",
    "filt = cooling_demand.index.date == datetime(2050,7,19).date()\n",
    "(cooling_demand.sum(axis=1) / 1000000 / cop).loc[filt].plot()"
   ]
  },
  {
   "cell_type": "code",
   "execution_count": 42,
   "metadata": {},
   "outputs": [],
   "source": [
    "path_map = PATH_ORG /  r'General/resources/GIS map and data'\n",
    "file = \"Local_authority_UK_2019.geojson\"\n",
    "path_map = path_map/file"
   ]
  },
  {
   "cell_type": "code",
   "execution_count": 60,
   "metadata": {},
   "outputs": [],
   "source": [
    "from mpl_toolkits.axes_grid1 import make_axes_locatable\n",
    "\n",
    "\n",
    "def create_map_LA(df,\n",
    "                  target,\n",
    "                  path_map,\n",
    "                  fig,\n",
    "                  ax,\n",
    "                  cmap=None,\n",
    "                  percentage_scale=False, label_legend:str=''):\n",
    "\n",
    "  map_df = gpd.read_file(path_map)\n",
    "  map_df.crs = {'init': 'epsg:4326'}\n",
    "\n",
    "  map_df = pd.merge(map_df,\n",
    "                    df,\n",
    "                    left_on=\"lad19cd\",\n",
    "                    right_on=schema.DwellingDataSchema.LADCD,\n",
    "                    how=\"left\")\n",
    "\n",
    "  map_df = map_df.dropna(subset=[target])\n",
    "  # create figure and axes for Matplotlib\n",
    "  if percentage_scale:\n",
    "    vmin = 0\n",
    "    vmax = 1\n",
    "  else:\n",
    "    vmin = 0\n",
    "    vmax = map_df[target].max()\n",
    "\n",
    "  if cmap == None:\n",
    "    cmap = 'Blues'\n",
    "\n",
    "  ax.axis('off')\n",
    "  ax.tick_params(left=False, labelleft=False, bottom=False, labelbottom=False)\n",
    "\n",
    "  map_df = map_df.to_crs({'init': 'epsg:3395'})  # mercator projections\n",
    "  divider = make_axes_locatable(ax)\n",
    "  cax = divider.append_axes(\"right\", size=\"5%\", pad=0.1)\n",
    "\n",
    "  format_axis = tkr.FuncFormatter(lambda x, p: \"{:,.0f}\".format(x))\n",
    "  if map_df[target].max()<100:\n",
    "\n",
    "    format_axis = tkr.FuncFormatter(lambda x, p: \"{:,.1f}\".format(x))\n",
    "\n",
    "  map = map_df.plot(column=target,\n",
    "              cmap=cmap,\n",
    "              linewidth=0.015,\n",
    "              ax=ax,\n",
    "              edgecolor='black',\n",
    "              vmin=vmin,\n",
    "              vmax=vmax,\n",
    "              legend=True,\n",
    "              legend_kwds={\n",
    "                      \"label\": label_legend,\n",
    "                      \"orientation\": \"vertical\",\n",
    "                      \"shrink\": .2,\n",
    "                       \"format\": format_axis\n",
    "                      },\n",
    "              cax=cax)  #,\n",
    "  plt.close()\n",
    "  return map\n",
    "\n"
   ]
  },
  {
   "cell_type": "code",
   "execution_count": null,
   "metadata": {},
   "outputs": [],
   "source": [
    "# Peak cooling demand in kW\n",
    "la_cooling_demand = cooling_demand.max()\n",
    "la_cooling_demand = la_cooling_demand.to_frame()\n",
    "la_cooling_demand = la_cooling_demand.reset_index()\n",
    "la_cooling_demand.columns = [\n",
    "    schema.DwellingDataSchema.LADCD, schema.DwellingDataSchema.COOLING_DEMAND]\n",
    "la_cooling_demand.head()"
   ]
  },
  {
   "cell_type": "code",
   "execution_count": null,
   "metadata": {},
   "outputs": [],
   "source": [
    "la_cooling_demand.sort_values(schema.DwellingDataSchema.COOLING_DEMAND, ascending=False).describe()/1000"
   ]
  },
  {
   "cell_type": "code",
   "execution_count": null,
   "metadata": {},
   "outputs": [],
   "source": [
    "to_plot_df = la_cooling_demand.copy()\n",
    "\n",
    "fig, ax = plt.subplots(figsize=(figsize_map))\n",
    "target = schema.DwellingDataSchema.COOLING_DEMAND\n",
    "to_plot_df[target] = to_plot_df[target]/1000000 #to GW\n",
    "\n",
    "cmap_1 = \"YlGnBu\"\n",
    "# create_map_LA(to_plot_df, target, path_map, fig, ax, cmap=cmap_1, label_legend='Peak cooling demand (MW)')\n",
    "create_map_LA(to_plot_df, target, path_map, fig, ax, cmap=cmap_1)\n",
    "ax.set_title(\n",
    "    f\"Residential peak cooling demand\\nin 2050 at local authority level (unit: GW)\")\n",
    "\n",
    "fig.savefig(PATH_SAVE_FIGURES/f\"residential_peak_cooling_demand_la_map.{fig_format}\", bbox_inches='tight', format=fig_format, dpi=dpi)\n",
    "fig.savefig(PATH_SAVE_FIGURES/f\"residential_peak_cooling_demand_la_map.{export_fig_format}\", bbox_inches='tight', format=export_fig_format, dpi=dpi)\n",
    "fig\n"
   ]
  },
  {
   "cell_type": "code",
   "execution_count": null,
   "metadata": {},
   "outputs": [],
   "source": [
    "all_data['Total Floor area'] = all_data[schema.DwellingDataSchema.NB_DWELLINGS]*all_data[schema.DwellingDataSchema.FLOOR_AREA]\n",
    "la_data = all_data.groupby(schema.DwellingDataSchema.LADNM).agg({schema.DwellingDataSchema.COOLING_DEMAND:'sum',\n",
    "                                                       schema.DwellingDataSchema.NB_DWELLINGS:'sum',\n",
    "                                                       schema.DwellingDataSchema.FLOOR_AREA:'mean',\n",
    "                                                       schema.DwellingDataSchema.HEATING_DEMAND:'sum',\n",
    "                                                       'Total Floor area':'sum'})\n",
    "\n",
    "\n",
    "la_data.head()"
   ]
  },
  {
   "cell_type": "code",
   "execution_count": null,
   "metadata": {},
   "outputs": [],
   "source": [
    "la_data.sort_values(schema.DwellingDataSchema.HEATING_DEMAND, ascending=False).head(10)"
   ]
  },
  {
   "cell_type": "code",
   "execution_count": null,
   "metadata": {},
   "outputs": [],
   "source": [
    "la_data.sort_values('Total Floor area', ascending=False).head(10)"
   ]
  },
  {
   "cell_type": "code",
   "execution_count": null,
   "metadata": {},
   "outputs": [],
   "source": [
    "la_data.sort_values(schema.DwellingDataSchema.COOLING_DEMAND, ascending=False).head(10)"
   ]
  },
  {
   "cell_type": "code",
   "execution_count": null,
   "metadata": {},
   "outputs": [],
   "source": [
    "# Annual cooling demand GWh\n",
    "la_cooling_demand = cooling_demand.sum()\n",
    "la_cooling_demand = la_cooling_demand.to_frame()\n",
    "la_cooling_demand = la_cooling_demand.reset_index()\n",
    "la_cooling_demand.columns = [\n",
    "    schema.DwellingDataSchema.LADCD, schema.DwellingDataSchema.COOLING_DEMAND]\n",
    "la_cooling_demand.head()\n",
    "\n",
    "\n",
    "to_plot_df = la_cooling_demand.copy()\n",
    "\n",
    "fig, ax = plt.subplots(figsize=(figsize_map))\n",
    "target = schema.DwellingDataSchema.COOLING_DEMAND\n",
    "to_plot_df[target] = to_plot_df[target]/1000000\n",
    "\n",
    "cmap_1 = \"YlGnBu\"\n",
    "create_map_LA(to_plot_df,\n",
    "              target,\n",
    "              path_map,\n",
    "              fig,\n",
    "              ax,\n",
    "              cmap=cmap_1)\n",
    "# create_map_LA(to_plot_df, target, path_map, fig, ax, cmap=cmap_1, label_legend='Cooling demand (GWh)')\n",
    "\n",
    "ax.set_title(f\"Residential cooling demand\\nin 2050 at local authority level (unit: GWh)\")\n",
    "fig.savefig(PATH_SAVE_FIGURES/f\"residential_cooling_demand_lsoa_map.{fig_format}\", bbox_inches='tight', format=fig_format, dpi=dpi)\n",
    "fig.savefig(PATH_SAVE_FIGURES/f\"residential_cooling_demand_lsoa_map.{export_fig_format}\", bbox_inches='tight', format=export_fig_format, dpi=dpi)\n",
    "\n",
    "fig"
   ]
  },
  {
   "cell_type": "markdown",
   "metadata": {},
   "source": [
    "## LSOA map"
   ]
  },
  {
   "cell_type": "code",
   "execution_count": 69,
   "metadata": {},
   "outputs": [],
   "source": [
    "pathlist = (Path(PATH_RESULTS)/'simulation').rglob('*_total_heating_outputs.csv')\n",
    "\n",
    "lsoa_to_index_dict = dict(residential_data.reset_index().groupby('LSOA_code')['Index'].apply(list))\n",
    "\n",
    "try:\n",
    "  lsoa_cooling_demand = pd.read_csv(PATH_RESULTS / 'cooling_demand_lsoa.csv', index_col=0)\n",
    "except:\n",
    "\n",
    "  frames:dict[str, pd.Series] = {}\n",
    "  for temp_path in pathlist:\n",
    "    temp_sim_results = pd.read_csv(temp_path, index_col=0, parse_dates=True)\n",
    "    temp_sim_results.columns = [int(x) for x in temp_sim_results.columns]\n",
    "    for lsoa_code, list_index in lsoa_to_index_dict.items():\n",
    "      list_index_in_file = [\n",
    "          x for x in temp_sim_results.columns if x in list_index\n",
    "      ]\n",
    "      if len(list_index_in_file) > 0:\n",
    "        ic.ic(lsoa_code)\n",
    "        frames[lsoa_code] = -temp_sim_results[list_index].sum(axis=1)\n",
    "\n",
    "  lsoa_cooling_demand = pd.concat(frames, axis=1)\n",
    "  lsoa_cooling_demand.to_csv(PATH_RESULTS / 'cooling_demand_lsoa.csv')"
   ]
  },
  {
   "cell_type": "code",
   "execution_count": 71,
   "metadata": {},
   "outputs": [],
   "source": [
    "map_df = viz_functions.get_UK_LSOA_map()\n",
    "summary_lsoa_cooling_peak = lsoa_peak.copy()\n",
    "summary_lsoa_cooling_peak = summary_lsoa_cooling_peak.droplevel(0)\n",
    "# summary_lsoa_cooling_peak.index = summary_lsoa_cooling_peak.index.droplevel(0)\n",
    "summary_lsoa_cooling_peak = summary_lsoa_cooling_peak/1000\n",
    "summary_lsoa_cooling_peak.columns = ['Peak cooling demand (MW)']\n",
    "map_df = pd.merge(map_df,\n",
    "                  summary_lsoa_cooling_peak,\n",
    "                  left_on='LSOA11CD',\n",
    "                  right_index=True)\n"
   ]
  },
  {
   "cell_type": "code",
   "execution_count": null,
   "metadata": {},
   "outputs": [],
   "source": [
    "lsoa_peak\n",
    "fig, ax = plt.subplots(figsize=(figsize_map))\n",
    "cmap_1 = \"YlGnBu\"\n",
    "target = 'Peak cooling demand (MW)'\n",
    "map_obj = viz_functions.plot_map(map_df,\n",
    "                                 target,\n",
    "                                 ax,\n",
    "                                 vmin=0,\n",
    "                                 cmap=cmap_1,\n",
    "                                 legend=True)\n",
    "\n",
    "ax.set_title(\n",
    "    f\"Residential peak cooling demand\\nin 2050 at LSOA level (unit: MW)\")\n",
    "fig.savefig(PATH_SAVE_FIGURES/f\"residential_peak_cooling_demand_lsoa_map.{fig_format}\", bbox_inches='tight', format=fig_format, dpi=dpi)\n",
    "fig.savefig(PATH_SAVE_FIGURES/f\"residential_peak_cooling_demand_lsoa_map.{export_fig_format}\", bbox_inches='tight', format=export_fig_format, dpi=dpi)\n",
    "\n",
    "fig"
   ]
  },
  {
   "cell_type": "code",
   "execution_count": null,
   "metadata": {},
   "outputs": [],
   "source": [
    "map_df = viz_functions.get_UK_LSOA_map()\n",
    "summary_lsoa_cooling_demand = (lsoa_cooling_demand.sum()/1_000_000).to_frame()\n",
    "summary_lsoa_cooling_demand.columns = ['Cooling demand (GWh)']\n",
    "map_df = pd.merge(map_df,\n",
    "                  summary_lsoa_cooling_demand,\n",
    "                  left_on='LSOA11CD',\n",
    "                  right_index=True)\n",
    "summary_lsoa_cooling_demand.describe()"
   ]
  },
  {
   "cell_type": "code",
   "execution_count": null,
   "metadata": {},
   "outputs": [],
   "source": [
    "fig, ax = plt.subplots(figsize=(figsize_map))\n",
    "cmap_1 = \"YlGnBu\"\n",
    "target = f'Cooling demand (GWh)'\n",
    "map_obj = viz_functions.plot_map(map_df,\n",
    "                                 target,\n",
    "                                 ax,\n",
    "                                 vmin=0,\n",
    "                                 cmap=cmap_1,\n",
    "                                 legend=True)\n",
    "\n",
    "ax.set_title(f\"Residential cooling demand\\nin 2050 at LSOA level (unit: GWh)\")\n",
    "fig.savefig(PATH_SAVE_FIGURES/f\"residential_cooling_demand_lsoa_map.{fig_format}\", bbox_inches='tight', format=fig_format, dpi=dpi)\n",
    "fig.savefig(PATH_SAVE_FIGURES/f\"residential_cooling_demand_lsoa_map.{export_fig_format}\", bbox_inches='tight', format=export_fig_format, dpi=dpi)\n",
    "\n",
    "fig"
   ]
  }
 ],
 "metadata": {
  "kernelspec": {
   "display_name": "degree-days-analysis-g6MexP5C-py3.11",
   "language": "python",
   "name": "python3"
  },
  "language_info": {
   "codemirror_mode": {
    "name": "ipython",
    "version": 3
   },
   "file_extension": ".py",
   "mimetype": "text/x-python",
   "name": "python",
   "nbconvert_exporter": "python",
   "pygments_lexer": "ipython3",
   "version": "3.11.2"
  }
 },
 "nbformat": 4,
 "nbformat_minor": 4
}
