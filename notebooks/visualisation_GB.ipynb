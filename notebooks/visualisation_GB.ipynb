{
 "cells": [
  {
   "cell_type": "code",
   "execution_count": null,
   "metadata": {},
   "outputs": [],
   "source": [
    "%load_ext autoreload\n",
    "%autoreload 2"
   ]
  },
  {
   "cell_type": "code",
   "execution_count": 117,
   "metadata": {},
   "outputs": [],
   "source": [
    "import sys\n",
    "sys.path.insert(0, '..//src/')"
   ]
  },
  {
   "cell_type": "code",
   "execution_count": null,
   "metadata": {},
   "outputs": [],
   "source": [
    "import numpy as np\n",
    "import pandas as pd\n",
    "import os\n",
    "import matplotlib.pyplot as plt\n",
    "import matplotlib.ticker as tkr\n",
    "from matplotlib.colors import LinearSegmentedColormap\n",
    "import matplotlib as mpl\n",
    "import seaborn as sns\n",
    "import sys\n",
    "import random\n",
    "import main\n",
    "from common import enums, viz_functions\n",
    "from pathlib import Path\n",
    "\n",
    "random.seed(42)\n",
    "\n",
    "# blues = [x for x in reversed(sns.color_palette(\"Blues_d\", 11))]\n",
    "# sns.set_palette(sns.color_palette(\"Paired\", 10))\n",
    "# sns.set_style(\"white\")\n",
    "sns.set_palette(sns.color_palette(\"colorblind\", 15))\n",
    "plt.rcParams['font.family'] = 'Times New Roman'\n",
    "font_size = 12\n",
    "params = {'axes.labelsize': font_size+2,\n",
    "          'axes.titlesize':font_size+4,\n",
    "          'legend.fontsize': font_size, \n",
    "          'xtick.labelsize': font_size,\n",
    "          'ytick.labelsize': font_size,\n",
    "          'font.size': font_size}\n",
    "plt.rcParams.update(params)\n",
    "sns.set_style(\"whitegrid\")\n",
    "export_fig_format = \"pdf\"\n",
    "fig_format = \"png\"\n",
    "dpi = 300\n",
    "figsize = (12, 3.5)\n",
    "figsize_map = (16, 8)\n",
    "sns.palplot(sns.color_palette())\n",
    "\n",
    "markers = ['P', 'o', '^', 's', '*', 'v']\n",
    "linewidth = 0.1\n",
    "edgecolor = 'black'\n",
    "\n",
    "print(os.getcwd())\n",
    "computer_path= \"\"\n",
    "for x in os.getcwd().split(os.path.sep):\n",
    "    print(x)\n",
    "    computer_path=computer_path+x+os.path.sep\n",
    "    if x == \"sceac10\":\n",
    "        break    \n",
    "    else: computer_path = os.getcwd().split(os.path.sep)[0]+os.path.sep\n",
    "print(computer_path)\n"
   ]
  },
  {
   "cell_type": "code",
   "execution_count": 119,
   "metadata": {},
   "outputs": [],
   "source": [
    "PATH_ONEDRIVE = Path(r'D:\\Profile data Cardiff\\OneDrive - Cardiff University')\n",
    "path_gb_data = PATH_ONEDRIVE / r'04 - Projects\\00 - Final data\\Annual_demand'"
   ]
  },
  {
   "cell_type": "code",
   "execution_count": null,
   "metadata": {},
   "outputs": [],
   "source": [
    "scenario = 'after'\n",
    "gb_df = pd.read_csv(path_gb_data /\n",
    "                    f\"GB_Annual_heat_demand_{scenario}_EE_LSOA.csv\", index_col=0)\n",
    "gb_df.head()"
   ]
  },
  {
   "cell_type": "code",
   "execution_count": null,
   "metadata": {},
   "outputs": [],
   "source": [
    "list_columns = [x for x in gb_df.columns if f\"Average heat demand {scenario}\" in x]\n",
    "list_columns"
   ]
  },
  {
   "cell_type": "code",
   "execution_count": 122,
   "metadata": {},
   "outputs": [],
   "source": [
    "## Remove outliers\n",
    "for c in list_columns:\n",
    "  max_value = gb_df[c].quantile(0.99)\n",
    "  filt = gb_df[c] > max_value\n",
    "  gb_df.loc[filt, c] = max_value"
   ]
  },
  {
   "cell_type": "code",
   "execution_count": null,
   "metadata": {},
   "outputs": [],
   "source": [
    "to_plot_df = pd.DataFrame()\n",
    "to_plot_df.index = gb_df['Lsoa11cd'].values\n",
    "to_plot_df[f\"Total heat demand {scenario} energy efficiency measures (MWh)\"] = gb_df[\n",
    "    list_columns].sum(axis=1).values/1000\n",
    "to_plot_df.head()"
   ]
  },
  {
   "cell_type": "code",
   "execution_count": null,
   "metadata": {},
   "outputs": [],
   "source": [
    "map_df = viz_functions.get_UK_LSOA_map()\n",
    "map_df = pd.merge(map_df, to_plot_df, left_on='LSOA11CD', right_index=True)\n",
    "map_df.head()"
   ]
  },
  {
   "cell_type": "code",
   "execution_count": null,
   "metadata": {},
   "outputs": [],
   "source": [
    "fig, ax = plt.subplots(figsize=(figsize_map))\n",
    "cmap_1 = 'magma_r'\n",
    "target = f\"Total heat demand {scenario} energy efficiency measures (MWh)\"\n",
    "map_obj = viz_functions.plot_map(map_df,\n",
    "                                 target,\n",
    "                                 ax,\n",
    "                                 vmin=0,\n",
    "                                 vmax=400,\n",
    "                                 cmap=cmap_1,\n",
    "                                 legend=True)\n",
    "\n",
    "ax.set_title(f\"Residential heat demand\\n{scenario} energy efficiency measures (MWh)\")\n",
    "fig"
   ]
  }
 ],
 "metadata": {
  "kernelspec": {
   "display_name": "Python 3.10.7 ('degree_days': venv)",
   "language": "python",
   "name": "python3"
  },
  "language_info": {
   "codemirror_mode": {
    "name": "ipython",
    "version": 3
   },
   "file_extension": ".py",
   "mimetype": "text/x-python",
   "name": "python",
   "nbconvert_exporter": "python",
   "pygments_lexer": "ipython3",
   "version": "3.12.2"
  },
  "vscode": {
   "interpreter": {
    "hash": "4dee939fb3b4de230198db21b7ca14f383f52f4aba21cf97569bc855125f1cdf"
   }
  }
 },
 "nbformat": 4,
 "nbformat_minor": 4
}
