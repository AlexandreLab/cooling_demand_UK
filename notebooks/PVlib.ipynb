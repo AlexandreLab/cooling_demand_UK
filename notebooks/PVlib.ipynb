{
 "cells": [
  {
   "cell_type": "code",
   "execution_count": null,
   "id": "121ce942",
   "metadata": {},
   "outputs": [],
   "source": [
    "%load_ext autoreload\n",
    "%autoreload 2"
   ]
  },
  {
   "cell_type": "code",
   "execution_count": null,
   "id": "73832dd1-220b-43df-9d83-c3dec37f1734",
   "metadata": {},
   "outputs": [],
   "source": [
    "import sys\n",
    "sys.path.insert(0, '..//src/')\n",
    "import pandas as pd\n",
    "import numpy as np\n",
    "import seaborn as sns\n",
    "import matplotlib.pyplot as plt\n",
    "import matplotlib.ticker as tkr\n",
    "import main\n",
    "from common import enums, functions, schema\n",
    "import geopandas as gpd\n",
    "from pathlib import Path\n",
    "from mpl_toolkits.axes_grid1 import make_axes_locatable\n",
    "\n",
    "sns.set_palette(sns.color_palette(\"colorblind\", 15))\n",
    "plt.rcParams['font.family'] = 'Times New Roman'\n",
    "font_size = 12\n",
    "params = {'axes.labelsize': font_size+2,\n",
    "          'axes.titlesize':font_size+4,\n",
    "          'legend.fontsize': font_size, \n",
    "          'xtick.labelsize': font_size,\n",
    "          'ytick.labelsize': font_size,\n",
    "          'font.size': font_size}\n",
    "plt.rcParams.update(params)\n",
    "sns.set_style(\"whitegrid\")\n",
    "export_fig_format = \"pdf\"\n",
    "fig_format = \"png\"\n",
    "dpi = 300\n",
    "figsize = (12, 3.5)\n",
    "figsize_map = (16, 8)\n",
    "sns.palplot(sns.color_palette())\n",
    "\n",
    "markers = ['P', 'o', '^', 's', '*', 'v']\n",
    "linewidth = 0.1\n",
    "edgecolor = 'black'"
   ]
  },
  {
   "cell_type": "code",
   "execution_count": 95,
   "id": "f36ebc8e",
   "metadata": {},
   "outputs": [],
   "source": [
    "PATH_ORG = main.PATH_ORG\n",
    "PATH_TABLES = PATH_ORG / r\"General/communication/tables\"\n",
    "PATH_SAVE_FIGURES = PATH_ORG / r\"General/communication/figures\""
   ]
  },
  {
   "cell_type": "markdown",
   "id": "d8d8c31c",
   "metadata": {},
   "source": [
    "## PV generation using PVlib"
   ]
  },
  {
   "cell_type": "code",
   "execution_count": 96,
   "id": "94ce828e",
   "metadata": {},
   "outputs": [],
   "source": [
    "import pvlib\n",
    "from dataclasses import dataclass\n",
    "from pvlib import location\n",
    "from pvlib.pvsystem import PVSystem, FixedMount\n",
    "from pvlib.location import Location\n",
    "from pvlib.modelchain import ModelChain\n",
    "from pvlib.temperature import TEMPERATURE_MODEL_PARAMETERS\n",
    "\n",
    "geolocation = {\"Birmingham\": (52.489471,-1.898575),\n",
    "\"Cardiff\": (51.481583,-3.179090),\n",
    "\"Edinburgh\": (55.953251-3.188267),\n",
    "\"Glasgow\": (55.860916,-4.251433),\n",
    "\"Leeds\": (53.801277,-1.548567),\n",
    "\"Manchester\" : (53.483959, -2.244644)}\n",
    "\n",
    "@dataclass\n",
    "class PVmodel:\n",
    "  city_name: str\n",
    "  irradiance_data: pd.DataFrame\n",
    "  azimuth: int = 180\n",
    "  slope:int = 30\n",
    "  @property\n",
    "  def location(self) -> pvlib.location.Location:\n",
    "    if self.irradiance_data.index.tz is None:\n",
    "      self.irradiance_data.index = self.irradiance_data.index.tz_localize(\n",
    "          'Europe/London')\n",
    "      print(self.irradiance_data.index.tz)\n",
    "    return pvlib.location.Location(geolocation[self.city_name][0],\n",
    "                                   geolocation[self.city_name][1],\n",
    "                                   tz=self.irradiance_data.index.tz)\n",
    "\n",
    "  def add_solar_components_to_ghi_data(self) -> pd.DataFrame:\n",
    "    ghi_data = self.irradiance_data.copy()\n",
    "    ghi_data.columns = ['ghi']\n",
    "    # Calculate solar position for each timestamp in weather_data data\n",
    "    solar_position: pd.DataFrame = self.location.get_solarposition(\n",
    "        ghi_data.index)\n",
    "    dni_data: pd.DataFrame = pvlib.irradiance.disc(\n",
    "        ghi_data['ghi'].values,\n",
    "        solar_zenith=solar_position['zenith'],\n",
    "        datetime_or_doy=ghi_data.index)\n",
    "    weather_data: pd.DataFrame = pd.concat([dni_data, ghi_data], axis=1)\n",
    "    # weather_data = pd.concat([weather_data, temperature_data], axis=1)\n",
    "    weather_data['dhi'] = (\n",
    "        weather_data['ghi'] -\n",
    "        np.cos(solar_position['zenith'] * np.pi / 180) * weather_data['dni']\n",
    "    )  # GHI = DNI*cosθ + DHI\n",
    "    return self.convert_to_poa(weather_data)\n",
    "\n",
    "  def convert_to_poa(self, dataf: pd.DataFrame) -> pd.DataFrame:\n",
    "    \"\"\"Convert a dataframe with dni, ghi, dhi, apparent_zenith, azimuth and airmass_relative to poa\"\"\"\n",
    "\n",
    "    # Calculate solar position for each timestamp in weather_data data\n",
    "    solar_position = self.location.get_solarposition(dataf.index)\n",
    "\n",
    "    # Calculate airmass for each timestamp in weather_data data\n",
    "    airmass = self.location.get_airmass(dataf.index)\n",
    "\n",
    "    # Calculate POA irradiance for each timestamp in weather_data data\n",
    "    dataf = pvlib.irradiance.get_total_irradiance(\n",
    "        surface_tilt=0,\n",
    "        surface_azimuth=180,\n",
    "        solar_zenith=solar_position['apparent_zenith'],\n",
    "        solar_azimuth=solar_position['azimuth'],\n",
    "        dni=dataf['dni'],\n",
    "        ghi=dataf['ghi'],\n",
    "        dhi=dataf['dhi'],\n",
    "        airmass=airmass['airmass_relative'])\n",
    "    return dataf\n",
    "\n",
    "  def get_pv_generation(self):\n",
    "\n",
    "    temperature_model_parameters = TEMPERATURE_MODEL_PARAMETERS['sapm'][\n",
    "        'open_rack_glass_glass']\n",
    "    sandia_modules = pvlib.pvsystem.retrieve_sam('SandiaMod')\n",
    "\n",
    "    cec_inverters = pvlib.pvsystem.retrieve_sam('cecinverter')\n",
    "\n",
    "    sandia_module = sandia_modules['Canadian_Solar_CS5P_220M___2009_']\n",
    "\n",
    "    cec_inverter = cec_inverters['ABB__MICRO_0_25_I_OUTD_US_208__208V_']\n",
    "    location = self.location\n",
    "\n",
    "    system = PVSystem(\n",
    "        surface_tilt=self.slope,\n",
    "        surface_azimuth=self.azimuth,\n",
    "        module_parameters=sandia_module,\n",
    "        inverter_parameters=cec_inverter,\n",
    "        temperature_model_parameters=temperature_model_parameters)\n",
    "\n",
    "    mc = ModelChain(system, location)\n",
    "    mc.run_model_from_poa(self.add_solar_components_to_ghi_data())\n",
    "    kWp_pv = (sandia_module.Impo * sandia_module.Vmpo) / 1000\n",
    "    return mc.results.ac / 1000 / kWp_pv  #kWh/kWp"
   ]
  },
  {
   "cell_type": "markdown",
   "metadata": {},
   "source": [
    "## PVlib data UKPN network"
   ]
  },
  {
   "cell_type": "code",
   "execution_count": null,
   "metadata": {},
   "outputs": [],
   "source": [
    "city = \"Birmingham\"\n",
    "column_names = [\n",
    "  'Year', 'Month', 'Day', 'Hour', 'PWC', 'Cloud', 'DBT', 'WBT', 'RH', 'Press', 'WD', 'WS', 'GSR', 'DSR', 'Alt', 'Dec', 'Cloud1', 'DBT1', 'WBT1', 'Press1', 'WD1', 'WS1'\n",
    "]\n",
    "pathlist = Path(main.PATH_CIBSE_DATA).rglob('*_DSY2_2050High50*.csv')\n",
    "\n",
    "dict_cibse_temperature: dict[str, pd.Series] = {}\n",
    "for path in pathlist:\n",
    "  print(path.stem)\n",
    "  if city in path.stem:\n",
    "    la_str = path.stem.split('_DSY2_2050High50')[0]\n",
    "    temp_dataf = pd.read_csv(path,\n",
    "                             skiprows=32,\n",
    "                             header=None,\n",
    "                             delimiter=\",\",\n",
    "                             names=column_names)\n",
    "    weather_data = functions.format_weather_data(temp_dataf)\n",
    "\n",
    "power_output_data = []\n",
    "\n",
    "for azimuth in (180+45, 180, 180-45):\n",
    "  pv_model = PVmodel(\n",
    "      city, weather_data[schema.DataSchema.SOLARRADIATION].to_frame(), azimuth=azimuth)\n",
    "  pv_generation = pv_model.get_pv_generation()\n",
    "  dataf = pv_generation.to_frame()\n",
    "  new_name_col = f'P_{azimuth}_(kW)'\n",
    "  dataf.columns = [new_name_col]\n",
    "  power_output_data.append(dataf[new_name_col])\n",
    "\n",
    "pv_outputs_df = pd.concat(power_output_data, axis=1)\n",
    "pv_outputs_df['P_mean'] = pv_outputs_df.mean(axis=1)\n",
    "pv_outputs_df.head()"
   ]
  },
  {
   "cell_type": "code",
   "execution_count": null,
   "id": "af4c6ef0",
   "metadata": {},
   "outputs": [],
   "source": [
    "pv_outputs_df.sum()"
   ]
  },
  {
   "cell_type": "code",
   "execution_count": null,
   "id": "eb94c116",
   "metadata": {},
   "outputs": [],
   "source": [
    "fig, ax = plt.subplots(figsize=figsize)\n",
    "pv_outputs_df['P_mean'].plot(ax=ax)\n",
    "ax.set_ylabel('Power output (W)')\n",
    "ax.set_xlabel('')"
   ]
  },
  {
   "cell_type": "markdown",
   "id": "b7934449",
   "metadata": {},
   "source": [
    "### UKPN DFES DATA AT LSOA LEVEL FOR 2050"
   ]
  },
  {
   "cell_type": "code",
   "execution_count": null,
   "id": "8b51965e",
   "metadata": {},
   "outputs": [],
   "source": [
    "PATH_ORG = main.PATH_ORG\n",
    "ukpn_dfes_path = PATH_ORG / r'General/data/Electricity substation data/ukpn'\n",
    "\n",
    "fn = \"DFES-2022--Leading_the_Way--Domestic-PV-capacity--LSOA.csv\"\n",
    "dfes_dataf = pd.read_csv(ukpn_dfes_path / fn, index_col=0)\n",
    "dfes_dataf.head()"
   ]
  },
  {
   "cell_type": "code",
   "execution_count": null,
   "id": "76f1c103",
   "metadata": {},
   "outputs": [],
   "source": [
    "list_lsoas = dfes_dataf.index.unique()\n",
    "len(list_lsoas)"
   ]
  },
  {
   "cell_type": "markdown",
   "id": "bcf8adbc",
   "metadata": {},
   "source": [
    "## Extract cooling demand of LSOAs in ukpn"
   ]
  },
  {
   "cell_type": "code",
   "execution_count": null,
   "id": "88e4b570",
   "metadata": {},
   "outputs": [],
   "source": [
    "residential_data = main.import_thermal_characteristics_data(\n",
    "    main.PATH_GB_DATA / 'Thermal_characteristics_afterEE.csv', 2020, 2050)\n",
    "filt = residential_data['LSOA_code'].isin(list_lsoas)\n",
    "residential_data = residential_data[filt]\n",
    "residential_data = residential_data.reset_index()\n",
    "list_la_code = list(residential_data['ladcd'].unique())\n",
    "residential_data.head()"
   ]
  },
  {
   "cell_type": "code",
   "execution_count": 103,
   "id": "2916cedd",
   "metadata": {},
   "outputs": [],
   "source": [
    "import icecream as ic\n",
    "\n",
    "PATH_RESULTS =PATH_ORG / r'General/04 - Analysis/2050 high emission'\n",
    "\n",
    "# PATH_RESULTS = Path(r'C:/Users/sceac10/OneDrive - Cardiff University/General/04 - Analysis/2050 high emission/simulation/city of london_E09000001/')\n",
    "\n",
    "try:\n",
    "  ukpn_lsoa_cooling_demand = pd.read_csv(ukpn_dfes_path /\n",
    "                                         \"ukpn_lsoa_cooling_demand.csv\",\n",
    "                                         index_col=0, parse_dates=True)\n",
    "except:\n",
    "\n",
    "  pathlist = (Path(PATH_RESULTS)/'simulation').rglob('*_total_heating_outputs.csv')\n",
    "\n",
    "\n",
    "  lsoa_to_index_dict = dict(residential_data.groupby('LSOA_code')['Index'].apply(list))\n",
    "\n",
    "  frames:dict[str, pd.Series] = {}\n",
    "  for temp_path in pathlist:\n",
    "    ic.ic(temp_path)\n",
    "    la_str = temp_path.stem.split('_total_heating_outputs')[0]\n",
    "    la_code = la_str.split('_')[-1]\n",
    "    ic.ic(la_code)\n",
    "    if la_code in list_la_code:\n",
    "      temp_sim_results = pd.read_csv(temp_path, index_col=0, parse_dates=True)\n",
    "      temp_sim_results.columns = [int(x) for x in temp_sim_results.columns]\n",
    "      for lsoa_code, list_index in lsoa_to_index_dict.items():\n",
    "        list_index_in_file = [\n",
    "            x for x in temp_sim_results.columns if x in list_index\n",
    "        ]\n",
    "        if len(list_index_in_file) > 0:\n",
    "          ic.ic(lsoa_code)\n",
    "          frames[lsoa_code] = -temp_sim_results[list_index].sum(axis=1)\n",
    "\n",
    "  ukpn_lsoa_cooling_demand = pd.concat(frames, axis=1)\n",
    "  ukpn_lsoa_cooling_demand.to_csv(ukpn_dfes_path /\n",
    "                                  \"ukpn_lsoa_cooling_demand.csv\")"
   ]
  },
  {
   "cell_type": "code",
   "execution_count": 104,
   "id": "f1492976",
   "metadata": {},
   "outputs": [],
   "source": [
    "pv_outputs_df.index = ukpn_lsoa_cooling_demand.index"
   ]
  },
  {
   "cell_type": "code",
   "execution_count": 105,
   "id": "36a16be6",
   "metadata": {},
   "outputs": [],
   "source": [
    "target_year = 2050\n",
    "filt = dfes_dataf.index.isin(ukpn_lsoa_cooling_demand.columns)\n",
    "total_capacity_installed = dfes_dataf.loc[filt, f'{target_year} (kW)'].sum()\n",
    "total_pv_generation = pv_outputs_df[\n",
    "    'P_mean'] * total_capacity_installed / 1000000 # from kWh to GWh\n",
    "total_pv_generation = total_pv_generation.to_frame()\n",
    "total_pv_generation.columns = ['PV_output']"
   ]
  },
  {
   "cell_type": "code",
   "execution_count": null,
   "id": "6c43c2c9",
   "metadata": {},
   "outputs": [],
   "source": [
    "total_pv_generation.sum()"
   ]
  },
  {
   "cell_type": "code",
   "execution_count": null,
   "id": "73586c8d",
   "metadata": {},
   "outputs": [],
   "source": []
  },
  {
   "cell_type": "markdown",
   "id": "db567fae",
   "metadata": {},
   "source": [
    "## UKPN results for the entire area"
   ]
  },
  {
   "cell_type": "code",
   "execution_count": null,
   "id": "199344aa",
   "metadata": {},
   "outputs": [],
   "source": [
    "scop=14/3.412 #https://www.eia.gov/todayinenergy/detail.php?id=40232\n",
    "cop = scop*0.875\n",
    "total_cooling_demand = ukpn_lsoa_cooling_demand.sum(\n",
    "    axis=1).to_frame() / 1000000 / cop  # in GWh\n",
    "\n",
    "total_cooling_demand.columns = ['Electricity_for_cooling_demand']\n",
    "total_data = pd.concat([total_pv_generation, total_cooling_demand], axis=1)\n",
    "total_data.head()"
   ]
  },
  {
   "cell_type": "code",
   "execution_count": null,
   "id": "a688ff66",
   "metadata": {},
   "outputs": [],
   "source": [
    "normalised_data = total_data/total_data.max()\n",
    "total_data.sum()"
   ]
  },
  {
   "cell_type": "code",
   "execution_count": null,
   "id": "136b1235",
   "metadata": {},
   "outputs": [],
   "source": [
    "normalised_data"
   ]
  },
  {
   "cell_type": "code",
   "execution_count": null,
   "id": "349484a5",
   "metadata": {},
   "outputs": [],
   "source": [
    "fig, ax = plt.subplots(figsize=(6,6))\n",
    "sns.regplot(data=normalised_data, x='Electricity_for_cooling_demand', y=\"PV_output\", ax=ax, label=\"hourly\", marker='+', fit_reg=False)\n",
    "daily_data = normalised_data.resample('1d').mean()\n",
    "# ax.scatter(x=daily_data['Electricity_for_cooling_demand'],\n",
    "#            y=daily_data[\"PV_output\"])\n",
    "sns.regplot(data=daily_data/daily_data.max(), x='Electricity_for_cooling_demand', y=\"PV_output\", ax=ax, label=\"daily\", fit_reg=False)\n",
    "ax.set_xlabel(\"Normalised electricity demand for cooling\")\n",
    "ax.set_ylabel(\"Normalised electricity\\nPV generation\")\n",
    "ax.set_ylim(0, 1)\n",
    "ax.set_xlim(0, 1)\n",
    "ax.legend()"
   ]
  },
  {
   "cell_type": "code",
   "execution_count": null,
   "id": "00220d04",
   "metadata": {},
   "outputs": [],
   "source": [
    "fig, (ax1, ax2) = plt.subplots(1, 2, figsize=figsize)\n",
    "# Plot 1\n",
    "average_week_day = total_data.groupby([total_data.index.hour]).mean().reset_index(drop=True)\n",
    "max_week_day = total_data.groupby([total_data.index.hour]).max().reset_index(drop=True)\n",
    "min_week_day = total_data.groupby([total_data.index.hour]).min().reset_index(drop=True)\n",
    "labels = ['Average PV output', 'Average electricity demand for cooling']\n",
    "labels_shaded = ['Range of values', 'Range of values']\n",
    "for ii, c in enumerate(average_week_day.columns):\n",
    "  average_week_day[c].plot(\n",
    "        ax=ax1,\n",
    "        kind='line',\n",
    "        marker=markers[ii],    markevery=5, label=labels[ii])\n",
    "  ax1.fill_between(average_week_day.index, min_week_day[c],max_week_day[c], color = sns.color_palette()[ii], alpha=0.3, label=labels_shaded[ii])\n",
    "\n",
    "ax1.set_ylabel('Electricity [GWh]')\n",
    "ax1.set_xlabel('Hour of the day')\n",
    "ax1.margins(0, None)\n",
    "ax1.legend(loc='center left')\n",
    "# ax1.legend(bbox_to_anchor=(0.98, -0.12), ncol=4, borderaxespad=0.)\n",
    "\n",
    "# Plot 2\n",
    "sns.regplot(data=normalised_data, x='Electricity_for_cooling_demand', y=\"PV_output\", ax=ax2, label=\"hourly\", marker='+', fit_reg=False)\n",
    "daily_data = normalised_data.resample('1d').mean()\n",
    "# ax.scatter(x=daily_data['Electricity_for_cooling_demand'],\n",
    "#            y=daily_data[\"PV_output\"])\n",
    "sns.regplot(data=daily_data/daily_data.max(), x='Electricity_for_cooling_demand', y=\"PV_output\", ax=ax2, label=\"daily\", fit_reg=False)\n",
    "ax2.set_xlabel(\"Normalised electricity demand for cooling\")\n",
    "ax2.set_ylabel(\"Normalised electricity\\nPV generation\")\n",
    "ax2.set_ylim(0, 1)\n",
    "ax2.set_xlim(0, 1)\n",
    "ax2.legend()\n",
    "fig.savefig(PATH_SAVE_FIGURES/f\"ukpn_pv_and_cooling.{fig_format}\", bbox_inches='tight', format=fig_format, dpi=dpi)\n",
    "fig.savefig(PATH_SAVE_FIGURES/f\"ukpn_pv_and_cooling.{export_fig_format}\", bbox_inches='tight', format=export_fig_format, dpi=dpi)\n",
    "fig"
   ]
  },
  {
   "cell_type": "code",
   "execution_count": null,
   "id": "92cd910c",
   "metadata": {},
   "outputs": [],
   "source": [
    "total_data['Net_electricity_for_cooling_demand'] = total_data['Electricity_for_cooling_demand'] - total_data['PV_output']\n",
    "average_week_day = total_data.groupby([total_data.index.hour]).mean().reset_index(drop=True)\n",
    "average_week_day.max()"
   ]
  },
  {
   "cell_type": "code",
   "execution_count": null,
   "id": "73bbcbc1",
   "metadata": {},
   "outputs": [],
   "source": [
    "(2.667514-3.944412)/3.944412"
   ]
  },
  {
   "cell_type": "code",
   "execution_count": null,
   "id": "8068fc5b",
   "metadata": {},
   "outputs": [],
   "source": [
    "## Calculate the net-demand as the difference between the cooling demand and the pv generation\n",
    "target_year = 2050\n",
    "frames_net_demand = {}\n",
    "for lsoa_code in ukpn_lsoa_cooling_demand.columns:\n",
    "  pv_capacity_installed = dfes_dataf.loc[lsoa_code, f'{target_year} (kW)']\n",
    "  ic.ic(lsoa_code, pv_capacity_installed)\n",
    "  pv_generation = pv_outputs_df['P_mean'] * pv_capacity_installed\n",
    "  frames_net_demand[lsoa_code] = (ukpn_lsoa_cooling_demand[lsoa_code]/cop -\n",
    "                                  pv_generation)\n",
    "net_demand_df = pd.concat(frames_net_demand, axis=1)"
   ]
  },
  {
   "cell_type": "code",
   "execution_count": null,
   "id": "b6c4a224",
   "metadata": {},
   "outputs": [],
   "source": [
    "max_headroom = ukpn_lsoa_cooling_demand.max()/cop/1000\n",
    "max_headroom = max_headroom.reset_index()\n",
    "max_headroom.columns = [\"LSOA\", \"Peak demand (GW)\"]\n",
    "max_headroom['Name'] = \"Peak - Electricity for cooling demand\"\n",
    "\n",
    "q95_headroom = ukpn_lsoa_cooling_demand.quantile(0.95)/cop/1000\n",
    "q95_headroom = q95_headroom.reset_index()\n",
    "q95_headroom.columns = [\"LSOA\", \"Peak demand (GW)\"]\n",
    "q95_headroom['Name'] = \"95% percentiles - Electricity for cooling demand\"\n",
    "q95_headroom.head()"
   ]
  },
  {
   "cell_type": "code",
   "execution_count": 116,
   "id": "88f94a35",
   "metadata": {},
   "outputs": [],
   "source": [
    "net_max_headroom = (net_demand_df.max()/1000).reset_index()\n",
    "net_max_headroom.columns = [\"LSOA\", \"Peak demand (GW)\"]\n",
    "net_max_headroom['Name'] = \"Peak - Net electricity for cooling demand\"\n",
    "\n",
    "net_q95_headroom = (net_demand_df.quantile(0.95)/1000).reset_index()\n",
    "net_q95_headroom.columns = [\"LSOA\", \"Peak demand (GW)\"]\n",
    "net_q95_headroom['Name'] = \"95% percentiles - Net electricity for cooling demand\"\n",
    "\n",
    "additional_headroom = pd.concat([max_headroom, q95_headroom, net_max_headroom, net_q95_headroom])"
   ]
  },
  {
   "cell_type": "code",
   "execution_count": null,
   "id": "0b044122",
   "metadata": {},
   "outputs": [],
   "source": [
    "fig, ax = plt.subplots(figsize=(8,6))\n",
    "sns.boxplot(\n",
    "    additional_headroom, x=\"Peak demand (GW)\",  y='Name',\n",
    "    whis=[0, 100], width=.6\n",
    ")\n",
    "# sns.palplot(sns.color_palette())\n",
    "ax.set_ylabel('')\n",
    "ax.set_xlabel('Additional capacity (GW)')\n",
    "\n",
    "fig.savefig(PATH_SAVE_FIGURES/f\"additiona_capacity.{fig_format}\", bbox_inches='tight', format=fig_format, dpi=dpi)\n",
    "fig.savefig(PATH_SAVE_FIGURES/f\"additiona_capacity.{export_fig_format}\", bbox_inches='tight', format=export_fig_format, dpi=dpi)\n",
    "fig"
   ]
  },
  {
   "cell_type": "code",
   "execution_count": null,
   "id": "6fa72863",
   "metadata": {},
   "outputs": [],
   "source": [
    "pd.pivot_table(additional_headroom, values='Peak demand (GW)', columns='Name', index='LSOA').describe()"
   ]
  },
  {
   "cell_type": "code",
   "execution_count": null,
   "id": "c159795a",
   "metadata": {},
   "outputs": [],
   "source": [
    "0.731268/1.587675"
   ]
  },
  {
   "cell_type": "code",
   "execution_count": null,
   "id": "c8ba0413",
   "metadata": {},
   "outputs": [],
   "source": [
    "(1.587675-1.784885)/1.784885"
   ]
  },
  {
   "cell_type": "code",
   "execution_count": null,
   "id": "350bedff",
   "metadata": {},
   "outputs": [],
   "source": [
    "0.822456/1.784885"
   ]
  },
  {
   "cell_type": "code",
   "execution_count": 122,
   "id": "fa2f4107",
   "metadata": {},
   "outputs": [],
   "source": [
    "net_demand_df = net_demand_df.max().reset_index()\n",
    "net_demand_df.columns = [\"LSOA\", \"Peak demand (MW)\"]\n",
    "net_demand_df['Name'] = \"Cooling demand\\nminus PV generation\""
   ]
  },
  {
   "cell_type": "code",
   "execution_count": null,
   "id": "8d855f46",
   "metadata": {},
   "outputs": [],
   "source": [
    "fig, ax = plt.subplots(figsize=figsize)\n",
    "peak_demand = ukpn_lsoa_cooling_demand.max()/scop\n",
    "peak_demand = peak_demand.reset_index()\n",
    "peak_demand.columns = [\"LSOA\", \"Peak demand (MW)\"]\n",
    "peak_demand['Name'] = \"Cooling demand\"\n",
    "peak_demand = pd.concat([peak_demand, net_demand_df])\n",
    "peak_demand[\"Peak demand (MW)\"] = peak_demand[\"Peak demand (MW)\"]/1000\n",
    "# # Plot the orbital period with horizontal boxes\n",
    "sns.boxplot(\n",
    "    peak_demand, x='Name',  y=\"Peak demand (MW)\",\n",
    "    whis=[0, 100], width=.6, palette=\"vlag\"\n",
    ")\n",
    "\n",
    "# # Add in points to show each observation\n",
    "# sns.stripplot(planets, x=\"distance\", y=\"method\", size=4, color=\".3\")"
   ]
  },
  {
   "cell_type": "code",
   "execution_count": null,
   "id": "90a1b659",
   "metadata": {},
   "outputs": [],
   "source": [
    "net_demand_df.head()"
   ]
  },
  {
   "cell_type": "code",
   "execution_count": null,
   "id": "4cd99ed0",
   "metadata": {},
   "outputs": [],
   "source": [
    "lsoa_code"
   ]
  },
  {
   "cell_type": "code",
   "execution_count": 126,
   "metadata": {},
   "outputs": [],
   "source": [
    "def plot_map(map_df,\n",
    "             target,\n",
    "             ax,\n",
    "             vmin=None,\n",
    "             vmax=None,\n",
    "             cmap=None,\n",
    "             legend=False, label_legend:str=''):\n",
    "\n",
    "  # map_df = map_df.dropna(subset=[target])\n",
    "  # create figure and axes for Matplotlib\n",
    "  if vmin is None:\n",
    "    if map_df[target].min() < 0:\n",
    "      vmin = map_df[target].min()\n",
    "    else:\n",
    "      vmin = 0\n",
    "  if vmax is None:\n",
    "    vmax = map_df[target].max()\n",
    "\n",
    "  if cmap == None:\n",
    "    cmap = 'Blues'\n",
    "\n",
    "  ax.axis('off')\n",
    "  ax.tick_params(left=False, labelleft=False, bottom=False, labelbottom=False)\n",
    "\n",
    "  map_df = map_df.to_crs(epsg=3395)  # mercator projections\n",
    "\n",
    "  if legend:\n",
    "    divider = make_axes_locatable(ax)\n",
    "    cax = divider.append_axes(\"bottom\", size=\"5%\", pad=0.1)\n",
    "    map = map_df.plot(column=target,\n",
    "                      cmap=cmap,\n",
    "                      linewidth=0.01,\n",
    "                      ax=ax,\n",
    "                      edgecolor='black',\n",
    "                      vmin=vmin,\n",
    "                      vmax=vmax,\n",
    "                      legend=legend,\n",
    "                      legend_kwds={\n",
    "                          \"label\": label_legend,\n",
    "                          \"orientation\": \"horizontal\"\n",
    "                      },\n",
    "                      cax=cax)\n",
    "  else:\n",
    "    map = map_df.plot(column=target,\n",
    "                      cmap=cmap,\n",
    "                      linewidth=0.01,\n",
    "                      ax=ax,\n",
    "                      edgecolor='black',\n",
    "                      vmin=vmin,\n",
    "                      vmax=vmax)\n",
    "  plt.close()\n",
    "  return map\n"
   ]
  },
  {
   "cell_type": "code",
   "execution_count": null,
   "id": "46cb587d",
   "metadata": {},
   "outputs": [],
   "source": [
    "path_map =  PATH_ORG / r'General/resources/maps/'\n",
    "file = \"UK_2011_Census_boundaries_LSOA_fixed.geojson\"\n",
    "path_map = path_map/file\n",
    "map_df = gpd.read_file(path_map)\n",
    "filt = map_df['GeographyCode'].isin(dfes_dataf.index)\n",
    "map_df.head()"
   ]
  },
  {
   "cell_type": "markdown",
   "id": "c6c30c2f",
   "metadata": {},
   "source": [
    "#### PV capacity installed at LSOA level"
   ]
  },
  {
   "cell_type": "code",
   "execution_count": null,
   "id": "c6c383be",
   "metadata": {},
   "outputs": [],
   "source": [
    "target_year = 2050\n",
    "pv_installed_capacity_2050 = dfes_dataf.loc[:, f'{target_year} (kW)'].to_frame()\n",
    "pv_installed_capacity_2050.columns = [\"PV capacity installed (kW)\"]\n",
    "pv_installed_capacity_2050.head()"
   ]
  },
  {
   "cell_type": "code",
   "execution_count": null,
   "id": "0edec854",
   "metadata": {},
   "outputs": [],
   "source": [
    "pv_installed_capacity_2050.sum()/1000000"
   ]
  },
  {
   "cell_type": "code",
   "execution_count": 130,
   "id": "0ae04668",
   "metadata": {},
   "outputs": [],
   "source": [
    "map_df = pd.merge(map_df, pv_installed_capacity_2050, left_on='GeographyCode', right_index=True)"
   ]
  },
  {
   "cell_type": "code",
   "execution_count": null,
   "id": "393ab277",
   "metadata": {},
   "outputs": [],
   "source": [
    "fig, ax = plt.subplots(figsize=(figsize_map))\n",
    "cmap_1 = \"YlGnBu\"\n",
    "target = \"PV capacity installed (kW)\"\n",
    "plot_map(map_df, target, ax, cmap=cmap_1, legend=True, label_legend=\"PV capacity installed (kW)\")\n",
    "# ax.set_title('Headroom demand in 2050 excl. cooling demand')\n",
    "\n",
    "fig.savefig(PATH_SAVE_FIGURES/f\"ukpn_lsoa_pv_capacity.{fig_format}\", bbox_inches='tight', format=fig_format, dpi=dpi)\n",
    "fig.savefig(PATH_SAVE_FIGURES/f\"ukpn_lsoa_pv_capacity.{export_fig_format}\", bbox_inches='tight', format=export_fig_format, dpi=dpi)\n",
    "fig"
   ]
  },
  {
   "cell_type": "markdown",
   "id": "fcc35c08",
   "metadata": {},
   "source": [
    "#### Cooling demand at LSOA level"
   ]
  },
  {
   "cell_type": "code",
   "execution_count": 132,
   "id": "505c4b96",
   "metadata": {},
   "outputs": [],
   "source": [
    "cooling_demand = ukpn_lsoa_cooling_demand.sum().to_frame()/1000000/cop\n",
    "cooling_demand.columns = ['Electricity for cooling (GWh)']"
   ]
  },
  {
   "cell_type": "code",
   "execution_count": 133,
   "id": "19e740e2",
   "metadata": {},
   "outputs": [],
   "source": [
    "filt = map_df['GeographyCode'].isin(cooling_demand.index)\n",
    "map_df = map_df[filt]\n",
    "map_df = pd.merge(map_df, cooling_demand, left_on='GeographyCode', right_index=True)"
   ]
  },
  {
   "cell_type": "code",
   "execution_count": null,
   "id": "b323677f",
   "metadata": {},
   "outputs": [],
   "source": [
    "cooling_demand.sum()"
   ]
  },
  {
   "cell_type": "code",
   "execution_count": null,
   "id": "60ca632e",
   "metadata": {},
   "outputs": [],
   "source": [
    "fig, ax = plt.subplots(figsize=(figsize_map))\n",
    "cmap_1 = \"YlGnBu\"\n",
    "target = 'Electricity for cooling (GWh)'\n",
    "plot_map(map_df, target, ax, cmap=cmap_1, legend=True, label_legend='Electricity for cooling (GWh)')\n",
    "# ax.set_title('Headroom demand in 2050 excl. cooling demand')\n",
    "\n",
    "fig.savefig(PATH_SAVE_FIGURES/f\"ukpn_lsoa_electricity_for_cooling.{fig_format}\", bbox_inches='tight', format=fig_format, dpi=dpi)\n",
    "fig.savefig(PATH_SAVE_FIGURES/f\"ukpn_lsoa_electricity_for_cooling.{export_fig_format}\", bbox_inches='tight', format=export_fig_format, dpi=dpi)\n",
    "fig"
   ]
  }
 ],
 "metadata": {
  "kernelspec": {
   "display_name": "degree-days-analysis-g6MexP5C-py3.11",
   "language": "python",
   "name": "python3"
  },
  "language_info": {
   "codemirror_mode": {
    "name": "ipython",
    "version": 3
   },
   "file_extension": ".py",
   "mimetype": "text/x-python",
   "name": "python",
   "nbconvert_exporter": "python",
   "pygments_lexer": "ipython3",
   "version": "3.11.2"
  }
 },
 "nbformat": 4,
 "nbformat_minor": 5
}
