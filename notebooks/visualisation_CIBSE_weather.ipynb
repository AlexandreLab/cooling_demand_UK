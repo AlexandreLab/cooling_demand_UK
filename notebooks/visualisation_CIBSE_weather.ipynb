{
 "cells": [
  {
   "cell_type": "code",
   "execution_count": 2,
   "metadata": {},
   "outputs": [],
   "source": [
    "%load_ext autoreload\n",
    "%autoreload 2"
   ]
  },
  {
   "cell_type": "code",
   "execution_count": 5,
   "metadata": {},
   "outputs": [],
   "source": [
    "import sys\n",
    "sys.path.insert(0, '..//src/')"
   ]
  },
  {
   "cell_type": "code",
   "execution_count": null,
   "metadata": {},
   "outputs": [],
   "source": [
    "import numpy as np\n",
    "import pandas as pd\n",
    "import os\n",
    "import matplotlib.pyplot as plt\n",
    "import matplotlib.ticker as tkr\n",
    "from matplotlib.colors import LinearSegmentedColormap\n",
    "import matplotlib as mpl\n",
    "import seaborn as sns\n",
    "import random\n",
    "import main\n",
    "from src.common import enums\n",
    "from pathlib import Path\n",
    "\n",
    "random.seed(42)\n",
    "\n",
    "# blues = [x for x in reversed(sns.color_palette(\"Blues_d\", 11))]\n",
    "# sns.set_palette(sns.color_palette(\"Paired\", 10))\n",
    "# sns.set_style(\"white\")\n",
    "sns.set_palette(sns.color_palette(\"colorblind\", 15))\n",
    "plt.rcParams['font.family'] = 'Times New Roman'\n",
    "font_size = 12\n",
    "params = {'axes.labelsize': font_size+2,\n",
    "          'axes.titlesize':font_size+4,\n",
    "          'legend.fontsize': font_size, \n",
    "          'xtick.labelsize': font_size,\n",
    "          'ytick.labelsize': font_size,\n",
    "          'font.size': font_size}\n",
    "plt.rcParams.update(params)\n",
    "sns.set_style(\"whitegrid\")\n",
    "export_fig_format = \"pdf\"\n",
    "fig_format = \"png\"\n",
    "dpi = 300\n",
    "figsize = (12, 3.5)\n",
    "figsize_map = (16, 8)\n",
    "sns.palplot(sns.color_palette())\n",
    "\n",
    "markers = ['P', 'o', '^', 's', '*', 'v']\n",
    "linewidth = 0.1\n",
    "edgecolor = 'black'\n",
    "\n",
    "print(os.getcwd())\n",
    "computer_path= \"\"\n",
    "for x in os.getcwd().split(os.path.sep):\n",
    "    print(x)\n",
    "    computer_path=computer_path+x+os.path.sep\n",
    "    if x == \"sceac10\":\n",
    "        break    \n",
    "    else: computer_path = os.getcwd().split(os.path.sep)[0]+os.path.sep\n",
    "print(computer_path)\n"
   ]
  },
  {
   "cell_type": "code",
   "execution_count": 7,
   "metadata": {},
   "outputs": [],
   "source": [
    "PATH_CIBSE_DATA = main.PATH_CIBSE_DATA\n",
    "PATH_SAVE_FIGURES = main.PATH_ORG / r\"General\\communication\\figures\""
   ]
  },
  {
   "cell_type": "code",
   "execution_count": null,
   "metadata": {},
   "outputs": [],
   "source": [
    "column_names = [\n",
    "  'Year', 'Month', 'Day', 'Hour', 'PWC', 'Cloud', 'DBT', 'WBT', 'RH', 'Press', 'WD', 'WS', 'GSR', 'DSR', 'Alt', 'Dec', 'Cloud1', 'DBT1', 'WBT1', 'Press1', 'WD1', 'WS1'\n",
    "]\n",
    "pathlist = Path(PATH_CIBSE_DATA).rglob('Cardiff_DSY2_2050High*.csv')\n",
    "\n",
    "frames = {}\n",
    "\n",
    "for path in pathlist:\n",
    "  print(path.stem)\n",
    "  temp_dataf = pd.read_csv(path, skiprows=32, header=None, delimiter=\",\", names=column_names)\n",
    "  frames[path.stem] = temp_dataf['DBT'].values"
   ]
  },
  {
   "cell_type": "code",
   "execution_count": 9,
   "metadata": {},
   "outputs": [],
   "source": [
    "temperature_df = pd.DataFrame(frames, index=pd.to_datetime(temp_dataf[['Year', 'Month', 'Day', 'Hour']]))\n",
    "temperature_df['Max'] = temperature_df.max(axis=1)\n",
    "temperature_df['Min'] = temperature_df.min(axis=1)\n",
    "temperature_df['Median'] = temperature_df[[x for x in temperature_df.columns if \"High50_\" in x]].values.flatten()"
   ]
  },
  {
   "cell_type": "code",
   "execution_count": null,
   "metadata": {},
   "outputs": [],
   "source": [
    "fig, ax = plt.subplots(figsize=figsize)\n",
    "\n",
    "to_plot_df = temperature_df.copy()\n",
    "filt = (to_plot_df.index.month>=5) & (to_plot_df.index.month<9)\n",
    "to_plot_df = to_plot_df[filt]\n",
    "# temperature_df['Median'].plot(ax=ax, linewidth=0.1, color='black')\n",
    "ax.fill_between(to_plot_df.index, to_plot_df['Max'],to_plot_df['Min'], color = sns.color_palette()[0], alpha=0.5)\n",
    "ax.margins(0, None)\n",
    "ax.set_xlabel(\"Time\")\n",
    "ax.set_ylabel(\"Daily average temperature ($^\\circ$C)\")\n",
    "ax.set_title(\"Temperature intervals [10,90] in Cardiff in 2050 under a high emission scenario\")"
   ]
  },
  {
   "cell_type": "code",
   "execution_count": null,
   "metadata": {},
   "outputs": [],
   "source": [
    "fig, ax = plt.subplots(figsize=figsize)\n",
    "\n",
    "to_plot_df = temperature_df.copy()\n",
    "filt = (to_plot_df.index.month>=5) & (to_plot_df.index.month<9)\n",
    "to_plot_df = to_plot_df[filt]\n",
    "# temperature_df['Median'].plot(ax=ax, linewidth=0.1, color='black')\n",
    "# ax.fill_between(to_plot_df.index, to_plot_df['Max'],to_plot_df['Min'], color = sns.color_palette()[0], alpha=0.5)\n",
    "to_plot_df['Median'].plot(ax=ax)\n",
    "ax.margins(0, None)\n",
    "ax.set_xlabel(\"Time\")\n",
    "ax.set_ylabel(\"Median hourly temperature ($^\\circ$C)\")\n",
    "ax.set_title(\"Median outside air temperature in Cardiff in 2050\")\n",
    "fig.savefig(PATH_SAVE_FIGURES/f\"2050_temperature_Cardiff.{fig_format}\", bbox_inches='tight', format=fig_format, dpi=dpi)\n",
    "fig.savefig(PATH_SAVE_FIGURES/f\"2050_temperature_Cardiff.{export_fig_format}\", bbox_inches='tight', format=export_fig_format, dpi=dpi)"
   ]
  },
  {
   "cell_type": "code",
   "execution_count": null,
   "metadata": {},
   "outputs": [],
   "source": [
    "fig, ax = plt.subplots(figsize=figsize)\n",
    "\n",
    "daily_temperature = temperature_df.resample('1d').mean()\n",
    "\n",
    "# temperature_df['Median'].plot(ax=ax, linewidth=0.1, color='black')\n",
    "ax.fill_between(daily_temperature.index, daily_temperature['Max'],daily_temperature['Min'], color = sns.color_palette()[0], alpha=0.5)\n",
    "ax.margins(0, None)\n",
    "ax.set_xlabel(\"Time (hours)\")\n",
    "ax.set_ylabel(\"Daily average temperature ($^\\circ$C)\")\n",
    "\n",
    "fig.savefig(PATH_SAVE_FIGURES/f\"dwelling_projections.{fig_format}\", bbox_inches='tight', format=fig_format, dpi=dpi)\n",
    "fig.savefig(PATH_SAVE_FIGURES/f\"dwelling_projections.{export_fig_format}\", bbox_inches='tight', format=export_fig_format, dpi=dpi)"
   ]
  },
  {
   "cell_type": "code",
   "execution_count": null,
   "metadata": {},
   "outputs": [],
   "source": []
  }
 ],
 "metadata": {
  "kernelspec": {
   "display_name": "Python 3.10.7 ('degree_days': venv)",
   "language": "python",
   "name": "python3"
  },
  "language_info": {
   "codemirror_mode": {
    "name": "ipython",
    "version": 3
   },
   "file_extension": ".py",
   "mimetype": "text/x-python",
   "name": "python",
   "nbconvert_exporter": "python",
   "pygments_lexer": "ipython3",
   "version": "3.10.7"
  },
  "vscode": {
   "interpreter": {
    "hash": "4dee939fb3b4de230198db21b7ca14f383f52f4aba21cf97569bc855125f1cdf"
   }
  }
 },
 "nbformat": 4,
 "nbformat_minor": 4
}
