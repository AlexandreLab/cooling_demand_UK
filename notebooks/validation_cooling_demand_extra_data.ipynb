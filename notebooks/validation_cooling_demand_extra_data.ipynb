{
 "cells": [
  {
   "cell_type": "code",
   "execution_count": null,
   "id": "ed6a6a76",
   "metadata": {},
   "outputs": [],
   "source": [
    "%load_ext autoreload\n",
    "%autoreload 2"
   ]
  },
  {
   "cell_type": "code",
   "execution_count": 108,
   "id": "73832dd1-220b-43df-9d83-c3dec37f1734",
   "metadata": {},
   "outputs": [],
   "source": [
    "import sys\n",
    "sys.path.insert(0, '..//src/')\n",
    "\n",
    "import pandas as pd\n",
    "import numpy as np\n",
    "from datetime import datetime\n",
    "import xarray as xr\n",
    "import matplotlib.pyplot as plt\n",
    "import seaborn as sns\n",
    "from pathlib import Path\n",
    "import itertools\n",
    "import main\n",
    "\n",
    "sns.set_palette(sns.color_palette(\"colorblind\", 15))\n",
    "plt.rcParams['font.family'] = 'Times New Roman'\n",
    "font_size = 12\n",
    "params = {'axes.labelsize': font_size+2,\n",
    "          'axes.titlesize':font_size+4,\n",
    "          'legend.fontsize': font_size,\n",
    "          'xtick.labelsize': font_size,\n",
    "          'ytick.labelsize': font_size,\n",
    "          'font.size': font_size}\n",
    "plt.rcParams.update(params)\n",
    "sns.set_style(\"whitegrid\")\n",
    "export_fig_format = \"pdf\"\n",
    "fig_format = \"png\"\n",
    "dpi = 300\n",
    "figsize = (12, 2.5)\n",
    "figsize_map = (16, 8)\n",
    "\n",
    "markers = ['P', 'o', '^', 's', '*', 'v']\n",
    "linewidth = 0.1\n",
    "edgecolor = 'black'\n",
    "\n",
    "from models import thermal_model, validation\n",
    "from common import functions, enums, schema, sim_param\n",
    "from data import source\n"
   ]
  },
  {
   "cell_type": "code",
   "execution_count": 109,
   "id": "5d3cdef8",
   "metadata": {},
   "outputs": [],
   "source": [
    "PATH_ORG = main.PATH_ORG\n",
    "path_loughborough_data = PATH_ORG / r'General\\resources\\prediction of overheating data\\extra_data_Loughborough'\n",
    "path_weather_data = Path(r'D:\\Profile data Cardiff\\Cardiff University\\Energy Data - Documents\\General\\resources\\prediction of overheating data\\extra_data_Loughborough\\Weather_hourly.csv')\n",
    "path_IHG_east_dwelling_data = path_loughborough_data/ r'East_IHG_hourly.csv'\n",
    "path_save_figures =  PATH_ORG / r'General\\communication\\figures'\n",
    "# path_measured_IAT = Path(r'C:\\Users\\sceac10\\OneDrive - Cardiff University\\General\\resources\\prediction of overheating data\\MeasuredTemperature_16Jun-6Jul_2017.xlsx')\n",
    "# path_IES_data = Path(r'C:\\Users\\sceac10\\OneDrive - Cardiff University\\General\\resources\\prediction of overheating data\\Loughborough Output.xlsx')\n",
    "# sheet_name_IES = \"IES\""
   ]
  },
  {
   "cell_type": "code",
   "execution_count": 110,
   "id": "e1264f2f",
   "metadata": {},
   "outputs": [],
   "source": [
    "from enum import Enum, auto\n",
    "class Orient(Enum):\n",
    "  #appendix U SAP 2012\n",
    "  N = 0\n",
    "  NE_NW = auto()\n",
    "  E_W = auto()\n",
    "  SE_SW = auto()\n",
    "  S = auto()"
   ]
  },
  {
   "cell_type": "code",
   "execution_count": 111,
   "id": "25860efb",
   "metadata": {},
   "outputs": [],
   "source": [
    "\n",
    "DICT_CONSTANTS_SOLAR_FLUX = {\n",
    "    'k1':[ 26.3, 0.165, 1.44, -2.95, -0.66],\n",
    "    'k2' : [-38.5, -3.68, -2.36, 2.89, -0.106],\n",
    "    'k3' : [14.8, 3.0, 1.07, 1.17, 2.93],\n",
    "    'k4' : [-16.5, 6.38, -0.514, 5.67, 3.63],\n",
    "    'k5' :[27.3, -4.53, 1.89, -3.54, -0.374],\n",
    "    'k6' :[-11.9, -0.405, -1.64, -4.28, -7.4],\n",
    "    'k7' :[-1.06, -4.38, -0.542, -2.72, -2.71],\n",
    "    'k8' :[0.0872, 4.89, -0.757, -0.25, -0.991],\n",
    "    'k9' :[-0.191, -1.99, 0.604, 3.07, 4.59]\n",
    "  } #appendix U SAP 2012\n",
    "\n",
    "SOLAR_DECLINATION = [-20.7, -12.8, -1.8, 9.8, 18.8, 23.1, 21.2, 13.7, 2.9, -8.7, -18.4, -23.0] #From SAP 2012 p174\n",
    "latitude= 52.6 #Midlands appendix U SAP 2012\n",
    "altitude = 116 #Midlands appendix U SAP 2012\n",
    "\n",
    "\n",
    "def calculate_A(idx_constants:int, p:float=90* np.pi/180):\n",
    "  k1 = DICT_CONSTANTS_SOLAR_FLUX['k1'][idx_constants]\n",
    "  k2 =DICT_CONSTANTS_SOLAR_FLUX['k2'][idx_constants]\n",
    "  k3 =DICT_CONSTANTS_SOLAR_FLUX['k3'][idx_constants]\n",
    "  return k1 * np.sin(p/2)**3 + k2 * np.sin(p/2)**2 + k3 * np.sin(p/2)\n",
    "\n",
    "def calculate_B(idx_constants:int, p:float=90* np.pi/180):\n",
    "  k4 =DICT_CONSTANTS_SOLAR_FLUX['k4'][idx_constants]\n",
    "  k5 = DICT_CONSTANTS_SOLAR_FLUX['k5'][idx_constants]\n",
    "  k6 =DICT_CONSTANTS_SOLAR_FLUX['k6'][idx_constants]\n",
    "  return k4 * np.sin(p/2)**3 + k5 * np.sin(p/2)**2 + k6 * np.sin(p/2)\n",
    "\n",
    "def calculate_C(idx_constants:int, p:float=90* np.pi/180):\n",
    "  k7 =DICT_CONSTANTS_SOLAR_FLUX['k7'][idx_constants]\n",
    "  k8 =DICT_CONSTANTS_SOLAR_FLUX['k8'][idx_constants]\n",
    "  k9 =DICT_CONSTANTS_SOLAR_FLUX['k9'][idx_constants]\n",
    "  return k7 * np.sin(p/2)**3 + k8 * np.sin(p/2)**2 + k9 * np.sin(p/2) + 1\n",
    "\n",
    "def calculate_R(row, idx_constants:int, latitude:float):\n",
    "  A = calculate_A(idx_constants)\n",
    "  B = calculate_B(idx_constants)\n",
    "  C = calculate_C(idx_constants)\n",
    "  phi = latitude* np.pi/180\n",
    "  theta = row[schema.DataSchema.SOLAR_DECLINATION]* np.pi/180\n",
    "  return A * np.cos(phi - theta)**2 + B * np.cos(phi - theta) + C\n",
    "\n"
   ]
  },
  {
   "cell_type": "code",
   "execution_count": 112,
   "id": "5a70db72",
   "metadata": {},
   "outputs": [],
   "source": [
    "def import_process_weather_data(path_weather_data:Path)->pd.DataFrame:\n",
    "  \"\"\"Load weather data from Loughborough University test dwellings\"\"\"\n",
    "  dataf = pd.read_csv(path_weather_data, index_col=1)\n",
    "  dataf.index = pd.to_datetime(dataf.index, format=\"%d/%m/%Y %H:%M\")\n",
    "  dataf.index = dataf.index.tz_localize('UTC')\n",
    "  dataf = dataf.resample('1h').mean()\n",
    "  dataf[schema.DataSchema.SOLAR_DECLINATION] = dataf.apply(lambda row: SOLAR_DECLINATION[row.name.month-1], axis=1)\n",
    "  for temp_orient in Orient:\n",
    "    col_name = f'R_{temp_orient.name.replace(\"_\", \"/\")}'\n",
    "    dataf[col_name] = dataf.apply(lambda row: calculate_R(row, temp_orient.value, latitude), axis=1) \n",
    "\n",
    "  rename_dict = {\n",
    "    schema.ValidationDataSchema.SOLARRADIATION:schema.DataSchema.SOLARRADIATION,\n",
    "    schema.ValidationDataSchema.OAT: schema.DataSchema.OAT,\n",
    "  }\n",
    "  dataf.rename(columns=rename_dict, inplace=True)\n",
    "  return dataf\n",
    "\n"
   ]
  },
  {
   "cell_type": "code",
   "execution_count": 113,
   "id": "13e9463f",
   "metadata": {},
   "outputs": [],
   "source": [
    "def get_input_data(weather_data:pd.DataFrame, weighted_orientation:dict[Orient, float]):\n",
    "  input_data = weather_data.copy()\n",
    "  input_data[schema.DataSchema.SOLARRADIATION] = 0 \n",
    "  for temp_orient, temp_weight in weighted_orientation.items():\n",
    "      col_name = f'R_{temp_orient.name.replace(\"_\", \"/\")}'\n",
    "      input_data[schema.DataSchema.SOLARRADIATION] += weather_data[schema.DataSchema.SOLARRADIATION]*temp_weight*weather_data[col_name]\n",
    "  cols_to_keep = [schema.DataSchema.SOLARRADIATION, schema.DataSchema.OAT]\n",
    "  input_data = input_data[cols_to_keep].copy()\n",
    "  input_data.index.name = schema.DataSchema.DATETIME\n",
    "  return input_data\n",
    "    "
   ]
  },
  {
   "cell_type": "code",
   "execution_count": 114,
   "id": "484a43cd",
   "metadata": {},
   "outputs": [],
   "source": [
    "THERMAL_CAPACITY_LEVEL = {\n",
    "  \"low\":100,\n",
    "  \"medium\":250,\n",
    "  \"high\":450,\n",
    "  \"custom\":500,\n",
    "}\n",
    "\n",
    "\n",
    "def calculate_thermal_capacity(floor_area:float, level:str=\"medium\") -> float:\n",
    "  if level in THERMAL_CAPACITY_LEVEL:\n",
    "    return THERMAL_CAPACITY_LEVEL[level]*floor_area\n",
    "  else:\n",
    "    print(f\"thermal capacity level {level} not recognized.\")\n",
    "  return 0.\n",
    "\n",
    "# Create models\n",
    "def create_dwelling(\n",
    "    dwelling_param: dict[str, float]) -> thermal_model.ThermalModel:\n",
    "  R = dwelling_param['R']\n",
    "  C = dwelling_param['C']\n",
    "\n",
    "  dwelling = thermal_model.ThermalModel(R=R, C=C)\n",
    "  dwelling.cooling_target_indoor_air_temperature = 100\n",
    "  dwelling.g_t = dwelling_param['g_t']\n",
    "  dwelling.floor_area = dwelling_param['floor_area']\n",
    "  dwelling.overwrite_volume_rooms = sum(\n",
    "      dwelling_param['volume_rooms'].values())\n",
    "  dwelling.air_change_rate = dwelling_param['air_flow_rate']\n",
    "  dwelling.opening_window_iat_limit = dwelling_param[\n",
    "      'opening_window_iat_limit']\n",
    "  dwelling.opening_window_oat_limit = dwelling_param['opening_window_oat_limit']\n",
    "  return dwelling\n",
    "\n",
    "def run_simulation(dwelling:thermal_model.ThermalModel, input_rcmodel_dataf:pd.DataFrame)->pd.DataFrame:\n",
    "  dwelling.load_model_data(input_rcmodel_dataf, include_gains=False)\n",
    "  rcmodel_dataf = dwelling.run_model()\n",
    "  rcmodel_dataf.index.name = schema.DataSchema.TIME_HOURS\n",
    "  return rcmodel_dataf\n",
    "\n",
    "def get_simulation_data(weather_data:pd.DataFrame)->pd.DataFrame:\n",
    "  data_source = source.SimulationData(weather_data)\n",
    "  rcmodel_dataf=data_source.create_era5_based_simulation_data()\n",
    "  return rcmodel_dataf\n"
   ]
  },
  {
   "cell_type": "code",
   "execution_count": null,
   "id": "5a3d07e3",
   "metadata": {},
   "outputs": [],
   "source": [
    "3.8+0.8+5.6+4.2+14.4+14+14.2+5.7+13.6"
   ]
  },
  {
   "cell_type": "code",
   "execution_count": 116,
   "id": "dcbbb496",
   "metadata": {},
   "outputs": [],
   "source": [
    "def get_dwelling_parameters(dwelling_name: str, thermal_capacity_level: str,\n",
    "                            transmittance_factor: float) -> dict:\n",
    "  \"\"\"Return a dictionnary with the dwelling parameters\"\"\"\n",
    "  floor_area = 3.8 + 0.8 + 5.6 + 4.2 + 14.4 + 14 + 14.2 + 5.7 + 13.6\n",
    "\n",
    "  common_dwelling_parameters = {\n",
    "      'solar_gains':\n",
    "      True,\n",
    "      'g_t':\n",
    "      transmittance_factor,  # Transmittance factors for glazing 0.85 (single glazed) to 0.57 (triple glazed), 0.76 double glazed Table 6b p216.\n",
    "      'thermal_capacity_level':\n",
    "      thermal_capacity_level,\n",
    "      'list_rooms': [\n",
    "          \"Living room\", \"Kitchen\", \"Front bedroom\", \"Rear bedroom\",\n",
    "          \"Small bedroom\"\n",
    "      ],\n",
    "  }\n",
    "  if dwelling_name == 'west dwelling':\n",
    "\n",
    "    dwelling_parameters = {\n",
    "        'name': 'west dwelling',\n",
    "        'ihg': False,  # no internal heat gains\n",
    "        'air_flow_rate': 0,  #air change per second\n",
    "        'opening_window_iat_limit': 100,\n",
    "        'opening_window_oat_limit': 100,\n",
    "        'filename': 'West_AT_hourly.csv',\n",
    "        'floor_area': floor_area,  # total floor area\n",
    "        'R': 1 / (0.223),  #K/kW\n",
    "        'C': calculate_thermal_capacity(floor_area,\n",
    "                                        thermal_capacity_level),  #kJ/K\n",
    "        'initial_indoor_air_temperature': 11.979518,\n",
    "        'volume_rooms': {\n",
    "            'U01_living': 34,\n",
    "            'U09_kitchen': 14.3,\n",
    "            'U13_frontbedroom_centre_1.1m': 33.6,\n",
    "            'U27_rearbedroom': 34.6,\n",
    "            'U33_singlebedroom': 10,\n",
    "            'U35_bathroom': 9.1,\n",
    "            'U37_landing': 13.4,\n",
    "            'U11_hall': 22.8,\n",
    "            'U07_dining': 35.5\n",
    "        },\n",
    "        'extended_dataset': True,\n",
    "    }\n",
    "  elif dwelling_name == 'east dwelling':\n",
    "\n",
    "    dwelling_parameters = {\n",
    "        'name': 'east dwelling',\n",
    "        'ihg': True,  # internal heat gains\n",
    "        'air_flow_rate': 1.85,  #air change per second\n",
    "        'opening_window_iat_limit': 24,\n",
    "        'opening_window_oat_limit': 24,\n",
    "        'filename': 'East_AT_hourly.csv',\n",
    "        'floor_area': floor_area,  # total floor area\n",
    "        'R': 1 / (0.216),  #K/kW 1/(0.216)\n",
    "        'C': calculate_thermal_capacity(floor_area,\n",
    "                                        thermal_capacity_level),  #kJ/K\n",
    "        'initial_indoor_air_temperature': 13,\n",
    "        'volume_rooms': {\n",
    "            'U41_living': 34,\n",
    "            'U49_kitchen': 14.3,\n",
    "            'U53_frontbedroom_centre_1.1m': 33.6,\n",
    "            'U70_rearbedroom': 34.6,\n",
    "            'U79_singlebedroom': 10,\n",
    "            'U81_bathroom': 9.1,\n",
    "            'U83_landing': 13.4,\n",
    "            'U51_hall': 22.8,\n",
    "            'U47_dining': 35.5\n",
    "        },\n",
    "        'extended_dataset': True,\n",
    "    }\n",
    "  else:\n",
    "    dwelling_parameters = {}\n",
    "  return common_dwelling_parameters | dwelling_parameters\n",
    "\n",
    "def get_scenario_name(param_dict:dict)->str:\n",
    "  \"\"\"Return the scenario name based on the input parameters to the model.\"\"\"\n",
    "  return f\"{param_dict['name']} ({param_dict['thermal_capacity_level']}, {param_dict['g_t']})\"\n",
    "\n",
    "def get_internal_heat_gains(input_data:pd.DataFrame)->pd.DataFrame:\n",
    "  ihg_data = pd.read_csv(path_IHG_east_dwelling_data,\n",
    "                              index_col=0,\n",
    "                              parse_dates=True)\n",
    "  ihg_data[schema.DataSchema.IHG] = ihg_data.sum(axis=1)/1000\n",
    "  ihg_data = ihg_data.loc[input_data.index, :]\n",
    "  return ihg_data"
   ]
  },
  {
   "cell_type": "code",
   "execution_count": null,
   "id": "7b145313",
   "metadata": {},
   "outputs": [],
   "source": [
    "weather_data = import_process_weather_data(path_weather_data)\n",
    "weather_data.head()"
   ]
  },
  {
   "cell_type": "code",
   "execution_count": null,
   "id": "1614644b",
   "metadata": {},
   "outputs": [],
   "source": [
    "transmittance_factors = [0.85] #[0.85, 0.57, 0.76]\n",
    "thermal_capacity_levels = ['custom'] #['low', 'high', 'medium']\n",
    "dwelling_orientation:list[dict[Orient, float]] = [{Orient.S:0.65, Orient.N:0.35}] # to use for best results\n",
    "# dwelling_orientation:list[dict[Orient, float]] = [{Orient.N:1},\n",
    "#                                                   {Orient.NE_NW:1},\n",
    "#                                                   {Orient.E_W:1},\n",
    "#                                                   {Orient.SE_SW:1},\n",
    "#                                                   {Orient.S:1},\n",
    "#                                                   ]\n",
    "\n",
    "combinations = list(itertools.product(transmittance_factors, thermal_capacity_levels, dwelling_orientation))\n",
    "combined_results = pd.DataFrame()\n",
    "for temp_transmittance, temp_thermal_capacity, temp_orient in combinations:\n",
    "  parameters_dwelling_to_model = get_dwelling_parameters(\n",
    "      'west dwelling', temp_thermal_capacity, temp_transmittance)\n",
    "  individual_rooms_IAT = validation.get_extended_measured_data(\n",
    "      parameters_dwelling_to_model['filename'])\n",
    "  input_data = get_input_data(weather_data, temp_orient)\n",
    "  input_data = input_data.loc[individual_rooms_IAT.index]\n",
    "  dwelling = create_dwelling(parameters_dwelling_to_model)\n",
    "  # dwelling.cooling_design_temperature = 35 # to run a cooling system\n",
    "  input_rcmodel_dataf = get_simulation_data(input_data)\n",
    "  input_rcmodel_dataf.loc[\n",
    "      input_rcmodel_dataf.index[0], schema.DataSchema.\n",
    "      IAT] = parameters_dwelling_to_model['initial_indoor_air_temperature']\n",
    "  if parameters_dwelling_to_model['ihg']:\n",
    "    ihg_data = get_internal_heat_gains(input_data)\n",
    "    input_rcmodel_dataf[schema.DataSchema.TOTALGAINS] += ihg_data[\n",
    "        schema.DataSchema.IHG].values\n",
    "  if not parameters_dwelling_to_model['solar_gains']:\n",
    "    input_rcmodel_dataf[schema.DataSchema.SOLARRADIATION] = 0\n",
    "  temp_result_simulation = run_simulation(dwelling, input_rcmodel_dataf)\n",
    "  scenario_name = get_scenario_name(parameters_dwelling_to_model)\n",
    "  scenario_name = scenario_name.replace(\n",
    "      ')', f', {list(temp_orient.keys())[0].name})')\n",
    "  combined_results[scenario_name] = temp_result_simulation[\n",
    "      schema.DataSchema.IAT].values\n",
    "\n",
    "for col in combined_results:\n",
    "  temp_cdd = validation.calculate_cooling_degree_hours(combined_results[col])\n",
    "  print(f'Number of cooling degree hours for {col} is {temp_cdd:.0f}.')"
   ]
  },
  {
   "cell_type": "code",
   "execution_count": null,
   "id": "45fdd9ef",
   "metadata": {},
   "outputs": [],
   "source": [
    "temp_result_simulation.sum()"
   ]
  },
  {
   "cell_type": "code",
   "execution_count": null,
   "id": "b4c40d25",
   "metadata": {},
   "outputs": [],
   "source": [
    "combined_results"
   ]
  },
  {
   "cell_type": "code",
   "execution_count": null,
   "id": "5fb4be82",
   "metadata": {},
   "outputs": [],
   "source": [
    "dwelling.model_data.sum()"
   ]
  },
  {
   "cell_type": "code",
   "execution_count": null,
   "id": "5ca5b257",
   "metadata": {},
   "outputs": [],
   "source": [
    "fig, ax = plt.subplots(figsize=figsize)\n",
    "combined_results.plot(ax=ax)\n",
    "ax.margins(0, None)\n",
    "ax.set_ylabel(schema.VisualisationSchema.IAT)"
   ]
  },
  {
   "cell_type": "code",
   "execution_count": null,
   "id": "0a4656f8",
   "metadata": {},
   "outputs": [],
   "source": [
    "viz_results = validation.validation_RC_model(temp_result_simulation, parameters_dwelling_to_model)\n",
    "\n",
    "fig, ax = plt.subplots(figsize=figsize)\n",
    "fig, ax = viz_results.plot_results(fig, ax, plot_all_rooms=False)\n",
    "ax.legend()\n",
    "ax.set_xlabel(\"\")\n",
    "viz_results.calculate_metrics()\n",
    "ax.set_title('West dwelling')\n",
    "\n",
    "fig.savefig(path_save_figures/f\"west_dwelling.{export_fig_format}\", bbox_inches='tight', format=export_fig_format, dpi=dpi)\n",
    "fig.savefig(path_save_figures/f\"west_dwelling.{fig_format}\", bbox_inches='tight', format=fig_format, dpi=dpi)"
   ]
  },
  {
   "cell_type": "code",
   "execution_count": null,
   "id": "c9afcccd",
   "metadata": {},
   "outputs": [],
   "source": [
    "aaaa"
   ]
  },
  {
   "cell_type": "code",
   "execution_count": null,
   "id": "cdfae736",
   "metadata": {},
   "outputs": [],
   "source": [
    "fig, ax = plt.subplots(figsize=figsize)\n",
    "individual_rooms_IAT = validation.get_extended_measured_data(parameters_dwelling_to_model['filename'])\n",
    "average_IAT = viz_results.weighted_average_measured_IAT_dwelling(individual_rooms_IAT)\n",
    "viz_results.simulation_data[schema.DataSchema.IAT].sub(average_IAT.values.flatten()).plot(ax=ax)"
   ]
  },
  {
   "cell_type": "code",
   "execution_count": null,
   "id": "7f8d51a6",
   "metadata": {},
   "outputs": [],
   "source": [
    "# for c in weather_data.columns:\n",
    "#   fig, ax = plt.subplots(figsize=figsize)\n",
    "#   ax.set_title(c)\n",
    "#   weather_data.loc[individual_rooms_IAT.index, c].rolling(window=500).mean().plot(ax=ax)"
   ]
  },
  {
   "cell_type": "code",
   "execution_count": null,
   "id": "812a2228",
   "metadata": {},
   "outputs": [],
   "source": [
    "# ies_data = pd.read_excel(path_IES_data, sheet_name=sheet_name_IES, usecols=[x for x in range(2, 11)])\n",
    "# ies_data = ies_data.iloc[:len(temp_result_simulation), :]\n",
    "# ies_data.index = temp_result_simulation.index\n",
    "# ies_data.head()"
   ]
  },
  {
   "cell_type": "code",
   "execution_count": null,
   "id": "12b1ce0d",
   "metadata": {},
   "outputs": [],
   "source": [
    "### Visualisations"
   ]
  },
  {
   "cell_type": "code",
   "execution_count": null,
   "id": "7f2905dc",
   "metadata": {},
   "outputs": [],
   "source": []
  },
  {
   "cell_type": "code",
   "execution_count": null,
   "id": "c8364da1",
   "metadata": {},
   "outputs": [],
   "source": [
    "temp_result_simulation.to_csv(Path(r\"../data/results/temp_results_RC_model.csv\"))\n",
    "temp_result_simulation.head()"
   ]
  },
  {
   "cell_type": "code",
   "execution_count": null,
   "id": "b9cbef10",
   "metadata": {},
   "outputs": [],
   "source": []
  },
  {
   "cell_type": "code",
   "execution_count": null,
   "id": "761df00f",
   "metadata": {},
   "outputs": [],
   "source": [
    "daily_dataf = temp_result_simulation.copy()\n",
    "daily_dataf.index = input_data.index\n",
    "daily_dataf = daily_dataf.resample(\"1d\").mean()\n",
    "daily_dataf[\"Delta T\"] = daily_dataf[\"Average_indoor_air_temperature_(degreeC)\"] - daily_dataf[\"Outdoor_air_temperature_(degreeC)\"]\n",
    "fig, ax = plt.subplots(figsize=figsize)\n",
    "daily_dataf.plot(ax=ax, kind=\"scatter\", x=\"Delta T\", y=\"Total_gains_(kW)\")"
   ]
  },
  {
   "cell_type": "code",
   "execution_count": null,
   "id": "05ab91e4",
   "metadata": {},
   "outputs": [],
   "source": [
    "daily_dataf[\"Total_gains_(kW)\"].plot()"
   ]
  },
  {
   "cell_type": "code",
   "execution_count": null,
   "id": "2b8a5e2a",
   "metadata": {},
   "outputs": [],
   "source": [
    "fig, ax = plt.subplots(figsize=figsize)\n",
    "gains_cols = [schema.DataSchema.SOLARGAINS, schema.DataSchema.OCCUPANCYGAINS, schema.DataSchema.APPLIANCESGAINS]\n",
    "temp_result_simulation[gains_cols].plot(ax=ax)\n",
    "ax.margins(0, None)\n",
    "ax.set_ylabel(schema.VisualisationSchema.GAINS)"
   ]
  },
  {
   "cell_type": "code",
   "execution_count": null,
   "id": "d3c1ff1d",
   "metadata": {},
   "outputs": [],
   "source": [
    "# fig, ax = plt.subplots(figsize=figsize)\n",
    "# fig, ax = viz_results.plot_measured_data(fig, ax, plot_all_rooms=True)\n",
    "# ax.get_legend_handles_labels()"
   ]
  },
  {
   "cell_type": "code",
   "execution_count": null,
   "id": "54d08fb7",
   "metadata": {},
   "outputs": [],
   "source": []
  },
  {
   "cell_type": "code",
   "execution_count": null,
   "id": "ad93c16e",
   "metadata": {},
   "outputs": [],
   "source": [
    "stop"
   ]
  },
  {
   "cell_type": "code",
   "execution_count": null,
   "id": "fe72b69d",
   "metadata": {},
   "outputs": [],
   "source": [
    "fig, ax = plt.subplots(figsize=figsize)\n",
    "fig, ax = viz_results.plot_results(fig, ax, plot_all_rooms=False)\n",
    "ax.legend()\n",
    "viz_results.calculate_metrics()"
   ]
  },
  {
   "cell_type": "code",
   "execution_count": null,
   "id": "eb041521",
   "metadata": {},
   "outputs": [],
   "source": [
    "fig, ax = plt.subplots(figsize=figsize)\n",
    "fig, ax = viz_results.plot_measured_data(fig, ax)\n",
    "ax.legend().remove()\n",
    "\n",
    "for c in combined_results.columns:\n",
    "    combined_results[c].plot(ax=ax,\n",
    "                            color='red',\n",
    "                            linewidth=1)\n",
    "\n",
    "upper_arrs = combined_results.max(axis=1)\n",
    "lower_arrs = combined_results.min(axis=1)\n",
    "x_arr = combined_results.index\n",
    "ax.fill_between(x_arr, upper_arrs, lower_arrs, alpha=0.3, color='red')\n",
    "\n",
    "max_cdh = validation.calculate_cooling_degree_hours(upper_arrs, 24)\n",
    "min_cdh = validation.calculate_cooling_degree_hours(lower_arrs, 24)\n",
    "print(f'max_cdh = {max_cdh} and min_cdh = {min_cdh}')"
   ]
  },
  {
   "cell_type": "code",
   "execution_count": null,
   "id": "0f6cf7e3",
   "metadata": {},
   "outputs": [],
   "source": [
    "ies_avg_iat = viz_results.weighted_average_measured_IAT_dwelling(ies_data[parameters_dwelling_to_model['sheet_names']])\n",
    "ies_avg_iat.columns = [enums.DataSource.IES.value]\n",
    "fig, ax = plt.subplots(figsize=figsize)\n",
    "fig, ax = viz_results.plot_results(fig, ax)\n",
    "ies_avg_iat.plot(\n",
    "    ax=ax,\n",
    "    kind='line',\n",
    "    color='blue',\n",
    "    marker='x',\n",
    "    markevery=20,\n",
    "    linewidth=1)\n",
    "ax.legend()\n"
   ]
  },
  {
   "cell_type": "code",
   "execution_count": null,
   "id": "ef2c3643",
   "metadata": {},
   "outputs": [],
   "source": [
    "viz_results.calculate_metrics()\n",
    "validation.calculate_cooling_degree_hours(ies_avg_iat[enums.DataSource.IES.value], 24)"
   ]
  },
  {
   "cell_type": "code",
   "execution_count": null,
   "id": "22c61b47",
   "metadata": {},
   "outputs": [],
   "source": []
  },
  {
   "cell_type": "code",
   "execution_count": null,
   "id": "67be1ba9",
   "metadata": {},
   "outputs": [],
   "source": [
    "fig, ax = plt.subplots(figsize=figsize)\n",
    "ax2 = ax.twinx()\n",
    "dataf[schema.OutputDataSchema.SOLARRADIATION].plot(ax=ax2, color=sns.color_palette()[1])\n",
    "ax2.set_ylabel(schema.OutputDataSchema.SOLARRADIATION, color=sns.color_palette()[1])\n",
    "dataf[schema.OutputDataSchema.OAT].plot(ax=ax, color=sns.color_palette()[0])\n",
    "ax.set_ylabel(schema.OutputDataSchema.OAT, color=sns.color_palette()[0])\n",
    "\n",
    "ax2.grid(False)\n",
    "ax.legend().remove()\n",
    "ax.margins(0, None)"
   ]
  },
  {
   "cell_type": "code",
   "execution_count": null,
   "id": "61f0caf5",
   "metadata": {},
   "outputs": [],
   "source": [
    "fig, ax = plt.subplots(figsize=figsize)\n",
    "dataf[schema.OutputDataSchema.HEATINGSEASON].plot(ax=ax)\n",
    "ax.set_ylabel(schema.OutputDataSchema.HEATINGSEASON)"
   ]
  },
  {
   "cell_type": "code",
   "execution_count": null,
   "id": "d0d87fd2",
   "metadata": {},
   "outputs": [],
   "source": [
    "fig, ax = plt.subplots(figsize=figsize)\n",
    "ax2 = ax.twinx()\n",
    "resampled_rcmodel_dataf[schema.DataSchema.HEATINGOUTPUT].plot(ax=ax, color=sns.color_palette()[0])\n",
    "ax.set_ylabel(schema.DataSchema.HEATINGOUTPUT, color=sns.color_palette()[0])\n",
    "resampled_rcmodel_dataf[schema.DataSchema.IAT].plot(ax=ax2, color=sns.color_palette()[1])\n",
    "ax2.set_ylabel(schema.DataSchema.IAT, color=sns.color_palette()[1])\n",
    "ax2.set_ylim(0, 30)\n",
    "ax2.grid(False)\n",
    "ax.margins(0, None)"
   ]
  },
  {
   "cell_type": "code",
   "execution_count": null,
   "id": "946f5dc6",
   "metadata": {},
   "outputs": [],
   "source": [
    "resampled_rcmodel_dataf.head()"
   ]
  },
  {
   "cell_type": "code",
   "execution_count": null,
   "id": "9b345a76",
   "metadata": {},
   "outputs": [],
   "source": [
    "fig, ax = plt.subplots(figsize=figsize)\n",
    "\n",
    "measured_IAT[schema.DataSchema.IAT].plot(ax=ax, color='black', linewidth=0.8)\n",
    "resampled_rcmodel_dataf[schema.DataSchema.IAT].plot(ax=ax, color='red', marker='*', markevery=20, linewidth=1)\n",
    "\n",
    "for ii, room in enumerate(individual_rooms_IAT.columns):\n",
    "  individual_rooms_IAT[room].plot(ax=ax, color=sns.color_palette()[ii], linewidth=0.5)\n",
    "list_rooms = [\"Living room\", \"Kitchen\", \"Front bedroom\", \"Rear bedroom\", \"Small bedroom\"]\n",
    "\n",
    "ax.set_ylabel(schema.DataSchema.IAT)\n",
    "\n",
    "ax.set_ylim(0, 35)\n",
    "\n",
    "# ax.grid(False)\n",
    "ax.margins(0, None)\n",
    "handles, labels = ax.get_legend_handles_labels()\n",
    "labels = [\"Measured data\", \"RC model data\"] + list_rooms\n",
    "ax.legend(handles=handles, labels=labels)\n",
    "\n",
    "MAE_results = functions.calculate_MAE(measured_IAT[schema.DataSchema.IAT], resampled_rcmodel_dataf[schema.DataSchema.IAT])\n",
    "print(f\"The MAE of the model compared to measured data is {MAE_results:.2f} degreeC.\")\n",
    "\n",
    "modelled_cooling_degree_hours = calculate_cooling_degree_hours(resampled_rcmodel_dataf[schema.DataSchema.IAT], 24)\n",
    "measured_cooling_degree_hours = calculate_cooling_degree_hours(measured_IAT[schema.DataSchema.IAT], 24)\n",
    "error_cooling_degree_hours = (modelled_cooling_degree_hours-measured_cooling_degree_hours)/measured_cooling_degree_hours\n",
    "print(f'number of modelled cooling degree hours {modelled_cooling_degree_hours}')\n",
    "print(f'number of measured cooling degree hours {measured_cooling_degree_hours}')\n",
    "print(f\"The error in cooling degree hours of the model compared to measured data is {error_cooling_degree_hours:.2%}.\")"
   ]
  },
  {
   "cell_type": "code",
   "execution_count": null,
   "id": "130df1dc",
   "metadata": {},
   "outputs": [],
   "source": []
  },
  {
   "cell_type": "code",
   "execution_count": null,
   "id": "486f6f6c",
   "metadata": {},
   "outputs": [],
   "source": []
  },
  {
   "cell_type": "code",
   "execution_count": null,
   "id": "39c33eec",
   "metadata": {},
   "outputs": [],
   "source": []
  },
  {
   "cell_type": "code",
   "execution_count": null,
   "id": "4cd8627f",
   "metadata": {},
   "outputs": [],
   "source": [
    "fhfgfh\n",
    "\n"
   ]
  },
  {
   "cell_type": "code",
   "execution_count": null,
   "id": "bd59fb54",
   "metadata": {},
   "outputs": [],
   "source": []
  },
  {
   "cell_type": "code",
   "execution_count": null,
   "id": "c6a5c3b2",
   "metadata": {},
   "outputs": [],
   "source": [
    "# Parameters \n",
    "path_results:Path = Path().absolute().parent/\"data\"\n",
    "target_area:enums.Area = enums.Area.CARDIFF\n",
    "target_year:int = 2020\n",
    "CDD_ref_temperature:float = 24\n",
    "solar_gains = True\n",
    "timestep:int = 3600\n",
    "\n",
    "# Dwelling parameters\n",
    "R_dwelling = 1/0.2 #K/kW\n",
    "C_dwelling = 20_000 #kJ/K\n",
    "floor_area = 50 #m2\n",
    "initial_indoor_air_temperature = 21"
   ]
  },
  {
   "cell_type": "code",
   "execution_count": null,
   "id": "2ba3c6c0",
   "metadata": {},
   "outputs": [],
   "source": [
    "# Load outdoor air temperature data for Cardiff\n",
    "input_data = pd.read_csv(path_results/\"raw\"/f\"{target_area.value}_degree_days.csv\", index_col=0, parse_dates=True)\n",
    "input_data"
   ]
  },
  {
   "cell_type": "code",
   "execution_count": null,
   "id": "3d4785de",
   "metadata": {},
   "outputs": [],
   "source": [
    "# Load outdoor air temperature data for Cardiff\n",
    "input_data = pd.read_csv(path_results/\"raw\"/f\"{target_area.value}_degree_days.csv\", index_col=0, parse_dates=True)\n",
    "\n",
    "# Create models\n",
    "dwelling = thermal_model.ThermalModel(R=R_dwelling, C=C_dwelling, initial_indoor_air_temperature=initial_indoor_air_temperature)\n",
    "data_source = source.SimulationData(dwelling, input_data, timestep_simulation=3600)"
   ]
  },
  {
   "cell_type": "code",
   "execution_count": null,
   "id": "ddc062df",
   "metadata": {},
   "outputs": [],
   "source": [
    "fig, ax = plt.subplots(figsize=figsize)\n",
    "dataf = data_source.filter_era5_data(list_years=[target_year])\n",
    "ax2 = ax.twinx()\n",
    "dataf[schema.OutputDataSchema.SOLARRADIATION].plot(ax=ax2, color=sns.color_palette()[1])\n",
    "ax2.set_ylabel(schema.OutputDataSchema.SOLARRADIATION, color=sns.color_palette()[1])\n",
    "dataf[schema.OutputDataSchema.OAT].plot(ax=ax, color=sns.color_palette()[0])\n",
    "ax.set_ylabel(schema.OutputDataSchema.OAT, color=sns.color_palette()[0])\n",
    "\n",
    "ax2.grid(False)\n",
    "ax.set_title(f\"{target_area.value}\")\n",
    "ax.legend().remove()\n",
    "ax.margins(0, None)"
   ]
  },
  {
   "cell_type": "code",
   "execution_count": null,
   "id": "22375d68",
   "metadata": {},
   "outputs": [],
   "source": [
    "fig, ax = plt.subplots(figsize=figsize)\n",
    "dataf[schema.OutputDataSchema.HEATINGSEASON].plot(ax=ax)\n",
    "ax.set_ylabel(schema.OutputDataSchema.HEATINGSEASON)"
   ]
  },
  {
   "cell_type": "code",
   "execution_count": null,
   "id": "7c158f2b",
   "metadata": {},
   "outputs": [],
   "source": [
    "rcmodel_dataf=data_source.create_era5_based_simulation_data(estimate_solar_gains=solar_gains, list_years=[target_year])\n",
    "rcmodel_dataf = dwelling.estimate_heating_demand(rcmodel_dataf)\n",
    "resampled_rcmodel_dataf = data_source.resample_modelling_results(rcmodel_dataf)\n",
    "functions.print_heating_and_cooling_demand(resampled_rcmodel_dataf)"
   ]
  },
  {
   "cell_type": "code",
   "execution_count": null,
   "id": "2f525b96",
   "metadata": {},
   "outputs": [],
   "source": [
    "fig, ax = plt.subplots(figsize=figsize)\n",
    "resampled_rcmodel_dataf[schema.DataSchema.SOLARGAINS].plot(ax=ax, color=sns.color_palette()[0])\n",
    "ax.set_ylabel(schema.DataSchema.SOLARGAINS, color=sns.color_palette()[0])\n",
    "ax.margins(0, None)"
   ]
  },
  {
   "cell_type": "code",
   "execution_count": null,
   "id": "9a51f71f",
   "metadata": {},
   "outputs": [],
   "source": [
    "fig, ax = plt.subplots(figsize=figsize)\n",
    "ax2 = ax.twinx()\n",
    "resampled_rcmodel_dataf[schema.DataSchema.HEATINGOUTPUT].plot(ax=ax, color=sns.color_palette()[0])\n",
    "ax.set_ylabel(schema.DataSchema.HEATINGOUTPUT, color=sns.color_palette()[0])\n",
    "resampled_rcmodel_dataf[schema.DataSchema.IAT].plot(ax=ax2, color=sns.color_palette()[1])\n",
    "ax2.set_ylabel(schema.DataSchema.IAT, color=sns.color_palette()[1])\n",
    "ax2.set_ylim(0, 30)\n",
    "ax2.grid(False)\n",
    "ax.margins(0, None)"
   ]
  },
  {
   "cell_type": "code",
   "execution_count": null,
   "id": "8bb2eb48",
   "metadata": {},
   "outputs": [],
   "source": [
    "resampled_rcmodel_dataf.index= dataf.index\n",
    "resampled_rcmodel_dataf.to_csv(r\"../data/demo_dwelling_results/simulation_results.csv\")"
   ]
  },
  {
   "cell_type": "code",
   "execution_count": null,
   "id": "37617f19",
   "metadata": {},
   "outputs": [],
   "source": [
    "\n",
    "functions.add_time_features(resampled_rcmodel_dataf)\n",
    "\n",
    "resampled_rcmodel_dataf[schema.OutputDataSchema.HEATINGSEASON] = dataf[schema.OutputDataSchema.HEATINGSEASON] \n",
    "resampled_rcmodel_dataf[schema.OutputDataSchema.SOLARRADIATION] = dataf[schema.OutputDataSchema.SOLARRADIATION] "
   ]
  },
  {
   "cell_type": "code",
   "execution_count": null,
   "id": "ff1d66b4",
   "metadata": {},
   "outputs": [],
   "source": []
  },
  {
   "cell_type": "code",
   "execution_count": null,
   "id": "0748c5d7",
   "metadata": {},
   "outputs": [],
   "source": [
    "fig, ax = plt.subplots(figsize=figsize)\n",
    "ax2 = ax.twinx()\n",
    "filt = (resampled_rcmodel_dataf[schema.OutputDataSchema.HEATINGSEASON]==0)\n",
    "\n",
    "(resampled_rcmodel_dataf.loc[filt].groupby(\"Hour\").agg({schema.OutputDataSchema.SOLARRADIATION:\"mean\"})).plot(ax=ax2, color=sns.color_palette()[1])\n",
    "(-resampled_rcmodel_dataf.loc[filt].groupby(\"Hour\").agg({schema.DataSchema.HEATINGOUTPUT:\"mean\"})).plot(ax=ax, color=sns.color_palette()[0])\n",
    "ax.set_ylabel(\"Cooling output (kW)\", color=sns.color_palette()[0])\n",
    "ax.legend().remove()\n",
    "ax2.set_ylabel(schema.OutputDataSchema.SOLARRADIATION, color=sns.color_palette()[1])\n",
    "ax2.grid(False)\n",
    "ax.margins(0, None)"
   ]
  },
  {
   "cell_type": "code",
   "execution_count": null,
   "id": "a376d9db",
   "metadata": {},
   "outputs": [],
   "source": []
  },
  {
   "cell_type": "code",
   "execution_count": null,
   "id": "8d6edb5d",
   "metadata": {},
   "outputs": [],
   "source": [
    "fig, ax = plt.subplots(figsize=figsize)\n",
    "ax2 = ax.twinx()\n",
    "filt = (resampled_rcmodel_dataf[schema.OutputDataSchema.HEATINGSEASON]==0)\n",
    "\n",
    "resampled_rcmodel_dataf.loc[filt].groupby(\"Hour\").agg({schema.DataSchema.IAT:\"mean\"}).plot(ax=ax2, color=sns.color_palette()[1])\n",
    "resampled_rcmodel_dataf.loc[filt].groupby(\"Hour\").agg({schema.DataSchema.OAT:\"mean\"}).plot(ax=ax2, color=sns.color_palette()[2])\n",
    "(-resampled_rcmodel_dataf.loc[filt].groupby(\"Hour\").agg({schema.DataSchema.HEATINGOUTPUT:\"mean\"})).plot(ax=ax, color=sns.color_palette()[0])\n",
    "ax.set_ylabel(\"Cooling output (kW)\", color=sns.color_palette()[0])\n",
    "ax.legend().remove()\n",
    "ax2.set_ylabel(\"Temperature\")\n",
    "ax2.grid(False)\n",
    "ax.margins(0, None)\n",
    "\n"
   ]
  },
  {
   "cell_type": "code",
   "execution_count": null,
   "id": "930d4e5f",
   "metadata": {},
   "outputs": [],
   "source": [
    "resampled_rcmodel_dataf"
   ]
  },
  {
   "cell_type": "code",
   "execution_count": null,
   "id": "f288b50b",
   "metadata": {},
   "outputs": [],
   "source": [
    "dataf"
   ]
  },
  {
   "cell_type": "code",
   "execution_count": null,
   "id": "e5e64b9e",
   "metadata": {},
   "outputs": [],
   "source": [
    "results_dict = {}\n",
    "heating_demand_dict = {}\n",
    "for year in data_source.all_years[5:]:\n",
    "    print(year)\n",
    "    rcmodel_dataf=data_source.create_era5_based_simulation_data(estimate_solar_gains=solar_gains,list_years=[year])\n",
    "    rcmodel_dataf = dwelling.estimate_heating_demand(rcmodel_dataf)\n",
    "    resampled_rcmodel_dataf = data_source.resample_modelling_results(rcmodel_dataf)\n",
    "    heating_demand, cooling_demand = functions.print_heating_and_cooling_demand(resampled_rcmodel_dataf)\n",
    "    results_dict[year] = (heating_demand, cooling_demand)\n",
    "    heating_demand_dict[year] = resampled_rcmodel_dataf.loc[:5088, schema.DataSchema.HEATINGOUTPUT].values\n",
    "results_df = pd.DataFrame(results_dict, index=[schema.ResultSchema.HEATINGDEMAND, schema.ResultSchema.COOLINGDEMAND])\n",
    "results_df.columns.names = [schema.ResultSchema.YEAR]"
   ]
  },
  {
   "cell_type": "code",
   "execution_count": null,
   "id": "29d59110",
   "metadata": {},
   "outputs": [],
   "source": []
  },
  {
   "cell_type": "code",
   "execution_count": null,
   "id": "f488fa26",
   "metadata": {},
   "outputs": [],
   "source": [
    "profiles_df = pd.DataFrame.from_dict(heating_demand_dict)\n"
   ]
  },
  {
   "cell_type": "code",
   "execution_count": null,
   "id": "10b70a72",
   "metadata": {},
   "outputs": [],
   "source": [
    "fig, ax = plt.subplots(figsize=figsize)\n",
    "for c in profiles_df.columns:\n",
    "\n",
    "    profiles_df.loc[3500:, c].rolling(window=48).mean().plot(ax=ax)\n",
    "\n",
    "ax.legend()"
   ]
  },
  {
   "cell_type": "code",
   "execution_count": null,
   "id": "868f27ee",
   "metadata": {},
   "outputs": [],
   "source": [
    "fig, ax = plt.subplots(figsize=figsize)\n",
    "ax2 = ax.twinx()\n",
    "results_df.T[schema.ResultSchema.HEATINGDEMAND].plot(ax=ax, color=sns.color_palette()[0])\n",
    "ax.set_ylabel(schema.ResultSchema.HEATINGDEMAND, color=sns.color_palette()[0])\n",
    "\n",
    "\n",
    "x_arr = results_df.columns\n",
    "y_mean = [results_df.T[schema.ResultSchema.COOLINGDEMAND].mean()]*len(x_arr)\n",
    "ax2.plot(x_arr, y_mean, label=f\"Mean {schema.ResultSchema.COOLINGDEMAND}\", color='red')\n",
    "results_df.T[schema.ResultSchema.COOLINGDEMAND].plot(ax=ax2, color=sns.color_palette()[1])\n",
    "ax2.set_ylabel(schema.ResultSchema.COOLINGDEMAND, color=sns.color_palette()[1])\n",
    "ax2.set_ylim(None, 0)\n",
    "ax.set_ylim(0, None)\n",
    "ax2.grid(False)\n",
    "ax.margins(0, None)\n",
    "lines, labels = ax.get_legend_handles_labels()\n",
    "lines2, labels2 = ax2.get_legend_handles_labels()\n",
    "ax2.legend(lines + lines2, labels + labels2, loc=0)"
   ]
  }
 ],
 "metadata": {
  "kernelspec": {
   "display_name": "Python 3.10.7 ('degree_days': venv)",
   "language": "python",
   "name": "python3"
  },
  "language_info": {
   "codemirror_mode": {
    "name": "ipython",
    "version": 3
   },
   "file_extension": ".py",
   "mimetype": "text/x-python",
   "name": "python",
   "nbconvert_exporter": "python",
   "pygments_lexer": "ipython3",
   "version": "3.10.7"
  },
  "vscode": {
   "interpreter": {
    "hash": "4dee939fb3b4de230198db21b7ca14f383f52f4aba21cf97569bc855125f1cdf"
   }
  }
 },
 "nbformat": 4,
 "nbformat_minor": 5
}
