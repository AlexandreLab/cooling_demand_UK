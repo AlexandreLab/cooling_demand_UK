{
 "cells": [
  {
   "cell_type": "code",
   "execution_count": 1,
   "metadata": {},
   "outputs": [],
   "source": [
    "import numpy as np\n",
    "import cdsapi\n",
    "from pathlib import Path\n",
    "import pandas as pd"
   ]
  },
  {
   "cell_type": "code",
   "execution_count": 2,
   "metadata": {},
   "outputs": [
    {
     "data": {
      "text/html": [
       "<div>\n",
       "<style scoped>\n",
       "    .dataframe tbody tr th:only-of-type {\n",
       "        vertical-align: middle;\n",
       "    }\n",
       "\n",
       "    .dataframe tbody tr th {\n",
       "        vertical-align: top;\n",
       "    }\n",
       "\n",
       "    .dataframe thead th {\n",
       "        text-align: right;\n",
       "    }\n",
       "</style>\n",
       "<table border=\"1\" class=\"dataframe\">\n",
       "  <thead>\n",
       "    <tr style=\"text-align: right;\">\n",
       "      <th></th>\n",
       "      <th>Dwelling forms</th>\n",
       "      <th>Heating systems</th>\n",
       "      <th>Average thermal capacity kJ/K</th>\n",
       "      <th>Average thermal losses kW/K</th>\n",
       "      <th>Number of dwellings</th>\n",
       "      <th>Average annual heat demand kWh</th>\n",
       "      <th>Average floor area m2</th>\n",
       "      <th>Thermal capacity level</th>\n",
       "      <th>Design temperature degreeC</th>\n",
       "      <th>Region</th>\n",
       "      <th>LSOA_code</th>\n",
       "      <th>Local Authority</th>\n",
       "    </tr>\n",
       "    <tr>\n",
       "      <th>Index</th>\n",
       "      <th></th>\n",
       "      <th></th>\n",
       "      <th></th>\n",
       "      <th></th>\n",
       "      <th></th>\n",
       "      <th></th>\n",
       "      <th></th>\n",
       "      <th></th>\n",
       "      <th></th>\n",
       "      <th></th>\n",
       "      <th></th>\n",
       "      <th></th>\n",
       "    </tr>\n",
       "  </thead>\n",
       "  <tbody>\n",
       "    <tr>\n",
       "      <th>0</th>\n",
       "      <td>flat</td>\n",
       "      <td>oil boiler</td>\n",
       "      <td>7760.997724</td>\n",
       "      <td>0.303952</td>\n",
       "      <td>12.0</td>\n",
       "      <td>12937.408384</td>\n",
       "      <td>77.609977</td>\n",
       "      <td>low</td>\n",
       "      <td>-2.0</td>\n",
       "      <td>London</td>\n",
       "      <td>E01000001</td>\n",
       "      <td>City of London</td>\n",
       "    </tr>\n",
       "    <tr>\n",
       "      <th>1</th>\n",
       "      <td>semi-detached</td>\n",
       "      <td>gas boiler</td>\n",
       "      <td>9761.746787</td>\n",
       "      <td>0.397347</td>\n",
       "      <td>2.0</td>\n",
       "      <td>16912.665792</td>\n",
       "      <td>97.617468</td>\n",
       "      <td>low</td>\n",
       "      <td>-2.0</td>\n",
       "      <td>London</td>\n",
       "      <td>E01000001</td>\n",
       "      <td>City of London</td>\n",
       "    </tr>\n",
       "    <tr>\n",
       "      <th>2</th>\n",
       "      <td>terraced</td>\n",
       "      <td>gas boiler</td>\n",
       "      <td>17588.048538</td>\n",
       "      <td>0.695063</td>\n",
       "      <td>1.0</td>\n",
       "      <td>29584.664638</td>\n",
       "      <td>175.880485</td>\n",
       "      <td>low</td>\n",
       "      <td>-2.0</td>\n",
       "      <td>London</td>\n",
       "      <td>E01000001</td>\n",
       "      <td>City of London</td>\n",
       "    </tr>\n",
       "    <tr>\n",
       "      <th>3</th>\n",
       "      <td>terraced</td>\n",
       "      <td>resistance heating</td>\n",
       "      <td>6526.000000</td>\n",
       "      <td>0.094418</td>\n",
       "      <td>10.0</td>\n",
       "      <td>4018.826439</td>\n",
       "      <td>65.260000</td>\n",
       "      <td>low</td>\n",
       "      <td>-2.0</td>\n",
       "      <td>London</td>\n",
       "      <td>E01000001</td>\n",
       "      <td>City of London</td>\n",
       "    </tr>\n",
       "    <tr>\n",
       "      <th>4</th>\n",
       "      <td>flat</td>\n",
       "      <td>gas boiler</td>\n",
       "      <td>5785.363636</td>\n",
       "      <td>0.152747</td>\n",
       "      <td>95.0</td>\n",
       "      <td>6501.515152</td>\n",
       "      <td>57.853636</td>\n",
       "      <td>low</td>\n",
       "      <td>-2.0</td>\n",
       "      <td>London</td>\n",
       "      <td>E01000001</td>\n",
       "      <td>City of London</td>\n",
       "    </tr>\n",
       "    <tr>\n",
       "      <th>...</th>\n",
       "      <td>...</td>\n",
       "      <td>...</td>\n",
       "      <td>...</td>\n",
       "      <td>...</td>\n",
       "      <td>...</td>\n",
       "      <td>...</td>\n",
       "      <td>...</td>\n",
       "      <td>...</td>\n",
       "      <td>...</td>\n",
       "      <td>...</td>\n",
       "      <td>...</td>\n",
       "      <td>...</td>\n",
       "    </tr>\n",
       "    <tr>\n",
       "      <th>1036984</th>\n",
       "      <td>terraced</td>\n",
       "      <td>gas boiler</td>\n",
       "      <td>45775.554843</td>\n",
       "      <td>0.373869</td>\n",
       "      <td>107.0</td>\n",
       "      <td>18474.199623</td>\n",
       "      <td>101.723455</td>\n",
       "      <td>high</td>\n",
       "      <td>-3.0</td>\n",
       "      <td>Wales</td>\n",
       "      <td>W01001958</td>\n",
       "      <td>Swansea</td>\n",
       "    </tr>\n",
       "    <tr>\n",
       "      <th>1036985</th>\n",
       "      <td>terraced</td>\n",
       "      <td>resistance heating</td>\n",
       "      <td>39931.500000</td>\n",
       "      <td>0.193215</td>\n",
       "      <td>2.0</td>\n",
       "      <td>9547.432550</td>\n",
       "      <td>88.736667</td>\n",
       "      <td>high</td>\n",
       "      <td>-3.0</td>\n",
       "      <td>Wales</td>\n",
       "      <td>W01001958</td>\n",
       "      <td>Swansea</td>\n",
       "    </tr>\n",
       "    <tr>\n",
       "      <th>1036986</th>\n",
       "      <td>flat</td>\n",
       "      <td>gas boiler</td>\n",
       "      <td>23860.102500</td>\n",
       "      <td>0.160746</td>\n",
       "      <td>370.0</td>\n",
       "      <td>7943.055556</td>\n",
       "      <td>53.022450</td>\n",
       "      <td>high</td>\n",
       "      <td>-3.0</td>\n",
       "      <td>Wales</td>\n",
       "      <td>W01001958</td>\n",
       "      <td>Swansea</td>\n",
       "    </tr>\n",
       "    <tr>\n",
       "      <th>1036987</th>\n",
       "      <td>flat</td>\n",
       "      <td>resistance heating</td>\n",
       "      <td>29361.179732</td>\n",
       "      <td>0.046321</td>\n",
       "      <td>411.0</td>\n",
       "      <td>2288.908057</td>\n",
       "      <td>65.247066</td>\n",
       "      <td>high</td>\n",
       "      <td>-3.0</td>\n",
       "      <td>Wales</td>\n",
       "      <td>W01001958</td>\n",
       "      <td>Swansea</td>\n",
       "    </tr>\n",
       "    <tr>\n",
       "      <th>1036988</th>\n",
       "      <td>flat</td>\n",
       "      <td>biomass boiler</td>\n",
       "      <td>27972.803571</td>\n",
       "      <td>0.124136</td>\n",
       "      <td>1.0</td>\n",
       "      <td>6133.988410</td>\n",
       "      <td>62.161786</td>\n",
       "      <td>high</td>\n",
       "      <td>-3.0</td>\n",
       "      <td>Wales</td>\n",
       "      <td>W01001958</td>\n",
       "      <td>Swansea</td>\n",
       "    </tr>\n",
       "  </tbody>\n",
       "</table>\n",
       "<p>1036989 rows × 12 columns</p>\n",
       "</div>"
      ],
      "text/plain": [
       "        Dwelling forms     Heating systems  Average thermal capacity kJ/K  \\\n",
       "Index                                                                       \n",
       "0                 flat          oil boiler                    7760.997724   \n",
       "1        semi-detached          gas boiler                    9761.746787   \n",
       "2             terraced          gas boiler                   17588.048538   \n",
       "3             terraced  resistance heating                    6526.000000   \n",
       "4                 flat          gas boiler                    5785.363636   \n",
       "...                ...                 ...                            ...   \n",
       "1036984       terraced          gas boiler                   45775.554843   \n",
       "1036985       terraced  resistance heating                   39931.500000   \n",
       "1036986           flat          gas boiler                   23860.102500   \n",
       "1036987           flat  resistance heating                   29361.179732   \n",
       "1036988           flat      biomass boiler                   27972.803571   \n",
       "\n",
       "         Average thermal losses kW/K  Number of dwellings  \\\n",
       "Index                                                       \n",
       "0                           0.303952                 12.0   \n",
       "1                           0.397347                  2.0   \n",
       "2                           0.695063                  1.0   \n",
       "3                           0.094418                 10.0   \n",
       "4                           0.152747                 95.0   \n",
       "...                              ...                  ...   \n",
       "1036984                     0.373869                107.0   \n",
       "1036985                     0.193215                  2.0   \n",
       "1036986                     0.160746                370.0   \n",
       "1036987                     0.046321                411.0   \n",
       "1036988                     0.124136                  1.0   \n",
       "\n",
       "         Average annual heat demand kWh  Average floor area m2  \\\n",
       "Index                                                            \n",
       "0                          12937.408384              77.609977   \n",
       "1                          16912.665792              97.617468   \n",
       "2                          29584.664638             175.880485   \n",
       "3                           4018.826439              65.260000   \n",
       "4                           6501.515152              57.853636   \n",
       "...                                 ...                    ...   \n",
       "1036984                    18474.199623             101.723455   \n",
       "1036985                     9547.432550              88.736667   \n",
       "1036986                     7943.055556              53.022450   \n",
       "1036987                     2288.908057              65.247066   \n",
       "1036988                     6133.988410              62.161786   \n",
       "\n",
       "        Thermal capacity level  Design temperature degreeC  Region  LSOA_code  \\\n",
       "Index                                                                           \n",
       "0                          low                        -2.0  London  E01000001   \n",
       "1                          low                        -2.0  London  E01000001   \n",
       "2                          low                        -2.0  London  E01000001   \n",
       "3                          low                        -2.0  London  E01000001   \n",
       "4                          low                        -2.0  London  E01000001   \n",
       "...                        ...                         ...     ...        ...   \n",
       "1036984                   high                        -3.0   Wales  W01001958   \n",
       "1036985                   high                        -3.0   Wales  W01001958   \n",
       "1036986                   high                        -3.0   Wales  W01001958   \n",
       "1036987                   high                        -3.0   Wales  W01001958   \n",
       "1036988                   high                        -3.0   Wales  W01001958   \n",
       "\n",
       "        Local Authority  \n",
       "Index                    \n",
       "0        City of London  \n",
       "1        City of London  \n",
       "2        City of London  \n",
       "3        City of London  \n",
       "4        City of London  \n",
       "...                 ...  \n",
       "1036984         Swansea  \n",
       "1036985         Swansea  \n",
       "1036986         Swansea  \n",
       "1036987         Swansea  \n",
       "1036988         Swansea  \n",
       "\n",
       "[1036989 rows x 12 columns]"
      ]
     },
     "execution_count": 2,
     "metadata": {},
     "output_type": "execute_result"
    }
   ],
   "source": [
    "path_thermal_data = Path(\"../data/input_data/Thermal_characteristics_beforeEE.csv\")\n",
    "residential_data = pd.read_csv(path_thermal_data, index_col=0)\n",
    "residential_data"
   ]
  },
  {
   "cell_type": "code",
   "execution_count": 3,
   "metadata": {},
   "outputs": [],
   "source": [
    "## Import the required library\n",
    "# from geopy.geocoders import Nominatim\n",
    "# coordinates_LA = {}\n",
    "\n",
    "# for LA in residential_data[\"Local Authority\"].unique():\n",
    "#     # Initialize Nominatim API\n",
    "#     geolocator = Nominatim(user_agent=\"MyApp\")\n",
    "#     location = geolocator.geocode(LA)\n",
    "#     coordinates_LA[LA] = (location.latitude, location.longitude)\n",
    "#     # print(f\"{LA} -- the latitude is: {location.latitude} and the longitude is: {location.longitude}.\")\n",
    "\n",
    "# coordinates_LA_df = pd.DataFrame(coordinates_LA).T\n",
    "# coordinates_LA_df.columns = [\"Latitude\", \"Longitude\"]\n",
    "# coordinates_LA_df.to_csv(r\"../data/intermediary/coordinates_LA.csv\")\n",
    "# coordinates_LA_df.head()"
   ]
  },
  {
   "cell_type": "code",
   "execution_count": 4,
   "metadata": {},
   "outputs": [
    {
     "data": {
      "text/html": [
       "<div>\n",
       "<style scoped>\n",
       "    .dataframe tbody tr th:only-of-type {\n",
       "        vertical-align: middle;\n",
       "    }\n",
       "\n",
       "    .dataframe tbody tr th {\n",
       "        vertical-align: top;\n",
       "    }\n",
       "\n",
       "    .dataframe thead th {\n",
       "        text-align: right;\n",
       "    }\n",
       "</style>\n",
       "<table border=\"1\" class=\"dataframe\">\n",
       "  <thead>\n",
       "    <tr style=\"text-align: right;\">\n",
       "      <th></th>\n",
       "      <th>Latitude</th>\n",
       "      <th>Longitude</th>\n",
       "    </tr>\n",
       "  </thead>\n",
       "  <tbody>\n",
       "    <tr>\n",
       "      <th>City of London</th>\n",
       "      <td>51.515618</td>\n",
       "      <td>-0.091998</td>\n",
       "    </tr>\n",
       "    <tr>\n",
       "      <th>Barking and Dagenham</th>\n",
       "      <td>51.554091</td>\n",
       "      <td>0.150489</td>\n",
       "    </tr>\n",
       "    <tr>\n",
       "      <th>Barnet</th>\n",
       "      <td>51.653090</td>\n",
       "      <td>-0.200226</td>\n",
       "    </tr>\n",
       "    <tr>\n",
       "      <th>Bexley</th>\n",
       "      <td>39.969238</td>\n",
       "      <td>-82.936864</td>\n",
       "    </tr>\n",
       "    <tr>\n",
       "      <th>Brent</th>\n",
       "      <td>51.563996</td>\n",
       "      <td>-0.275906</td>\n",
       "    </tr>\n",
       "    <tr>\n",
       "      <th>...</th>\n",
       "      <td>...</td>\n",
       "      <td>...</td>\n",
       "    </tr>\n",
       "    <tr>\n",
       "      <th>Blaenau Gwent</th>\n",
       "      <td>51.753382</td>\n",
       "      <td>-3.184856</td>\n",
       "    </tr>\n",
       "    <tr>\n",
       "      <th>Torfaen</th>\n",
       "      <td>51.701480</td>\n",
       "      <td>-3.052050</td>\n",
       "    </tr>\n",
       "    <tr>\n",
       "      <th>Monmouthshire</th>\n",
       "      <td>51.750106</td>\n",
       "      <td>-2.833333</td>\n",
       "    </tr>\n",
       "    <tr>\n",
       "      <th>Newport</th>\n",
       "      <td>41.489983</td>\n",
       "      <td>-71.313771</td>\n",
       "    </tr>\n",
       "    <tr>\n",
       "      <th>Cardiff</th>\n",
       "      <td>51.481655</td>\n",
       "      <td>-3.179193</td>\n",
       "    </tr>\n",
       "  </tbody>\n",
       "</table>\n",
       "<p>348 rows × 2 columns</p>\n",
       "</div>"
      ],
      "text/plain": [
       "                       Latitude  Longitude\n",
       "City of London        51.515618  -0.091998\n",
       "Barking and Dagenham  51.554091   0.150489\n",
       "Barnet                51.653090  -0.200226\n",
       "Bexley                39.969238 -82.936864\n",
       "Brent                 51.563996  -0.275906\n",
       "...                         ...        ...\n",
       "Blaenau Gwent         51.753382  -3.184856\n",
       "Torfaen               51.701480  -3.052050\n",
       "Monmouthshire         51.750106  -2.833333\n",
       "Newport               41.489983 -71.313771\n",
       "Cardiff               51.481655  -3.179193\n",
       "\n",
       "[348 rows x 2 columns]"
      ]
     },
     "execution_count": 4,
     "metadata": {},
     "output_type": "execute_result"
    }
   ],
   "source": [
    "## Load coordinates data\n",
    "\n",
    "coordinates_LA_df = pd.read_csv(r\"../data/intermediary/coordinates_LA.csv\", index_col = 0)\n",
    "coordinates_LA_df"
   ]
  },
  {
   "cell_type": "code",
   "execution_count": 11,
   "metadata": {},
   "outputs": [
    {
     "data": {
      "text/plain": [
       "['Havering',\n",
       " 'Hillingdon',\n",
       " 'Hounslow',\n",
       " 'Islington',\n",
       " 'Kensington and Chelsea',\n",
       " 'Kingston upon Thames',\n",
       " 'Lambeth',\n",
       " 'Lewisham',\n",
       " 'Merton',\n",
       " 'Newham',\n",
       " 'Redbridge',\n",
       " 'Richmond upon Thames',\n",
       " 'Southwark',\n",
       " 'Sutton',\n",
       " 'Tower Hamlets',\n",
       " 'Waltham Forest',\n",
       " 'Wandsworth',\n",
       " 'Westminster',\n",
       " 'Bolton',\n",
       " 'Bury',\n",
       " 'Manchester',\n",
       " 'Oldham',\n",
       " 'Rochdale',\n",
       " 'Salford',\n",
       " 'Stockport',\n",
       " 'Tameside',\n",
       " 'Trafford',\n",
       " 'Wigan',\n",
       " 'Knowsley',\n",
       " 'Liverpool',\n",
       " 'St. Helens',\n",
       " 'Sefton',\n",
       " 'Wirral',\n",
       " 'Barnsley',\n",
       " 'Doncaster',\n",
       " 'Rotherham',\n",
       " 'Sheffield',\n",
       " 'Gateshead',\n",
       " 'Newcastle upon Tyne',\n",
       " 'North Tyneside',\n",
       " 'South Tyneside',\n",
       " 'Sunderland',\n",
       " 'Birmingham',\n",
       " 'Coventry',\n",
       " 'Dudley',\n",
       " 'Sandwell',\n",
       " 'Solihull',\n",
       " 'Walsall',\n",
       " 'Wolverhampton',\n",
       " 'Bradford',\n",
       " 'Calderdale',\n",
       " 'Kirklees',\n",
       " 'Leeds',\n",
       " 'Wakefield',\n",
       " 'Hartlepool',\n",
       " 'Middlesbrough',\n",
       " 'Redcar and Cleveland',\n",
       " 'Stockton-on-Tees',\n",
       " 'Darlington',\n",
       " 'Halton',\n",
       " 'Warrington',\n",
       " 'Blackburn with Darwen',\n",
       " 'Blackpool',\n",
       " 'Kingston upon Hull',\n",
       " 'East Riding of Yorkshire',\n",
       " 'North East Lincolnshire',\n",
       " 'North Lincolnshire',\n",
       " 'York',\n",
       " 'Derby',\n",
       " 'Leicester',\n",
       " 'Rutland',\n",
       " 'Nottingham',\n",
       " 'Herefordshire',\n",
       " 'Telford and Wrekin',\n",
       " 'Stoke-on-Trent',\n",
       " 'Bath and North East Somerset',\n",
       " 'Bristol',\n",
       " 'North Somerset',\n",
       " 'South Gloucestershire',\n",
       " 'Plymouth',\n",
       " 'Torbay',\n",
       " 'Bournemouth',\n",
       " 'Poole',\n",
       " 'Swindon',\n",
       " 'Peterborough',\n",
       " 'Luton',\n",
       " 'Southend-on-Sea',\n",
       " 'Thurrock',\n",
       " 'Medway',\n",
       " 'Bracknell Forest',\n",
       " 'West Berkshire',\n",
       " 'Reading',\n",
       " 'Slough',\n",
       " 'Windsor and Maidenhead',\n",
       " 'Wokingham',\n",
       " 'Milton Keynes',\n",
       " 'Brighton and Hove',\n",
       " 'Portsmouth',\n",
       " 'Southampton',\n",
       " 'Isle of Wight',\n",
       " 'Central Bedfordshire',\n",
       " 'Bedford',\n",
       " 'Aylesbury Vale',\n",
       " 'Chiltern',\n",
       " 'South Bucks',\n",
       " 'Wycombe',\n",
       " 'Cambridge',\n",
       " 'East Cambridgeshire',\n",
       " 'Fenland',\n",
       " 'Huntingdonshire',\n",
       " 'South Cambridgeshire',\n",
       " 'Cheshire West and Chester',\n",
       " 'Cheshire East',\n",
       " 'Cornwall',\n",
       " 'Isles of Scilly',\n",
       " 'Allerdale',\n",
       " 'Barrow-in-Furness',\n",
       " 'Carlisle',\n",
       " 'Copeland',\n",
       " 'Eden',\n",
       " 'South Lakeland',\n",
       " 'Amber Valley',\n",
       " 'Bolsover',\n",
       " 'Chesterfield',\n",
       " 'Derbyshire Dales',\n",
       " 'Erewash',\n",
       " 'High Peak',\n",
       " 'North East Derbyshire',\n",
       " 'South Derbyshire',\n",
       " 'East Devon',\n",
       " 'Exeter',\n",
       " 'Mid Devon',\n",
       " 'North Devon',\n",
       " 'South Hams',\n",
       " 'Teignbridge',\n",
       " 'Torridge',\n",
       " 'West Devon',\n",
       " 'Christchurch',\n",
       " 'East Dorset',\n",
       " 'North Dorset',\n",
       " 'Purbeck',\n",
       " 'West Dorset',\n",
       " 'Weymouth and Portland',\n",
       " 'County Durham',\n",
       " 'Eastbourne',\n",
       " 'Hastings',\n",
       " 'Lewes',\n",
       " 'Rother',\n",
       " 'Wealden',\n",
       " 'Basildon',\n",
       " 'Braintree',\n",
       " 'Brentwood',\n",
       " 'Castle Point',\n",
       " 'Chelmsford',\n",
       " 'Colchester',\n",
       " 'Epping Forest',\n",
       " 'Harlow',\n",
       " 'Maldon',\n",
       " 'Rochford',\n",
       " 'Tendring',\n",
       " 'Uttlesford',\n",
       " 'Cheltenham',\n",
       " 'Cotswold',\n",
       " 'Forest of Dean',\n",
       " 'Gloucester',\n",
       " 'Stroud',\n",
       " 'Tewkesbury',\n",
       " 'Basingstoke and Deane',\n",
       " 'East Hampshire',\n",
       " 'Eastleigh',\n",
       " 'Fareham',\n",
       " 'Gosport',\n",
       " 'Hart',\n",
       " 'Havant',\n",
       " 'New Forest',\n",
       " 'Rushmoor',\n",
       " 'Test Valley',\n",
       " 'Winchester',\n",
       " 'Broxbourne',\n",
       " 'Dacorum',\n",
       " 'East Hertfordshire',\n",
       " 'Hertsmere',\n",
       " 'North Hertfordshire',\n",
       " 'St Albans',\n",
       " 'Stevenage',\n",
       " 'Three Rivers',\n",
       " 'Watford',\n",
       " 'Welwyn Hatfield',\n",
       " 'Ashford',\n",
       " 'Canterbury',\n",
       " 'Dartford',\n",
       " 'Dover',\n",
       " 'Gravesham',\n",
       " 'Maidstone',\n",
       " 'Sevenoaks',\n",
       " 'Shepway',\n",
       " 'Swale',\n",
       " 'Thanet',\n",
       " 'Tonbridge and Malling',\n",
       " 'Tunbridge Wells',\n",
       " 'Burnley',\n",
       " 'Chorley',\n",
       " 'Fylde',\n",
       " 'Hyndburn',\n",
       " 'Lancaster',\n",
       " 'Pendle',\n",
       " 'Preston',\n",
       " 'Ribble Valley',\n",
       " 'Rossendale',\n",
       " 'South Ribble',\n",
       " 'West Lancashire',\n",
       " 'Wyre',\n",
       " 'Blaby',\n",
       " 'Charnwood',\n",
       " 'Harborough',\n",
       " 'Hinckley and Bosworth',\n",
       " 'Melton',\n",
       " 'North West Leicestershire',\n",
       " 'Oadby and Wigston',\n",
       " 'Boston',\n",
       " 'East Lindsey',\n",
       " 'Lincoln',\n",
       " 'North Kesteven',\n",
       " 'South Holland',\n",
       " 'South Kesteven',\n",
       " 'West Lindsey',\n",
       " 'Breckland',\n",
       " 'Broadland',\n",
       " 'Great Yarmouth',\n",
       " \"King's Lynn and West Norfolk\",\n",
       " 'North Norfolk',\n",
       " 'Norwich',\n",
       " 'South Norfolk',\n",
       " 'Corby',\n",
       " 'Daventry',\n",
       " 'East Northamptonshire',\n",
       " 'Kettering',\n",
       " 'Northampton',\n",
       " 'South Northamptonshire',\n",
       " 'Wellingborough',\n",
       " 'Northumberland',\n",
       " 'Craven',\n",
       " 'Hambleton',\n",
       " 'Harrogate',\n",
       " 'Richmondshire',\n",
       " 'Ryedale',\n",
       " 'Scarborough',\n",
       " 'Selby',\n",
       " 'Ashfield',\n",
       " 'Bassetlaw',\n",
       " 'Broxtowe',\n",
       " 'Gedling',\n",
       " 'Mansfield',\n",
       " 'Newark and Sherwood',\n",
       " 'Rushcliffe',\n",
       " 'Cherwell',\n",
       " 'Oxford',\n",
       " 'South Oxfordshire',\n",
       " 'Vale of White Horse',\n",
       " 'West Oxfordshire',\n",
       " 'Shropshire',\n",
       " 'Mendip',\n",
       " 'Sedgemoor',\n",
       " 'South Somerset',\n",
       " 'Taunton Deane',\n",
       " 'West Somerset',\n",
       " 'Cannock Chase',\n",
       " 'East Staffordshire',\n",
       " 'Lichfield',\n",
       " 'Newcastle-under-Lyme',\n",
       " 'South Staffordshire',\n",
       " 'Stafford',\n",
       " 'Staffordshire Moorlands',\n",
       " 'Tamworth',\n",
       " 'Babergh',\n",
       " 'Forest Heath',\n",
       " 'Ipswich',\n",
       " 'Mid Suffolk',\n",
       " 'St Edmundsbury',\n",
       " 'Suffolk Coastal',\n",
       " 'Waveney',\n",
       " 'Elmbridge',\n",
       " 'Epsom and Ewell',\n",
       " 'Guildford',\n",
       " 'Mole Valley',\n",
       " 'Reigate and Banstead',\n",
       " 'Runnymede',\n",
       " 'Spelthorne',\n",
       " 'Surrey Heath',\n",
       " 'Tandridge',\n",
       " 'Waverley',\n",
       " 'Woking',\n",
       " 'North Warwickshire',\n",
       " 'Nuneaton and Bedworth',\n",
       " 'Rugby',\n",
       " 'Stratford-on-Avon',\n",
       " 'Warwick',\n",
       " 'Adur',\n",
       " 'Arun',\n",
       " 'Chichester',\n",
       " 'Crawley',\n",
       " 'Horsham',\n",
       " 'Mid Sussex',\n",
       " 'Worthing',\n",
       " 'Wiltshire',\n",
       " 'Bromsgrove',\n",
       " 'Malvern Hills',\n",
       " 'Redditch',\n",
       " 'Worcester',\n",
       " 'Wychavon',\n",
       " 'Wyre Forest',\n",
       " 'Isle of Anglesey',\n",
       " 'Gwynedd',\n",
       " 'Conwy',\n",
       " 'Denbighshire',\n",
       " 'Flintshire',\n",
       " 'Wrexham',\n",
       " 'Powys',\n",
       " 'Ceredigion',\n",
       " 'Pembrokeshire',\n",
       " 'Carmarthenshire',\n",
       " 'Swansea',\n",
       " 'Neath Port Talbot',\n",
       " 'Bridgend',\n",
       " 'The Vale of Glamorgan',\n",
       " 'Rhondda Cynon Taf',\n",
       " 'Merthyr Tydfil',\n",
       " 'Caerphilly',\n",
       " 'Blaenau Gwent',\n",
       " 'Torfaen',\n",
       " 'Monmouthshire',\n",
       " 'Newport',\n",
       " 'Cardiff',\n",
       " 'City of London',\n",
       " 'Barking and Dagenham']"
      ]
     },
     "execution_count": 11,
     "metadata": {},
     "output_type": "execute_result"
    }
   ],
   "source": []
  },
  {
   "cell_type": "code",
   "execution_count": 12,
   "metadata": {},
   "outputs": [
    {
     "name": "stdout",
     "output_type": "stream",
     "text": [
      "Havering [51.54, -0.14, 51.53, -0.13]\n"
     ]
    },
    {
     "name": "stderr",
     "output_type": "stream",
     "text": [
      "2022-10-26 16:42:17,625 INFO Welcome to the CDS\n",
      "2022-10-26 16:42:17,626 INFO Sending request to https://cds.climate.copernicus.eu/api/v2/resources/reanalysis-era5-land\n",
      "2022-10-26 16:42:17,829 INFO Request is completed\n",
      "2022-10-26 16:42:17,830 INFO Downloading https://download-0015-clone.copernicus-climate.eu/cache-compute-0015/cache/data1/adaptor.mars.internal-1666795480.9092739-32425-15-fcbd57e6-43bb-4ea3-9bab-3d0724fa71e5.nc to c:\\Users\\sceac10\\OneDrive - Cardiff University\\General\\data\\Havering_netcdf_data\\Havering_surface_net_solar_radiation_2022.nc (31K)\n",
      "2022-10-26 16:42:18,137 INFO Download rate 101K/s\n",
      "2022-10-26 16:42:18,185 INFO Welcome to the CDS\n",
      "2022-10-26 16:42:18,186 INFO Sending request to https://cds.climate.copernicus.eu/api/v2/resources/reanalysis-era5-land\n",
      "2022-10-26 16:42:18,239 INFO Request is queued\n"
     ]
    },
    {
     "name": "stdout",
     "output_type": "stream",
     "text": [
      "Hillingdon [51.54, -0.45, 51.53, -0.44]\n"
     ]
    },
    {
     "name": "stderr",
     "output_type": "stream",
     "text": [
      "2022-10-26 16:42:19,291 INFO Request is running\n",
      "2022-10-26 16:56:37,619 INFO Request is completed\n",
      "2022-10-26 16:56:37,620 INFO Downloading https://download-0019.copernicus-climate.eu/cache-compute-0019/cache/data5/adaptor.mars.internal-1666799681.2533505-9562-8-040b6422-23f4-4a20-9ae1-77a91dced4bb.nc to c:\\Users\\sceac10\\OneDrive - Cardiff University\\General\\data\\Hillingdon_netcdf_data\\Hillingdon_surface_net_solar_radiation_2022.nc (30.9K)\n",
      "2022-10-26 16:56:37,855 INFO Download rate 131.7K/s\n",
      "2022-10-26 16:56:37,969 INFO Welcome to the CDS\n",
      "2022-10-26 16:56:37,969 INFO Sending request to https://cds.climate.copernicus.eu/api/v2/resources/reanalysis-era5-land\n",
      "2022-10-26 16:56:38,038 INFO Request is queued\n"
     ]
    },
    {
     "name": "stdout",
     "output_type": "stream",
     "text": [
      "Hounslow [51.47, -0.36, 51.46, -0.35]\n"
     ]
    },
    {
     "name": "stderr",
     "output_type": "stream",
     "text": [
      "2022-10-26 16:56:39,099 INFO Request is running\n",
      "2022-10-26 17:10:57,396 INFO Request is completed\n",
      "2022-10-26 17:10:57,397 INFO Downloading https://download-0020.copernicus-climate.eu/cache-compute-0020/cache/data7/adaptor.mars.internal-1666800549.249842-22718-4-d6d0911d-49e3-4061-9a42-f7602532bbe2.nc to c:\\Users\\sceac10\\OneDrive - Cardiff University\\General\\data\\Hounslow_netcdf_data\\Hounslow_surface_net_solar_radiation_2022.nc (30.9K)\n",
      "2022-10-26 17:10:57,650 INFO Download rate 123K/s\n",
      "2022-10-26 17:10:57,811 INFO Welcome to the CDS\n",
      "2022-10-26 17:10:57,812 INFO Sending request to https://cds.climate.copernicus.eu/api/v2/resources/reanalysis-era5-land\n"
     ]
    },
    {
     "name": "stdout",
     "output_type": "stream",
     "text": [
      "Islington [51.54, -0.1, 51.53, -0.09]\n"
     ]
    },
    {
     "name": "stderr",
     "output_type": "stream",
     "text": [
      "2022-10-26 17:10:57,927 INFO Request is queued\n",
      "2022-10-26 17:10:58,983 INFO Request is running\n",
      "2022-10-26 17:27:17,545 INFO Request is completed\n",
      "2022-10-26 17:27:17,545 INFO Downloading https://download-0021.copernicus-climate.eu/cache-compute-0021/cache/data7/adaptor.mars.internal-1666801502.4971917-17813-3-0a450af8-cef9-4a00-aa53-b903571bc126.nc to c:\\Users\\sceac10\\OneDrive - Cardiff University\\General\\data\\Islington_netcdf_data\\Islington_surface_net_solar_radiation_2022.nc (30.9K)\n",
      "2022-10-26 17:27:17,831 INFO Download rate 108.6K/s\n",
      "2022-10-26 17:27:17,949 INFO Welcome to the CDS\n",
      "2022-10-26 17:27:17,950 INFO Sending request to https://cds.climate.copernicus.eu/api/v2/resources/reanalysis-era5-land\n",
      "2022-10-26 17:27:18,022 INFO Request is queued\n"
     ]
    },
    {
     "name": "stdout",
     "output_type": "stream",
     "text": [
      "Kensington and Chelsea [51.5, -0.2, 51.49, -0.19]\n"
     ]
    },
    {
     "name": "stderr",
     "output_type": "stream",
     "text": [
      "2022-10-26 17:27:19,083 INFO Request is running\n",
      "2022-10-26 17:41:37,435 INFO Request is completed\n",
      "2022-10-26 17:41:37,436 INFO Downloading https://download-0016.copernicus-climate.eu/cache-compute-0016/cache/data6/adaptor.mars.internal-1666802401.3749576-9617-12-ed9ee070-3f69-49cb-8b0d-be136f14de83.nc to c:\\Users\\sceac10\\OneDrive - Cardiff University\\General\\data\\Kensington and Chelsea_netcdf_data\\Kensington and Chelsea_surface_net_solar_radiation_2022.nc (30.9K)\n",
      "2022-10-26 17:41:37,722 INFO Download rate 108.5K/s\n",
      "2022-10-26 17:41:37,828 INFO Welcome to the CDS\n",
      "2022-10-26 17:41:37,829 INFO Sending request to https://cds.climate.copernicus.eu/api/v2/resources/reanalysis-era5-land\n",
      "2022-10-26 17:41:37,905 INFO Request is queued\n"
     ]
    },
    {
     "name": "stdout",
     "output_type": "stream",
     "text": [
      "Kingston upon Thames [51.41, -0.31, 51.4, -0.3]\n"
     ]
    },
    {
     "name": "stderr",
     "output_type": "stream",
     "text": [
      "2022-10-26 17:41:38,968 INFO Request is running\n",
      "2022-10-26 17:55:57,293 INFO Request is completed\n",
      "2022-10-26 17:55:57,294 INFO Downloading https://download-0014-clone.copernicus-climate.eu/cache-compute-0014/cache/data3/adaptor.mars.internal-1666803246.796382-18500-18-16ed9911-1438-4f24-9b47-42e86053c77e.nc to c:\\Users\\sceac10\\OneDrive - Cardiff University\\General\\data\\Kingston upon Thames_netcdf_data\\Kingston upon Thames_surface_net_solar_radiation_2022.nc (30.9K)\n",
      "2022-10-26 17:55:57,560 INFO Download rate 116.8K/s\n",
      "2022-10-26 17:55:57,665 INFO Welcome to the CDS\n",
      "2022-10-26 17:55:57,665 INFO Sending request to https://cds.climate.copernicus.eu/api/v2/resources/reanalysis-era5-land\n",
      "2022-10-26 17:55:57,774 INFO Request is queued\n"
     ]
    },
    {
     "name": "stdout",
     "output_type": "stream",
     "text": [
      "Lambeth [51.5, -0.12, 51.49, -0.11]\n"
     ]
    },
    {
     "name": "stderr",
     "output_type": "stream",
     "text": [
      "2022-10-26 17:55:58,825 INFO Request is running\n",
      "2022-10-26 18:10:17,215 INFO Request is completed\n",
      "2022-10-26 18:10:17,216 INFO Downloading https://download-0011-clone.copernicus-climate.eu/cache-compute-0011/cache/data5/adaptor.mars.internal-1666804099.6565359-10919-11-26ab674f-6d58-4324-adfe-8ea936980e4b.nc to c:\\Users\\sceac10\\OneDrive - Cardiff University\\General\\data\\Lambeth_netcdf_data\\Lambeth_surface_net_solar_radiation_2022.nc (30.9K)\n",
      "2022-10-26 18:10:17,466 INFO Download rate 123.8K/s\n",
      "2022-10-26 18:10:17,563 INFO Welcome to the CDS\n",
      "2022-10-26 18:10:17,565 INFO Sending request to https://cds.climate.copernicus.eu/api/v2/resources/reanalysis-era5-land\n",
      "2022-10-26 18:10:17,618 INFO Request is queued\n"
     ]
    },
    {
     "name": "stdout",
     "output_type": "stream",
     "text": [
      "Lewisham [51.46, -0.01, 51.45, -0.0]\n"
     ]
    },
    {
     "name": "stderr",
     "output_type": "stream",
     "text": [
      "2022-10-26 18:10:18,670 INFO Request is running\n",
      "2022-10-26 18:24:36,951 INFO Request is completed\n",
      "2022-10-26 18:24:36,952 INFO Downloading https://download-0014-clone.copernicus-climate.eu/cache-compute-0014/cache/data2/adaptor.mars.internal-1666804975.4242082-9401-5-c26975fa-e949-4afa-8ed1-4455f4ee49f7.nc to c:\\Users\\sceac10\\OneDrive - Cardiff University\\General\\data\\Lewisham_netcdf_data\\Lewisham_surface_net_solar_radiation_2022.nc (30.9K)\n",
      "2022-10-26 18:24:37,186 INFO Download rate 132K/s\n",
      "2022-10-26 18:24:37,299 INFO Welcome to the CDS\n",
      "2022-10-26 18:24:37,300 INFO Sending request to https://cds.climate.copernicus.eu/api/v2/resources/reanalysis-era5-land\n",
      "2022-10-26 18:24:37,360 INFO Request is queued\n"
     ]
    },
    {
     "name": "stdout",
     "output_type": "stream",
     "text": [
      "Merton [51.41, -0.19, 51.4, -0.18]\n"
     ]
    },
    {
     "name": "stderr",
     "output_type": "stream",
     "text": [
      "2022-10-26 18:24:38,423 INFO Request is running\n",
      "2022-10-26 18:38:56,863 INFO Request is completed\n",
      "2022-10-26 18:38:56,864 INFO Downloading https://download-0004-clone.copernicus-climate.eu/cache-compute-0004/cache/data7/adaptor.mars.internal-1666805835.1817553-21843-2-81ec7d4a-7893-470d-acfd-c37f9a127441.nc to c:\\Users\\sceac10\\OneDrive - Cardiff University\\General\\data\\Merton_netcdf_data\\Merton_surface_net_solar_radiation_2022.nc (30.9K)\n",
      "2022-10-26 18:38:57,136 INFO Download rate 115K/s\n",
      "2022-10-26 18:38:57,248 INFO Welcome to the CDS\n",
      "2022-10-26 18:38:57,250 INFO Sending request to https://cds.climate.copernicus.eu/api/v2/resources/reanalysis-era5-land\n",
      "2022-10-26 18:38:57,342 INFO Request is queued\n"
     ]
    },
    {
     "name": "stdout",
     "output_type": "stream",
     "text": [
      "Newham [51.53, 0.03, 51.52, 0.02]\n"
     ]
    },
    {
     "name": "stderr",
     "output_type": "stream",
     "text": [
      "2022-10-26 18:38:58,405 INFO Request is running\n",
      "2022-10-26 18:53:16,710 INFO Request is completed\n",
      "2022-10-26 18:53:16,711 INFO Downloading https://download-0018.copernicus-climate.eu/cache-compute-0018/cache/data3/adaptor.mars.internal-1666806704.2633257-20049-8-dc28cd8b-6377-429d-8b1e-bcf72ca97506.nc to c:\\Users\\sceac10\\OneDrive - Cardiff University\\General\\data\\Newham_netcdf_data\\Newham_surface_net_solar_radiation_2022.nc (35M)\n",
      "2022-10-26 18:53:25,954 INFO Download rate 3.8M/s   \n",
      "2022-10-26 18:53:26,057 INFO Welcome to the CDS\n",
      "2022-10-26 18:53:26,058 INFO Sending request to https://cds.climate.copernicus.eu/api/v2/resources/reanalysis-era5-land\n",
      "2022-10-26 18:53:26,151 INFO Request is queued\n"
     ]
    },
    {
     "name": "stdout",
     "output_type": "stream",
     "text": [
      "Redbridge [51.58, 0.05, 51.57, 0.04]\n"
     ]
    },
    {
     "name": "stderr",
     "output_type": "stream",
     "text": [
      "2022-10-26 18:53:27,218 INFO Request is running\n",
      "2022-10-26 19:07:45,603 INFO Request is completed\n",
      "2022-10-26 19:07:45,604 INFO Downloading https://download-0014-clone.copernicus-climate.eu/cache-compute-0014/cache/data2/adaptor.mars.internal-1666807569.8853407-4516-5-827bbcd2-8c85-4263-a17b-0a8881201ef8.nc to c:\\Users\\sceac10\\OneDrive - Cardiff University\\General\\data\\Redbridge_netcdf_data\\Redbridge_surface_net_solar_radiation_2022.nc (35M)\n",
      "2022-10-26 19:07:54,454 INFO Download rate 4M/s     \n",
      "2022-10-26 19:07:54,567 INFO Welcome to the CDS\n",
      "2022-10-26 19:07:54,568 INFO Sending request to https://cds.climate.copernicus.eu/api/v2/resources/reanalysis-era5-land\n",
      "2022-10-26 19:07:54,635 INFO Request is queued\n"
     ]
    },
    {
     "name": "stdout",
     "output_type": "stream",
     "text": [
      "Richmond upon Thames [51.44, -0.31, 51.43, -0.3]\n"
     ]
    },
    {
     "name": "stderr",
     "output_type": "stream",
     "text": [
      "2022-10-26 19:07:55,702 INFO Request is running\n",
      "2022-10-26 19:22:14,198 INFO Request is completed\n",
      "2022-10-26 19:22:14,199 INFO Downloading https://download-0004-clone.copernicus-climate.eu/cache-compute-0004/cache/data2/adaptor.mars.internal-1666808479.0789726-7349-15-2e618d50-e2a9-4bd7-8ff6-f855aeb51cdc.nc to c:\\Users\\sceac10\\OneDrive - Cardiff University\\General\\data\\Richmond upon Thames_netcdf_data\\Richmond upon Thames_surface_net_solar_radiation_2022.nc (30.9K)\n",
      "2022-10-26 19:22:14,451 INFO Download rate 123.3K/s\n",
      "2022-10-26 19:22:14,576 INFO Welcome to the CDS\n",
      "2022-10-26 19:22:14,577 INFO Sending request to https://cds.climate.copernicus.eu/api/v2/resources/reanalysis-era5-land\n",
      "2022-10-26 19:22:14,663 INFO Request is queued\n"
     ]
    },
    {
     "name": "stdout",
     "output_type": "stream",
     "text": [
      "Southwark [51.5, -0.1, 51.49, -0.09]\n"
     ]
    },
    {
     "name": "stderr",
     "output_type": "stream",
     "text": [
      "2022-10-26 19:22:15,741 INFO Request is running\n",
      "2022-10-26 19:36:34,207 INFO Request is completed\n",
      "2022-10-26 19:36:34,207 INFO Downloading https://download-0008-clone.copernicus-climate.eu/cache-compute-0008/cache/data9/adaptor.mars.internal-1666809347.953554-26957-16-b49b3fce-30b1-4851-86c8-e0c7dc41a92f.nc to c:\\Users\\sceac10\\OneDrive - Cardiff University\\General\\data\\Southwark_netcdf_data\\Southwark_surface_net_solar_radiation_2022.nc (30.9K)\n",
      "2022-10-26 19:36:34,449 INFO Download rate 128.4K/s\n",
      "2022-10-26 19:36:34,560 INFO Welcome to the CDS\n",
      "2022-10-26 19:36:34,561 INFO Sending request to https://cds.climate.copernicus.eu/api/v2/resources/reanalysis-era5-land\n",
      "2022-10-26 19:36:34,648 INFO Request is queued\n"
     ]
    },
    {
     "name": "stdout",
     "output_type": "stream",
     "text": [
      "Sutton [30.51, -100.54, 30.5, -100.53]\n"
     ]
    },
    {
     "name": "stderr",
     "output_type": "stream",
     "text": [
      "2022-10-26 19:36:35,703 INFO Request is running\n",
      "2022-10-26 19:56:54,841 INFO Request is completed\n",
      "2022-10-26 19:56:54,842 INFO Downloading https://download-0010-clone.copernicus-climate.eu/cache-compute-0010/cache/data8/adaptor.mars.internal-1666810495.7748678-9760-17-e7bab960-b001-4301-9d9a-d98220e1f9ab.nc to c:\\Users\\sceac10\\OneDrive - Cardiff University\\General\\data\\Sutton_netcdf_data\\Sutton_surface_net_solar_radiation_2022.nc (30.9K)\n",
      "2022-10-26 19:56:55,369 INFO Download rate 58.9K/s\n",
      "2022-10-26 19:56:55,470 INFO Welcome to the CDS\n",
      "2022-10-26 19:56:55,471 INFO Sending request to https://cds.climate.copernicus.eu/api/v2/resources/reanalysis-era5-land\n",
      "2022-10-26 19:56:55,584 INFO Request is queued\n"
     ]
    },
    {
     "name": "stdout",
     "output_type": "stream",
     "text": [
      "Tower Hamlets [51.13, 1.3, 51.12, 1.29]\n"
     ]
    },
    {
     "name": "stderr",
     "output_type": "stream",
     "text": [
      "2022-10-26 19:56:56,651 INFO Request is running\n",
      "2022-10-26 20:15:15,404 INFO Request is completed\n",
      "2022-10-26 20:15:15,405 INFO Downloading https://download-0010-clone.copernicus-climate.eu/cache-compute-0010/cache/data5/adaptor.mars.internal-1666811654.0081258-2410-1-9831f958-c090-459d-8a95-450393d9e1db.nc to c:\\Users\\sceac10\\OneDrive - Cardiff University\\General\\data\\Tower Hamlets_netcdf_data\\Tower Hamlets_surface_net_solar_radiation_2022.nc (35M)\n",
      "2022-10-26 20:15:23,985 INFO Download rate 4.1M/s   \n",
      "2022-10-26 20:15:24,090 INFO Welcome to the CDS\n",
      "2022-10-26 20:15:24,091 INFO Sending request to https://cds.climate.copernicus.eu/api/v2/resources/reanalysis-era5-land\n",
      "2022-10-26 20:15:24,159 INFO Request is queued\n"
     ]
    },
    {
     "name": "stdout",
     "output_type": "stream",
     "text": [
      "Waltham Forest [51.67, 0.05, 51.66, 0.04]\n"
     ]
    },
    {
     "name": "stderr",
     "output_type": "stream",
     "text": [
      "2022-10-26 20:15:25,225 INFO Request is running\n",
      "2022-10-26 20:29:43,564 INFO Request is completed\n",
      "2022-10-26 20:29:43,565 INFO Downloading https://download-0000-clone.copernicus-climate.eu/cache-compute-0000/cache/data7/adaptor.mars.internal-1666812497.506652-10318-19-a3dad8ed-1620-4b36-9554-e97b55f89b72.nc to c:\\Users\\sceac10\\OneDrive - Cardiff University\\General\\data\\Waltham Forest_netcdf_data\\Waltham Forest_surface_net_solar_radiation_2022.nc (35M)\n",
      "2022-10-26 20:29:51,367 INFO Download rate 4.5M/s   \n",
      "2022-10-26 20:29:51,469 INFO Welcome to the CDS\n",
      "2022-10-26 20:29:51,470 INFO Sending request to https://cds.climate.copernicus.eu/api/v2/resources/reanalysis-era5-land\n",
      "2022-10-26 20:29:51,525 INFO Request is queued\n"
     ]
    },
    {
     "name": "stdout",
     "output_type": "stream",
     "text": [
      "Wandsworth [51.46, -0.19, 51.45, -0.18]\n"
     ]
    },
    {
     "name": "stderr",
     "output_type": "stream",
     "text": [
      "2022-10-26 20:29:52,582 INFO Request is running\n",
      "2022-10-26 20:44:10,930 INFO Request is completed\n",
      "2022-10-26 20:44:10,931 INFO Downloading https://download-0007-clone.copernicus-climate.eu/cache-compute-0007/cache/data9/adaptor.mars.internal-1666813419.1895375-7585-10-48c249ed-b305-4d8d-aef8-ef60316f4c31.nc to c:\\Users\\sceac10\\OneDrive - Cardiff University\\General\\data\\Wandsworth_netcdf_data\\Wandsworth_surface_net_solar_radiation_2022.nc (30.9K)\n",
      "2022-10-26 20:44:11,282 INFO Download rate 88.4K/s\n",
      "2022-10-26 20:44:11,378 INFO Welcome to the CDS\n",
      "2022-10-26 20:44:11,379 INFO Sending request to https://cds.climate.copernicus.eu/api/v2/resources/reanalysis-era5-land\n",
      "2022-10-26 20:44:11,468 INFO Request is queued\n"
     ]
    },
    {
     "name": "stdout",
     "output_type": "stream",
     "text": [
      "Westminster [51.5, -0.13, 51.49, -0.12]\n"
     ]
    },
    {
     "name": "stderr",
     "output_type": "stream",
     "text": [
      "2022-10-26 20:44:14,071 INFO Request is running\n",
      "2022-10-26 20:58:30,895 INFO Request is completed\n",
      "2022-10-26 20:58:30,897 INFO Downloading https://download-0013-clone.copernicus-climate.eu/cache-compute-0013/cache/data8/adaptor.mars.internal-1666814196.4589145-4270-18-a80ee50d-c46f-4bde-bdf7-076f3a334e0f.nc to c:\\Users\\sceac10\\OneDrive - Cardiff University\\General\\data\\Westminster_netcdf_data\\Westminster_surface_net_solar_radiation_2022.nc (30.9K)\n",
      "2022-10-26 20:58:31,157 INFO Download rate 118.6K/s\n",
      "2022-10-26 20:58:31,262 INFO Welcome to the CDS\n",
      "2022-10-26 20:58:31,263 INFO Sending request to https://cds.climate.copernicus.eu/api/v2/resources/reanalysis-era5-land\n",
      "2022-10-26 20:58:31,366 INFO Request is queued\n"
     ]
    },
    {
     "name": "stdout",
     "output_type": "stream",
     "text": [
      "Bolton [53.58, -2.43, 53.57, -2.42]\n"
     ]
    },
    {
     "name": "stderr",
     "output_type": "stream",
     "text": [
      "2022-10-26 20:58:33,983 INFO Request is running\n",
      "2022-10-26 21:12:51,188 INFO Request is completed\n",
      "2022-10-26 21:12:51,189 INFO Downloading https://download-0002-clone.copernicus-climate.eu/cache-compute-0002/cache/data9/adaptor.mars.internal-1666815074.4612374-8795-14-96c087db-e231-46df-be9a-a7082e534fb8.nc to c:\\Users\\sceac10\\OneDrive - Cardiff University\\General\\data\\Bolton_netcdf_data\\Bolton_surface_net_solar_radiation_2022.nc (30.9K)\n",
      "2022-10-26 21:12:51,499 INFO Download rate 100.2K/s\n",
      "2022-10-26 21:12:51,599 INFO Welcome to the CDS\n",
      "2022-10-26 21:12:51,600 INFO Sending request to https://cds.climate.copernicus.eu/api/v2/resources/reanalysis-era5-land\n",
      "2022-10-26 21:12:51,670 INFO Request is queued\n"
     ]
    },
    {
     "name": "stdout",
     "output_type": "stream",
     "text": [
      "Bury [49.31, 2.34, 49.3, 2.33]\n"
     ]
    },
    {
     "name": "stderr",
     "output_type": "stream",
     "text": [
      "2022-10-26 21:12:52,729 INFO Request is running\n",
      "2022-10-26 21:27:11,057 INFO Request is completed\n",
      "2022-10-26 21:27:11,058 INFO Downloading https://download-0003-clone.copernicus-climate.eu/cache-compute-0003/cache/data0/adaptor.mars.internal-1666815919.4486845-14616-16-fa7b7762-ee29-471a-93ff-e68c2ea8d64d.nc to c:\\Users\\sceac10\\OneDrive - Cardiff University\\General\\data\\Bury_netcdf_data\\Bury_surface_net_solar_radiation_2022.nc (35M)\n",
      "2022-10-26 21:27:16,372 INFO Download rate 6.6M/s   \n",
      "2022-10-26 21:27:16,477 INFO Welcome to the CDS\n",
      "2022-10-26 21:27:16,478 INFO Sending request to https://cds.climate.copernicus.eu/api/v2/resources/reanalysis-era5-land\n",
      "2022-10-26 21:27:16,581 INFO Request is queued\n"
     ]
    },
    {
     "name": "stdout",
     "output_type": "stream",
     "text": [
      "Manchester [53.48, -2.25, 53.47, -2.24]\n"
     ]
    },
    {
     "name": "stderr",
     "output_type": "stream",
     "text": [
      "2022-10-26 21:27:17,639 INFO Request is running\n",
      "2022-10-26 21:41:36,199 INFO Request is completed\n",
      "2022-10-26 21:41:36,200 INFO Downloading https://download-0014-clone.copernicus-climate.eu/cache-compute-0014/cache/data5/adaptor.mars.internal-1666816812.510666-2874-20-5f896c3c-f1d6-4ee3-9824-724632dea785.nc to c:\\Users\\sceac10\\OneDrive - Cardiff University\\General\\data\\Manchester_netcdf_data\\Manchester_surface_net_solar_radiation_2022.nc (30.9K)\n",
      "2022-10-26 21:41:36,448 INFO Download rate 125.8K/s\n",
      "2022-10-26 21:41:36,555 INFO Welcome to the CDS\n",
      "2022-10-26 21:41:36,556 INFO Sending request to https://cds.climate.copernicus.eu/api/v2/resources/reanalysis-era5-land\n",
      "2022-10-26 21:41:36,631 INFO Request is queued\n"
     ]
    },
    {
     "name": "stdout",
     "output_type": "stream",
     "text": [
      "Oldham [35.39, -102.62, 35.38, -102.61]\n"
     ]
    },
    {
     "name": "stderr",
     "output_type": "stream",
     "text": [
      "2022-10-26 21:41:37,693 INFO Request is running\n",
      "2022-10-26 21:55:56,051 INFO Request is completed\n",
      "2022-10-26 21:55:56,052 INFO Downloading https://download-0015-clone.copernicus-climate.eu/cache-compute-0015/cache/data0/adaptor.mars.internal-1666817639.306873-22515-3-f9ce8408-d80d-4045-880c-a387dcb66dbf.nc to c:\\Users\\sceac10\\OneDrive - Cardiff University\\General\\data\\Oldham_netcdf_data\\Oldham_surface_net_solar_radiation_2022.nc (30.9K)\n",
      "2022-10-26 21:55:56,330 INFO Download rate 111.2K/s\n",
      "2022-10-26 21:55:56,440 INFO Welcome to the CDS\n",
      "2022-10-26 21:55:56,441 INFO Sending request to https://cds.climate.copernicus.eu/api/v2/resources/reanalysis-era5-land\n",
      "2022-10-26 21:55:56,517 INFO Request is queued\n"
     ]
    },
    {
     "name": "stdout",
     "output_type": "stream",
     "text": [
      "Rochdale [53.62, -2.16, 53.61, -2.15]\n"
     ]
    },
    {
     "name": "stderr",
     "output_type": "stream",
     "text": [
      "2022-10-26 21:56:01,443 INFO Request is running\n",
      "2022-10-26 22:10:15,959 INFO Request is completed\n",
      "2022-10-26 22:10:15,960 INFO Downloading https://download-0009-clone.copernicus-climate.eu/cache-compute-0009/cache/data1/adaptor.mars.internal-1666818508.6163626-8337-14-30bf720d-5c11-4f71-b263-c13c194966ae.nc to c:\\Users\\sceac10\\OneDrive - Cardiff University\\General\\data\\Rochdale_netcdf_data\\Rochdale_surface_net_solar_radiation_2022.nc (30.9K)\n",
      "2022-10-26 22:10:16,318 INFO Download rate 86.4K/s\n",
      "2022-10-26 22:10:16,477 INFO Welcome to the CDS\n",
      "2022-10-26 22:10:16,478 INFO Sending request to https://cds.climate.copernicus.eu/api/v2/resources/reanalysis-era5-land\n",
      "2022-10-26 22:10:16,575 INFO Request is queued\n"
     ]
    },
    {
     "name": "stdout",
     "output_type": "stream",
     "text": [
      "Salford [53.49, -2.29, 53.48, -2.28]\n"
     ]
    },
    {
     "name": "stderr",
     "output_type": "stream",
     "text": [
      "2022-10-26 22:10:17,649 INFO Request is running\n",
      "2022-10-26 22:24:36,180 INFO Request is completed\n",
      "2022-10-26 22:24:36,181 INFO Downloading https://download-0004-clone.copernicus-climate.eu/cache-compute-0004/cache/data2/adaptor.mars.internal-1666819363.361017-32013-4-97c79260-2306-420e-8171-222e78efd68a.nc to c:\\Users\\sceac10\\OneDrive - Cardiff University\\General\\data\\Salford_netcdf_data\\Salford_surface_net_solar_radiation_2022.nc (30.9K)\n",
      "2022-10-26 22:24:36,495 INFO Download rate 98.6K/s\n",
      "2022-10-26 22:24:36,605 INFO Welcome to the CDS\n",
      "2022-10-26 22:24:36,606 INFO Sending request to https://cds.climate.copernicus.eu/api/v2/resources/reanalysis-era5-land\n",
      "2022-10-26 22:24:36,680 INFO Request is queued\n"
     ]
    },
    {
     "name": "stdout",
     "output_type": "stream",
     "text": [
      "Stockport [53.41, -2.16, 53.4, -2.15]\n"
     ]
    },
    {
     "name": "stderr",
     "output_type": "stream",
     "text": [
      "2022-10-26 22:24:37,745 INFO Request is running\n",
      "2022-10-26 22:38:56,382 INFO Request is completed\n",
      "2022-10-26 22:38:56,382 INFO Downloading https://download-0003-clone.copernicus-climate.eu/cache-compute-0003/cache/data8/adaptor.mars.internal-1666820239.9604857-28549-20-56dd71f3-2e71-495d-9408-3cd86619fa88.nc to c:\\Users\\sceac10\\OneDrive - Cardiff University\\General\\data\\Stockport_netcdf_data\\Stockport_surface_net_solar_radiation_2022.nc (31K)\n",
      "2022-10-26 22:38:56,643 INFO Download rate 119.1K/s\n",
      "2022-10-26 22:38:56,748 INFO Welcome to the CDS\n",
      "2022-10-26 22:38:56,749 INFO Sending request to https://cds.climate.copernicus.eu/api/v2/resources/reanalysis-era5-land\n",
      "2022-10-26 22:38:56,837 INFO Request is queued\n"
     ]
    },
    {
     "name": "stdout",
     "output_type": "stream",
     "text": [
      "Tameside [53.48, -2.08, 53.47, -2.07]\n"
     ]
    },
    {
     "name": "stderr",
     "output_type": "stream",
     "text": [
      "2022-10-26 22:38:57,896 INFO Request is running\n",
      "2022-10-26 22:53:16,274 INFO Request is completed\n",
      "2022-10-26 22:53:16,275 INFO Downloading https://download-0008-clone.copernicus-climate.eu/cache-compute-0008/cache/data4/adaptor.mars.internal-1666821124.710167-15022-17-98ffa97b-f9d8-4ca7-b6ce-03e13aee97c1.nc to c:\\Users\\sceac10\\OneDrive - Cardiff University\\General\\data\\Tameside_netcdf_data\\Tameside_surface_net_solar_radiation_2022.nc (30.9K)\n",
      "2022-10-26 22:53:16,549 INFO Download rate 113.4K/s\n",
      "2022-10-26 22:53:16,661 INFO Welcome to the CDS\n",
      "2022-10-26 22:53:16,661 INFO Sending request to https://cds.climate.copernicus.eu/api/v2/resources/reanalysis-era5-land\n",
      "2022-10-26 22:53:16,736 INFO Request is queued\n"
     ]
    },
    {
     "name": "stdout",
     "output_type": "stream",
     "text": [
      "Trafford [53.42, -2.36, 53.41, -2.35]\n"
     ]
    },
    {
     "name": "stderr",
     "output_type": "stream",
     "text": [
      "2022-10-26 22:53:17,795 INFO Request is running\n",
      "2022-10-26 23:07:36,239 INFO Request is completed\n",
      "2022-10-26 23:07:36,239 INFO Downloading https://download-0015-clone.copernicus-climate.eu/cache-compute-0015/cache/data0/adaptor.mars.internal-1666821936.9574957-28828-5-623e33c8-da8c-4717-afdb-71824a2f4ec3.nc to c:\\Users\\sceac10\\OneDrive - Cardiff University\\General\\data\\Trafford_netcdf_data\\Trafford_surface_net_solar_radiation_2022.nc (30.9K)\n",
      "2022-10-26 23:07:36,487 INFO Download rate 125.3K/s\n",
      "2022-10-26 23:07:36,598 INFO Welcome to the CDS\n",
      "2022-10-26 23:07:36,600 INFO Sending request to https://cds.climate.copernicus.eu/api/v2/resources/reanalysis-era5-land\n",
      "2022-10-26 23:07:36,676 INFO Request is queued\n"
     ]
    },
    {
     "name": "stdout",
     "output_type": "stream",
     "text": [
      "Wigan [53.55, -2.63, 53.54, -2.62]\n"
     ]
    },
    {
     "name": "stderr",
     "output_type": "stream",
     "text": [
      "2022-10-26 23:07:37,740 INFO Request is running\n",
      "2022-10-26 23:21:56,033 INFO Request is completed\n",
      "2022-10-26 23:21:56,034 INFO Downloading https://download-0002-clone.copernicus-climate.eu/cache-compute-0002/cache/data5/adaptor.mars.internal-1666822826.6879292-14864-7-358022c9-e841-455e-9e8b-45296939406e.nc to c:\\Users\\sceac10\\OneDrive - Cardiff University\\General\\data\\Wigan_netcdf_data\\Wigan_surface_net_solar_radiation_2022.nc (30.9K)\n",
      "2022-10-26 23:21:56,265 INFO Download rate 134K/s\n",
      "2022-10-26 23:21:56,367 INFO Welcome to the CDS\n",
      "2022-10-26 23:21:56,369 INFO Sending request to https://cds.climate.copernicus.eu/api/v2/resources/reanalysis-era5-land\n"
     ]
    },
    {
     "name": "stdout",
     "output_type": "stream",
     "text": [
      "Knowsley [53.46, -2.85, 53.45, -2.84]\n"
     ]
    },
    {
     "name": "stderr",
     "output_type": "stream",
     "text": [
      "2022-10-26 23:21:56,605 INFO Request is queued\n",
      "2022-10-26 23:21:57,663 INFO Request is running\n",
      "2022-10-26 23:36:16,076 INFO Request is completed\n",
      "2022-10-26 23:36:16,077 INFO Downloading https://download-0000-clone.copernicus-climate.eu/cache-compute-0000/cache/data8/adaptor.mars.internal-1666823680.4317176-6932-16-6e673512-e609-4b8f-bcfc-596286eff3cd.nc to c:\\Users\\sceac10\\OneDrive - Cardiff University\\General\\data\\Knowsley_netcdf_data\\Knowsley_surface_net_solar_radiation_2022.nc (30.9K)\n",
      "2022-10-26 23:36:16,329 INFO Download rate 123.3K/s\n",
      "2022-10-26 23:36:16,430 INFO Welcome to the CDS\n",
      "2022-10-26 23:36:16,431 INFO Sending request to https://cds.climate.copernicus.eu/api/v2/resources/reanalysis-era5-land\n",
      "2022-10-26 23:36:16,487 INFO Request is queued\n"
     ]
    },
    {
     "name": "stdout",
     "output_type": "stream",
     "text": [
      "Liverpool [53.41, -2.99, 53.4, -2.98]\n"
     ]
    },
    {
     "name": "stderr",
     "output_type": "stream",
     "text": [
      "2022-10-26 23:36:17,545 INFO Request is running\n",
      "2022-10-26 23:50:35,896 INFO Request is completed\n",
      "2022-10-26 23:50:35,897 INFO Downloading https://download-0018.copernicus-climate.eu/cache-compute-0018/cache/data3/adaptor.mars.internal-1666824538.928629-713-9-5364cf11-1645-4d01-81c8-f6714296cfde.nc to c:\\Users\\sceac10\\OneDrive - Cardiff University\\General\\data\\Liverpool_netcdf_data\\Liverpool_surface_net_solar_radiation_2022.nc (30.9K)\n",
      "2022-10-26 23:50:36,167 INFO Download rate 114.9K/s\n",
      "2022-10-26 23:50:36,265 INFO Welcome to the CDS\n",
      "2022-10-26 23:50:36,266 INFO Sending request to https://cds.climate.copernicus.eu/api/v2/resources/reanalysis-era5-land\n",
      "2022-10-26 23:50:36,319 INFO Request is queued\n"
     ]
    },
    {
     "name": "stdout",
     "output_type": "stream",
     "text": [
      "St. Helens [53.45, -2.74, 53.44, -2.73]\n"
     ]
    },
    {
     "name": "stderr",
     "output_type": "stream",
     "text": [
      "2022-10-26 23:50:37,378 INFO Request is running\n",
      "2022-10-27 00:04:55,633 INFO Request is completed\n",
      "2022-10-27 00:04:55,634 INFO Downloading https://download-0016.copernicus-climate.eu/cache-compute-0016/cache/data4/adaptor.mars.internal-1666825398.6998255-6031-17-0356f8c3-fe4a-4e23-9525-40c8682ca53c.nc to c:\\Users\\sceac10\\OneDrive - Cardiff University\\General\\data\\St. Helens_netcdf_data\\St. Helens_surface_net_solar_radiation_2022.nc (30.9K)\n",
      "2022-10-27 00:04:55,878 INFO Download rate 127.4K/s\n",
      "2022-10-27 00:04:55,982 INFO Welcome to the CDS\n",
      "2022-10-27 00:04:55,982 INFO Sending request to https://cds.climate.copernicus.eu/api/v2/resources/reanalysis-era5-land\n",
      "2022-10-27 00:04:56,057 INFO Request is queued\n"
     ]
    },
    {
     "name": "stdout",
     "output_type": "stream",
     "text": [
      "Sefton [53.5, -2.97, 53.49, -2.96]\n"
     ]
    },
    {
     "name": "stderr",
     "output_type": "stream",
     "text": [
      "2022-10-27 00:04:57,122 INFO Request is running\n",
      "2022-10-27 00:19:15,445 INFO Request is completed\n",
      "2022-10-27 00:19:15,446 INFO Downloading https://download-0009-clone.copernicus-climate.eu/cache-compute-0009/cache/data1/adaptor.mars.internal-1666826250.287728-13626-14-2ab995ac-e5bd-4cbd-baa2-b9f674269cca.nc to c:\\Users\\sceac10\\OneDrive - Cardiff University\\General\\data\\Sefton_netcdf_data\\Sefton_surface_net_solar_radiation_2022.nc (30.9K)\n",
      "2022-10-27 00:19:15,698 INFO Download rate 123.3K/s\n",
      "2022-10-27 00:19:15,794 INFO Welcome to the CDS\n",
      "2022-10-27 00:19:15,795 INFO Sending request to https://cds.climate.copernicus.eu/api/v2/resources/reanalysis-era5-land\n",
      "2022-10-27 00:19:15,865 INFO Request is queued\n"
     ]
    },
    {
     "name": "stdout",
     "output_type": "stream",
     "text": [
      "Wirral [53.34, -3.05, 53.33, -3.04]\n"
     ]
    },
    {
     "name": "stderr",
     "output_type": "stream",
     "text": [
      "2022-10-27 00:19:16,918 INFO Request is running\n",
      "2022-10-27 00:33:35,184 INFO Request is completed\n",
      "2022-10-27 00:33:35,185 INFO Downloading https://download-0016.copernicus-climate.eu/cache-compute-0016/cache/data0/adaptor.mars.internal-1666827124.2249131-31283-6-94d47b4e-0742-4de3-a410-9d25913a993e.nc to c:\\Users\\sceac10\\OneDrive - Cardiff University\\General\\data\\Wirral_netcdf_data\\Wirral_surface_net_solar_radiation_2022.nc (30.9K)\n",
      "2022-10-27 00:33:35,415 INFO Download rate 135.2K/s\n",
      "2022-10-27 00:33:35,512 INFO Welcome to the CDS\n",
      "2022-10-27 00:33:35,513 INFO Sending request to https://cds.climate.copernicus.eu/api/v2/resources/reanalysis-era5-land\n",
      "2022-10-27 00:33:35,572 INFO Request is queued\n"
     ]
    },
    {
     "name": "stdout",
     "output_type": "stream",
     "text": [
      "Barnsley [53.55, -1.48, 53.54, -1.47]\n"
     ]
    },
    {
     "name": "stderr",
     "output_type": "stream",
     "text": [
      "2022-10-27 00:33:36,633 INFO Request is running\n",
      "2022-10-27 00:47:54,940 INFO Request is completed\n",
      "2022-10-27 00:47:54,941 INFO Downloading https://download-0020.copernicus-climate.eu/cache-compute-0020/cache/data4/adaptor.mars.internal-1666827963.8324306-18352-17-921a13ba-c756-4d0f-8569-14a44d97bf6c.nc to c:\\Users\\sceac10\\OneDrive - Cardiff University\\General\\data\\Barnsley_netcdf_data\\Barnsley_surface_net_solar_radiation_2022.nc (31K)\n",
      "2022-10-27 00:47:55,289 INFO Download rate 89.1K/s\n",
      "2022-10-27 00:47:55,403 INFO Welcome to the CDS\n",
      "2022-10-27 00:47:55,404 INFO Sending request to https://cds.climate.copernicus.eu/api/v2/resources/reanalysis-era5-land\n",
      "2022-10-27 00:47:55,489 INFO Request is queued\n"
     ]
    },
    {
     "name": "stdout",
     "output_type": "stream",
     "text": [
      "Doncaster [53.52, -1.13, 53.51, -1.12]\n"
     ]
    },
    {
     "name": "stderr",
     "output_type": "stream",
     "text": [
      "2022-10-27 00:47:56,558 INFO Request is running\n",
      "2022-10-27 01:02:14,915 INFO Request is completed\n",
      "2022-10-27 01:02:14,916 INFO Downloading https://download-0004-clone.copernicus-climate.eu/cache-compute-0004/cache/data3/adaptor.mars.internal-1666828836.679479-17553-3-1a2e8c8e-c1e6-40e9-a391-14c01a144c43.nc to c:\\Users\\sceac10\\OneDrive - Cardiff University\\General\\data\\Doncaster_netcdf_data\\Doncaster_surface_net_solar_radiation_2022.nc (30.9K)\n",
      "2022-10-27 01:02:15,200 INFO Download rate 109.4K/s\n",
      "2022-10-27 01:02:15,307 INFO Welcome to the CDS\n",
      "2022-10-27 01:02:15,309 INFO Sending request to https://cds.climate.copernicus.eu/api/v2/resources/reanalysis-era5-land\n",
      "2022-10-27 01:02:15,390 INFO Request is queued\n"
     ]
    },
    {
     "name": "stdout",
     "output_type": "stream",
     "text": [
      "Rotherham [53.43, -1.36, 53.42, -1.35]\n"
     ]
    },
    {
     "name": "stderr",
     "output_type": "stream",
     "text": [
      "2022-10-27 01:02:16,445 INFO Request is running\n",
      "2022-10-27 01:16:34,799 INFO Request is completed\n",
      "2022-10-27 01:16:34,800 INFO Downloading https://download-0002-clone.copernicus-climate.eu/cache-compute-0002/cache/data9/adaptor.mars.internal-1666829702.091156-440-14-0187451b-bc38-464c-934a-753b8158042f.nc to c:\\Users\\sceac10\\OneDrive - Cardiff University\\General\\data\\Rotherham_netcdf_data\\Rotherham_surface_net_solar_radiation_2022.nc (30.9K)\n",
      "2022-10-27 01:16:35,053 INFO Download rate 122.8K/s\n",
      "2022-10-27 01:16:35,153 INFO Welcome to the CDS\n",
      "2022-10-27 01:16:35,154 INFO Sending request to https://cds.climate.copernicus.eu/api/v2/resources/reanalysis-era5-land\n",
      "2022-10-27 01:16:35,254 INFO Request is queued\n"
     ]
    },
    {
     "name": "stdout",
     "output_type": "stream",
     "text": [
      "Sheffield [53.38, -1.47, 53.37, -1.46]\n"
     ]
    },
    {
     "name": "stderr",
     "output_type": "stream",
     "text": [
      "2022-10-27 01:16:36,312 INFO Request is running\n",
      "2022-10-27 01:30:54,704 INFO Request is completed\n",
      "2022-10-27 01:30:54,705 INFO Downloading https://download-0018.copernicus-climate.eu/cache-compute-0018/cache/data2/adaptor.mars.internal-1666830521.5119781-5826-19-a87998a6-4aaa-4f27-85df-6fc3b9684a71.nc to c:\\Users\\sceac10\\OneDrive - Cardiff University\\General\\data\\Sheffield_netcdf_data\\Sheffield_surface_net_solar_radiation_2022.nc (30.9K)\n",
      "2022-10-27 01:30:54,944 INFO Download rate 130K/s\n",
      "2022-10-27 01:30:55,056 INFO Welcome to the CDS\n",
      "2022-10-27 01:30:55,057 INFO Sending request to https://cds.climate.copernicus.eu/api/v2/resources/reanalysis-era5-land\n",
      "2022-10-27 01:30:55,116 INFO Request is queued\n"
     ]
    },
    {
     "name": "stdout",
     "output_type": "stream",
     "text": [
      "Gateshead [54.96, -1.6, 54.95, -1.59]\n"
     ]
    },
    {
     "name": "stderr",
     "output_type": "stream",
     "text": [
      "2022-10-27 01:30:56,178 INFO Request is running\n",
      "2022-10-27 01:45:14,561 INFO Request is completed\n",
      "2022-10-27 01:45:14,562 INFO Downloading https://download-0020.copernicus-climate.eu/cache-compute-0020/cache/data2/adaptor.mars.internal-1666831392.5378423-16664-20-eea751f0-e0e6-4aa0-a74f-f454db307dd0.nc to c:\\Users\\sceac10\\OneDrive - Cardiff University\\General\\data\\Gateshead_netcdf_data\\Gateshead_surface_net_solar_radiation_2022.nc (31K)\n",
      "2022-10-27 01:45:14,832 INFO Download rate 115.1K/s\n",
      "2022-10-27 01:45:14,940 INFO Welcome to the CDS\n",
      "2022-10-27 01:45:14,941 INFO Sending request to https://cds.climate.copernicus.eu/api/v2/resources/reanalysis-era5-land\n",
      "2022-10-27 01:45:15,011 INFO Request is queued\n"
     ]
    },
    {
     "name": "stdout",
     "output_type": "stream",
     "text": [
      "Newcastle upon Tyne [54.97, -1.61, 54.96, -1.6]\n"
     ]
    },
    {
     "name": "stderr",
     "output_type": "stream",
     "text": [
      "2022-10-27 01:45:16,068 INFO Request is running\n",
      "2022-10-27 02:03:34,866 INFO Request is completed\n",
      "2022-10-27 02:03:34,867 INFO Downloading https://download-0019.copernicus-climate.eu/cache-compute-0019/cache/data0/adaptor.mars.internal-1666832482.540037-17780-3-914c4597-f625-4fa3-b5e8-18fb7a0bd5e5.nc to c:\\Users\\sceac10\\OneDrive - Cardiff University\\General\\data\\Newcastle upon Tyne_netcdf_data\\Newcastle upon Tyne_surface_net_solar_radiation_2022.nc (30.9K)\n",
      "2022-10-27 02:03:35,105 INFO Download rate 130.3K/s\n",
      "2022-10-27 02:03:35,218 INFO Welcome to the CDS\n",
      "2022-10-27 02:03:35,219 INFO Sending request to https://cds.climate.copernicus.eu/api/v2/resources/reanalysis-era5-land\n",
      "2022-10-27 02:03:35,277 INFO Request is queued\n"
     ]
    },
    {
     "name": "stdout",
     "output_type": "stream",
     "text": [
      "North Tyneside [55.03, -1.51, 55.02, -1.5]\n"
     ]
    },
    {
     "name": "stderr",
     "output_type": "stream",
     "text": [
      "2022-10-27 02:03:36,333 INFO Request is running\n",
      "2022-10-27 02:17:54,679 INFO Request is completed\n",
      "2022-10-27 02:17:54,680 INFO Downloading https://download-0021.copernicus-climate.eu/cache-compute-0021/cache/data0/adaptor.mars.internal-1666833394.622205-323-2-ed8c8806-7cfd-4597-81f1-af74a549ded5.nc to c:\\Users\\sceac10\\OneDrive - Cardiff University\\General\\data\\North Tyneside_netcdf_data\\North Tyneside_surface_net_solar_radiation_2022.nc (30.9K)\n",
      "2022-10-27 02:17:54,942 INFO Download rate 118.6K/s\n",
      "2022-10-27 02:17:55,051 INFO Welcome to the CDS\n",
      "2022-10-27 02:17:55,053 INFO Sending request to https://cds.climate.copernicus.eu/api/v2/resources/reanalysis-era5-land\n",
      "2022-10-27 02:17:55,112 INFO Request is queued\n"
     ]
    },
    {
     "name": "stdout",
     "output_type": "stream",
     "text": [
      "South Tyneside [54.97, -1.45, 54.96, -1.44]\n"
     ]
    },
    {
     "name": "stderr",
     "output_type": "stream",
     "text": [
      "2022-10-27 02:17:56,182 INFO Request is running\n",
      "2022-10-27 02:32:14,493 INFO Request is completed\n",
      "2022-10-27 02:32:14,494 INFO Downloading https://download-0006-clone.copernicus-climate.eu/cache-compute-0006/cache/data8/adaptor.mars.internal-1666834228.1551929-15366-12-45e4aeb7-4c1a-4f7f-88b4-adaa7d67a61f.nc to c:\\Users\\sceac10\\OneDrive - Cardiff University\\General\\data\\South Tyneside_netcdf_data\\South Tyneside_surface_net_solar_radiation_2022.nc (31K)\n",
      "2022-10-27 02:32:14,730 INFO Download rate 131.9K/s\n",
      "2022-10-27 02:32:14,830 INFO Welcome to the CDS\n",
      "2022-10-27 02:32:14,830 INFO Sending request to https://cds.climate.copernicus.eu/api/v2/resources/reanalysis-era5-land\n",
      "2022-10-27 02:32:14,911 INFO Request is queued\n"
     ]
    },
    {
     "name": "stdout",
     "output_type": "stream",
     "text": [
      "Sunderland [54.91, -1.38, 54.9, -1.37]\n"
     ]
    },
    {
     "name": "stderr",
     "output_type": "stream",
     "text": [
      "2022-10-27 02:32:15,970 INFO Request is running\n",
      "2022-10-27 02:46:34,295 INFO Request is completed\n",
      "2022-10-27 02:46:34,295 INFO Downloading https://download-0013-clone.copernicus-climate.eu/cache-compute-0013/cache/data1/adaptor.mars.internal-1666835067.3675773-6614-4-5279fe90-dceb-436d-8138-81613ee5088b.nc to c:\\Users\\sceac10\\OneDrive - Cardiff University\\General\\data\\Sunderland_netcdf_data\\Sunderland_surface_net_solar_radiation_2022.nc (30.9K)\n",
      "2022-10-27 02:46:34,588 INFO Download rate 106K/s\n",
      "2022-10-27 02:46:34,699 INFO Welcome to the CDS\n",
      "2022-10-27 02:46:34,700 INFO Sending request to https://cds.climate.copernicus.eu/api/v2/resources/reanalysis-era5-land\n",
      "2022-10-27 02:46:34,776 INFO Request is queued\n"
     ]
    },
    {
     "name": "stdout",
     "output_type": "stream",
     "text": [
      "Birmingham [52.48, -1.9, 52.47, -1.89]\n"
     ]
    },
    {
     "name": "stderr",
     "output_type": "stream",
     "text": [
      "2022-10-27 02:46:35,832 INFO Request is running\n",
      "2022-10-27 03:00:54,183 INFO Request is completed\n",
      "2022-10-27 03:00:54,184 INFO Downloading https://download-0013-clone.copernicus-climate.eu/cache-compute-0013/cache/data1/adaptor.mars.internal-1666835928.5867507-6783-15-a613af5e-0c1a-4027-afc2-460280ff035d.nc to c:\\Users\\sceac10\\OneDrive - Cardiff University\\General\\data\\Birmingham_netcdf_data\\Birmingham_surface_net_solar_radiation_2022.nc (30.9K)\n",
      "2022-10-27 03:00:54,425 INFO Download rate 128.9K/s\n",
      "2022-10-27 03:00:54,527 INFO Welcome to the CDS\n",
      "2022-10-27 03:00:54,527 INFO Sending request to https://cds.climate.copernicus.eu/api/v2/resources/reanalysis-era5-land\n",
      "2022-10-27 03:00:54,607 INFO Request is queued\n"
     ]
    },
    {
     "name": "stdout",
     "output_type": "stream",
     "text": [
      "Coventry [52.41, -1.51, 52.4, -1.5]\n"
     ]
    },
    {
     "name": "stderr",
     "output_type": "stream",
     "text": [
      "2022-10-27 03:00:55,667 INFO Request is running\n",
      "2022-10-27 03:15:14,036 INFO Request is completed\n",
      "2022-10-27 03:15:14,037 INFO Downloading https://download-0021.copernicus-climate.eu/cache-compute-0021/cache/data7/adaptor.mars.internal-1666836828.7259865-23702-3-94cea706-5598-41af-87ab-e872965bc19b.nc to c:\\Users\\sceac10\\OneDrive - Cardiff University\\General\\data\\Coventry_netcdf_data\\Coventry_surface_net_solar_radiation_2022.nc (30.9K)\n",
      "2022-10-27 03:15:14,299 INFO Download rate 117.9K/s\n",
      "2022-10-27 03:15:14,408 INFO Welcome to the CDS\n",
      "2022-10-27 03:15:14,409 INFO Sending request to https://cds.climate.copernicus.eu/api/v2/resources/reanalysis-era5-land\n",
      "2022-10-27 03:15:14,482 INFO Request is queued\n"
     ]
    },
    {
     "name": "stdout",
     "output_type": "stream",
     "text": [
      "Dudley [52.51, -2.08, 52.5, -2.07]\n"
     ]
    },
    {
     "name": "stderr",
     "output_type": "stream",
     "text": [
      "2022-10-27 03:15:15,541 INFO Request is running\n",
      "2022-10-27 03:29:33,954 INFO Request is completed\n",
      "2022-10-27 03:29:33,954 INFO Downloading https://download-0001-clone.copernicus-climate.eu/cache-compute-0001/cache/data1/adaptor.mars.internal-1666837673.705815-2441-7-734e1a88-ac47-4d41-95fd-a4958b86b95c.nc to c:\\Users\\sceac10\\OneDrive - Cardiff University\\General\\data\\Dudley_netcdf_data\\Dudley_surface_net_solar_radiation_2022.nc (30.9K)\n",
      "2022-10-27 03:29:34,221 INFO Download rate 116.3K/s\n",
      "2022-10-27 03:29:34,329 INFO Welcome to the CDS\n",
      "2022-10-27 03:29:34,330 INFO Sending request to https://cds.climate.copernicus.eu/api/v2/resources/reanalysis-era5-land\n",
      "2022-10-27 03:29:34,404 INFO Request is queued\n"
     ]
    },
    {
     "name": "stdout",
     "output_type": "stream",
     "text": [
      "Sandwell [52.52, -2.01, 52.51, -2.0]\n"
     ]
    },
    {
     "name": "stderr",
     "output_type": "stream",
     "text": [
      "2022-10-27 03:29:35,472 INFO Request is running\n",
      "2022-10-27 03:43:53,800 INFO Request is completed\n",
      "2022-10-27 03:43:53,801 INFO Downloading https://download-0017.copernicus-climate.eu/cache-compute-0017/cache/data9/adaptor.mars.internal-1666838513.7408512-17511-7-570c2730-9a35-4b76-941d-c622b7960824.nc to c:\\Users\\sceac10\\OneDrive - Cardiff University\\General\\data\\Sandwell_netcdf_data\\Sandwell_surface_net_solar_radiation_2022.nc (30.9K)\n",
      "2022-10-27 03:43:54,058 INFO Download rate 121.3K/s\n",
      "2022-10-27 03:43:54,156 INFO Welcome to the CDS\n",
      "2022-10-27 03:43:54,157 INFO Sending request to https://cds.climate.copernicus.eu/api/v2/resources/reanalysis-era5-land\n",
      "2022-10-27 03:43:54,237 INFO Request is queued\n"
     ]
    },
    {
     "name": "stdout",
     "output_type": "stream",
     "text": [
      "Solihull [52.41, -1.78, 52.4, -1.77]\n"
     ]
    },
    {
     "name": "stderr",
     "output_type": "stream",
     "text": [
      "2022-10-27 03:43:55,287 INFO Request is running\n",
      "2022-10-27 03:58:13,556 INFO Request is completed\n",
      "2022-10-27 03:58:13,557 INFO Downloading https://download-0017.copernicus-climate.eu/cache-compute-0017/cache/data2/adaptor.mars.internal-1666839414.8168168-19858-18-0bb7b392-a678-4304-b4e0-fcb5e837ba09.nc to c:\\Users\\sceac10\\OneDrive - Cardiff University\\General\\data\\Solihull_netcdf_data\\Solihull_surface_net_solar_radiation_2022.nc (30.9K)\n",
      "2022-10-27 03:58:13,817 INFO Download rate 120K/s\n",
      "2022-10-27 03:58:13,926 INFO Welcome to the CDS\n",
      "2022-10-27 03:58:13,927 INFO Sending request to https://cds.climate.copernicus.eu/api/v2/resources/reanalysis-era5-land\n",
      "2022-10-27 03:58:13,983 INFO Request is queued\n"
     ]
    },
    {
     "name": "stdout",
     "output_type": "stream",
     "text": [
      "Walsall [52.58, -1.98, 52.57, -1.97]\n"
     ]
    },
    {
     "name": "stderr",
     "output_type": "stream",
     "text": [
      "2022-10-27 03:58:15,040 INFO Request is running\n",
      "2022-10-27 04:12:33,395 INFO Request is completed\n",
      "2022-10-27 04:12:33,395 INFO Downloading https://download-0004-clone.copernicus-climate.eu/cache-compute-0004/cache/data6/adaptor.mars.internal-1666840293.8102975-31210-9-d6d36da1-eab1-4652-855e-364c7ff01791.nc to c:\\Users\\sceac10\\OneDrive - Cardiff University\\General\\data\\Walsall_netcdf_data\\Walsall_surface_net_solar_radiation_2022.nc (30.9K)\n",
      "2022-10-27 04:12:33,668 INFO Download rate 113.8K/s\n",
      "2022-10-27 04:12:33,766 INFO Welcome to the CDS\n",
      "2022-10-27 04:12:33,766 INFO Sending request to https://cds.climate.copernicus.eu/api/v2/resources/reanalysis-era5-land\n",
      "2022-10-27 04:12:33,818 INFO Request is queued\n"
     ]
    },
    {
     "name": "stdout",
     "output_type": "stream",
     "text": [
      "Wolverhampton [52.58, -2.13, 52.57, -2.12]\n"
     ]
    },
    {
     "name": "stderr",
     "output_type": "stream",
     "text": [
      "2022-10-27 04:12:34,874 INFO Request is running\n",
      "2022-10-27 04:26:53,157 INFO Request is completed\n",
      "2022-10-27 04:26:53,158 INFO Downloading https://download-0000-clone.copernicus-climate.eu/cache-compute-0000/cache/data9/adaptor.mars.internal-1666841128.430284-24933-12-bc056ec9-7b7c-40a8-9e25-9d9242cf8720.nc to c:\\Users\\sceac10\\OneDrive - Cardiff University\\General\\data\\Wolverhampton_netcdf_data\\Wolverhampton_surface_net_solar_radiation_2022.nc (30.9K)\n",
      "2022-10-27 04:26:53,425 INFO Download rate 116.5K/s\n",
      "2022-10-27 04:26:53,530 INFO Welcome to the CDS\n",
      "2022-10-27 04:26:53,531 INFO Sending request to https://cds.climate.copernicus.eu/api/v2/resources/reanalysis-era5-land\n",
      "2022-10-27 04:26:53,595 INFO Request is queued\n"
     ]
    },
    {
     "name": "stdout",
     "output_type": "stream",
     "text": [
      "Bradford [53.79, -1.75, 53.78, -1.74]\n"
     ]
    },
    {
     "name": "stderr",
     "output_type": "stream",
     "text": [
      "2022-10-27 04:26:54,660 INFO Request is running\n",
      "2022-10-27 04:41:13,108 INFO Request is completed\n",
      "2022-10-27 04:41:13,109 INFO Downloading https://download-0016.copernicus-climate.eu/cache-compute-0016/cache/data0/adaptor.mars.internal-1666841975.1950917-23204-13-319fef94-a6a7-4843-b6d0-d5afb9feed40.nc to c:\\Users\\sceac10\\OneDrive - Cardiff University\\General\\data\\Bradford_netcdf_data\\Bradford_surface_net_solar_radiation_2022.nc (31K)\n",
      "2022-10-27 04:41:13,397 INFO Download rate 107.9K/s\n",
      "2022-10-27 04:41:13,500 INFO Welcome to the CDS\n",
      "2022-10-27 04:41:13,501 INFO Sending request to https://cds.climate.copernicus.eu/api/v2/resources/reanalysis-era5-land\n",
      "2022-10-27 04:41:13,574 INFO Request is queued\n"
     ]
    },
    {
     "name": "stdout",
     "output_type": "stream",
     "text": [
      "Calderdale [53.72, -1.96, 53.71, -1.95]\n"
     ]
    },
    {
     "name": "stderr",
     "output_type": "stream",
     "text": [
      "2022-10-27 04:41:14,632 INFO Request is running\n",
      "2022-10-27 04:55:32,894 INFO Request is completed\n",
      "2022-10-27 04:55:32,895 INFO Downloading https://download-0001-clone.copernicus-climate.eu/cache-compute-0001/cache/data5/adaptor.mars.internal-1666842853.8308966-5036-20-fdcd5fda-d92b-48b7-adf6-aecbc9255f93.nc to c:\\Users\\sceac10\\OneDrive - Cardiff University\\General\\data\\Calderdale_netcdf_data\\Calderdale_surface_net_solar_radiation_2022.nc (30.9K)\n",
      "2022-10-27 04:55:33,177 INFO Download rate 109.8K/s\n",
      "2022-10-27 04:55:33,284 INFO Welcome to the CDS\n",
      "2022-10-27 04:55:33,285 INFO Sending request to https://cds.climate.copernicus.eu/api/v2/resources/reanalysis-era5-land\n",
      "2022-10-27 04:55:33,342 INFO Request is queued\n"
     ]
    },
    {
     "name": "stdout",
     "output_type": "stream",
     "text": [
      "Kirklees [53.64, -1.78, 53.63, -1.77]\n"
     ]
    },
    {
     "name": "stderr",
     "output_type": "stream",
     "text": [
      "2022-10-27 04:55:34,405 INFO Request is running\n",
      "2022-10-27 05:09:52,738 INFO Request is completed\n",
      "2022-10-27 05:09:52,739 INFO Downloading https://download-0002-clone.copernicus-climate.eu/cache-compute-0002/cache/data3/adaptor.mars.internal-1666843705.1925428-23766-13-301c8dbe-1d39-4373-8444-62637e05adbd.nc to c:\\Users\\sceac10\\OneDrive - Cardiff University\\General\\data\\Kirklees_netcdf_data\\Kirklees_surface_net_solar_radiation_2022.nc (31K)\n",
      "2022-10-27 05:09:52,972 INFO Download rate 132.9K/s\n",
      "2022-10-27 05:09:53,075 INFO Welcome to the CDS\n",
      "2022-10-27 05:09:53,076 INFO Sending request to https://cds.climate.copernicus.eu/api/v2/resources/reanalysis-era5-land\n",
      "2022-10-27 05:09:53,167 INFO Request is queued\n"
     ]
    },
    {
     "name": "stdout",
     "output_type": "stream",
     "text": [
      "Leeds [53.8, -1.54, 53.79, -1.53]\n"
     ]
    },
    {
     "name": "stderr",
     "output_type": "stream",
     "text": [
      "2022-10-27 05:09:54,228 INFO Request is running\n",
      "2022-10-27 05:24:12,513 INFO Request is completed\n",
      "2022-10-27 05:24:12,514 INFO Downloading https://download-0013-clone.copernicus-climate.eu/cache-compute-0013/cache/data1/adaptor.mars.internal-1666844555.522564-24366-12-aef436c2-4702-48c1-b7ed-05e82b96cfba.nc to c:\\Users\\sceac10\\OneDrive - Cardiff University\\General\\data\\Leeds_netcdf_data\\Leeds_surface_net_solar_radiation_2022.nc (30.9K)\n",
      "2022-10-27 05:24:12,783 INFO Download rate 115.2K/s\n",
      "2022-10-27 05:24:12,888 INFO Welcome to the CDS\n",
      "2022-10-27 05:24:12,889 INFO Sending request to https://cds.climate.copernicus.eu/api/v2/resources/reanalysis-era5-land\n",
      "2022-10-27 05:24:12,944 INFO Request is queued\n"
     ]
    },
    {
     "name": "stdout",
     "output_type": "stream",
     "text": [
      "Wakefield [53.68, -1.5, 53.67, -1.49]\n"
     ]
    },
    {
     "name": "stderr",
     "output_type": "stream",
     "text": [
      "2022-10-27 05:24:14,001 INFO Request is running\n",
      "2022-10-27 05:38:32,288 INFO Request is completed\n",
      "2022-10-27 05:38:32,289 INFO Downloading https://download-0021.copernicus-climate.eu/cache-compute-0021/cache/data7/adaptor.mars.internal-1666845412.1490498-692-3-077b02c4-2845-4259-becc-e4ee181d658d.nc to c:\\Users\\sceac10\\OneDrive - Cardiff University\\General\\data\\Wakefield_netcdf_data\\Wakefield_surface_net_solar_radiation_2022.nc (30.9K)\n",
      "2022-10-27 05:38:32,552 INFO Download rate 118.1K/s\n",
      "2022-10-27 05:38:32,661 INFO Welcome to the CDS\n",
      "2022-10-27 05:38:32,662 INFO Sending request to https://cds.climate.copernicus.eu/api/v2/resources/reanalysis-era5-land\n",
      "2022-10-27 05:38:32,732 INFO Request is queued\n"
     ]
    },
    {
     "name": "stdout",
     "output_type": "stream",
     "text": [
      "Hartlepool [54.69, -1.21, 54.68, -1.2]\n"
     ]
    },
    {
     "name": "stderr",
     "output_type": "stream",
     "text": [
      "2022-10-27 05:38:33,789 INFO Request is running\n",
      "2022-10-27 05:52:52,147 INFO Request is completed\n",
      "2022-10-27 05:52:52,148 INFO Downloading https://download-0007-clone.copernicus-climate.eu/cache-compute-0007/cache/data3/adaptor.mars.internal-1666846254.1057205-21891-12-2ea5f767-6878-4941-903f-73ead610f2b3.nc to c:\\Users\\sceac10\\OneDrive - Cardiff University\\General\\data\\Hartlepool_netcdf_data\\Hartlepool_surface_net_solar_radiation_2022.nc (31K)\n",
      "2022-10-27 05:52:52,411 INFO Download rate 117.7K/s\n",
      "2022-10-27 05:52:52,509 INFO Welcome to the CDS\n",
      "2022-10-27 05:52:52,510 INFO Sending request to https://cds.climate.copernicus.eu/api/v2/resources/reanalysis-era5-land\n",
      "2022-10-27 05:52:52,621 INFO Request is queued\n"
     ]
    },
    {
     "name": "stdout",
     "output_type": "stream",
     "text": [
      "Middlesbrough [54.58, -1.23, 54.57, -1.22]\n"
     ]
    },
    {
     "name": "stderr",
     "output_type": "stream",
     "text": [
      "2022-10-27 05:52:53,679 INFO Request is running\n",
      "2022-10-27 06:07:11,958 INFO Request is completed\n",
      "2022-10-27 06:07:11,959 INFO Downloading https://download-0007-clone.copernicus-climate.eu/cache-compute-0007/cache/data4/adaptor.mars.internal-1666847104.3611612-3191-3-df403994-f433-408d-bbf3-22827ee26060.nc to c:\\Users\\sceac10\\OneDrive - Cardiff University\\General\\data\\Middlesbrough_netcdf_data\\Middlesbrough_surface_net_solar_radiation_2022.nc (30.9K)\n",
      "2022-10-27 06:07:12,185 INFO Download rate 137.6K/s\n",
      "2022-10-27 06:07:12,287 INFO Welcome to the CDS\n",
      "2022-10-27 06:07:12,288 INFO Sending request to https://cds.climate.copernicus.eu/api/v2/resources/reanalysis-era5-land\n",
      "2022-10-27 06:07:12,371 INFO Request is queued\n"
     ]
    },
    {
     "name": "stdout",
     "output_type": "stream",
     "text": [
      "Redcar and Cleveland [54.57, -1.01, 54.56, -1.0]\n"
     ]
    },
    {
     "name": "stderr",
     "output_type": "stream",
     "text": [
      "2022-10-27 06:07:13,428 INFO Request is running\n",
      "2022-10-27 06:21:31,735 INFO Request is completed\n",
      "2022-10-27 06:21:31,736 INFO Downloading https://download-0020.copernicus-climate.eu/cache-compute-0020/cache/data4/adaptor.mars.internal-1666848025.6090434-8767-9-8c565595-fbfe-4b4b-aaac-2465891026e9.nc to c:\\Users\\sceac10\\OneDrive - Cardiff University\\General\\data\\Redcar and Cleveland_netcdf_data\\Redcar and Cleveland_surface_net_solar_radiation_2022.nc (30.9K)\n",
      "2022-10-27 06:21:31,982 INFO Download rate 126K/s\n",
      "2022-10-27 06:21:32,090 INFO Welcome to the CDS\n",
      "2022-10-27 06:21:32,091 INFO Sending request to https://cds.climate.copernicus.eu/api/v2/resources/reanalysis-era5-land\n",
      "2022-10-27 06:21:32,200 INFO Request is queued\n"
     ]
    },
    {
     "name": "stdout",
     "output_type": "stream",
     "text": [
      "Stockton-on-Tees [54.56, -1.31, 54.55, -1.3]\n"
     ]
    },
    {
     "name": "stderr",
     "output_type": "stream",
     "text": [
      "2022-10-27 06:21:33,264 INFO Request is running\n",
      "2022-10-27 06:35:51,645 INFO Request is completed\n",
      "2022-10-27 06:35:51,645 INFO Downloading https://download-0013-clone.copernicus-climate.eu/cache-compute-0013/cache/data5/adaptor.mars.internal-1666848843.421063-23716-19-fa157686-dce1-4428-80f9-cc6566252b53.nc to c:\\Users\\sceac10\\OneDrive - Cardiff University\\General\\data\\Stockton-on-Tees_netcdf_data\\Stockton-on-Tees_surface_net_solar_radiation_2022.nc (30.9K)\n",
      "2022-10-27 06:35:51,918 INFO Download rate 113.8K/s\n",
      "2022-10-27 06:35:52,017 INFO Welcome to the CDS\n",
      "2022-10-27 06:35:52,018 INFO Sending request to https://cds.climate.copernicus.eu/api/v2/resources/reanalysis-era5-land\n",
      "2022-10-27 06:35:52,100 INFO Request is queued\n"
     ]
    },
    {
     "name": "stdout",
     "output_type": "stream",
     "text": [
      "Darlington [54.52, -1.56, 54.51, -1.55]\n"
     ]
    },
    {
     "name": "stderr",
     "output_type": "stream",
     "text": [
      "2022-10-27 06:35:53,162 INFO Request is running\n",
      "2022-10-27 06:50:11,492 INFO Request is completed\n",
      "2022-10-27 06:50:11,493 INFO Downloading https://download-0017.copernicus-climate.eu/cache-compute-0017/cache/data3/adaptor.mars.internal-1666849741.5530014-25447-8-61846f55-9b5a-4550-944c-89c737d172c5.nc to c:\\Users\\sceac10\\OneDrive - Cardiff University\\General\\data\\Darlington_netcdf_data\\Darlington_surface_net_solar_radiation_2022.nc (30.9K)\n",
      "2022-10-27 06:50:11,731 INFO Download rate 130K/s\n",
      "2022-10-27 06:50:11,830 INFO Welcome to the CDS\n",
      "2022-10-27 06:50:11,830 INFO Sending request to https://cds.climate.copernicus.eu/api/v2/resources/reanalysis-era5-land\n",
      "2022-10-27 06:50:11,922 INFO Request is queued\n"
     ]
    },
    {
     "name": "stdout",
     "output_type": "stream",
     "text": [
      "Halton [53.35, -2.74, 53.34, -2.73]\n"
     ]
    },
    {
     "name": "stderr",
     "output_type": "stream",
     "text": [
      "2022-10-27 06:50:12,978 INFO Request is running\n",
      "2022-10-27 07:04:31,259 INFO Request is completed\n",
      "2022-10-27 07:04:31,259 INFO Downloading https://download-0015-clone.copernicus-climate.eu/cache-compute-0015/cache/data1/adaptor.mars.internal-1666850571.7828257-11154-16-03ff901c-b640-4d1c-a0bf-c56c00e49c3d.nc to c:\\Users\\sceac10\\OneDrive - Cardiff University\\General\\data\\Halton_netcdf_data\\Halton_surface_net_solar_radiation_2022.nc (30.9K)\n",
      "2022-10-27 07:04:31,521 INFO Download rate 118.6K/s\n",
      "2022-10-27 07:04:31,639 INFO Welcome to the CDS\n",
      "2022-10-27 07:04:31,639 INFO Sending request to https://cds.climate.copernicus.eu/api/v2/resources/reanalysis-era5-land\n",
      "2022-10-27 07:04:31,741 INFO Request is queued\n"
     ]
    },
    {
     "name": "stdout",
     "output_type": "stream",
     "text": [
      "Warrington [53.39, -2.59, 53.38, -2.58]\n"
     ]
    },
    {
     "name": "stderr",
     "output_type": "stream",
     "text": [
      "2022-10-27 07:04:32,795 INFO Request is running\n",
      "2022-10-27 07:18:51,169 INFO Request is completed\n",
      "2022-10-27 07:18:51,171 INFO Downloading https://download-0021.copernicus-climate.eu/cache-compute-0021/cache/data6/adaptor.mars.internal-1666851427.067723-20511-7-39f50c4c-06c6-4a4c-ad72-aecdfe3c6828.nc to c:\\Users\\sceac10\\OneDrive - Cardiff University\\General\\data\\Warrington_netcdf_data\\Warrington_surface_net_solar_radiation_2022.nc (30.9K)\n",
      "2022-10-27 07:18:51,423 INFO Download rate 123.1K/s\n",
      "2022-10-27 07:18:51,566 INFO Welcome to the CDS\n",
      "2022-10-27 07:18:51,567 INFO Sending request to https://cds.climate.copernicus.eu/api/v2/resources/reanalysis-era5-land\n",
      "2022-10-27 07:18:51,668 INFO Request is queued\n"
     ]
    },
    {
     "name": "stdout",
     "output_type": "stream",
     "text": [
      "Blackburn with Darwen [53.7, -2.47, 53.69, -2.46]\n"
     ]
    },
    {
     "name": "stderr",
     "output_type": "stream",
     "text": [
      "2022-10-27 07:18:52,747 INFO Request is running\n",
      "2022-10-27 07:33:11,323 INFO Request is completed\n",
      "2022-10-27 07:33:11,324 INFO Downloading https://download-0014-clone.copernicus-climate.eu/cache-compute-0014/cache/data3/adaptor.mars.internal-1666852312.7948337-30118-3-dbe799d1-8fb2-447d-a5f3-0727df4c210d.nc to c:\\Users\\sceac10\\OneDrive - Cardiff University\\General\\data\\Blackburn with Darwen_netcdf_data\\Blackburn with Darwen_surface_net_solar_radiation_2022.nc (30.9K)\n",
      "2022-10-27 07:33:11,590 INFO Download rate 116.8K/s\n",
      "2022-10-27 07:33:11,700 INFO Welcome to the CDS\n",
      "2022-10-27 07:33:11,701 INFO Sending request to https://cds.climate.copernicus.eu/api/v2/resources/reanalysis-era5-land\n"
     ]
    },
    {
     "name": "stdout",
     "output_type": "stream",
     "text": [
      "Blackpool [53.82, -3.05, 53.81, -3.04]\n"
     ]
    },
    {
     "name": "stderr",
     "output_type": "stream",
     "text": [
      "2022-10-27 07:33:11,869 INFO Request is queued\n",
      "2022-10-27 07:33:12,933 INFO Request is running\n",
      "2022-10-27 07:47:31,307 INFO Request is completed\n",
      "2022-10-27 07:47:31,308 INFO Downloading https://download-0020.copernicus-climate.eu/cache-compute-0020/cache/data0/adaptor.mars.internal-1666853152.9458797-28633-3-f26e032c-0496-4d56-b315-3f5838670dc6.nc to c:\\Users\\sceac10\\OneDrive - Cardiff University\\General\\data\\Blackpool_netcdf_data\\Blackpool_surface_net_solar_radiation_2022.nc (30.9K)\n",
      "2022-10-27 07:47:31,553 INFO Download rate 126.5K/s\n",
      "2022-10-27 07:47:31,665 INFO Welcome to the CDS\n",
      "2022-10-27 07:47:31,666 INFO Sending request to https://cds.climate.copernicus.eu/api/v2/resources/reanalysis-era5-land\n",
      "2022-10-27 07:47:31,760 INFO Request is queued\n"
     ]
    },
    {
     "name": "stdout",
     "output_type": "stream",
     "text": [
      "Kingston upon Hull [53.74, -0.34, 53.73, -0.33]\n"
     ]
    },
    {
     "name": "stderr",
     "output_type": "stream",
     "text": [
      "2022-10-27 07:47:32,827 INFO Request is running\n",
      "2022-10-27 08:01:51,189 INFO Request is completed\n",
      "2022-10-27 08:01:51,190 INFO Downloading https://download-0001-clone.copernicus-climate.eu/cache-compute-0001/cache/data6/adaptor.mars.internal-1666854007.3115256-22544-2-213a37aa-f229-4656-a376-df640253e822.nc to c:\\Users\\sceac10\\OneDrive - Cardiff University\\General\\data\\Kingston upon Hull_netcdf_data\\Kingston upon Hull_surface_net_solar_radiation_2022.nc (30.9K)\n",
      "2022-10-27 08:01:51,454 INFO Download rate 117.2K/s\n",
      "2022-10-27 08:01:51,551 INFO Welcome to the CDS\n",
      "2022-10-27 08:01:51,552 INFO Sending request to https://cds.climate.copernicus.eu/api/v2/resources/reanalysis-era5-land\n",
      "2022-10-27 08:01:51,625 INFO Request is queued\n"
     ]
    },
    {
     "name": "stdout",
     "output_type": "stream",
     "text": [
      "East Riding of Yorkshire [53.91, -0.58, 53.9, -0.57]\n"
     ]
    },
    {
     "name": "stderr",
     "output_type": "stream",
     "text": [
      "2022-10-27 08:01:52,676 INFO Request is running\n",
      "2022-10-27 08:16:10,935 INFO Request is completed\n",
      "2022-10-27 08:16:10,936 INFO Downloading https://download-0001-clone.copernicus-climate.eu/cache-compute-0001/cache/data6/adaptor.mars.internal-1666854871.4531717-1416-3-381f814c-630b-46ea-a1ce-94c6382d2a70.nc to c:\\Users\\sceac10\\OneDrive - Cardiff University\\General\\data\\East Riding of Yorkshire_netcdf_data\\East Riding of Yorkshire_surface_net_solar_radiation_2022.nc (30.9K)\n",
      "2022-10-27 08:16:11,174 INFO Download rate 130.6K/s\n",
      "2022-10-27 08:16:11,276 INFO Welcome to the CDS\n",
      "2022-10-27 08:16:11,277 INFO Sending request to https://cds.climate.copernicus.eu/api/v2/resources/reanalysis-era5-land\n",
      "2022-10-27 08:16:11,367 INFO Request is queued\n"
     ]
    },
    {
     "name": "stdout",
     "output_type": "stream",
     "text": [
      "North East Lincolnshire [53.54, -0.09, 53.53, -0.08]\n"
     ]
    },
    {
     "name": "stderr",
     "output_type": "stream",
     "text": [
      "2022-10-27 08:16:12,426 INFO Request is running\n",
      "2022-10-27 10:18:44,956 WARNING Recovering from HTTP error [500 Internal Server Error], attemps 0 of 500\n",
      "2022-10-27 10:18:44,957 WARNING Retrying in 120 seconds\n",
      "2022-10-27 10:20:44,968 INFO Retrying now...\n",
      "2022-10-27 10:21:15,158 WARNING Recovering from HTTP error [500 Internal Server Error], attemps 1 of 500\n",
      "2022-10-27 10:21:15,159 WARNING Retrying in 120 seconds\n",
      "2022-10-27 10:23:15,163 INFO Retrying now...\n",
      "2022-10-27 10:23:15,374 INFO Request is completed\n",
      "2022-10-27 10:23:15,375 INFO Downloading https://download-0012-clone.copernicus-climate.eu/cache-compute-0012/cache/data3/adaptor.mars.internal-1666862378.0571325-1894-1-d74fd6da-c49f-4420-b05b-fa9964c29c7d.nc to c:\\Users\\sceac10\\OneDrive - Cardiff University\\General\\data\\North East Lincolnshire_netcdf_data\\North East Lincolnshire_surface_net_solar_radiation_2022.nc (30.9K)\n",
      "2022-10-27 10:23:15,759 INFO Download rate 80.7K/s\n",
      "2022-10-27 10:23:16,239 INFO Welcome to the CDS\n",
      "2022-10-27 10:23:16,240 INFO Sending request to https://cds.climate.copernicus.eu/api/v2/resources/reanalysis-era5-land\n"
     ]
    },
    {
     "name": "stdout",
     "output_type": "stream",
     "text": [
      "North Lincolnshire [53.59, -0.6, 53.58, -0.59]\n"
     ]
    },
    {
     "name": "stderr",
     "output_type": "stream",
     "text": [
      "2022-10-27 10:23:16,481 INFO Request is queued\n",
      "2022-10-27 10:51:37,439 INFO Request is running\n",
      "2022-10-27 11:05:38,979 INFO Request is completed\n",
      "2022-10-27 11:05:38,979 INFO Downloading https://download-0007-clone.copernicus-climate.eu/cache-compute-0007/cache/data6/adaptor.mars.internal-1666865027.176155-12551-7-d3013d5b-c67d-4250-aba0-a39dab392943.nc to c:\\Users\\sceac10\\OneDrive - Cardiff University\\General\\data\\North Lincolnshire_netcdf_data\\North Lincolnshire_surface_net_solar_radiation_2022.nc (30.9K)\n",
      "2022-10-27 11:05:39,244 INFO Download rate 117K/s\n",
      "2022-10-27 11:05:39,355 INFO Welcome to the CDS\n",
      "2022-10-27 11:05:39,356 INFO Sending request to https://cds.climate.copernicus.eu/api/v2/resources/reanalysis-era5-land\n",
      "2022-10-27 11:05:39,447 INFO Request is queued\n"
     ]
    },
    {
     "name": "stdout",
     "output_type": "stream",
     "text": [
      "York [53.96, -1.08, 53.95, -1.07]\n"
     ]
    },
    {
     "name": "stderr",
     "output_type": "stream",
     "text": [
      "2022-10-27 11:13:58,295 INFO Request is running\n",
      "2022-10-27 11:27:59,750 INFO Request is completed\n",
      "2022-10-27 11:27:59,751 INFO Downloading https://download-0008-clone.copernicus-climate.eu/cache-compute-0008/cache/data9/adaptor.mars.internal-1666866346.8013089-16582-8-2d747a94-962d-404e-a5b2-89ae0c6c710f.nc to c:\\Users\\sceac10\\OneDrive - Cardiff University\\General\\data\\York_netcdf_data\\York_surface_net_solar_radiation_2022.nc (30.9K)\n",
      "2022-10-27 11:28:00,003 INFO Download rate 122.8K/s\n",
      "2022-10-27 11:28:00,109 INFO Welcome to the CDS\n",
      "2022-10-27 11:28:00,110 INFO Sending request to https://cds.climate.copernicus.eu/api/v2/resources/reanalysis-era5-land\n",
      "2022-10-27 11:28:00,199 INFO Request is queued\n"
     ]
    },
    {
     "name": "stdout",
     "output_type": "stream",
     "text": [
      "Derby [52.92, -1.48, 52.91, -1.47]\n"
     ]
    },
    {
     "name": "stderr",
     "output_type": "stream",
     "text": [
      "2022-10-27 11:28:05,140 INFO Request is running\n",
      "2022-10-27 11:42:19,578 INFO Request is completed\n",
      "2022-10-27 11:42:19,578 INFO Downloading https://download-0011-clone.copernicus-climate.eu/cache-compute-0011/cache/data2/adaptor.mars.internal-1666867228.688316-27296-16-9f3327f7-79b3-4db4-ad1d-dca2b894db0f.nc to c:\\Users\\sceac10\\OneDrive - Cardiff University\\General\\data\\Derby_netcdf_data\\Derby_surface_net_solar_radiation_2022.nc (30.9K)\n",
      "2022-10-27 11:42:19,875 INFO Download rate 105K/s\n",
      "2022-10-27 11:42:19,976 INFO Welcome to the CDS\n",
      "2022-10-27 11:42:19,978 INFO Sending request to https://cds.climate.copernicus.eu/api/v2/resources/reanalysis-era5-land\n",
      "2022-10-27 11:42:20,033 INFO Request is queued\n"
     ]
    },
    {
     "name": "stdout",
     "output_type": "stream",
     "text": [
      "Leicester [52.64, -1.13, 52.63, -1.12]\n"
     ]
    },
    {
     "name": "stderr",
     "output_type": "stream",
     "text": [
      "2022-10-27 11:42:22,644 INFO Request is running\n",
      "2022-10-27 11:56:39,401 INFO Request is completed\n",
      "2022-10-27 11:56:39,402 INFO Downloading https://download-0009-clone.copernicus-climate.eu/cache-compute-0009/cache/data8/adaptor.mars.internal-1666868102.215281-24091-11-ac2ee23d-b975-4810-8729-ac21089e6570.nc to c:\\Users\\sceac10\\OneDrive - Cardiff University\\General\\data\\Leicester_netcdf_data\\Leicester_surface_net_solar_radiation_2022.nc (30.9K)\n",
      "2022-10-27 11:56:39,656 INFO Download rate 122.3K/s\n",
      "2022-10-27 11:56:39,770 INFO Welcome to the CDS\n",
      "2022-10-27 11:56:39,771 INFO Sending request to https://cds.climate.copernicus.eu/api/v2/resources/reanalysis-era5-land\n",
      "2022-10-27 11:56:39,882 INFO Request is queued\n"
     ]
    },
    {
     "name": "stdout",
     "output_type": "stream",
     "text": [
      "Rutland [52.64, -0.66, 52.63, -0.65]\n"
     ]
    },
    {
     "name": "stderr",
     "output_type": "stream",
     "text": [
      "2022-10-27 11:58:33,839 INFO Request is running\n",
      "2022-10-27 12:10:59,340 INFO Request is completed\n",
      "2022-10-27 12:10:59,341 INFO Downloading https://download-0018.copernicus-climate.eu/cache-compute-0018/cache/data9/adaptor.mars.internal-1666869031.0733037-31489-2-d4822ddc-cf86-4e25-890c-49017652a0be.nc to c:\\Users\\sceac10\\OneDrive - Cardiff University\\General\\data\\Rutland_netcdf_data\\Rutland_surface_net_solar_radiation_2022.nc (30.9K)\n",
      "2022-10-27 12:10:59,604 INFO Download rate 118.1K/s\n",
      "2022-10-27 12:10:59,711 INFO Welcome to the CDS\n",
      "2022-10-27 12:10:59,712 INFO Sending request to https://cds.climate.copernicus.eu/api/v2/resources/reanalysis-era5-land\n",
      "2022-10-27 12:10:59,779 INFO Request is queued\n"
     ]
    },
    {
     "name": "stdout",
     "output_type": "stream",
     "text": [
      "Nottingham [52.95, -1.15, 52.94, -1.14]\n"
     ]
    },
    {
     "name": "stderr",
     "output_type": "stream",
     "text": [
      "2022-10-27 12:17:18,436 INFO Request is running\n",
      "2022-10-27 12:29:19,693 INFO Request is completed\n",
      "2022-10-27 12:29:19,694 INFO Downloading https://download-0017.copernicus-climate.eu/cache-compute-0017/cache/data4/adaptor.mars.internal-1666870118.6052592-18970-16-b2b7c7b0-f8de-4170-9c10-e812307f6f11.nc to c:\\Users\\sceac10\\OneDrive - Cardiff University\\General\\data\\Nottingham_netcdf_data\\Nottingham_surface_net_solar_radiation_2022.nc (31K)\n",
      "2022-10-27 12:29:19,942 INFO Download rate 124.8K/s\n",
      "2022-10-27 12:29:20,047 INFO Welcome to the CDS\n",
      "2022-10-27 12:29:20,048 INFO Sending request to https://cds.climate.copernicus.eu/api/v2/resources/reanalysis-era5-land\n",
      "2022-10-27 12:29:20,130 INFO Request is queued\n"
     ]
    },
    {
     "name": "stdout",
     "output_type": "stream",
     "text": [
      "Herefordshire [52.08, -2.75, 52.07, -2.74]\n"
     ]
    },
    {
     "name": "stderr",
     "output_type": "stream",
     "text": [
      "2022-10-27 12:47:39,958 INFO Request is running\n",
      "2022-10-27 13:03:41,574 INFO Request is completed\n",
      "2022-10-27 13:03:41,575 INFO Downloading https://download-0003-clone.copernicus-climate.eu/cache-compute-0003/cache/data2/adaptor.mars.internal-1666872178.6864219-4713-6-81219044-9408-4b6e-bd32-b74b4026489e.nc to c:\\Users\\sceac10\\OneDrive - Cardiff University\\General\\data\\Herefordshire_netcdf_data\\Herefordshire_surface_net_solar_radiation_2022.nc (30.9K)\n",
      "2022-10-27 13:03:41,838 INFO Download rate 118.3K/s\n",
      "2022-10-27 13:03:41,951 INFO Welcome to the CDS\n",
      "2022-10-27 13:03:41,952 INFO Sending request to https://cds.climate.copernicus.eu/api/v2/resources/reanalysis-era5-land\n",
      "2022-10-27 13:03:42,039 INFO Request is queued\n"
     ]
    },
    {
     "name": "stdout",
     "output_type": "stream",
     "text": [
      "Telford and Wrekin [52.72, -2.5, 52.71, -2.49]\n"
     ]
    },
    {
     "name": "stderr",
     "output_type": "stream",
     "text": [
      "2022-10-27 13:04:31,812 INFO Request is running\n",
      "2022-10-27 13:18:01,508 INFO Request is completed\n",
      "2022-10-27 13:18:01,509 INFO Downloading https://download-0014-clone.copernicus-climate.eu/cache-compute-0014/cache/data6/adaptor.mars.internal-1666873029.2329583-11962-12-c4d982a2-e7a2-42f2-b4f7-9cf684708a88.nc to c:\\Users\\sceac10\\OneDrive - Cardiff University\\General\\data\\Telford and Wrekin_netcdf_data\\Telford and Wrekin_surface_net_solar_radiation_2022.nc (31K)\n",
      "2022-10-27 13:18:01,766 INFO Download rate 120.9K/s\n",
      "2022-10-27 13:18:01,874 INFO Welcome to the CDS\n",
      "2022-10-27 13:18:01,876 INFO Sending request to https://cds.climate.copernicus.eu/api/v2/resources/reanalysis-era5-land\n",
      "2022-10-27 13:18:01,933 INFO Request is queued\n"
     ]
    },
    {
     "name": "stdout",
     "output_type": "stream",
     "text": [
      "Stoke-on-Trent [53.02, -2.18, 53.01, -2.17]\n"
     ]
    },
    {
     "name": "stderr",
     "output_type": "stream",
     "text": [
      "2022-10-27 13:18:10,304 INFO Request is running\n",
      "2022-10-27 13:32:21,352 INFO Request is completed\n",
      "2022-10-27 13:32:21,353 INFO Downloading https://download-0021.copernicus-climate.eu/cache-compute-0021/cache/data5/adaptor.mars.internal-1666873854.954186-19985-15-a1d61138-b091-4490-ab8a-6628b0dab7ee.nc to c:\\Users\\sceac10\\OneDrive - Cardiff University\\General\\data\\Stoke-on-Trent_netcdf_data\\Stoke-on-Trent_surface_net_solar_radiation_2022.nc (30.9K)\n",
      "2022-10-27 13:32:21,639 INFO Download rate 108.6K/s\n",
      "2022-10-27 13:32:21,748 INFO Welcome to the CDS\n",
      "2022-10-27 13:32:21,750 INFO Sending request to https://cds.climate.copernicus.eu/api/v2/resources/reanalysis-era5-land\n",
      "2022-10-27 13:32:21,811 INFO Request is queued\n"
     ]
    },
    {
     "name": "stdout",
     "output_type": "stream",
     "text": [
      "Bath and North East Somerset [51.36, -2.49, 51.35, -2.48]\n"
     ]
    },
    {
     "name": "stderr",
     "output_type": "stream",
     "text": [
      "2022-10-27 13:32:26,746 INFO Request is running\n",
      "2022-10-27 13:46:41,348 INFO Request is completed\n",
      "2022-10-27 13:46:41,349 INFO Downloading https://download-0012-clone.copernicus-climate.eu/cache-compute-0012/cache/data9/adaptor.mars.internal-1666874688.2443635-7905-18-a46809f9-dc0c-48e8-a7a9-98e76eca8c47.nc to c:\\Users\\sceac10\\OneDrive - Cardiff University\\General\\data\\Bath and North East Somerset_netcdf_data\\Bath and North East Somerset_surface_net_solar_radiation_2022.nc (30.9K)\n",
      "2022-10-27 13:46:41,614 INFO Download rate 117.5K/s\n",
      "2022-10-27 13:46:41,737 INFO Welcome to the CDS\n",
      "2022-10-27 13:46:41,738 INFO Sending request to https://cds.climate.copernicus.eu/api/v2/resources/reanalysis-era5-land\n",
      "2022-10-27 13:46:41,802 INFO Request is queued\n"
     ]
    },
    {
     "name": "stdout",
     "output_type": "stream",
     "text": [
      "Bristol [51.45, -2.6, 51.44, -2.59]\n"
     ]
    },
    {
     "name": "stderr",
     "output_type": "stream",
     "text": [
      "2022-10-27 13:46:46,763 INFO Request is running\n",
      "2022-10-27 13:53:00,379 INFO Request is queued\n",
      "2022-10-27 13:55:00,590 INFO Request is running\n",
      "2022-10-27 14:07:01,897 INFO Request is completed\n",
      "2022-10-27 14:07:01,898 INFO Downloading https://download-0010-clone.copernicus-climate.eu/cache-compute-0010/cache/data8/adaptor.mars.internal-1666875990.0314152-25773-11-04749c3a-66b1-4d30-b0b2-4f81244bf879.nc to c:\\Users\\sceac10\\OneDrive - Cardiff University\\General\\data\\Bristol_netcdf_data\\Bristol_surface_net_solar_radiation_2022.nc (31K)\n",
      "2022-10-27 14:07:02,183 INFO Download rate 108.3K/s\n",
      "2022-10-27 14:07:02,293 INFO Welcome to the CDS\n",
      "2022-10-27 14:07:02,294 INFO Sending request to https://cds.climate.copernicus.eu/api/v2/resources/reanalysis-era5-land\n",
      "2022-10-27 14:07:02,367 INFO Request is queued\n"
     ]
    },
    {
     "name": "stdout",
     "output_type": "stream",
     "text": [
      "North Somerset [51.4, -2.77, 51.39, -2.76]\n"
     ]
    },
    {
     "name": "stderr",
     "output_type": "stream",
     "text": [
      "2022-10-27 14:08:56,316 INFO Request is running\n",
      "2022-10-27 14:21:21,832 INFO Request is completed\n",
      "2022-10-27 14:21:21,833 INFO Downloading https://download-0012-clone.copernicus-climate.eu/cache-compute-0012/cache/data9/adaptor.mars.internal-1666876852.271297-6178-7-3c45d61b-edcb-4924-a974-e67c61ceb9f7.nc to c:\\Users\\sceac10\\OneDrive - Cardiff University\\General\\data\\North Somerset_netcdf_data\\North Somerset_surface_net_solar_radiation_2022.nc (30.9K)\n",
      "2022-10-27 14:21:22,138 INFO Download rate 101.8K/s\n",
      "2022-10-27 14:21:22,263 INFO Welcome to the CDS\n",
      "2022-10-27 14:21:22,264 INFO Sending request to https://cds.climate.copernicus.eu/api/v2/resources/reanalysis-era5-land\n",
      "2022-10-27 14:21:22,328 INFO Request is queued\n"
     ]
    },
    {
     "name": "stdout",
     "output_type": "stream",
     "text": [
      "South Gloucestershire [51.55, -2.48, 51.54, -2.47]\n"
     ]
    },
    {
     "name": "stderr",
     "output_type": "stream",
     "text": [
      "2022-10-27 14:25:40,799 INFO Request is running\n",
      "2022-10-27 14:39:42,265 INFO Request is completed\n",
      "2022-10-27 14:39:42,266 INFO Downloading https://download-0010-clone.copernicus-climate.eu/cache-compute-0010/cache/data3/adaptor.mars.internal-1666877882.1103256-25563-17-ccb4cfec-73ea-4a06-ba53-1fbed08a34ea.nc to c:\\Users\\sceac10\\OneDrive - Cardiff University\\General\\data\\South Gloucestershire_netcdf_data\\South Gloucestershire_surface_net_solar_radiation_2022.nc (31K)\n",
      "2022-10-27 14:39:42,576 INFO Download rate 100.5K/s\n",
      "2022-10-27 14:39:42,683 INFO Welcome to the CDS\n",
      "2022-10-27 14:39:42,684 INFO Sending request to https://cds.climate.copernicus.eu/api/v2/resources/reanalysis-era5-land\n",
      "2022-10-27 14:39:42,761 INFO Request is queued\n"
     ]
    },
    {
     "name": "stdout",
     "output_type": "stream",
     "text": [
      "Plymouth [50.37, -4.14, 50.36, -4.13]\n"
     ]
    },
    {
     "name": "stderr",
     "output_type": "stream",
     "text": [
      "2022-10-27 14:39:51,111 INFO Request is running\n",
      "2022-10-27 14:54:02,186 INFO Request is completed\n",
      "2022-10-27 14:54:02,186 INFO Downloading https://download-0010-clone.copernicus-climate.eu/cache-compute-0010/cache/data6/adaptor.mars.internal-1666878722.2053928-24230-19-3a741f7e-230c-41f5-b85e-4e237187f4a6.nc to c:\\Users\\sceac10\\OneDrive - Cardiff University\\General\\data\\Plymouth_netcdf_data\\Plymouth_surface_net_solar_radiation_2022.nc (30.9K)\n",
      "2022-10-27 14:54:02,463 INFO Download rate 112.4K/s\n",
      "2022-10-27 14:54:02,565 INFO Welcome to the CDS\n",
      "2022-10-27 14:54:02,566 INFO Sending request to https://cds.climate.copernicus.eu/api/v2/resources/reanalysis-era5-land\n",
      "2022-10-27 14:54:02,621 INFO Request is queued\n"
     ]
    },
    {
     "name": "stdout",
     "output_type": "stream",
     "text": [
      "Torbay [50.45, -3.54, 50.44, -3.53]\n"
     ]
    },
    {
     "name": "stderr",
     "output_type": "stream",
     "text": [
      "2022-10-27 14:55:56,551 INFO Request is running\n",
      "2022-10-27 15:08:21,840 INFO Request is completed\n",
      "2022-10-27 15:08:21,841 INFO Downloading https://download-0010-clone.copernicus-climate.eu/cache-compute-0010/cache/data3/adaptor.mars.internal-1666879658.443713-10713-16-e688f80d-7bdd-40cc-b14d-1c2d8d262d1e.nc to c:\\Users\\sceac10\\OneDrive - Cardiff University\\General\\data\\Torbay_netcdf_data\\Torbay_surface_net_solar_radiation_2022.nc (30.9K)\n",
      "2022-10-27 15:08:22,068 INFO Download rate 137.4K/s\n",
      "2022-10-27 15:08:22,158 INFO Welcome to the CDS\n",
      "2022-10-27 15:08:22,159 INFO Sending request to https://cds.climate.copernicus.eu/api/v2/resources/reanalysis-era5-land\n",
      "2022-10-27 15:08:22,239 INFO Request is queued\n"
     ]
    },
    {
     "name": "stdout",
     "output_type": "stream",
     "text": [
      "Bournemouth [50.72, -1.88, 50.71, -1.87]\n"
     ]
    },
    {
     "name": "stderr",
     "output_type": "stream",
     "text": [
      "2022-10-27 15:14:40,682 INFO Request is running\n",
      "2022-10-27 15:26:41,790 INFO Request is completed\n",
      "2022-10-27 15:26:41,790 INFO Downloading https://download-0003-clone.copernicus-climate.eu/cache-compute-0003/cache/data2/adaptor.mars.internal-1666880742.8498192-16538-6-0b84464d-4804-4413-9c7e-eafdc216c890.nc to c:\\Users\\sceac10\\OneDrive - Cardiff University\\General\\data\\Bournemouth_netcdf_data\\Bournemouth_surface_net_solar_radiation_2022.nc (30.9K)\n",
      "2022-10-27 15:26:42,032 INFO Download rate 128.4K/s\n",
      "2022-10-27 15:26:42,124 INFO Welcome to the CDS\n",
      "2022-10-27 15:26:42,125 INFO Sending request to https://cds.climate.copernicus.eu/api/v2/resources/reanalysis-era5-land\n",
      "2022-10-27 15:26:42,176 INFO Request is queued\n"
     ]
    },
    {
     "name": "stdout",
     "output_type": "stream",
     "text": [
      "Poole [50.74, -1.95, 50.73, -1.94]\n"
     ]
    },
    {
     "name": "stderr",
     "output_type": "stream",
     "text": [
      "2022-10-27 15:27:03,253 INFO Request is running\n",
      "2022-10-27 15:43:01,591 INFO Request is completed\n",
      "2022-10-27 15:43:01,592 INFO Downloading https://download-0000-clone.copernicus-climate.eu/cache-compute-0000/cache/data8/adaptor.mars.internal-1666881667.1127706-18361-6-06271775-db05-48c8-942e-27aaf0214bbd.nc to c:\\Users\\sceac10\\OneDrive - Cardiff University\\General\\data\\Poole_netcdf_data\\Poole_surface_net_solar_radiation_2022.nc (30.9K)\n",
      "2022-10-27 15:43:01,852 INFO Download rate 119.7K/s\n",
      "2022-10-27 15:43:01,962 INFO Welcome to the CDS\n",
      "2022-10-27 15:43:01,963 INFO Sending request to https://cds.climate.copernicus.eu/api/v2/resources/reanalysis-era5-land\n",
      "2022-10-27 15:43:02,023 INFO Request is queued\n"
     ]
    },
    {
     "name": "stdout",
     "output_type": "stream",
     "text": [
      "Swindon [51.56, -1.79, 51.55, -1.78]\n"
     ]
    },
    {
     "name": "stderr",
     "output_type": "stream",
     "text": [
      "2022-10-27 15:43:06,963 INFO Request is running\n",
      "2022-10-27 16:03:21,897 INFO Request is completed\n",
      "2022-10-27 16:03:21,898 INFO Downloading https://download-0002-clone.copernicus-climate.eu/cache-compute-0002/cache/data4/adaptor.mars.internal-1666882779.2979295-2110-2-5e4398b7-1282-4fce-b3f0-9e2f00ecfd53.nc to c:\\Users\\sceac10\\OneDrive - Cardiff University\\General\\data\\Swindon_netcdf_data\\Swindon_surface_net_solar_radiation_2022.nc (30.9K)\n",
      "2022-10-27 16:03:22,132 INFO Download rate 132.8K/s\n",
      "2022-10-27 16:03:22,245 INFO Welcome to the CDS\n",
      "2022-10-27 16:03:22,246 INFO Sending request to https://cds.climate.copernicus.eu/api/v2/resources/reanalysis-era5-land\n",
      "2022-10-27 16:03:22,305 INFO Request is queued\n"
     ]
    },
    {
     "name": "stdout",
     "output_type": "stream",
     "text": [
      "Peterborough [52.57, -0.24, 52.56, -0.23]\n"
     ]
    },
    {
     "name": "stderr",
     "output_type": "stream",
     "text": [
      "2022-10-27 16:03:30,649 INFO Request is running\n",
      "2022-10-27 16:17:41,561 INFO Request is completed\n",
      "2022-10-27 16:17:41,562 INFO Downloading https://download-0010-clone.copernicus-climate.eu/cache-compute-0010/cache/data0/adaptor.mars.internal-1666883748.8120172-8768-13-bf15f1e3-7e9b-4319-9c5d-e5d31428e4ce.nc to c:\\Users\\sceac10\\OneDrive - Cardiff University\\General\\data\\Peterborough_netcdf_data\\Peterborough_surface_net_solar_radiation_2022.nc (30.9K)\n",
      "2022-10-27 16:17:41,827 INFO Download rate 116.8K/s\n",
      "2022-10-27 16:17:41,922 INFO Welcome to the CDS\n",
      "2022-10-27 16:17:41,923 INFO Sending request to https://cds.climate.copernicus.eu/api/v2/resources/reanalysis-era5-land\n",
      "2022-10-27 16:17:41,978 INFO Request is queued\n"
     ]
    },
    {
     "name": "stdout",
     "output_type": "stream",
     "text": [
      "Luton [51.88, -0.42, 51.87, -0.41]\n"
     ]
    },
    {
     "name": "stderr",
     "output_type": "stream",
     "text": [
      "2022-10-27 16:18:03,105 INFO Request is running\n",
      "2022-10-27 16:32:01,274 INFO Request is completed\n",
      "2022-10-27 16:32:01,275 INFO Downloading https://download-0008-clone.copernicus-climate.eu/cache-compute-0008/cache/data5/adaptor.mars.internal-1666884628.158569-6181-13-1104bee8-b517-4c36-ae5a-4b891a21a14f.nc to c:\\Users\\sceac10\\OneDrive - Cardiff University\\General\\data\\Luton_netcdf_data\\Luton_surface_net_solar_radiation_2022.nc (30.9K)\n",
      "2022-10-27 16:32:01,508 INFO Download rate 133.4K/s\n",
      "2022-10-27 16:32:01,600 INFO Welcome to the CDS\n",
      "2022-10-27 16:32:01,601 INFO Sending request to https://cds.climate.copernicus.eu/api/v2/resources/reanalysis-era5-land\n",
      "2022-10-27 16:32:01,662 INFO Request is queued\n"
     ]
    },
    {
     "name": "stdout",
     "output_type": "stream",
     "text": [
      "Southend-on-Sea [51.54, 0.71, 51.53, 0.7]\n"
     ]
    },
    {
     "name": "stderr",
     "output_type": "stream",
     "text": [
      "2022-10-27 16:32:15,107 INFO Request is running\n",
      "2022-10-27 16:46:21,775 INFO Request is completed\n",
      "2022-10-27 16:46:21,775 INFO Downloading https://download-0003-clone.copernicus-climate.eu/cache-compute-0003/cache/data6/adaptor.mars.internal-1666885481.5621645-31387-18-3bce76bf-810a-4a2b-8ceb-3ad3ccb402e7.nc to c:\\Users\\sceac10\\OneDrive - Cardiff University\\General\\data\\Southend-on-Sea_netcdf_data\\Southend-on-Sea_surface_net_solar_radiation_2022.nc (35M)\n",
      "2022-10-27 16:46:30,265 INFO Download rate 4.1M/s   \n",
      "2022-10-27 16:46:30,361 INFO Welcome to the CDS\n",
      "2022-10-27 16:46:30,362 INFO Sending request to https://cds.climate.copernicus.eu/api/v2/resources/reanalysis-era5-land\n",
      "2022-10-27 16:46:30,414 INFO Request is queued\n"
     ]
    },
    {
     "name": "stdout",
     "output_type": "stream",
     "text": [
      "Thurrock [51.51, 0.4, 51.5, 0.39]\n"
     ]
    },
    {
     "name": "stderr",
     "output_type": "stream",
     "text": [
      "2022-10-27 16:46:35,320 INFO Request is running\n",
      "2022-10-27 17:00:49,685 INFO Request is completed\n",
      "2022-10-27 17:00:49,686 INFO Downloading https://download-0010-clone.copernicus-climate.eu/cache-compute-0010/cache/data3/adaptor.mars.internal-1666886344.3835936-22206-4-fc6729bc-e496-4763-bc08-2b810b3c0a51.nc to c:\\Users\\sceac10\\OneDrive - Cardiff University\\General\\data\\Thurrock_netcdf_data\\Thurrock_surface_net_solar_radiation_2022.nc (35M)\n",
      "2022-10-27 17:00:56,314 INFO Download rate 5.3M/s   \n",
      "2022-10-27 17:00:56,407 INFO Welcome to the CDS\n",
      "2022-10-27 17:00:56,407 INFO Sending request to https://cds.climate.copernicus.eu/api/v2/resources/reanalysis-era5-land\n",
      "2022-10-27 17:00:56,496 INFO Request is queued\n"
     ]
    },
    {
     "name": "stdout",
     "output_type": "stream",
     "text": [
      "Medway [51.42, 0.57, 51.41, 0.56]\n"
     ]
    },
    {
     "name": "stderr",
     "output_type": "stream",
     "text": [
      "2022-10-27 17:01:01,398 INFO Request is running\n",
      "2022-10-27 17:15:15,803 INFO Request is completed\n",
      "2022-10-27 17:15:15,804 INFO Downloading https://download-0005-clone.copernicus-climate.eu/cache-compute-0005/cache/data4/adaptor.mars.internal-1666887186.4533587-29448-10-c2f4037f-ad71-4a55-9e14-168153458754.nc to c:\\Users\\sceac10\\OneDrive - Cardiff University\\General\\data\\Medway_netcdf_data\\Medway_surface_net_solar_radiation_2022.nc (35M)\n",
      "2022-10-27 17:15:21,000 INFO Download rate 6.7M/s   \n",
      "2022-10-27 17:15:21,095 INFO Welcome to the CDS\n",
      "2022-10-27 17:15:21,096 INFO Sending request to https://cds.climate.copernicus.eu/api/v2/resources/reanalysis-era5-land\n",
      "2022-10-27 17:15:21,177 INFO Request is queued\n"
     ]
    },
    {
     "name": "stdout",
     "output_type": "stream",
     "text": [
      "Bracknell Forest [51.4, -0.74, 51.39, -0.73]\n"
     ]
    },
    {
     "name": "stderr",
     "output_type": "stream",
     "text": [
      "2022-10-27 17:15:22,229 INFO Request is running\n",
      "2022-10-27 17:29:40,350 INFO Request is completed\n",
      "2022-10-27 17:29:40,350 INFO Downloading https://download-0014-clone.copernicus-climate.eu/cache-compute-0014/cache/data4/adaptor.mars.internal-1666888072.3228338-11895-15-fb5cdc40-c44e-4de0-a552-0ac903fd6aec.nc to c:\\Users\\sceac10\\OneDrive - Cardiff University\\General\\data\\Bracknell Forest_netcdf_data\\Bracknell Forest_surface_net_solar_radiation_2022.nc (31K)\n",
      "2022-10-27 17:29:40,563 INFO Download rate 146K/s\n",
      "2022-10-27 17:29:40,645 INFO Welcome to the CDS\n",
      "2022-10-27 17:29:40,646 INFO Sending request to https://cds.climate.copernicus.eu/api/v2/resources/reanalysis-era5-land\n",
      "2022-10-27 17:29:40,694 INFO Request is queued\n"
     ]
    },
    {
     "name": "stdout",
     "output_type": "stream",
     "text": [
      "West Berkshire [51.45, -1.28, 51.44, -1.27]\n"
     ]
    },
    {
     "name": "stderr",
     "output_type": "stream",
     "text": [
      "2022-10-27 17:29:49,008 INFO Request is running\n",
      "2022-10-27 17:43:59,857 INFO Request is completed\n",
      "2022-10-27 17:43:59,858 INFO Downloading https://download-0010-clone.copernicus-climate.eu/cache-compute-0010/cache/data7/adaptor.mars.internal-1666888928.242395-4499-14-d9243bcd-3954-4d7d-b2b1-16b93686ffba.nc to c:\\Users\\sceac10\\OneDrive - Cardiff University\\General\\data\\West Berkshire_netcdf_data\\West Berkshire_surface_net_solar_radiation_2022.nc (30.9K)\n",
      "2022-10-27 17:44:00,095 INFO Download rate 131.7K/s\n",
      "2022-10-27 17:44:00,188 INFO Welcome to the CDS\n",
      "2022-10-27 17:44:00,189 INFO Sending request to https://cds.climate.copernicus.eu/api/v2/resources/reanalysis-era5-land\n",
      "2022-10-27 17:44:00,290 INFO Request is queued\n"
     ]
    },
    {
     "name": "stdout",
     "output_type": "stream",
     "text": [
      "Reading [51.46, -0.97, 51.45, -0.96]\n"
     ]
    },
    {
     "name": "stderr",
     "output_type": "stream",
     "text": [
      "2022-10-27 17:44:01,340 INFO Request is running\n",
      "2022-10-27 18:16:21,435 INFO Request is completed\n",
      "2022-10-27 18:16:21,436 INFO Downloading https://download-0001-clone.copernicus-climate.eu/cache-compute-0001/cache/data2/adaptor.mars.internal-1666890882.2496092-15453-1-7280f5de-e6c7-45f8-9f18-2e4fedda7c4e.nc to c:\\Users\\sceac10\\OneDrive - Cardiff University\\General\\data\\Reading_netcdf_data\\Reading_surface_net_solar_radiation_2022.nc (30.9K)\n",
      "2022-10-27 18:16:21,657 INFO Download rate 140.7K/s\n",
      "2022-10-27 18:16:21,746 INFO Welcome to the CDS\n",
      "2022-10-27 18:16:21,747 INFO Sending request to https://cds.climate.copernicus.eu/api/v2/resources/reanalysis-era5-land\n",
      "2022-10-27 18:16:21,798 INFO Request is queued\n"
     ]
    },
    {
     "name": "stdout",
     "output_type": "stream",
     "text": [
      "Slough [51.51, -0.59, 51.5, -0.58]\n"
     ]
    },
    {
     "name": "stderr",
     "output_type": "stream",
     "text": [
      "2022-10-27 18:16:22,852 INFO Request is running\n",
      "2022-10-27 18:30:40,956 INFO Request is completed\n",
      "2022-10-27 18:30:40,957 INFO Downloading https://download-0005-clone.copernicus-climate.eu/cache-compute-0005/cache/data7/adaptor.mars.internal-1666891718.1407697-23112-16-ef5407bd-3b10-4ae9-ad67-da4c380a1746.nc to c:\\Users\\sceac10\\OneDrive - Cardiff University\\General\\data\\Slough_netcdf_data\\Slough_surface_net_solar_radiation_2022.nc (31K)\n",
      "2022-10-27 18:30:41,172 INFO Download rate 144K/s\n",
      "2022-10-27 18:30:41,261 INFO Welcome to the CDS\n",
      "2022-10-27 18:30:41,262 INFO Sending request to https://cds.climate.copernicus.eu/api/v2/resources/reanalysis-era5-land\n",
      "2022-10-27 18:30:41,332 INFO Request is queued\n"
     ]
    },
    {
     "name": "stdout",
     "output_type": "stream",
     "text": [
      "Windsor and Maidenhead [51.48, -0.68, 51.47, -0.67]\n"
     ]
    },
    {
     "name": "stderr",
     "output_type": "stream",
     "text": [
      "2022-10-27 18:30:42,376 INFO Request is running\n",
      "2022-10-27 18:45:00,764 INFO Request is completed\n",
      "2022-10-27 18:45:00,765 INFO Downloading https://download-0017.copernicus-climate.eu/cache-compute-0017/cache/data9/adaptor.mars.internal-1666892575.269655-18542-10-0cdf584e-5f04-4da3-840f-35fc03e5c436.nc to c:\\Users\\sceac10\\OneDrive - Cardiff University\\General\\data\\Windsor and Maidenhead_netcdf_data\\Windsor and Maidenhead_surface_net_solar_radiation_2022.nc (30.9K)\n",
      "2022-10-27 18:45:01,108 INFO Download rate 90.6K/s\n",
      "2022-10-27 18:45:01,196 INFO Welcome to the CDS\n",
      "2022-10-27 18:45:01,197 INFO Sending request to https://cds.climate.copernicus.eu/api/v2/resources/reanalysis-era5-land\n",
      "2022-10-27 18:45:01,278 INFO Request is queued\n"
     ]
    },
    {
     "name": "stdout",
     "output_type": "stream",
     "text": [
      "Wokingham [51.46, -0.89, 51.45, -0.88]\n"
     ]
    },
    {
     "name": "stderr",
     "output_type": "stream",
     "text": [
      "2022-10-27 18:45:02,336 INFO Request is running\n",
      "2022-10-27 18:59:20,424 INFO Request is completed\n",
      "2022-10-27 18:59:20,425 INFO Downloading https://download-0017.copernicus-climate.eu/cache-compute-0017/cache/data8/adaptor.mars.internal-1666893468.1243966-20066-9-ff10f079-c526-4452-8f5b-dcd9adfd96a8.nc to c:\\Users\\sceac10\\OneDrive - Cardiff University\\General\\data\\Wokingham_netcdf_data\\Wokingham_surface_net_solar_radiation_2022.nc (30.9K)\n",
      "2022-10-27 18:59:20,634 INFO Download rate 148.1K/s\n",
      "2022-10-27 18:59:20,719 INFO Welcome to the CDS\n",
      "2022-10-27 18:59:20,720 INFO Sending request to https://cds.climate.copernicus.eu/api/v2/resources/reanalysis-era5-land\n",
      "2022-10-27 18:59:20,782 INFO Request is queued\n"
     ]
    },
    {
     "name": "stdout",
     "output_type": "stream",
     "text": [
      "Milton Keynes [52.04, -0.76, 52.03, -0.75]\n"
     ]
    },
    {
     "name": "stderr",
     "output_type": "stream",
     "text": [
      "2022-10-27 18:59:21,839 INFO Request is running\n",
      "2022-10-27 19:13:39,954 INFO Request is completed\n",
      "2022-10-27 19:13:39,955 INFO Downloading https://download-0016.copernicus-climate.eu/cache-compute-0016/cache/data8/adaptor.mars.internal-1666894303.16523-15849-9-b3393740-d73d-460e-b1ce-f4ba5b2ea2e0.nc to c:\\Users\\sceac10\\OneDrive - Cardiff University\\General\\data\\Milton Keynes_netcdf_data\\Milton Keynes_surface_net_solar_radiation_2022.nc (30.9K)\n",
      "2022-10-27 19:13:40,172 INFO Download rate 143.3K/s\n",
      "2022-10-27 19:13:40,262 INFO Welcome to the CDS\n",
      "2022-10-27 19:13:40,263 INFO Sending request to https://cds.climate.copernicus.eu/api/v2/resources/reanalysis-era5-land\n",
      "2022-10-27 19:13:40,312 INFO Request is queued\n"
     ]
    },
    {
     "name": "stdout",
     "output_type": "stream",
     "text": [
      "Brighton and Hove [50.85, -0.15, 50.84, -0.14]\n"
     ]
    },
    {
     "name": "stderr",
     "output_type": "stream",
     "text": [
      "2022-10-27 19:13:41,366 INFO Request is running\n",
      "2022-10-27 19:27:59,418 INFO Request is completed\n",
      "2022-10-27 19:27:59,419 INFO Downloading https://download-0011-clone.copernicus-climate.eu/cache-compute-0011/cache/data0/adaptor.mars.internal-1666895157.3312874-25558-3-d1fb09ab-6edf-49bb-acd2-0f0ba8d7af63.nc to c:\\Users\\sceac10\\OneDrive - Cardiff University\\General\\data\\Brighton and Hove_netcdf_data\\Brighton and Hove_surface_net_solar_radiation_2022.nc (30.9K)\n",
      "2022-10-27 19:27:59,667 INFO Download rate 124.8K/s\n",
      "2022-10-27 19:27:59,760 INFO Welcome to the CDS\n",
      "2022-10-27 19:27:59,761 INFO Sending request to https://cds.climate.copernicus.eu/api/v2/resources/reanalysis-era5-land\n",
      "2022-10-27 19:27:59,825 INFO Request is queued\n"
     ]
    },
    {
     "name": "stdout",
     "output_type": "stream",
     "text": [
      "Portsmouth [50.8, -1.08, 50.79, -1.07]\n"
     ]
    },
    {
     "name": "stderr",
     "output_type": "stream",
     "text": [
      "2022-10-27 19:28:00,874 INFO Request is running\n",
      "2022-10-27 19:42:19,029 INFO Request is completed\n",
      "2022-10-27 19:42:19,030 INFO Downloading https://download-0004-clone.copernicus-climate.eu/cache-compute-0004/cache/data8/adaptor.mars.internal-1666896020.7156107-4727-10-baf03c90-c0d2-47ae-8c35-20ffbf1d656c.nc to c:\\Users\\sceac10\\OneDrive - Cardiff University\\General\\data\\Portsmouth_netcdf_data\\Portsmouth_surface_net_solar_radiation_2022.nc (30.9K)\n",
      "2022-10-27 19:42:19,281 INFO Download rate 123.8K/s\n",
      "2022-10-27 19:42:19,375 INFO Welcome to the CDS\n",
      "2022-10-27 19:42:19,376 INFO Sending request to https://cds.climate.copernicus.eu/api/v2/resources/reanalysis-era5-land\n",
      "2022-10-27 19:42:19,438 INFO Request is queued\n"
     ]
    },
    {
     "name": "stdout",
     "output_type": "stream",
     "text": [
      "Southampton [50.9, -1.4, 50.89, -1.39]\n"
     ]
    },
    {
     "name": "stderr",
     "output_type": "stream",
     "text": [
      "2022-10-27 19:42:20,495 INFO Request is running\n",
      "2022-10-27 19:56:38,727 INFO Request is completed\n",
      "2022-10-27 19:56:38,728 INFO Downloading https://download-0012-clone.copernicus-climate.eu/cache-compute-0012/cache/data9/adaptor.mars.internal-1666896869.052617-15290-6-65e12ff7-3bdd-489d-abb9-9865d80dee88.nc to c:\\Users\\sceac10\\OneDrive - Cardiff University\\General\\data\\Southampton_netcdf_data\\Southampton_surface_net_solar_radiation_2022.nc (30.9K)\n",
      "2022-10-27 19:56:38,992 INFO Download rate 117.4K/s\n",
      "2022-10-27 19:56:39,100 INFO Welcome to the CDS\n",
      "2022-10-27 19:56:39,102 INFO Sending request to https://cds.climate.copernicus.eu/api/v2/resources/reanalysis-era5-land\n",
      "2022-10-27 19:56:39,195 INFO Request is queued\n"
     ]
    },
    {
     "name": "stdout",
     "output_type": "stream",
     "text": [
      "Isle of Wight [50.67, -1.33, 50.66, -1.32]\n"
     ]
    },
    {
     "name": "stderr",
     "output_type": "stream",
     "text": [
      "2022-10-27 19:56:40,255 INFO Request is running\n",
      "2022-10-27 20:10:58,437 INFO Request is completed\n",
      "2022-10-27 20:10:58,438 INFO Downloading https://download-0011-clone.copernicus-climate.eu/cache-compute-0011/cache/data8/adaptor.mars.internal-1666897729.4125845-12182-15-00588acf-852d-48ac-881b-0c8f63f04efe.nc to c:\\Users\\sceac10\\OneDrive - Cardiff University\\General\\data\\Isle of Wight_netcdf_data\\Isle of Wight_surface_net_solar_radiation_2022.nc (31K)\n",
      "2022-10-27 20:10:58,785 INFO Download rate 89.4K/s\n",
      "2022-10-27 20:10:58,875 INFO Welcome to the CDS\n",
      "2022-10-27 20:10:58,876 INFO Sending request to https://cds.climate.copernicus.eu/api/v2/resources/reanalysis-era5-land\n",
      "2022-10-27 20:10:58,947 INFO Request is queued\n"
     ]
    },
    {
     "name": "stdout",
     "output_type": "stream",
     "text": [
      "Central Bedfordshire [52.0, -0.48, 51.99, -0.47]\n"
     ]
    },
    {
     "name": "stderr",
     "output_type": "stream",
     "text": [
      "2022-10-27 20:10:59,996 INFO Request is running\n",
      "2022-10-27 20:25:18,079 INFO Request is completed\n",
      "2022-10-27 20:25:18,080 INFO Downloading https://download-0021.copernicus-climate.eu/cache-compute-0021/cache/data7/adaptor.mars.internal-1666898622.9887927-8260-5-416258ce-2c4b-41fa-aecb-b65984e0c796.nc to c:\\Users\\sceac10\\OneDrive - Cardiff University\\General\\data\\Central Bedfordshire_netcdf_data\\Central Bedfordshire_surface_net_solar_radiation_2022.nc (30.9K)\n",
      "2022-10-27 20:25:18,337 INFO Download rate 121.4K/s\n",
      "2022-10-27 20:25:18,419 INFO Welcome to the CDS\n",
      "2022-10-27 20:25:18,420 INFO Sending request to https://cds.climate.copernicus.eu/api/v2/resources/reanalysis-era5-land\n",
      "2022-10-27 20:25:18,512 INFO Request is queued\n"
     ]
    },
    {
     "name": "stdout",
     "output_type": "stream",
     "text": [
      "Bedford [40.03, -78.52, 40.02, -78.51]\n"
     ]
    },
    {
     "name": "stderr",
     "output_type": "stream",
     "text": [
      "2022-10-27 20:25:19,559 INFO Request is running\n",
      "2022-10-27 20:43:38,070 INFO Request is completed\n",
      "2022-10-27 20:43:38,071 INFO Downloading https://download-0006-clone.copernicus-climate.eu/cache-compute-0006/cache/data3/adaptor.mars.internal-1666899653.015136-4740-1-8ccc2fcd-9d58-4bf4-b328-1f7e59165237.nc to c:\\Users\\sceac10\\OneDrive - Cardiff University\\General\\data\\Bedford_netcdf_data\\Bedford_surface_net_solar_radiation_2022.nc (30.9K)\n",
      "2022-10-27 20:43:38,301 INFO Download rate 134.5K/s\n",
      "2022-10-27 20:43:38,421 INFO Welcome to the CDS\n",
      "2022-10-27 20:43:38,421 INFO Sending request to https://cds.climate.copernicus.eu/api/v2/resources/reanalysis-era5-land\n",
      "2022-10-27 20:43:38,514 INFO Request is queued\n"
     ]
    },
    {
     "name": "stdout",
     "output_type": "stream",
     "text": [
      "Aylesbury Vale [51.9, -0.88, 51.89, -0.87]\n"
     ]
    },
    {
     "name": "stderr",
     "output_type": "stream",
     "text": [
      "2022-10-27 20:43:39,574 INFO Request is running\n",
      "2022-10-27 20:57:57,863 INFO Request is completed\n",
      "2022-10-27 20:57:57,864 INFO Downloading https://download-0000-clone.copernicus-climate.eu/cache-compute-0000/cache/data8/adaptor.mars.internal-1666900565.755095-26978-2-3a5a107d-6dc0-4891-8aa1-756648bbbed0.nc to c:\\Users\\sceac10\\OneDrive - Cardiff University\\General\\data\\Aylesbury Vale_netcdf_data\\Aylesbury Vale_surface_net_solar_radiation_2022.nc (30.9K)\n",
      "2022-10-27 20:57:58,091 INFO Download rate 137K/s\n",
      "2022-10-27 20:57:58,187 INFO Welcome to the CDS\n",
      "2022-10-27 20:57:58,188 INFO Sending request to https://cds.climate.copernicus.eu/api/v2/resources/reanalysis-era5-land\n",
      "2022-10-27 20:57:58,238 INFO Request is queued\n"
     ]
    },
    {
     "name": "stdout",
     "output_type": "stream",
     "text": [
      "Chiltern [51.68, -0.63, 51.67, -0.62]\n"
     ]
    },
    {
     "name": "stderr",
     "output_type": "stream",
     "text": [
      "2022-10-27 20:57:59,288 INFO Request is running\n",
      "2022-10-27 21:10:17,333 INFO Request is completed\n",
      "2022-10-27 21:10:17,334 INFO Downloading https://download-0010-clone.copernicus-climate.eu/cache-compute-0010/cache/data3/adaptor.mars.internal-1666901397.8253582-12124-15-9e660c7a-d015-4ee3-a711-f1bc12762c70.nc to c:\\Users\\sceac10\\OneDrive - Cardiff University\\General\\data\\Chiltern_netcdf_data\\Chiltern_surface_net_solar_radiation_2022.nc (31K)\n",
      "2022-10-27 21:10:17,557 INFO Download rate 139.4K/s\n",
      "2022-10-27 21:10:17,652 INFO Welcome to the CDS\n",
      "2022-10-27 21:10:17,653 INFO Sending request to https://cds.climate.copernicus.eu/api/v2/resources/reanalysis-era5-land\n",
      "2022-10-27 21:10:17,720 INFO Request is queued\n"
     ]
    },
    {
     "name": "stdout",
     "output_type": "stream",
     "text": [
      "South Bucks [51.56, -0.59, 51.55, -0.58]\n"
     ]
    },
    {
     "name": "stderr",
     "output_type": "stream",
     "text": [
      "2022-10-27 21:10:18,777 INFO Request is running\n",
      "2022-10-27 21:24:36,941 INFO Request is completed\n",
      "2022-10-27 21:24:36,941 INFO Downloading https://download-0016.copernicus-climate.eu/cache-compute-0016/cache/data4/adaptor.mars.internal-1666902176.7634172-5467-15-62e04d93-79d9-4f28-8e82-7569807e5eb7.nc to c:\\Users\\sceac10\\OneDrive - Cardiff University\\General\\data\\South Bucks_netcdf_data\\South Bucks_surface_net_solar_radiation_2022.nc (30.9K)\n",
      "2022-10-27 21:24:37,142 INFO Download rate 154.7K/s\n",
      "2022-10-27 21:24:37,235 INFO Welcome to the CDS\n",
      "2022-10-27 21:24:37,236 INFO Sending request to https://cds.climate.copernicus.eu/api/v2/resources/reanalysis-era5-land\n",
      "2022-10-27 21:24:37,325 INFO Request is queued\n"
     ]
    },
    {
     "name": "stdout",
     "output_type": "stream",
     "text": [
      "Wycombe [51.66, -0.82, 51.65, -0.81]\n"
     ]
    },
    {
     "name": "stderr",
     "output_type": "stream",
     "text": [
      "2022-10-27 21:24:38,384 INFO Request is running\n",
      "2022-10-27 21:38:56,580 INFO Request is completed\n",
      "2022-10-27 21:38:56,581 INFO Downloading https://download-0012-clone.copernicus-climate.eu/cache-compute-0012/cache/data9/adaptor.mars.internal-1666903007.9226663-22209-7-009fe792-d908-4c55-897f-f77dff7ea079.nc to c:\\Users\\sceac10\\OneDrive - Cardiff University\\General\\data\\Wycombe_netcdf_data\\Wycombe_surface_net_solar_radiation_2022.nc (30.9K)\n",
      "2022-10-27 21:38:56,800 INFO Download rate 142.6K/s\n",
      "2022-10-27 21:38:56,890 INFO Welcome to the CDS\n",
      "2022-10-27 21:38:56,891 INFO Sending request to https://cds.climate.copernicus.eu/api/v2/resources/reanalysis-era5-land\n",
      "2022-10-27 21:38:56,954 INFO Request is queued\n"
     ]
    },
    {
     "name": "stdout",
     "output_type": "stream",
     "text": [
      "Cambridge [52.2, 0.14, 52.19, 0.13]\n"
     ]
    },
    {
     "name": "stderr",
     "output_type": "stream",
     "text": [
      "2022-10-27 21:38:58,004 INFO Request is running\n",
      "2022-10-27 21:53:16,100 INFO Request is completed\n",
      "2022-10-27 21:53:16,101 INFO Downloading https://download-0020.copernicus-climate.eu/cache-compute-0020/cache/data9/adaptor.mars.internal-1666903873.6285102-21662-3-dfacea50-4e74-4c9a-b691-c6b315ecdb1b.nc to c:\\Users\\sceac10\\OneDrive - Cardiff University\\General\\data\\Cambridge_netcdf_data\\Cambridge_surface_net_solar_radiation_2022.nc (35M)\n",
      "2022-10-27 21:53:25,868 INFO Download rate 3.6M/s   \n",
      "2022-10-27 21:53:25,962 INFO Welcome to the CDS\n",
      "2022-10-27 21:53:25,964 INFO Sending request to https://cds.climate.copernicus.eu/api/v2/resources/reanalysis-era5-land\n",
      "2022-10-27 21:53:26,018 INFO Request is queued\n"
     ]
    },
    {
     "name": "stdout",
     "output_type": "stream",
     "text": [
      "East Cambridgeshire [52.33, 0.26, 52.32, 0.25]\n"
     ]
    },
    {
     "name": "stderr",
     "output_type": "stream",
     "text": [
      "2022-10-27 21:53:27,070 INFO Request is running\n",
      "2022-10-27 22:07:45,251 INFO Request is completed\n",
      "2022-10-27 22:07:45,251 INFO Downloading https://download-0012-clone.copernicus-climate.eu/cache-compute-0012/cache/data9/adaptor.mars.internal-1666904735.9322464-1853-7-75d53481-1da1-4482-98d7-43fd1920b247.nc to c:\\Users\\sceac10\\OneDrive - Cardiff University\\General\\data\\East Cambridgeshire_netcdf_data\\East Cambridgeshire_surface_net_solar_radiation_2022.nc (35M)\n",
      "2022-10-27 22:07:51,639 INFO Download rate 5.5M/s   \n",
      "2022-10-27 22:07:51,735 INFO Welcome to the CDS\n",
      "2022-10-27 22:07:51,736 INFO Sending request to https://cds.climate.copernicus.eu/api/v2/resources/reanalysis-era5-land\n",
      "2022-10-27 22:07:51,791 INFO Request is queued\n"
     ]
    },
    {
     "name": "stdout",
     "output_type": "stream",
     "text": [
      "Fenland [63.25, 25.92, 63.24, 25.91]\n"
     ]
    },
    {
     "name": "stderr",
     "output_type": "stream",
     "text": [
      "2022-10-27 22:07:52,851 INFO Request is running\n",
      "2022-10-27 22:26:11,267 INFO Request is completed\n",
      "2022-10-27 22:26:11,268 INFO Downloading https://download-0000-clone.copernicus-climate.eu/cache-compute-0000/cache/data8/adaptor.mars.internal-1666905820.3329768-5829-2-e7bcc211-5b19-4eda-bee1-b3e989a20182.nc to c:\\Users\\sceac10\\OneDrive - Cardiff University\\General\\data\\Fenland_netcdf_data\\Fenland_surface_net_solar_radiation_2022.nc (35M)\n",
      "2022-10-27 22:26:20,132 INFO Download rate 3.9M/s   \n",
      "2022-10-27 22:26:20,220 INFO Welcome to the CDS\n",
      "2022-10-27 22:26:20,221 INFO Sending request to https://cds.climate.copernicus.eu/api/v2/resources/reanalysis-era5-land\n",
      "2022-10-27 22:26:20,286 INFO Request is queued\n"
     ]
    },
    {
     "name": "stdout",
     "output_type": "stream",
     "text": [
      "Huntingdonshire [52.37, -0.22, 52.36, -0.21]\n"
     ]
    },
    {
     "name": "stderr",
     "output_type": "stream",
     "text": [
      "2022-10-27 22:26:21,331 INFO Request is running\n",
      "2022-10-27 22:40:39,429 INFO Request is completed\n",
      "2022-10-27 22:40:39,430 INFO Downloading https://download-0018.copernicus-climate.eu/cache-compute-0018/cache/data0/adaptor.mars.internal-1666906713.0195096-27990-2-38f6b5bc-1e39-47d1-a9df-09bfd1afce5a.nc to c:\\Users\\sceac10\\OneDrive - Cardiff University\\General\\data\\Huntingdonshire_netcdf_data\\Huntingdonshire_surface_net_solar_radiation_2022.nc (30.9K)\n",
      "2022-10-27 22:40:39,660 INFO Download rate 135.2K/s\n",
      "2022-10-27 22:40:39,756 INFO Welcome to the CDS\n",
      "2022-10-27 22:40:39,757 INFO Sending request to https://cds.climate.copernicus.eu/api/v2/resources/reanalysis-era5-land\n",
      "2022-10-27 22:40:39,805 INFO Request is queued\n"
     ]
    },
    {
     "name": "stdout",
     "output_type": "stream",
     "text": [
      "South Cambridgeshire [52.18, -0.0, 52.17, 0.01]\n"
     ]
    },
    {
     "name": "stderr",
     "output_type": "stream",
     "text": [
      "2022-10-27 22:40:40,864 INFO Request is running\n",
      "2022-10-27 22:54:59,030 INFO Request is completed\n",
      "2022-10-27 22:54:59,030 INFO Downloading https://download-0003-clone.copernicus-climate.eu/cache-compute-0003/cache/data9/adaptor.mars.internal-1666907574.6397762-24149-7-d35b35fb-879d-44c9-935a-283e0357d4dd.nc to c:\\Users\\sceac10\\OneDrive - Cardiff University\\General\\data\\South Cambridgeshire_netcdf_data\\South Cambridgeshire_surface_net_solar_radiation_2022.nc (30.9K)\n",
      "2022-10-27 22:54:59,334 INFO Download rate 102.1K/s\n",
      "2022-10-27 22:54:59,451 INFO Welcome to the CDS\n",
      "2022-10-27 22:54:59,452 INFO Sending request to https://cds.climate.copernicus.eu/api/v2/resources/reanalysis-era5-land\n",
      "2022-10-27 22:54:59,514 INFO Request is queued\n"
     ]
    },
    {
     "name": "stdout",
     "output_type": "stream",
     "text": [
      "Cheshire West and Chester [53.16, -2.73, 53.15, -2.72]\n"
     ]
    },
    {
     "name": "stderr",
     "output_type": "stream",
     "text": [
      "2022-10-27 22:55:00,576 INFO Request is running\n",
      "2022-10-27 23:09:18,800 INFO Request is completed\n",
      "2022-10-27 23:09:18,801 INFO Downloading https://download-0002-clone.copernicus-climate.eu/cache-compute-0002/cache/data3/adaptor.mars.internal-1666908430.7122548-25901-6-76572aba-9d6f-4bae-a8a0-d852db0db8d8.nc to c:\\Users\\sceac10\\OneDrive - Cardiff University\\General\\data\\Cheshire West and Chester_netcdf_data\\Cheshire West and Chester_surface_net_solar_radiation_2022.nc (30.9K)\n",
      "2022-10-27 23:09:19,033 INFO Download rate 134K/s\n",
      "2022-10-27 23:09:19,117 INFO Welcome to the CDS\n",
      "2022-10-27 23:09:19,118 INFO Sending request to https://cds.climate.copernicus.eu/api/v2/resources/reanalysis-era5-land\n",
      "2022-10-27 23:09:19,166 INFO Request is queued\n"
     ]
    },
    {
     "name": "stdout",
     "output_type": "stream",
     "text": [
      "Cheshire East [53.17, -2.29, 53.16, -2.28]\n"
     ]
    },
    {
     "name": "stderr",
     "output_type": "stream",
     "text": [
      "2022-10-27 23:09:20,210 INFO Request is running\n",
      "2022-10-27 23:23:38,379 INFO Request is completed\n",
      "2022-10-27 23:23:38,380 INFO Downloading https://download-0007-clone.copernicus-climate.eu/cache-compute-0007/cache/data0/adaptor.mars.internal-1666909285.5569415-32101-16-bb6608a6-5276-48ce-a34b-71240463ed27.nc to c:\\Users\\sceac10\\OneDrive - Cardiff University\\General\\data\\Cheshire East_netcdf_data\\Cheshire East_surface_net_solar_radiation_2022.nc (31K)\n",
      "2022-10-27 23:23:38,615 INFO Download rate 131.7K/s\n",
      "2022-10-27 23:23:38,706 INFO Welcome to the CDS\n",
      "2022-10-27 23:23:38,707 INFO Sending request to https://cds.climate.copernicus.eu/api/v2/resources/reanalysis-era5-land\n",
      "2022-10-27 23:23:38,756 INFO Request is queued\n"
     ]
    },
    {
     "name": "stdout",
     "output_type": "stream",
     "text": [
      "Cornwall [50.42, -4.75, 50.41, -4.74]\n"
     ]
    },
    {
     "name": "stderr",
     "output_type": "stream",
     "text": [
      "2022-10-27 23:23:39,806 INFO Request is running\n",
      "2022-10-27 23:37:57,965 INFO Request is completed\n",
      "2022-10-27 23:37:57,966 INFO Downloading https://download-0002-clone.copernicus-climate.eu/cache-compute-0002/cache/data2/adaptor.mars.internal-1666910158.8397374-27315-10-95a08707-a081-42f0-91e1-821d8b3d033d.nc to c:\\Users\\sceac10\\OneDrive - Cardiff University\\General\\data\\Cornwall_netcdf_data\\Cornwall_surface_net_solar_radiation_2022.nc (30.9K)\n",
      "2022-10-27 23:37:58,183 INFO Download rate 143K/s\n",
      "2022-10-27 23:37:58,282 INFO Welcome to the CDS\n",
      "2022-10-27 23:37:58,283 INFO Sending request to https://cds.climate.copernicus.eu/api/v2/resources/reanalysis-era5-land\n",
      "2022-10-27 23:37:58,350 INFO Request is queued\n"
     ]
    },
    {
     "name": "stdout",
     "output_type": "stream",
     "text": [
      "Isles of Scilly [49.92, -6.29, 49.91, -6.28]\n"
     ]
    },
    {
     "name": "stderr",
     "output_type": "stream",
     "text": [
      "2022-10-27 23:38:03,257 INFO Request is running\n",
      "2022-10-27 23:56:17,950 INFO Request is completed\n",
      "2022-10-27 23:56:17,951 INFO Downloading https://download-0014-clone.copernicus-climate.eu/cache-compute-0014/cache/data0/adaptor.mars.internal-1666911232.349847-25262-3-b7bf439c-d543-4a51-93ec-886aa7cb6b03.nc to c:\\Users\\sceac10\\OneDrive - Cardiff University\\General\\data\\Isles of Scilly_netcdf_data\\Isles of Scilly_surface_net_solar_radiation_2022.nc (30.9K)\n",
      "2022-10-27 23:56:18,183 INFO Download rate 134K/s\n",
      "2022-10-27 23:56:18,265 INFO Welcome to the CDS\n",
      "2022-10-27 23:56:18,266 INFO Sending request to https://cds.climate.copernicus.eu/api/v2/resources/reanalysis-era5-land\n",
      "2022-10-27 23:56:18,312 INFO Request is queued\n"
     ]
    },
    {
     "name": "stdout",
     "output_type": "stream",
     "text": [
      "Allerdale [54.71, -3.25, 54.7, -3.24]\n"
     ]
    },
    {
     "name": "stderr",
     "output_type": "stream",
     "text": [
      "2022-10-27 23:56:19,359 INFO Request is running\n",
      "2022-10-28 00:12:37,668 INFO Request is completed\n",
      "2022-10-28 00:12:37,669 INFO Downloading https://download-0001-clone.copernicus-climate.eu/cache-compute-0001/cache/data6/adaptor.mars.internal-1666912273.1548011-1612-11-6518138a-b125-4cf7-88f2-a423aa603c2b.nc to c:\\Users\\sceac10\\OneDrive - Cardiff University\\General\\data\\Allerdale_netcdf_data\\Allerdale_surface_net_solar_radiation_2022.nc (30.9K)\n",
      "2022-10-28 00:12:37,902 INFO Download rate 133.4K/s\n",
      "2022-10-28 00:12:37,989 INFO Welcome to the CDS\n",
      "2022-10-28 00:12:37,989 INFO Sending request to https://cds.climate.copernicus.eu/api/v2/resources/reanalysis-era5-land\n",
      "2022-10-28 00:12:38,037 INFO Request is queued\n"
     ]
    },
    {
     "name": "stdout",
     "output_type": "stream",
     "text": [
      "Barrow-in-Furness [54.11, -3.23, 54.1, -3.22]\n"
     ]
    },
    {
     "name": "stderr",
     "output_type": "stream",
     "text": [
      "2022-10-28 00:12:39,086 INFO Request is running\n",
      "2022-10-28 00:24:56,969 INFO Request is completed\n",
      "2022-10-28 00:24:56,970 INFO Downloading https://download-0004-clone.copernicus-climate.eu/cache-compute-0004/cache/data1/adaptor.mars.internal-1666913077.3509738-17881-5-6b30fd45-9e58-41b9-8d39-4751adff2531.nc to c:\\Users\\sceac10\\OneDrive - Cardiff University\\General\\data\\Barrow-in-Furness_netcdf_data\\Barrow-in-Furness_surface_net_solar_radiation_2022.nc (30.9K)\n",
      "2022-10-28 00:24:57,186 INFO Download rate 144K/s\n",
      "2022-10-28 00:24:57,275 INFO Welcome to the CDS\n",
      "2022-10-28 00:24:57,275 INFO Sending request to https://cds.climate.copernicus.eu/api/v2/resources/reanalysis-era5-land\n",
      "2022-10-28 00:24:57,336 INFO Request is queued\n"
     ]
    },
    {
     "name": "stdout",
     "output_type": "stream",
     "text": [
      "Carlisle [54.89, -2.94, 54.88, -2.93]\n"
     ]
    },
    {
     "name": "stderr",
     "output_type": "stream",
     "text": [
      "2022-10-28 00:24:58,393 INFO Request is running\n",
      "2022-10-28 01:01:18,564 INFO Request is completed\n",
      "2022-10-28 01:01:18,565 INFO Downloading https://download-0005-clone.copernicus-climate.eu/cache-compute-0005/cache/data6/adaptor.mars.internal-1666915212.2055476-14488-2-677442a5-c05b-4baa-b6a1-b585591e5283.nc to c:\\Users\\sceac10\\OneDrive - Cardiff University\\General\\data\\Carlisle_netcdf_data\\Carlisle_surface_net_solar_radiation_2022.nc (30.9K)\n",
      "2022-10-28 01:01:18,807 INFO Download rate 128.7K/s\n",
      "2022-10-28 01:01:18,901 INFO Welcome to the CDS\n",
      "2022-10-28 01:01:18,902 INFO Sending request to https://cds.climate.copernicus.eu/api/v2/resources/reanalysis-era5-land\n",
      "2022-10-28 01:01:18,994 INFO Request is queued\n"
     ]
    },
    {
     "name": "stdout",
     "output_type": "stream",
     "text": [
      "Copeland [37.54, -100.63, 37.53, -100.62]\n"
     ]
    },
    {
     "name": "stderr",
     "output_type": "stream",
     "text": [
      "2022-10-28 01:01:20,053 INFO Request is running\n",
      "2022-10-28 01:15:38,230 INFO Request is completed\n",
      "2022-10-28 01:15:38,231 INFO Downloading https://download-0005-clone.copernicus-climate.eu/cache-compute-0005/cache/data6/adaptor.mars.internal-1666916006.881062-26413-15-b4b7167b-4fb8-42c8-ae33-f0a0a674221b.nc to c:\\Users\\sceac10\\OneDrive - Cardiff University\\General\\data\\Copeland_netcdf_data\\Copeland_surface_net_solar_radiation_2022.nc (30.9K)\n",
      "2022-10-28 01:15:38,452 INFO Download rate 140.7K/s\n",
      "2022-10-28 01:15:38,542 INFO Welcome to the CDS\n",
      "2022-10-28 01:15:38,543 INFO Sending request to https://cds.climate.copernicus.eu/api/v2/resources/reanalysis-era5-land\n",
      "2022-10-28 01:15:38,606 INFO Request is queued\n"
     ]
    },
    {
     "name": "stdout",
     "output_type": "stream",
     "text": [
      "Eden [36.49, -79.77, 36.48, -79.76]\n"
     ]
    },
    {
     "name": "stderr",
     "output_type": "stream",
     "text": [
      "2022-10-28 01:15:39,651 INFO Request is running\n",
      "2022-10-28 01:29:57,833 INFO Request is completed\n",
      "2022-10-28 01:29:57,834 INFO Downloading https://download-0021.copernicus-climate.eu/cache-compute-0021/cache/data0/adaptor.mars.internal-1666916898.2891765-2041-16-0d86a83e-ea34-4bde-924b-84e0b811108c.nc to c:\\Users\\sceac10\\OneDrive - Cardiff University\\General\\data\\Eden_netcdf_data\\Eden_surface_net_solar_radiation_2022.nc (30.9K)\n",
      "2022-10-28 01:29:58,072 INFO Download rate 130K/s\n",
      "2022-10-28 01:29:58,171 INFO Welcome to the CDS\n",
      "2022-10-28 01:29:58,172 INFO Sending request to https://cds.climate.copernicus.eu/api/v2/resources/reanalysis-era5-land\n",
      "2022-10-28 01:29:58,248 INFO Request is queued\n"
     ]
    },
    {
     "name": "stdout",
     "output_type": "stream",
     "text": [
      "South Lakeland [54.27, -2.77, 54.26, -2.76]\n"
     ]
    },
    {
     "name": "stderr",
     "output_type": "stream",
     "text": [
      "2022-10-28 01:29:59,296 INFO Request is running\n",
      "2022-10-28 01:44:17,489 INFO Request is completed\n",
      "2022-10-28 01:44:17,490 INFO Downloading https://download-0006-clone.copernicus-climate.eu/cache-compute-0006/cache/data3/adaptor.mars.internal-1666917738.790959-10538-1-ed28698f-4b1d-4b2a-afbf-32ff50f728f8.nc to c:\\Users\\sceac10\\OneDrive - Cardiff University\\General\\data\\South Lakeland_netcdf_data\\South Lakeland_surface_net_solar_radiation_2022.nc (30.9K)\n",
      "2022-10-28 01:44:17,725 INFO Download rate 132.8K/s\n",
      "2022-10-28 01:44:17,815 INFO Welcome to the CDS\n",
      "2022-10-28 01:44:17,815 INFO Sending request to https://cds.climate.copernicus.eu/api/v2/resources/reanalysis-era5-land\n",
      "2022-10-28 01:44:17,880 INFO Request is queued\n"
     ]
    },
    {
     "name": "stdout",
     "output_type": "stream",
     "text": [
      "Amber Valley [53.03, -1.46, 53.02, -1.45]\n"
     ]
    },
    {
     "name": "stderr",
     "output_type": "stream",
     "text": [
      "2022-10-28 01:44:22,788 INFO Request is running\n",
      "2022-10-28 01:58:37,075 INFO Request is completed\n",
      "2022-10-28 01:58:37,076 INFO Downloading https://download-0021.copernicus-climate.eu/cache-compute-0021/cache/data1/adaptor.mars.internal-1666918613.998072-21160-14-837ebb53-6cb8-4e2e-ab79-f93841a34c8d.nc to c:\\Users\\sceac10\\OneDrive - Cardiff University\\General\\data\\Amber Valley_netcdf_data\\Amber Valley_surface_net_solar_radiation_2022.nc (30.9K)\n",
      "2022-10-28 01:58:37,286 INFO Download rate 148.1K/s\n",
      "2022-10-28 01:58:37,375 INFO Welcome to the CDS\n",
      "2022-10-28 01:58:37,375 INFO Sending request to https://cds.climate.copernicus.eu/api/v2/resources/reanalysis-era5-land\n",
      "2022-10-28 01:58:37,439 INFO Request is queued\n"
     ]
    },
    {
     "name": "stdout",
     "output_type": "stream",
     "text": [
      "Bolsover [53.23, -1.29, 53.22, -1.28]\n"
     ]
    },
    {
     "name": "stderr",
     "output_type": "stream",
     "text": [
      "2022-10-28 01:58:42,332 INFO Request is running\n",
      "2022-10-28 02:12:56,597 INFO Request is completed\n",
      "2022-10-28 02:12:56,598 INFO Downloading https://download-0008-clone.copernicus-climate.eu/cache-compute-0008/cache/data1/adaptor.mars.internal-1666919483.671895-18933-6-aeae8318-21c4-4a29-804e-20a39badd247.nc to c:\\Users\\sceac10\\OneDrive - Cardiff University\\General\\data\\Bolsover_netcdf_data\\Bolsover_surface_net_solar_radiation_2022.nc (30.9K)\n",
      "2022-10-28 02:12:56,807 INFO Download rate 148.1K/s\n",
      "2022-10-28 02:12:56,897 INFO Welcome to the CDS\n",
      "2022-10-28 02:12:56,898 INFO Sending request to https://cds.climate.copernicus.eu/api/v2/resources/reanalysis-era5-land\n",
      "2022-10-28 02:12:56,958 INFO Request is queued\n"
     ]
    },
    {
     "name": "stdout",
     "output_type": "stream",
     "text": [
      "Chesterfield [38.66, -90.56, 38.65, -90.55]\n"
     ]
    },
    {
     "name": "stderr",
     "output_type": "stream",
     "text": [
      "2022-10-28 02:12:58,015 INFO Request is running\n",
      "2022-10-28 02:27:16,151 INFO Request is completed\n",
      "2022-10-28 02:27:16,152 INFO Downloading https://download-0008-clone.copernicus-climate.eu/cache-compute-0008/cache/data6/adaptor.mars.internal-1666920322.3296077-16793-3-06ee9e2c-4e92-4fb0-be95-4f0015382484.nc to c:\\Users\\sceac10\\OneDrive - Cardiff University\\General\\data\\Chesterfield_netcdf_data\\Chesterfield_surface_net_solar_radiation_2022.nc (30.9K)\n",
      "2022-10-28 02:27:16,362 INFO Download rate 148.1K/s\n",
      "2022-10-28 02:27:16,446 INFO Welcome to the CDS\n",
      "2022-10-28 02:27:16,447 INFO Sending request to https://cds.climate.copernicus.eu/api/v2/resources/reanalysis-era5-land\n",
      "2022-10-28 02:27:16,536 INFO Request is queued\n"
     ]
    },
    {
     "name": "stdout",
     "output_type": "stream",
     "text": [
      "Derbyshire Dales [53.13, -1.66, 53.12, -1.65]\n"
     ]
    },
    {
     "name": "stderr",
     "output_type": "stream",
     "text": [
      "2022-10-28 02:27:17,589 INFO Request is running\n",
      "2022-10-28 02:41:35,704 INFO Request is completed\n",
      "2022-10-28 02:41:35,705 INFO Downloading https://download-0021.copernicus-climate.eu/cache-compute-0021/cache/data7/adaptor.mars.internal-1666921224.1172268-1956-4-e4b0175b-d261-4e21-a71f-3ed3b0d794c2.nc to c:\\Users\\sceac10\\OneDrive - Cardiff University\\General\\data\\Derbyshire Dales_netcdf_data\\Derbyshire Dales_surface_net_solar_radiation_2022.nc (30.9K)\n",
      "2022-10-28 02:41:35,946 INFO Download rate 128.4K/s\n",
      "2022-10-28 02:41:36,044 INFO Welcome to the CDS\n",
      "2022-10-28 02:41:36,045 INFO Sending request to https://cds.climate.copernicus.eu/api/v2/resources/reanalysis-era5-land\n",
      "2022-10-28 02:41:36,155 INFO Request is queued\n"
     ]
    },
    {
     "name": "stdout",
     "output_type": "stream",
     "text": [
      "Erewash [52.94, -1.35, 52.93, -1.34]\n"
     ]
    },
    {
     "name": "stderr",
     "output_type": "stream",
     "text": [
      "2022-10-28 02:41:38,769 INFO Request is running\n",
      "2022-10-28 02:55:55,400 INFO Request is completed\n",
      "2022-10-28 02:55:55,401 INFO Downloading https://download-0001-clone.copernicus-climate.eu/cache-compute-0001/cache/data6/adaptor.mars.internal-1666922056.2093036-15806-4-ce603133-7a3b-4660-bb03-ec39e6fcb549.nc to c:\\Users\\sceac10\\OneDrive - Cardiff University\\General\\data\\Erewash_netcdf_data\\Erewash_surface_net_solar_radiation_2022.nc (30.9K)\n",
      "2022-10-28 02:55:55,676 INFO Download rate 112.5K/s\n",
      "2022-10-28 02:55:55,764 INFO Welcome to the CDS\n",
      "2022-10-28 02:55:55,765 INFO Sending request to https://cds.climate.copernicus.eu/api/v2/resources/reanalysis-era5-land\n",
      "2022-10-28 02:55:55,827 INFO Request is queued\n"
     ]
    },
    {
     "name": "stdout",
     "output_type": "stream",
     "text": [
      "High Peak [53.37, -1.85, 53.36, -1.84]\n"
     ]
    },
    {
     "name": "stderr",
     "output_type": "stream",
     "text": [
      "2022-10-28 02:55:58,417 INFO Request is running\n",
      "2022-10-28 03:10:15,016 INFO Request is completed\n",
      "2022-10-28 03:10:15,018 INFO Downloading https://download-0008-clone.copernicus-climate.eu/cache-compute-0008/cache/data3/adaptor.mars.internal-1666922895.5618668-16793-11-1c1f2560-b8d9-43a2-841b-f0fdb6539896.nc to c:\\Users\\sceac10\\OneDrive - Cardiff University\\General\\data\\High Peak_netcdf_data\\High Peak_surface_net_solar_radiation_2022.nc (31K)\n",
      "2022-10-28 03:10:15,233 INFO Download rate 144.6K/s\n",
      "2022-10-28 03:10:15,323 INFO Welcome to the CDS\n",
      "2022-10-28 03:10:15,324 INFO Sending request to https://cds.climate.copernicus.eu/api/v2/resources/reanalysis-era5-land\n",
      "2022-10-28 03:10:15,391 INFO Request is queued\n"
     ]
    },
    {
     "name": "stdout",
     "output_type": "stream",
     "text": [
      "North East Derbyshire [53.22, -1.52, 53.21, -1.51]\n"
     ]
    },
    {
     "name": "stderr",
     "output_type": "stream",
     "text": [
      "2022-10-28 03:10:47,911 INFO Request is running\n",
      "2022-10-28 03:24:34,558 INFO Request is completed\n",
      "2022-10-28 03:24:34,559 INFO Downloading https://download-0018.copernicus-climate.eu/cache-compute-0018/cache/data6/adaptor.mars.internal-1666923774.5569139-6463-3-bd93ea02-360d-4620-870f-3ef4809556c8.nc to c:\\Users\\sceac10\\OneDrive - Cardiff University\\General\\data\\North East Derbyshire_netcdf_data\\North East Derbyshire_surface_net_solar_radiation_2022.nc (30.9K)\n",
      "2022-10-28 03:24:34,781 INFO Download rate 140.7K/s\n",
      "2022-10-28 03:24:34,872 INFO Welcome to the CDS\n",
      "2022-10-28 03:24:34,873 INFO Sending request to https://cds.climate.copernicus.eu/api/v2/resources/reanalysis-era5-land\n",
      "2022-10-28 03:24:34,990 INFO Request is queued\n"
     ]
    },
    {
     "name": "stdout",
     "output_type": "stream",
     "text": [
      "South Derbyshire [52.82, -1.5, 52.81, -1.49]\n"
     ]
    },
    {
     "name": "stderr",
     "output_type": "stream",
     "text": [
      "2022-10-28 03:24:36,039 INFO Request is running\n",
      "2022-10-28 03:38:54,175 INFO Request is completed\n",
      "2022-10-28 03:38:54,176 INFO Downloading https://download-0005-clone.copernicus-climate.eu/cache-compute-0005/cache/data6/adaptor.mars.internal-1666924600.1324208-30916-15-e314c97f-4be2-48b2-bff5-49f8ff79bb02.nc to c:\\Users\\sceac10\\OneDrive - Cardiff University\\General\\data\\South Derbyshire_netcdf_data\\South Derbyshire_surface_net_solar_radiation_2022.nc (31K)\n",
      "2022-10-28 03:38:54,376 INFO Download rate 155.9K/s\n",
      "2022-10-28 03:38:54,468 INFO Welcome to the CDS\n",
      "2022-10-28 03:38:54,469 INFO Sending request to https://cds.climate.copernicus.eu/api/v2/resources/reanalysis-era5-land\n"
     ]
    },
    {
     "name": "stdout",
     "output_type": "stream",
     "text": [
      "East Devon [50.76, -3.22, 50.75, -3.21]\n"
     ]
    },
    {
     "name": "stderr",
     "output_type": "stream",
     "text": [
      "2022-10-28 03:38:54,704 INFO Request is queued\n",
      "2022-10-28 03:39:03,038 INFO Request is running\n",
      "2022-10-28 03:53:13,788 INFO Request is completed\n",
      "2022-10-28 03:53:13,789 INFO Downloading https://download-0002-clone.copernicus-climate.eu/cache-compute-0002/cache/data2/adaptor.mars.internal-1666925482.271452-4905-11-3c457368-3e72-43e4-9d61-e8dcf5e953a3.nc to c:\\Users\\sceac10\\OneDrive - Cardiff University\\General\\data\\East Devon_netcdf_data\\East Devon_surface_net_solar_radiation_2022.nc (30.9K)\n",
      "2022-10-28 03:53:14,008 INFO Download rate 142K/s\n",
      "2022-10-28 03:53:14,101 INFO Welcome to the CDS\n",
      "2022-10-28 03:53:14,102 INFO Sending request to https://cds.climate.copernicus.eu/api/v2/resources/reanalysis-era5-land\n",
      "2022-10-28 03:53:14,160 INFO Request is queued\n"
     ]
    },
    {
     "name": "stdout",
     "output_type": "stream",
     "text": [
      "Exeter [50.73, -3.53, 50.72, -3.52]\n"
     ]
    },
    {
     "name": "stderr",
     "output_type": "stream",
     "text": [
      "2022-10-28 03:53:19,067 INFO Request is running\n",
      "2022-10-28 04:07:33,326 INFO Request is completed\n",
      "2022-10-28 04:07:33,327 INFO Downloading https://download-0003-clone.copernicus-climate.eu/cache-compute-0003/cache/data7/adaptor.mars.internal-1666926324.4951215-10998-11-477232c2-4dc2-499a-80c7-54697e50af43.nc to c:\\Users\\sceac10\\OneDrive - Cardiff University\\General\\data\\Exeter_netcdf_data\\Exeter_surface_net_solar_radiation_2022.nc (31K)\n",
      "2022-10-28 04:07:33,549 INFO Download rate 140.3K/s\n",
      "2022-10-28 04:07:33,654 INFO Welcome to the CDS\n",
      "2022-10-28 04:07:33,656 INFO Sending request to https://cds.climate.copernicus.eu/api/v2/resources/reanalysis-era5-land\n",
      "2022-10-28 04:07:33,719 INFO Request is queued\n"
     ]
    },
    {
     "name": "stdout",
     "output_type": "stream",
     "text": [
      "Mid Devon [50.87, -3.6, 50.86, -3.59]\n"
     ]
    },
    {
     "name": "stderr",
     "output_type": "stream",
     "text": [
      "2022-10-28 04:07:34,778 INFO Request is running\n",
      "2022-10-28 04:21:52,851 INFO Request is completed\n",
      "2022-10-28 04:21:52,852 INFO Downloading https://download-0006-clone.copernicus-climate.eu/cache-compute-0006/cache/data0/adaptor.mars.internal-1666927218.2432628-10530-14-79757d60-82f6-4954-9f51-0bbe8a3add29.nc to c:\\Users\\sceac10\\OneDrive - Cardiff University\\General\\data\\Mid Devon_netcdf_data\\Mid Devon_surface_net_solar_radiation_2022.nc (31K)\n",
      "2022-10-28 04:21:53,068 INFO Download rate 144K/s\n",
      "2022-10-28 04:21:53,162 INFO Welcome to the CDS\n",
      "2022-10-28 04:21:53,163 INFO Sending request to https://cds.climate.copernicus.eu/api/v2/resources/reanalysis-era5-land\n",
      "2022-10-28 04:21:53,225 INFO Request is queued\n"
     ]
    },
    {
     "name": "stdout",
     "output_type": "stream",
     "text": [
      "North Devon [51.06, -3.92, 51.05, -3.91]\n"
     ]
    },
    {
     "name": "stderr",
     "output_type": "stream",
     "text": [
      "2022-10-28 04:21:54,281 INFO Request is running\n",
      "2022-10-28 04:36:12,422 INFO Request is completed\n",
      "2022-10-28 04:36:12,423 INFO Downloading https://download-0011-clone.copernicus-climate.eu/cache-compute-0011/cache/data8/adaptor.mars.internal-1666928048.5583053-27315-12-053f1e79-77a9-430b-89de-4843cc6e5853.nc to c:\\Users\\sceac10\\OneDrive - Cardiff University\\General\\data\\North Devon_netcdf_data\\North Devon_surface_net_solar_radiation_2022.nc (31K)\n",
      "2022-10-28 04:36:12,646 INFO Download rate 139.2K/s\n",
      "2022-10-28 04:36:12,731 INFO Welcome to the CDS\n",
      "2022-10-28 04:36:12,732 INFO Sending request to https://cds.climate.copernicus.eu/api/v2/resources/reanalysis-era5-land\n",
      "2022-10-28 04:36:12,779 INFO Request is queued\n"
     ]
    },
    {
     "name": "stdout",
     "output_type": "stream",
     "text": [
      "South Hams [50.37, -3.82, 50.36, -3.81]\n"
     ]
    },
    {
     "name": "stderr",
     "output_type": "stream",
     "text": [
      "2022-10-28 04:36:15,379 INFO Request is running\n",
      "2022-10-28 04:50:32,147 INFO Request is completed\n",
      "2022-10-28 04:50:32,148 INFO Downloading https://download-0015-clone.copernicus-climate.eu/cache-compute-0015/cache/data2/adaptor.mars.internal-1666928917.550891-22428-18-1b3e0514-0e2d-4256-8f79-20ed64e3118e.nc to c:\\Users\\sceac10\\OneDrive - Cardiff University\\General\\data\\South Hams_netcdf_data\\South Hams_surface_net_solar_radiation_2022.nc (30.9K)\n",
      "2022-10-28 04:50:32,368 INFO Download rate 141.3K/s\n",
      "2022-10-28 04:50:32,461 INFO Welcome to the CDS\n",
      "2022-10-28 04:50:32,462 INFO Sending request to https://cds.climate.copernicus.eu/api/v2/resources/reanalysis-era5-land\n",
      "2022-10-28 04:50:32,543 INFO Request is queued\n"
     ]
    },
    {
     "name": "stdout",
     "output_type": "stream",
     "text": [
      "Teignbridge [50.61, -3.66, 50.6, -3.65]\n"
     ]
    },
    {
     "name": "stderr",
     "output_type": "stream",
     "text": [
      "2022-10-28 04:50:35,147 INFO Request is running\n",
      "2022-10-28 05:08:52,118 INFO Request is completed\n",
      "2022-10-28 05:08:52,118 INFO Downloading https://download-0013-clone.copernicus-climate.eu/cache-compute-0013/cache/data4/adaptor.mars.internal-1666929972.3198566-9432-2-5d838fb8-7335-4580-a5b6-dc8fb96c06b0.nc to c:\\Users\\sceac10\\OneDrive - Cardiff University\\General\\data\\Teignbridge_netcdf_data\\Teignbridge_surface_net_solar_radiation_2022.nc (30.9K)\n",
      "2022-10-28 05:08:52,318 INFO Download rate 155.5K/s\n",
      "2022-10-28 05:08:52,414 INFO Welcome to the CDS\n",
      "2022-10-28 05:08:52,415 INFO Sending request to https://cds.climate.copernicus.eu/api/v2/resources/reanalysis-era5-land\n",
      "2022-10-28 05:08:52,479 INFO Request is queued\n"
     ]
    },
    {
     "name": "stdout",
     "output_type": "stream",
     "text": [
      "Torridge [50.86, -4.26, 50.85, -4.25]\n"
     ]
    },
    {
     "name": "stderr",
     "output_type": "stream",
     "text": [
      "2022-10-28 05:08:55,074 INFO Request is running\n",
      "2022-10-28 05:39:13,319 INFO Request is completed\n",
      "2022-10-28 05:39:13,320 INFO Downloading https://download-0007-clone.copernicus-climate.eu/cache-compute-0007/cache/data8/adaptor.mars.internal-1666931880.9043105-26912-1-e12150e7-93ee-4d18-a87c-bca0137c6c02.nc to c:\\Users\\sceac10\\OneDrive - Cardiff University\\General\\data\\Torridge_netcdf_data\\Torridge_surface_net_solar_radiation_2022.nc (30.9K)\n",
      "2022-10-28 05:39:13,535 INFO Download rate 143.8K/s\n",
      "2022-10-28 05:39:13,639 INFO Welcome to the CDS\n",
      "2022-10-28 05:39:13,640 INFO Sending request to https://cds.climate.copernicus.eu/api/v2/resources/reanalysis-era5-land\n",
      "2022-10-28 05:39:13,693 INFO Request is queued\n"
     ]
    },
    {
     "name": "stdout",
     "output_type": "stream",
     "text": [
      "West Devon [50.65, -4.07, 50.64, -4.06]\n"
     ]
    },
    {
     "name": "stderr",
     "output_type": "stream",
     "text": [
      "2022-10-28 05:39:14,746 INFO Request is running\n",
      "2022-10-28 05:51:32,749 INFO Request is completed\n",
      "2022-10-28 05:51:32,750 INFO Downloading https://download-0012-clone.copernicus-climate.eu/cache-compute-0012/cache/data2/adaptor.mars.internal-1666932675.3727353-6954-9-dbad5092-648e-4067-8225-2beeec194aea.nc to c:\\Users\\sceac10\\OneDrive - Cardiff University\\General\\data\\West Devon_netcdf_data\\West Devon_surface_net_solar_radiation_2022.nc (30.9K)\n",
      "2022-10-28 05:51:32,989 INFO Download rate 130K/s\n",
      "2022-10-28 05:51:33,094 INFO Welcome to the CDS\n",
      "2022-10-28 05:51:33,095 INFO Sending request to https://cds.climate.copernicus.eu/api/v2/resources/reanalysis-era5-land\n",
      "2022-10-28 05:51:33,154 INFO Request is queued\n"
     ]
    },
    {
     "name": "stdout",
     "output_type": "stream",
     "text": [
      "Christchurch [-43.53, 172.64, -43.52, 172.63]\n"
     ]
    },
    {
     "name": "stderr",
     "output_type": "stream",
     "text": [
      "2022-10-28 05:51:34,209 INFO Request is running\n",
      "2022-10-28 06:05:52,472 INFO Request is completed\n",
      "2022-10-28 06:05:52,473 INFO Downloading https://download-0004-clone.copernicus-climate.eu/cache-compute-0004/cache/data6/adaptor.mars.internal-1666933418.9443781-32317-16-d4b6d7ed-270a-4540-8429-c38480fcf80c.nc to c:\\Users\\sceac10\\OneDrive - Cardiff University\\General\\data\\Christchurch_netcdf_data\\Christchurch_surface_net_solar_radiation_2022.nc (35M)\n",
      "2022-10-28 06:05:59,081 INFO Download rate 5.3M/s   \n",
      "2022-10-28 06:05:59,176 INFO Welcome to the CDS\n",
      "2022-10-28 06:05:59,177 INFO Sending request to https://cds.climate.copernicus.eu/api/v2/resources/reanalysis-era5-land\n",
      "2022-10-28 06:05:59,247 INFO Request is queued\n"
     ]
    },
    {
     "name": "stdout",
     "output_type": "stream",
     "text": [
      "East Dorset [50.87, -1.95, 50.86, -1.94]\n"
     ]
    },
    {
     "name": "stderr",
     "output_type": "stream",
     "text": [
      "2022-10-28 06:06:00,300 INFO Request is running\n",
      "2022-10-28 06:24:18,812 INFO Request is completed\n",
      "2022-10-28 06:24:18,813 INFO Downloading https://download-0005-clone.copernicus-climate.eu/cache-compute-0005/cache/data4/adaptor.mars.internal-1666934522.4359896-17249-1-15a6ccac-d422-4a17-b21b-523f4f0ef96b.nc to c:\\Users\\sceac10\\OneDrive - Cardiff University\\General\\data\\East Dorset_netcdf_data\\East Dorset_surface_net_solar_radiation_2022.nc (30.9K)\n",
      "2022-10-28 06:24:19,043 INFO Download rate 134.9K/s\n",
      "2022-10-28 06:24:19,132 INFO Welcome to the CDS\n",
      "2022-10-28 06:24:19,133 INFO Sending request to https://cds.climate.copernicus.eu/api/v2/resources/reanalysis-era5-land\n",
      "2022-10-28 06:24:19,183 INFO Request is queued\n"
     ]
    },
    {
     "name": "stdout",
     "output_type": "stream",
     "text": [
      "North Dorset [50.92, -2.23, 50.91, -2.22]\n"
     ]
    },
    {
     "name": "stderr",
     "output_type": "stream",
     "text": [
      "2022-10-28 06:24:20,245 INFO Request is running\n",
      "2022-10-28 06:38:38,394 INFO Request is completed\n",
      "2022-10-28 06:38:38,395 INFO Downloading https://download-0003-clone.copernicus-climate.eu/cache-compute-0003/cache/data5/adaptor.mars.internal-1666935400.2831156-12273-20-17be9629-b8c5-4351-bc2d-e1fc6244a121.nc to c:\\Users\\sceac10\\OneDrive - Cardiff University\\General\\data\\North Dorset_netcdf_data\\North Dorset_surface_net_solar_radiation_2022.nc (31K)\n",
      "2022-10-28 06:38:38,607 INFO Download rate 146.7K/s\n",
      "2022-10-28 06:38:38,698 INFO Welcome to the CDS\n",
      "2022-10-28 06:38:38,698 INFO Sending request to https://cds.climate.copernicus.eu/api/v2/resources/reanalysis-era5-land\n",
      "2022-10-28 06:38:38,759 INFO Request is queued\n"
     ]
    },
    {
     "name": "stdout",
     "output_type": "stream",
     "text": [
      "Purbeck [50.68, -2.13, 50.67, -2.12]\n"
     ]
    },
    {
     "name": "stderr",
     "output_type": "stream",
     "text": [
      "2022-10-28 06:38:39,807 INFO Request is running\n",
      "2022-10-28 06:52:58,004 INFO Request is completed\n",
      "2022-10-28 06:52:58,005 INFO Downloading https://download-0009-clone.copernicus-climate.eu/cache-compute-0009/cache/data0/adaptor.mars.internal-1666936257.5891519-15517-12-2393aae3-7140-4d98-996b-7700b5f0a228.nc to c:\\Users\\sceac10\\OneDrive - Cardiff University\\General\\data\\Purbeck_netcdf_data\\Purbeck_surface_net_solar_radiation_2022.nc (31K)\n",
      "2022-10-28 06:52:58,218 INFO Download rate 146.3K/s\n",
      "2022-10-28 06:52:58,311 INFO Welcome to the CDS\n",
      "2022-10-28 06:52:58,312 INFO Sending request to https://cds.climate.copernicus.eu/api/v2/resources/reanalysis-era5-land\n",
      "2022-10-28 06:52:58,381 INFO Request is queued\n"
     ]
    },
    {
     "name": "stdout",
     "output_type": "stream",
     "text": [
      "West Dorset [50.8, -2.6, 50.79, -2.59]\n"
     ]
    },
    {
     "name": "stderr",
     "output_type": "stream",
     "text": [
      "2022-10-28 06:52:59,424 INFO Request is running\n",
      "2022-10-28 07:07:17,634 INFO Request is completed\n",
      "2022-10-28 07:07:17,635 INFO Downloading https://download-0007-clone.copernicus-climate.eu/cache-compute-0007/cache/data9/adaptor.mars.internal-1666937129.4012308-15786-11-64dfc56b-c6b0-4218-bda5-4f0eb13bdbc9.nc to c:\\Users\\sceac10\\OneDrive - Cardiff University\\General\\data\\West Dorset_netcdf_data\\West Dorset_surface_net_solar_radiation_2022.nc (30.9K)\n",
      "2022-10-28 07:07:17,911 INFO Download rate 112.1K/s\n",
      "2022-10-28 07:07:18,011 INFO Welcome to the CDS\n",
      "2022-10-28 07:07:18,012 INFO Sending request to https://cds.climate.copernicus.eu/api/v2/resources/reanalysis-era5-land\n",
      "2022-10-28 07:07:18,061 INFO Request is queued\n"
     ]
    },
    {
     "name": "stdout",
     "output_type": "stream",
     "text": [
      "Weymouth and Portland [50.6, -2.47, 50.59, -2.46]\n"
     ]
    },
    {
     "name": "stderr",
     "output_type": "stream",
     "text": [
      "2022-10-28 07:07:19,117 INFO Request is running\n",
      "2022-10-28 07:21:37,383 INFO Request is completed\n",
      "2022-10-28 07:21:37,384 INFO Downloading https://download-0013-clone.copernicus-climate.eu/cache-compute-0013/cache/data8/adaptor.mars.internal-1666937968.400619-24354-3-2efc3daa-82d6-4ca4-a556-3aa89fc5217c.nc to c:\\Users\\sceac10\\OneDrive - Cardiff University\\General\\data\\Weymouth and Portland_netcdf_data\\Weymouth and Portland_surface_net_solar_radiation_2022.nc (30.9K)\n",
      "2022-10-28 07:21:37,787 INFO Download rate 77K/s\n",
      "2022-10-28 07:21:37,890 INFO Welcome to the CDS\n",
      "2022-10-28 07:21:37,891 INFO Sending request to https://cds.climate.copernicus.eu/api/v2/resources/reanalysis-era5-land\n",
      "2022-10-28 07:21:37,969 INFO Request is queued\n"
     ]
    },
    {
     "name": "stdout",
     "output_type": "stream",
     "text": [
      "County Durham [54.67, -1.75, 54.66, -1.74]\n"
     ]
    },
    {
     "name": "stderr",
     "output_type": "stream",
     "text": [
      "2022-10-28 07:21:39,018 INFO Request is running\n",
      "2022-10-28 07:35:57,205 INFO Request is completed\n",
      "2022-10-28 07:35:57,206 INFO Downloading https://download-0013-clone.copernicus-climate.eu/cache-compute-0013/cache/data7/adaptor.mars.internal-1666938825.4661252-9614-11-0f2e83dc-e7f0-408b-92e7-2ded02f49cac.nc to c:\\Users\\sceac10\\OneDrive - Cardiff University\\General\\data\\County Durham_netcdf_data\\County Durham_surface_net_solar_radiation_2022.nc (30.9K)\n",
      "2022-10-28 07:35:57,432 INFO Download rate 137K/s\n",
      "2022-10-28 07:35:57,536 INFO Welcome to the CDS\n",
      "2022-10-28 07:35:57,537 INFO Sending request to https://cds.climate.copernicus.eu/api/v2/resources/reanalysis-era5-land\n",
      "2022-10-28 07:35:57,626 INFO Request is queued\n"
     ]
    },
    {
     "name": "stdout",
     "output_type": "stream",
     "text": [
      "Eastbourne [50.77, 0.28, 50.76, 0.27]\n"
     ]
    },
    {
     "name": "stderr",
     "output_type": "stream",
     "text": [
      "2022-10-28 07:35:58,672 INFO Request is running\n",
      "2022-10-28 07:50:16,950 INFO Request is completed\n",
      "2022-10-28 07:50:16,951 INFO Downloading https://download-0015-clone.copernicus-climate.eu/cache-compute-0015/cache/data4/adaptor.mars.internal-1666939726.5811303-22702-15-f0c93899-320c-4dfd-a070-db3087c029cb.nc to c:\\Users\\sceac10\\OneDrive - Cardiff University\\General\\data\\Eastbourne_netcdf_data\\Eastbourne_surface_net_solar_radiation_2022.nc (35M)\n",
      "2022-10-28 07:50:23,689 INFO Download rate 5.2M/s   \n",
      "2022-10-28 07:50:23,788 INFO Welcome to the CDS\n",
      "2022-10-28 07:50:23,788 INFO Sending request to https://cds.climate.copernicus.eu/api/v2/resources/reanalysis-era5-land\n",
      "2022-10-28 07:50:23,874 INFO Request is queued\n"
     ]
    },
    {
     "name": "stdout",
     "output_type": "stream",
     "text": [
      "Hastings [50.86, 0.58, 50.85, 0.57]\n"
     ]
    },
    {
     "name": "stderr",
     "output_type": "stream",
     "text": [
      "2022-10-28 07:50:26,486 INFO Request is running\n",
      "2022-10-28 08:08:43,512 INFO Request is completed\n",
      "2022-10-28 08:08:43,513 INFO Downloading https://download-0020.copernicus-climate.eu/cache-compute-0020/cache/data9/adaptor.mars.internal-1666940769.1213586-25572-3-cb13bdf5-ea16-4dcd-9f5f-de2f799d2623.nc to c:\\Users\\sceac10\\OneDrive - Cardiff University\\General\\data\\Hastings_netcdf_data\\Hastings_surface_net_solar_radiation_2022.nc (35M)\n",
      "2022-10-28 08:08:48,681 INFO Download rate 6.8M/s   \n",
      "2022-10-28 08:08:48,775 INFO Welcome to the CDS\n",
      "2022-10-28 08:08:48,776 INFO Sending request to https://cds.climate.copernicus.eu/api/v2/resources/reanalysis-era5-land\n",
      "2022-10-28 08:08:48,893 INFO Request is queued\n"
     ]
    },
    {
     "name": "stdout",
     "output_type": "stream",
     "text": [
      "Lewes [50.87, 0.01, 50.86, -0.0]\n"
     ]
    },
    {
     "name": "stderr",
     "output_type": "stream",
     "text": [
      "2022-10-28 08:08:49,955 INFO Request is running\n",
      "2022-10-28 08:23:08,224 INFO Request is completed\n",
      "2022-10-28 08:23:08,225 INFO Downloading https://download-0013-clone.copernicus-climate.eu/cache-compute-0013/cache/data3/adaptor.mars.internal-1666941671.8313203-15481-5-96d6b9f5-aa3b-4765-a452-1e5b7ea3f434.nc to c:\\Users\\sceac10\\OneDrive - Cardiff University\\General\\data\\Lewes_netcdf_data\\Lewes_surface_net_solar_radiation_2022.nc (35M)\n",
      "2022-10-28 08:23:14,920 INFO Download rate 5.2M/s   \n",
      "2022-10-28 08:23:15,021 INFO Welcome to the CDS\n",
      "2022-10-28 08:23:15,022 INFO Sending request to https://cds.climate.copernicus.eu/api/v2/resources/reanalysis-era5-land\n",
      "2022-10-28 08:23:15,103 INFO Request is queued\n"
     ]
    },
    {
     "name": "stdout",
     "output_type": "stream",
     "text": [
      "Rother [50.95, 0.57, 50.94, 0.56]\n"
     ]
    },
    {
     "name": "stderr",
     "output_type": "stream",
     "text": [
      "2022-10-28 08:23:17,718 INFO Request is running\n",
      "2022-10-28 08:37:34,410 INFO Request is completed\n",
      "2022-10-28 08:37:34,411 INFO Downloading https://download-0008-clone.copernicus-climate.eu/cache-compute-0008/cache/data6/adaptor.mars.internal-1666942550.163886-7942-5-f2ee10a7-8b42-426f-92be-6815e3d142cd.nc to c:\\Users\\sceac10\\OneDrive - Cardiff University\\General\\data\\Rother_netcdf_data\\Rother_surface_net_solar_radiation_2022.nc (35M)\n",
      "2022-10-28 08:37:42,855 INFO Download rate 4.1M/s   \n",
      "2022-10-28 08:37:42,956 INFO Welcome to the CDS\n",
      "2022-10-28 08:37:42,957 INFO Sending request to https://cds.climate.copernicus.eu/api/v2/resources/reanalysis-era5-land\n",
      "2022-10-28 08:37:43,060 INFO Request is queued\n"
     ]
    },
    {
     "name": "stdout",
     "output_type": "stream",
     "text": [
      "Wealden [50.94, 0.2, 50.93, 0.19]\n"
     ]
    },
    {
     "name": "stderr",
     "output_type": "stream",
     "text": [
      "2022-10-28 08:37:47,988 INFO Request is running\n",
      "2022-10-28 08:52:02,416 INFO Request is completed\n",
      "2022-10-28 08:52:02,417 INFO Downloading https://download-0000-clone.copernicus-climate.eu/cache-compute-0000/cache/data7/adaptor.mars.internal-1666943455.1033523-30875-16-f23a9c97-55d3-4126-a3c0-c95d14203a3e.nc to c:\\Users\\sceac10\\OneDrive - Cardiff University\\General\\data\\Wealden_netcdf_data\\Wealden_surface_net_solar_radiation_2022.nc (35M)\n",
      "2022-10-28 08:52:08,414 INFO Download rate 5.8M/s   \n",
      "2022-10-28 08:52:08,505 INFO Welcome to the CDS\n",
      "2022-10-28 08:52:08,506 INFO Sending request to https://cds.climate.copernicus.eu/api/v2/resources/reanalysis-era5-land\n",
      "2022-10-28 08:52:08,636 INFO Request is queued\n"
     ]
    },
    {
     "name": "stdout",
     "output_type": "stream",
     "text": [
      "Basildon [51.58, 0.48, 51.57, 0.47]\n"
     ]
    },
    {
     "name": "stderr",
     "output_type": "stream",
     "text": [
      "2022-10-28 08:52:29,732 INFO Request is running\n",
      "2022-10-28 10:44:37,564 INFO Request is completed\n",
      "2022-10-28 10:44:37,565 INFO Downloading https://download-0000-clone.copernicus-climate.eu/cache-compute-0000/cache/data2/adaptor.mars.internal-1666950182.122732-1697-15-6311f597-e4e0-4aa3-94ee-e14ae3bc3c18.nc to c:\\Users\\sceac10\\OneDrive - Cardiff University\\General\\data\\Basildon_netcdf_data\\Basildon_surface_net_solar_radiation_2022.nc (35M)\n",
      "2022-10-28 10:44:44,005 INFO Download rate 5.4M/s   \n",
      "2022-10-28 10:44:44,088 INFO Welcome to the CDS\n",
      "2022-10-28 10:44:44,089 INFO Sending request to https://cds.climate.copernicus.eu/api/v2/resources/reanalysis-era5-land\n",
      "2022-10-28 10:44:44,186 INFO Request is queued\n"
     ]
    },
    {
     "name": "stdout",
     "output_type": "stream",
     "text": [
      "Braintree [42.22, -71.0, 42.21, -70.99]\n"
     ]
    },
    {
     "name": "stderr",
     "output_type": "stream",
     "text": [
      "2022-10-28 11:01:03,555 INFO Request is running\n",
      "2022-10-28 11:13:04,694 INFO Request is completed\n",
      "2022-10-28 11:13:04,695 INFO Downloading https://download-0007-clone.copernicus-climate.eu/cache-compute-0007/cache/data1/adaptor.mars.internal-1666951932.0554988-22889-16-7f6fc266-37e7-46f5-9272-5e8779ab9a0b.nc to c:\\Users\\sceac10\\OneDrive - Cardiff University\\General\\data\\Braintree_netcdf_data\\Braintree_surface_net_solar_radiation_2022.nc (31K)\n",
      "2022-10-28 11:13:04,962 INFO Download rate 116.3K/s\n",
      "2022-10-28 11:13:05,053 INFO Welcome to the CDS\n",
      "2022-10-28 11:13:05,054 INFO Sending request to https://cds.climate.copernicus.eu/api/v2/resources/reanalysis-era5-land\n",
      "2022-10-28 11:13:05,121 INFO Request is queued\n"
     ]
    },
    {
     "name": "stdout",
     "output_type": "stream",
     "text": [
      "Brentwood [37.93, -121.7, 37.92, -121.69]\n"
     ]
    },
    {
     "name": "stderr",
     "output_type": "stream",
     "text": [
      "2022-10-28 11:23:23,996 INFO Request is running\n",
      "2022-10-28 11:35:25,217 INFO Request is completed\n",
      "2022-10-28 11:35:25,218 INFO Downloading https://download-0019.copernicus-climate.eu/cache-compute-0019/cache/data6/adaptor.mars.internal-1666953300.8293235-6849-12-6f2b1fce-26c4-480b-b899-fb5587161629.nc to c:\\Users\\sceac10\\OneDrive - Cardiff University\\General\\data\\Brentwood_netcdf_data\\Brentwood_surface_net_solar_radiation_2022.nc (30.9K)\n",
      "2022-10-28 11:35:25,433 INFO Download rate 144.5K/s\n",
      "2022-10-28 11:35:25,539 INFO Welcome to the CDS\n",
      "2022-10-28 11:35:25,540 INFO Sending request to https://cds.climate.copernicus.eu/api/v2/resources/reanalysis-era5-land\n",
      "2022-10-28 11:35:25,591 INFO Request is queued\n"
     ]
    },
    {
     "name": "stdout",
     "output_type": "stream",
     "text": [
      "Castle Point [51.54, 0.58, 51.53, 0.57]\n"
     ]
    },
    {
     "name": "stderr",
     "output_type": "stream",
     "text": [
      "2022-10-28 11:43:44,299 INFO Request is running\n",
      "2022-10-28 11:55:45,379 INFO Request is completed\n",
      "2022-10-28 11:55:45,379 INFO Downloading https://download-0002-clone.copernicus-climate.eu/cache-compute-0002/cache/data2/adaptor.mars.internal-1666954499.4654472-5674-4-62a9f013-822e-45ec-910b-93f26a6e6a3d.nc to c:\\Users\\sceac10\\OneDrive - Cardiff University\\General\\data\\Castle Point_netcdf_data\\Castle Point_surface_net_solar_radiation_2022.nc (35M)\n",
      "2022-10-28 11:55:51,677 INFO Download rate 5.6M/s   \n",
      "2022-10-28 11:55:51,773 INFO Welcome to the CDS\n",
      "2022-10-28 11:55:51,774 INFO Sending request to https://cds.climate.copernicus.eu/api/v2/resources/reanalysis-era5-land\n"
     ]
    },
    {
     "name": "stdout",
     "output_type": "stream",
     "text": [
      "Chelmsford [51.73, 0.47, 51.72, 0.46]\n"
     ]
    },
    {
     "name": "stderr",
     "output_type": "stream",
     "text": [
      "2022-10-28 11:55:51,912 INFO Request is queued\n",
      "2022-10-28 11:56:05,377 INFO Request is running\n",
      "2022-10-28 12:10:11,149 INFO Request is completed\n",
      "2022-10-28 12:10:11,150 INFO Downloading https://download-0010-clone.copernicus-climate.eu/cache-compute-0010/cache/data7/adaptor.mars.internal-1666955307.7320151-10222-3-fe37a614-c258-4c49-8237-206ae6cfb684.nc to c:\\Users\\sceac10\\OneDrive - Cardiff University\\General\\data\\Chelmsford_netcdf_data\\Chelmsford_surface_net_solar_radiation_2022.nc (35M)\n",
      "2022-10-28 12:10:19,200 INFO Download rate 4.3M/s   \n",
      "2022-10-28 12:10:19,290 INFO Welcome to the CDS\n",
      "2022-10-28 12:10:19,291 INFO Sending request to https://cds.climate.copernicus.eu/api/v2/resources/reanalysis-era5-land\n",
      "2022-10-28 12:10:19,367 INFO Request is queued\n"
     ]
    },
    {
     "name": "stdout",
     "output_type": "stream",
     "text": [
      "Colchester [51.89, 0.9, 51.88, 0.89]\n"
     ]
    },
    {
     "name": "stderr",
     "output_type": "stream",
     "text": [
      "2022-10-28 12:10:40,471 INFO Request is running\n",
      "2022-10-28 12:24:38,592 INFO Request is completed\n",
      "2022-10-28 12:24:38,593 INFO Downloading https://download-0001-clone.copernicus-climate.eu/cache-compute-0001/cache/data8/adaptor.mars.internal-1666956201.1813946-9179-14-6fee617a-bdac-4ff7-bbc6-57f4e6580770.nc to c:\\Users\\sceac10\\OneDrive - Cardiff University\\General\\data\\Colchester_netcdf_data\\Colchester_surface_net_solar_radiation_2022.nc (35M)\n",
      "2022-10-28 12:24:44,913 INFO Download rate 5.5M/s   \n",
      "2022-10-28 12:24:45,022 INFO Welcome to the CDS\n",
      "2022-10-28 12:24:45,023 INFO Sending request to https://cds.climate.copernicus.eu/api/v2/resources/reanalysis-era5-land\n"
     ]
    },
    {
     "name": "stdout",
     "output_type": "stream",
     "text": [
      "Epping Forest [51.67, 0.05, 51.66, 0.04]\n"
     ]
    },
    {
     "name": "stderr",
     "output_type": "stream",
     "text": [
      "2022-10-28 12:24:45,161 INFO Downloading https://download-0000-clone.copernicus-climate.eu/cache-compute-0000/cache/data7/adaptor.mars.internal-1666812497.506652-10318-19-a3dad8ed-1620-4b36-9554-e97b55f89b72.nc to c:\\Users\\sceac10\\OneDrive - Cardiff University\\General\\data\\Epping Forest_netcdf_data\\Epping Forest_surface_net_solar_radiation_2022.nc (35M)\n",
      "2022-10-28 12:24:55,499 INFO Download rate 3.4M/s   \n",
      "2022-10-28 12:24:55,595 INFO Welcome to the CDS\n",
      "2022-10-28 12:24:55,596 INFO Sending request to https://cds.climate.copernicus.eu/api/v2/resources/reanalysis-era5-land\n",
      "2022-10-28 12:24:55,648 INFO Request is queued\n"
     ]
    },
    {
     "name": "stdout",
     "output_type": "stream",
     "text": [
      "Harlow [51.77, 0.1, 51.76, 0.09]\n"
     ]
    },
    {
     "name": "stderr",
     "output_type": "stream",
     "text": [
      "2022-10-28 12:25:03,992 INFO Request is running\n",
      "2022-10-28 12:39:15,056 INFO Request is completed\n",
      "2022-10-28 12:39:15,057 INFO Downloading https://download-0014-clone.copernicus-climate.eu/cache-compute-0014/cache/data4/adaptor.mars.internal-1666957059.7743764-19035-15-cecfcca7-f0f5-4dac-a954-e7729454a491.nc to c:\\Users\\sceac10\\OneDrive - Cardiff University\\General\\data\\Harlow_netcdf_data\\Harlow_surface_net_solar_radiation_2022.nc (35M)\n",
      "2022-10-28 12:39:20,624 INFO Download rate 6.3M/s   \n",
      "2022-10-28 12:39:20,715 INFO Welcome to the CDS\n",
      "2022-10-28 12:39:20,715 INFO Sending request to https://cds.climate.copernicus.eu/api/v2/resources/reanalysis-era5-land\n",
      "2022-10-28 12:39:20,787 INFO Request is queued\n"
     ]
    },
    {
     "name": "stdout",
     "output_type": "stream",
     "text": [
      "Maldon [51.72, 0.68, 51.71, 0.67]\n"
     ]
    },
    {
     "name": "stderr",
     "output_type": "stream",
     "text": [
      "2022-10-28 12:39:34,242 INFO Request is running\n",
      "2022-10-28 12:53:40,000 INFO Request is completed\n",
      "2022-10-28 12:53:40,001 INFO Downloading https://download-0006-clone.copernicus-climate.eu/cache-compute-0006/cache/data4/adaptor.mars.internal-1666957906.7091353-14966-11-ba4d1201-63f2-4a12-93b9-f63e92e7a655.nc to c:\\Users\\sceac10\\OneDrive - Cardiff University\\General\\data\\Maldon_netcdf_data\\Maldon_surface_net_solar_radiation_2022.nc (35M)\n",
      "2022-10-28 12:53:54,229 INFO Download rate 2.5M/s   \n",
      "2022-10-28 12:53:54,339 INFO Welcome to the CDS\n",
      "2022-10-28 12:53:54,340 INFO Sending request to https://cds.climate.copernicus.eu/api/v2/resources/reanalysis-era5-land\n",
      "2022-10-28 12:53:54,414 INFO Request is queued\n"
     ]
    },
    {
     "name": "stdout",
     "output_type": "stream",
     "text": [
      "Rochford [51.58, 0.68, 51.57, 0.67]\n"
     ]
    },
    {
     "name": "stderr",
     "output_type": "stream",
     "text": [
      "2022-10-28 12:53:55,473 INFO Request is running\n",
      "2022-10-28 13:08:13,814 INFO Request is completed\n",
      "2022-10-28 13:08:13,815 INFO Downloading https://download-0015-clone.copernicus-climate.eu/cache-compute-0015/cache/data1/adaptor.mars.internal-1666958774.8472536-19626-12-78918d13-d0b7-4000-95ff-d7b22e00c5c1.nc to c:\\Users\\sceac10\\OneDrive - Cardiff University\\General\\data\\Rochford_netcdf_data\\Rochford_surface_net_solar_radiation_2022.nc (35M)\n",
      "2022-10-28 13:08:27,626 INFO Download rate 2.5M/s   \n",
      "2022-10-28 13:08:27,740 INFO Welcome to the CDS\n",
      "2022-10-28 13:08:27,741 INFO Sending request to https://cds.climate.copernicus.eu/api/v2/resources/reanalysis-era5-land\n",
      "2022-10-28 13:08:27,832 INFO Request is queued\n"
     ]
    },
    {
     "name": "stdout",
     "output_type": "stream",
     "text": [
      "Tendring [51.88, 1.11, 51.87, 1.1]\n"
     ]
    },
    {
     "name": "stderr",
     "output_type": "stream",
     "text": [
      "2022-10-28 13:08:32,759 INFO Request is running\n",
      "2022-10-28 13:22:47,230 INFO Request is completed\n",
      "2022-10-28 13:22:47,231 INFO Downloading https://download-0004-clone.copernicus-climate.eu/cache-compute-0004/cache/data7/adaptor.mars.internal-1666959665.0745506-19704-6-f9fc6eaf-4317-4a52-933f-c6495438387e.nc to c:\\Users\\sceac10\\OneDrive - Cardiff University\\General\\data\\Tendring_netcdf_data\\Tendring_surface_net_solar_radiation_2022.nc (35M)\n",
      "2022-10-28 13:22:54,714 INFO Download rate 4.7M/s   \n",
      "2022-10-28 13:22:54,817 INFO Welcome to the CDS\n",
      "2022-10-28 13:22:54,818 INFO Sending request to https://cds.climate.copernicus.eu/api/v2/resources/reanalysis-era5-land\n",
      "2022-10-28 13:22:54,874 INFO Request is queued\n"
     ]
    },
    {
     "name": "stdout",
     "output_type": "stream",
     "text": [
      "Uttlesford [51.93, 0.27, 51.92, 0.26]\n"
     ]
    },
    {
     "name": "stderr",
     "output_type": "stream",
     "text": [
      "2022-10-28 13:22:55,924 INFO Request is running\n",
      "2022-10-28 13:35:14,015 INFO Request is completed\n",
      "2022-10-28 13:35:14,016 INFO Downloading https://download-0012-clone.copernicus-climate.eu/cache-compute-0012/cache/data3/adaptor.mars.internal-1666960459.382507-9757-1-cd9adff5-b4d4-4ce9-a0f2-b2cf7ee0b115.nc to c:\\Users\\sceac10\\OneDrive - Cardiff University\\General\\data\\Uttlesford_netcdf_data\\Uttlesford_surface_net_solar_radiation_2022.nc (35M)\n",
      "2022-10-28 13:35:22,694 INFO Download rate 4M/s     \n",
      "2022-10-28 13:35:22,788 INFO Welcome to the CDS\n",
      "2022-10-28 13:35:22,789 INFO Sending request to https://cds.climate.copernicus.eu/api/v2/resources/reanalysis-era5-land\n",
      "2022-10-28 13:35:22,854 INFO Request is queued\n"
     ]
    },
    {
     "name": "stdout",
     "output_type": "stream",
     "text": [
      "Cheltenham [51.9, -2.07, 51.89, -2.06]\n"
     ]
    },
    {
     "name": "stderr",
     "output_type": "stream",
     "text": [
      "2022-10-28 13:35:25,451 INFO Request is running\n",
      "2022-10-28 13:49:42,127 INFO Request is completed\n",
      "2022-10-28 13:49:42,128 INFO Downloading https://download-0015-clone.copernicus-climate.eu/cache-compute-0015/cache/data8/adaptor.mars.internal-1666961266.6382973-31148-8-ea3a4bee-0a6a-4379-afb8-2434957e5038.nc to c:\\Users\\sceac10\\OneDrive - Cardiff University\\General\\data\\Cheltenham_netcdf_data\\Cheltenham_surface_net_solar_radiation_2022.nc (30.9K)\n",
      "2022-10-28 13:49:42,401 INFO Download rate 113.8K/s\n",
      "2022-10-28 13:49:42,501 INFO Welcome to the CDS\n",
      "2022-10-28 13:49:42,502 INFO Sending request to https://cds.climate.copernicus.eu/api/v2/resources/reanalysis-era5-land\n",
      "2022-10-28 13:49:42,570 INFO Request is queued\n"
     ]
    },
    {
     "name": "stdout",
     "output_type": "stream",
     "text": [
      "Cotswold [51.85, -1.89, 51.84, -1.88]\n"
     ]
    },
    {
     "name": "stderr",
     "output_type": "stream",
     "text": [
      "2022-10-28 13:49:47,472 INFO Request is running\n",
      "2022-10-28 14:02:01,769 INFO Request is completed\n",
      "2022-10-28 14:02:01,770 INFO Downloading https://download-0020.copernicus-climate.eu/cache-compute-0020/cache/data5/adaptor.mars.internal-1666962087.239381-16276-4-4fcad68a-d0c6-42ef-a78a-d9f63a49223c.nc to c:\\Users\\sceac10\\OneDrive - Cardiff University\\General\\data\\Cotswold_netcdf_data\\Cotswold_surface_net_solar_radiation_2022.nc (30.9K)\n",
      "2022-10-28 14:02:02,047 INFO Download rate 112.1K/s\n",
      "2022-10-28 14:02:02,146 INFO Welcome to the CDS\n",
      "2022-10-28 14:02:02,147 INFO Sending request to https://cds.climate.copernicus.eu/api/v2/resources/reanalysis-era5-land\n",
      "2022-10-28 14:02:02,215 INFO Request is queued\n"
     ]
    },
    {
     "name": "stdout",
     "output_type": "stream",
     "text": [
      "Forest of Dean [51.8, -2.53, 51.79, -2.52]\n"
     ]
    },
    {
     "name": "stderr",
     "output_type": "stream",
     "text": [
      "2022-10-28 14:02:04,829 INFO Request is running\n",
      "2022-10-28 14:16:21,580 INFO Request is completed\n",
      "2022-10-28 14:16:21,581 INFO Downloading https://download-0015-clone.copernicus-climate.eu/cache-compute-0015/cache/data1/adaptor.mars.internal-1666962864.583485-31148-9-74dd078d-c909-4d1f-ad29-8026604ed463.nc to c:\\Users\\sceac10\\OneDrive - Cardiff University\\General\\data\\Forest of Dean_netcdf_data\\Forest of Dean_surface_net_solar_radiation_2022.nc (30.9K)\n",
      "2022-10-28 14:16:21,848 INFO Download rate 116.4K/s\n",
      "2022-10-28 14:16:21,948 INFO Welcome to the CDS\n",
      "2022-10-28 14:16:21,949 INFO Sending request to https://cds.climate.copernicus.eu/api/v2/resources/reanalysis-era5-land\n",
      "2022-10-28 14:16:22,012 INFO Request is queued\n"
     ]
    },
    {
     "name": "stdout",
     "output_type": "stream",
     "text": [
      "Gloucester [51.87, -2.25, 51.86, -2.24]\n"
     ]
    },
    {
     "name": "stderr",
     "output_type": "stream",
     "text": [
      "2022-10-28 14:16:24,628 INFO Request is running\n",
      "2022-10-28 14:30:41,355 INFO Request is completed\n",
      "2022-10-28 14:30:41,356 INFO Downloading https://download-0003-clone.copernicus-climate.eu/cache-compute-0003/cache/data6/adaptor.mars.internal-1666963734.3802166-11911-9-283998c2-02b1-4457-89a3-d504a09e1c02.nc to c:\\Users\\sceac10\\OneDrive - Cardiff University\\General\\data\\Gloucester_netcdf_data\\Gloucester_surface_net_solar_radiation_2022.nc (30.9K)\n",
      "2022-10-28 14:30:41,621 INFO Download rate 117K/s\n",
      "2022-10-28 14:30:41,721 INFO Welcome to the CDS\n",
      "2022-10-28 14:30:41,722 INFO Sending request to https://cds.climate.copernicus.eu/api/v2/resources/reanalysis-era5-land\n",
      "2022-10-28 14:30:41,776 INFO Request is queued\n"
     ]
    },
    {
     "name": "stdout",
     "output_type": "stream",
     "text": [
      "Stroud [51.75, -2.22, 51.74, -2.21]\n"
     ]
    },
    {
     "name": "stderr",
     "output_type": "stream",
     "text": [
      "2022-10-28 14:30:46,707 INFO Request is running\n",
      "2022-10-28 14:45:01,144 INFO Request is completed\n",
      "2022-10-28 14:45:01,145 INFO Downloading https://download-0004-clone.copernicus-climate.eu/cache-compute-0004/cache/data1/adaptor.mars.internal-1666964575.126352-21039-6-9705e00d-eca6-4e40-9a9e-5bde590cb3be.nc to c:\\Users\\sceac10\\OneDrive - Cardiff University\\General\\data\\Stroud_netcdf_data\\Stroud_surface_net_solar_radiation_2022.nc (30.9K)\n",
      "2022-10-28 14:45:01,376 INFO Download rate 134.6K/s\n",
      "2022-10-28 14:45:01,481 INFO Welcome to the CDS\n",
      "2022-10-28 14:45:01,482 INFO Sending request to https://cds.climate.copernicus.eu/api/v2/resources/reanalysis-era5-land\n",
      "2022-10-28 14:45:01,556 INFO Request is queued\n"
     ]
    },
    {
     "name": "stdout",
     "output_type": "stream",
     "text": [
      "Tewkesbury [51.99, -2.16, 51.98, -2.15]\n"
     ]
    },
    {
     "name": "stderr",
     "output_type": "stream",
     "text": [
      "2022-10-28 14:45:02,617 INFO Request is running\n",
      "2022-10-28 14:59:20,898 INFO Request is completed\n",
      "2022-10-28 14:59:20,899 INFO Downloading https://download-0005-clone.copernicus-climate.eu/cache-compute-0005/cache/data6/adaptor.mars.internal-1666965528.1737392-24804-14-248f2479-1525-4e3b-9235-97ec054b3152.nc to c:\\Users\\sceac10\\OneDrive - Cardiff University\\General\\data\\Tewkesbury_netcdf_data\\Tewkesbury_surface_net_solar_radiation_2022.nc (31K)\n",
      "2022-10-28 14:59:21,149 INFO Download rate 124K/s\n",
      "2022-10-28 14:59:21,255 INFO Welcome to the CDS\n",
      "2022-10-28 14:59:21,256 INFO Sending request to https://cds.climate.copernicus.eu/api/v2/resources/reanalysis-era5-land\n",
      "2022-10-28 14:59:21,329 INFO Request is queued\n"
     ]
    },
    {
     "name": "stdout",
     "output_type": "stream",
     "text": [
      "Basingstoke and Deane [51.26, -1.22, 51.25, -1.21]\n"
     ]
    },
    {
     "name": "stderr",
     "output_type": "stream",
     "text": [
      "2022-10-28 14:59:53,897 INFO Request is running\n",
      "2022-10-28 15:13:40,675 INFO Request is completed\n",
      "2022-10-28 15:13:40,676 INFO Downloading https://download-0014-clone.copernicus-climate.eu/cache-compute-0014/cache/data2/adaptor.mars.internal-1666966325.7560277-16143-19-1c1f3514-f435-4828-b837-0dce4106682d.nc to c:\\Users\\sceac10\\OneDrive - Cardiff University\\General\\data\\Basingstoke and Deane_netcdf_data\\Basingstoke and Deane_surface_net_solar_radiation_2022.nc (31K)\n",
      "2022-10-28 15:13:41,019 INFO Download rate 90.2K/s\n",
      "2022-10-28 15:13:41,122 INFO Welcome to the CDS\n",
      "2022-10-28 15:13:41,123 INFO Sending request to https://cds.climate.copernicus.eu/api/v2/resources/reanalysis-era5-land\n",
      "2022-10-28 15:13:41,180 INFO Request is queued\n"
     ]
    },
    {
     "name": "stdout",
     "output_type": "stream",
     "text": [
      "East Hampshire [51.08, -0.94, 51.07, -0.93]\n"
     ]
    },
    {
     "name": "stderr",
     "output_type": "stream",
     "text": [
      "2022-10-28 15:13:42,245 INFO Request is running\n",
      "2022-10-28 15:28:00,644 INFO Request is completed\n",
      "2022-10-28 15:28:00,645 INFO Downloading https://download-0020.copernicus-climate.eu/cache-compute-0020/cache/data9/adaptor.mars.internal-1666967169.9084575-17122-3-38ce4b3b-6444-4b2a-b4e5-9ccec7ed09b6.nc to c:\\Users\\sceac10\\OneDrive - Cardiff University\\General\\data\\East Hampshire_netcdf_data\\East Hampshire_surface_net_solar_radiation_2022.nc (30.9K)\n",
      "2022-10-28 15:28:00,894 INFO Download rate 124.8K/s\n",
      "2022-10-28 15:28:01,006 INFO Welcome to the CDS\n",
      "2022-10-28 15:28:01,007 INFO Sending request to https://cds.climate.copernicus.eu/api/v2/resources/reanalysis-era5-land\n",
      "2022-10-28 15:28:01,070 INFO Request is queued\n"
     ]
    },
    {
     "name": "stdout",
     "output_type": "stream",
     "text": [
      "Eastleigh [50.92, -1.3, 50.91, -1.29]\n"
     ]
    },
    {
     "name": "stderr",
     "output_type": "stream",
     "text": [
      "2022-10-28 15:28:03,699 INFO Request is running\n",
      "2022-10-28 15:42:20,544 INFO Request is completed\n",
      "2022-10-28 15:42:20,545 INFO Downloading https://download-0019.copernicus-climate.eu/cache-compute-0019/cache/data9/adaptor.mars.internal-1666968020.2792192-10296-7-56436159-902f-4492-8d80-e447179b4e1f.nc to c:\\Users\\sceac10\\OneDrive - Cardiff University\\General\\data\\Eastleigh_netcdf_data\\Eastleigh_surface_net_solar_radiation_2022.nc (30.9K)\n",
      "2022-10-28 15:42:20,804 INFO Download rate 120K/s\n",
      "2022-10-28 15:42:20,910 INFO Welcome to the CDS\n",
      "2022-10-28 15:42:20,911 INFO Sending request to https://cds.climate.copernicus.eu/api/v2/resources/reanalysis-era5-land\n",
      "2022-10-28 15:42:20,985 INFO Request is queued\n"
     ]
    },
    {
     "name": "stdout",
     "output_type": "stream",
     "text": [
      "Fareham [50.85, -1.18, 50.84, -1.17]\n"
     ]
    },
    {
     "name": "stderr",
     "output_type": "stream",
     "text": [
      "2022-10-28 15:42:23,596 INFO Request is running\n",
      "2022-10-28 16:00:40,735 INFO Request is completed\n",
      "2022-10-28 16:00:40,736 INFO Downloading https://download-0000-clone.copernicus-climate.eu/cache-compute-0000/cache/data3/adaptor.mars.internal-1666969071.6174643-14380-1-4a1b2925-b0b9-429b-bc22-8dca92259407.nc to c:\\Users\\sceac10\\OneDrive - Cardiff University\\General\\data\\Fareham_netcdf_data\\Fareham_surface_net_solar_radiation_2022.nc (30.9K)\n",
      "2022-10-28 16:00:40,977 INFO Download rate 129.4K/s\n",
      "2022-10-28 16:00:41,076 INFO Welcome to the CDS\n",
      "2022-10-28 16:00:41,077 INFO Sending request to https://cds.climate.copernicus.eu/api/v2/resources/reanalysis-era5-land\n",
      "2022-10-28 16:00:41,130 INFO Request is queued\n"
     ]
    },
    {
     "name": "stdout",
     "output_type": "stream",
     "text": [
      "Gosport [50.8, -1.12, 50.79, -1.11]\n"
     ]
    },
    {
     "name": "stderr",
     "output_type": "stream",
     "text": [
      "2022-10-28 16:00:46,038 INFO Request is running\n",
      "2022-10-28 16:17:00,610 INFO Request is completed\n",
      "2022-10-28 16:17:00,611 INFO Downloading https://download-0016.copernicus-climate.eu/cache-compute-0016/cache/data8/adaptor.mars.internal-1666970099.1145842-27237-9-884b9601-0fda-466f-846c-0d4199866ec3.nc to c:\\Users\\sceac10\\OneDrive - Cardiff University\\General\\data\\Gosport_netcdf_data\\Gosport_surface_net_solar_radiation_2022.nc (30.9K)\n",
      "2022-10-28 16:17:00,858 INFO Download rate 125.3K/s\n",
      "2022-10-28 16:17:00,965 INFO Welcome to the CDS\n",
      "2022-10-28 16:17:00,966 INFO Sending request to https://cds.climate.copernicus.eu/api/v2/resources/reanalysis-era5-land\n",
      "2022-10-28 16:17:01,026 INFO Request is queued\n"
     ]
    },
    {
     "name": "stdout",
     "output_type": "stream",
     "text": [
      "Hart [34.34, -82.95, 34.33, -82.94]\n"
     ]
    },
    {
     "name": "stderr",
     "output_type": "stream",
     "text": [
      "2022-10-28 16:17:03,632 INFO Request is running\n",
      "2022-10-28 16:31:20,345 INFO Request is completed\n",
      "2022-10-28 16:31:20,346 INFO Downloading https://download-0001-clone.copernicus-climate.eu/cache-compute-0001/cache/data5/adaptor.mars.internal-1666970972.5172884-2489-10-0e294f34-534c-480a-84b0-245a60cda7e7.nc to c:\\Users\\sceac10\\OneDrive - Cardiff University\\General\\data\\Hart_netcdf_data\\Hart_surface_net_solar_radiation_2022.nc (30.9K)\n",
      "2022-10-28 16:31:20,593 INFO Download rate 125.8K/s\n",
      "2022-10-28 16:31:20,692 INFO Welcome to the CDS\n",
      "2022-10-28 16:31:20,693 INFO Sending request to https://cds.climate.copernicus.eu/api/v2/resources/reanalysis-era5-land\n",
      "2022-10-28 16:31:20,764 INFO Request is queued\n"
     ]
    },
    {
     "name": "stdout",
     "output_type": "stream",
     "text": [
      "Havant [50.83, -0.98, 50.82, -0.97]\n"
     ]
    },
    {
     "name": "stderr",
     "output_type": "stream",
     "text": [
      "2022-10-28 16:31:23,376 INFO Request is running\n",
      "2022-10-28 16:45:40,040 INFO Request is completed\n",
      "2022-10-28 16:45:40,040 INFO Downloading https://download-0000-clone.copernicus-climate.eu/cache-compute-0000/cache/data8/adaptor.mars.internal-1666971811.3521018-14305-5-d5720ca3-a0a7-4f60-ba78-6e079f955c1b.nc to c:\\Users\\sceac10\\OneDrive - Cardiff University\\General\\data\\Havant_netcdf_data\\Havant_surface_net_solar_radiation_2022.nc (30.9K)\n",
      "2022-10-28 16:45:40,263 INFO Download rate 139.4K/s\n",
      "2022-10-28 16:45:40,350 INFO Welcome to the CDS\n",
      "2022-10-28 16:45:40,351 INFO Sending request to https://cds.climate.copernicus.eu/api/v2/resources/reanalysis-era5-land\n",
      "2022-10-28 16:45:40,427 INFO Request is queued\n"
     ]
    },
    {
     "name": "stdout",
     "output_type": "stream",
     "text": [
      "New Forest [50.86, -1.6, 50.85, -1.59]\n"
     ]
    },
    {
     "name": "stderr",
     "output_type": "stream",
     "text": [
      "2022-10-28 16:45:43,033 INFO Request is running\n",
      "2022-10-28 17:04:00,161 INFO Request is completed\n",
      "2022-10-28 17:04:00,162 INFO Downloading https://download-0011-clone.copernicus-climate.eu/cache-compute-0011/cache/data7/adaptor.mars.internal-1666972868.1335764-18511-1-38ffdc82-4ec8-40ad-9c71-ec15f0e0e4c6.nc to c:\\Users\\sceac10\\OneDrive - Cardiff University\\General\\data\\New Forest_netcdf_data\\New Forest_surface_net_solar_radiation_2022.nc (30.9K)\n",
      "2022-10-28 17:04:00,440 INFO Download rate 111.3K/s\n",
      "2022-10-28 17:04:00,544 INFO Welcome to the CDS\n",
      "2022-10-28 17:04:00,545 INFO Sending request to https://cds.climate.copernicus.eu/api/v2/resources/reanalysis-era5-land\n",
      "2022-10-28 17:04:00,599 INFO Request is queued\n"
     ]
    },
    {
     "name": "stdout",
     "output_type": "stream",
     "text": [
      "Rushmoor [51.28, -0.77, 51.27, -0.76]\n"
     ]
    },
    {
     "name": "stderr",
     "output_type": "stream",
     "text": [
      "2022-10-28 17:04:01,663 INFO Request is running\n",
      "2022-10-28 17:18:19,931 INFO Request is completed\n",
      "2022-10-28 17:18:19,932 INFO Downloading https://download-0020.copernicus-climate.eu/cache-compute-0020/cache/data7/adaptor.mars.internal-1666973794.1566446-9596-14-39e4d185-5186-4a11-b514-a104c6402ef2.nc to c:\\Users\\sceac10\\OneDrive - Cardiff University\\General\\data\\Rushmoor_netcdf_data\\Rushmoor_surface_net_solar_radiation_2022.nc (30.9K)\n",
      "2022-10-28 17:18:20,216 INFO Download rate 109.1K/s\n",
      "2022-10-28 17:18:20,316 INFO Welcome to the CDS\n",
      "2022-10-28 17:18:20,316 INFO Sending request to https://cds.climate.copernicus.eu/api/v2/resources/reanalysis-era5-land\n",
      "2022-10-28 17:18:20,397 INFO Request is queued\n"
     ]
    },
    {
     "name": "stdout",
     "output_type": "stream",
     "text": [
      "Test Valley [51.13, -1.52, 51.12, -1.51]\n"
     ]
    },
    {
     "name": "stderr",
     "output_type": "stream",
     "text": [
      "2022-10-28 17:18:28,752 INFO Request is running\n",
      "2022-10-28 17:32:39,707 INFO Request is completed\n",
      "2022-10-28 17:32:39,708 INFO Downloading https://download-0020.copernicus-climate.eu/cache-compute-0020/cache/data9/adaptor.mars.internal-1666974683.3047523-25872-9-64d581d2-bd12-455d-a755-9c09efb97baf.nc to c:\\Users\\sceac10\\OneDrive - Cardiff University\\General\\data\\Test Valley_netcdf_data\\Test Valley_surface_net_solar_radiation_2022.nc (30.9K)\n",
      "2022-10-28 17:32:39,947 INFO Download rate 129.9K/s\n",
      "2022-10-28 17:32:40,037 INFO Welcome to the CDS\n",
      "2022-10-28 17:32:40,037 INFO Sending request to https://cds.climate.copernicus.eu/api/v2/resources/reanalysis-era5-land\n",
      "2022-10-28 17:32:40,087 INFO Request is queued\n"
     ]
    },
    {
     "name": "stdout",
     "output_type": "stream",
     "text": [
      "Winchester [51.06, -1.31, 51.05, -1.3]\n"
     ]
    },
    {
     "name": "stderr",
     "output_type": "stream",
     "text": [
      "2022-10-28 17:32:42,700 INFO Request is running\n",
      "2022-10-28 17:46:59,443 INFO Request is completed\n",
      "2022-10-28 17:46:59,443 INFO Downloading https://download-0007-clone.copernicus-climate.eu/cache-compute-0007/cache/data6/adaptor.mars.internal-1666975503.3563428-30953-9-e0739b44-3ff3-4205-b225-053ee563c47b.nc to c:\\Users\\sceac10\\OneDrive - Cardiff University\\General\\data\\Winchester_netcdf_data\\Winchester_surface_net_solar_radiation_2022.nc (30.9K)\n",
      "2022-10-28 17:46:59,706 INFO Download rate 118.3K/s\n",
      "2022-10-28 17:46:59,810 INFO Welcome to the CDS\n",
      "2022-10-28 17:46:59,811 INFO Sending request to https://cds.climate.copernicus.eu/api/v2/resources/reanalysis-era5-land\n",
      "2022-10-28 17:46:59,870 INFO Request is queued\n"
     ]
    },
    {
     "name": "stdout",
     "output_type": "stream",
     "text": [
      "Broxbourne [51.75, -0.02, 51.74, -0.01]\n"
     ]
    },
    {
     "name": "stderr",
     "output_type": "stream",
     "text": [
      "2022-10-28 17:47:00,933 INFO Request is running\n",
      "2022-10-28 18:01:19,218 INFO Request is completed\n",
      "2022-10-28 18:01:19,219 INFO Downloading https://download-0017.copernicus-climate.eu/cache-compute-0017/cache/data8/adaptor.mars.internal-1666976397.0965648-25375-14-5d656f6d-8bc3-4279-948a-31402de06bf3.nc to c:\\Users\\sceac10\\OneDrive - Cardiff University\\General\\data\\Broxbourne_netcdf_data\\Broxbourne_surface_net_solar_radiation_2022.nc (31K)\n",
      "2022-10-28 18:01:19,450 INFO Download rate 134.6K/s\n",
      "2022-10-28 18:01:19,565 INFO Welcome to the CDS\n",
      "2022-10-28 18:01:19,566 INFO Sending request to https://cds.climate.copernicus.eu/api/v2/resources/reanalysis-era5-land\n",
      "2022-10-28 18:01:19,645 INFO Request is queued\n"
     ]
    },
    {
     "name": "stdout",
     "output_type": "stream",
     "text": [
      "Dacorum [51.77, -0.55, 51.76, -0.54]\n"
     ]
    },
    {
     "name": "stderr",
     "output_type": "stream",
     "text": [
      "2022-10-28 18:01:27,993 INFO Request is running\n",
      "2022-10-28 18:19:39,498 INFO Request is completed\n",
      "2022-10-28 18:19:39,499 INFO Downloading https://download-0009-clone.copernicus-climate.eu/cache-compute-0009/cache/data0/adaptor.mars.internal-1666977422.5945458-2029-7-89aeb373-a872-4e83-b63a-588d0ed67d34.nc to c:\\Users\\sceac10\\OneDrive - Cardiff University\\General\\data\\Dacorum_netcdf_data\\Dacorum_surface_net_solar_radiation_2022.nc (30.9K)\n",
      "2022-10-28 18:19:39,737 INFO Download rate 130K/s\n",
      "2022-10-28 18:19:39,834 INFO Welcome to the CDS\n",
      "2022-10-28 18:19:39,835 INFO Sending request to https://cds.climate.copernicus.eu/api/v2/resources/reanalysis-era5-land\n",
      "2022-10-28 18:19:39,889 INFO Request is queued\n"
     ]
    },
    {
     "name": "stdout",
     "output_type": "stream",
     "text": [
      "East Hertfordshire [51.87, 0.01, 51.86, 0.0]\n"
     ]
    },
    {
     "name": "stderr",
     "output_type": "stream",
     "text": [
      "2022-10-28 18:19:53,332 INFO Request is running\n",
      "2022-10-28 18:33:59,181 INFO Request is completed\n",
      "2022-10-28 18:33:59,181 INFO Downloading https://download-0014-clone.copernicus-climate.eu/cache-compute-0014/cache/data3/adaptor.mars.internal-1666978313.9872837-21470-9-4245e249-f42a-474e-9f7b-c3ddbf07f757.nc to c:\\Users\\sceac10\\OneDrive - Cardiff University\\General\\data\\East Hertfordshire_netcdf_data\\East Hertfordshire_surface_net_solar_radiation_2022.nc (35M)\n",
      "2022-10-28 18:34:07,033 INFO Download rate 4.5M/s   \n",
      "2022-10-28 18:34:07,124 INFO Welcome to the CDS\n",
      "2022-10-28 18:34:07,125 INFO Sending request to https://cds.climate.copernicus.eu/api/v2/resources/reanalysis-era5-land\n",
      "2022-10-28 18:34:07,189 INFO Request is queued\n"
     ]
    },
    {
     "name": "stdout",
     "output_type": "stream",
     "text": [
      "Hertsmere [51.68, -0.27, 51.67, -0.26]\n"
     ]
    },
    {
     "name": "stderr",
     "output_type": "stream",
     "text": [
      "2022-10-28 18:34:08,248 INFO Request is running\n",
      "2022-10-28 18:48:26,519 INFO Request is completed\n",
      "2022-10-28 18:48:26,520 INFO Downloading https://download-0004-clone.copernicus-climate.eu/cache-compute-0004/cache/data8/adaptor.mars.internal-1666979184.1970587-11191-4-80711d85-570c-4475-bfdd-570e7977aa0e.nc to c:\\Users\\sceac10\\OneDrive - Cardiff University\\General\\data\\Hertsmere_netcdf_data\\Hertsmere_surface_net_solar_radiation_2022.nc (30.9K)\n",
      "2022-10-28 18:48:26,726 INFO Download rate 151.2K/s\n",
      "2022-10-28 18:48:26,820 INFO Welcome to the CDS\n",
      "2022-10-28 18:48:26,821 INFO Sending request to https://cds.climate.copernicus.eu/api/v2/resources/reanalysis-era5-land\n",
      "2022-10-28 18:48:26,884 INFO Request is queued\n"
     ]
    },
    {
     "name": "stdout",
     "output_type": "stream",
     "text": [
      "North Hertfordshire [51.96, -0.22, 51.95, -0.21]\n"
     ]
    },
    {
     "name": "stderr",
     "output_type": "stream",
     "text": [
      "2022-10-28 18:48:27,938 INFO Request is running\n",
      "2022-10-28 19:00:46,024 INFO Request is completed\n",
      "2022-10-28 19:00:46,025 INFO Downloading https://download-0019.copernicus-climate.eu/cache-compute-0019/cache/data1/adaptor.mars.internal-1666980032.1176472-23140-11-92189e2b-dd88-4bba-964d-dc66c8fab2c3.nc to c:\\Users\\sceac10\\OneDrive - Cardiff University\\General\\data\\North Hertfordshire_netcdf_data\\North Hertfordshire_surface_net_solar_radiation_2022.nc (31K)\n",
      "2022-10-28 19:00:46,295 INFO Download rate 115.1K/s\n",
      "2022-10-28 19:00:46,393 INFO Welcome to the CDS\n",
      "2022-10-28 19:00:46,394 INFO Sending request to https://cds.climate.copernicus.eu/api/v2/resources/reanalysis-era5-land\n",
      "2022-10-28 19:00:46,490 INFO Request is queued\n"
     ]
    },
    {
     "name": "stdout",
     "output_type": "stream",
     "text": [
      "St Albans [51.75, -0.34, 51.74, -0.33]\n"
     ]
    },
    {
     "name": "stderr",
     "output_type": "stream",
     "text": [
      "2022-10-28 19:00:51,414 INFO Request is running\n",
      "2022-10-28 19:15:05,777 INFO Request is completed\n",
      "2022-10-28 19:15:05,778 INFO Downloading https://download-0016.copernicus-climate.eu/cache-compute-0016/cache/data7/adaptor.mars.internal-1666980792.065185-22499-9-eb591291-169d-4b37-83be-67bd16b2cf76.nc to c:\\Users\\sceac10\\OneDrive - Cardiff University\\General\\data\\St Albans_netcdf_data\\St Albans_surface_net_solar_radiation_2022.nc (30.9K)\n",
      "2022-10-28 19:15:06,058 INFO Download rate 110.7K/s\n",
      "2022-10-28 19:15:06,158 INFO Welcome to the CDS\n",
      "2022-10-28 19:15:06,159 INFO Sending request to https://cds.climate.copernicus.eu/api/v2/resources/reanalysis-era5-land\n",
      "2022-10-28 19:15:06,214 INFO Request is queued\n"
     ]
    },
    {
     "name": "stdout",
     "output_type": "stream",
     "text": [
      "Stevenage [51.9, -0.2, 51.89, -0.19]\n"
     ]
    },
    {
     "name": "stderr",
     "output_type": "stream",
     "text": [
      "2022-10-28 19:15:07,270 INFO Request is running\n",
      "2022-10-28 19:29:25,534 INFO Request is completed\n",
      "2022-10-28 19:29:25,535 INFO Downloading https://download-0014-clone.copernicus-climate.eu/cache-compute-0014/cache/data4/adaptor.mars.internal-1666981644.0038557-10736-16-a0235a62-9a21-47ce-b6b5-140234d9fb99.nc to c:\\Users\\sceac10\\OneDrive - Cardiff University\\General\\data\\Stevenage_netcdf_data\\Stevenage_surface_net_solar_radiation_2022.nc (31K)\n",
      "2022-10-28 19:29:25,818 INFO Download rate 110.3K/s\n",
      "2022-10-28 19:29:25,927 INFO Welcome to the CDS\n",
      "2022-10-28 19:29:25,928 INFO Sending request to https://cds.climate.copernicus.eu/api/v2/resources/reanalysis-era5-land\n",
      "2022-10-28 19:29:25,981 INFO Request is queued\n"
     ]
    },
    {
     "name": "stdout",
     "output_type": "stream",
     "text": [
      "Three Rivers [28.46, -98.18, 28.45, -98.17]\n"
     ]
    },
    {
     "name": "stderr",
     "output_type": "stream",
     "text": [
      "2022-10-28 19:29:27,040 INFO Request is running\n",
      "2022-10-28 19:43:45,328 INFO Request is completed\n",
      "2022-10-28 19:43:45,329 INFO Downloading https://download-0001-clone.copernicus-climate.eu/cache-compute-0001/cache/data7/adaptor.mars.internal-1666982562.1511223-28643-17-3fcccfce-ce37-4743-9a90-8d17fcb35b6d.nc to c:\\Users\\sceac10\\OneDrive - Cardiff University\\General\\data\\Three Rivers_netcdf_data\\Three Rivers_surface_net_solar_radiation_2022.nc (31K)\n",
      "2022-10-28 19:43:45,573 INFO Download rate 127.4K/s\n",
      "2022-10-28 19:43:45,671 INFO Welcome to the CDS\n",
      "2022-10-28 19:43:45,671 INFO Sending request to https://cds.climate.copernicus.eu/api/v2/resources/reanalysis-era5-land\n",
      "2022-10-28 19:43:45,727 INFO Request is queued\n"
     ]
    },
    {
     "name": "stdout",
     "output_type": "stream",
     "text": [
      "Watford [51.66, -0.4, 51.65, -0.39]\n"
     ]
    },
    {
     "name": "stderr",
     "output_type": "stream",
     "text": [
      "2022-10-28 19:43:50,643 INFO Request is running\n",
      "2022-10-28 19:58:05,018 INFO Request is completed\n",
      "2022-10-28 19:58:05,019 INFO Downloading https://download-0008-clone.copernicus-climate.eu/cache-compute-0008/cache/data8/adaptor.mars.internal-1666983377.7664397-18071-17-a049aa47-7a87-4812-bc74-a315a02cb70c.nc to c:\\Users\\sceac10\\OneDrive - Cardiff University\\General\\data\\Watford_netcdf_data\\Watford_surface_net_solar_radiation_2022.nc (30.9K)\n",
      "2022-10-28 19:58:05,252 INFO Download rate 133.4K/s\n",
      "2022-10-28 19:58:05,338 INFO Welcome to the CDS\n",
      "2022-10-28 19:58:05,339 INFO Sending request to https://cds.climate.copernicus.eu/api/v2/resources/reanalysis-era5-land\n",
      "2022-10-28 19:58:05,386 INFO Request is queued\n"
     ]
    },
    {
     "name": "stdout",
     "output_type": "stream",
     "text": [
      "Welwyn Hatfield [51.77, -0.21, 51.76, -0.2]\n"
     ]
    },
    {
     "name": "stderr",
     "output_type": "stream",
     "text": [
      "2022-10-28 19:58:06,429 INFO Request is running\n",
      "2022-10-28 20:12:24,667 INFO Request is completed\n",
      "2022-10-28 20:12:24,667 INFO Downloading https://download-0009-clone.copernicus-climate.eu/cache-compute-0009/cache/data8/adaptor.mars.internal-1666984244.3844836-24997-8-17a8f0b6-09b9-410c-b6de-c890cd9bad81.nc to c:\\Users\\sceac10\\OneDrive - Cardiff University\\General\\data\\Welwyn Hatfield_netcdf_data\\Welwyn Hatfield_surface_net_solar_radiation_2022.nc (30.9K)\n",
      "2022-10-28 20:12:24,873 INFO Download rate 151K/s\n",
      "2022-10-28 20:12:24,971 INFO Welcome to the CDS\n",
      "2022-10-28 20:12:24,973 INFO Sending request to https://cds.climate.copernicus.eu/api/v2/resources/reanalysis-era5-land\n",
      "2022-10-28 20:12:25,033 INFO Request is queued\n"
     ]
    },
    {
     "name": "stdout",
     "output_type": "stream",
     "text": [
      "Ashford [51.15, 0.87, 51.14, 0.86]\n"
     ]
    },
    {
     "name": "stderr",
     "output_type": "stream",
     "text": [
      "2022-10-28 20:12:26,094 INFO Request is running\n",
      "2022-10-28 20:26:44,357 INFO Request is completed\n",
      "2022-10-28 20:26:44,357 INFO Downloading https://download-0008-clone.copernicus-climate.eu/cache-compute-0008/cache/data6/adaptor.mars.internal-1666985096.5829911-16387-8-2e43cf45-97ba-4d75-b09f-2439d924a00a.nc to c:\\Users\\sceac10\\OneDrive - Cardiff University\\General\\data\\Ashford_netcdf_data\\Ashford_surface_net_solar_radiation_2022.nc (35M)\n",
      "2022-10-28 20:26:49,535 INFO Download rate 6.8M/s   \n",
      "2022-10-28 20:26:49,625 INFO Welcome to the CDS\n",
      "2022-10-28 20:26:49,627 INFO Sending request to https://cds.climate.copernicus.eu/api/v2/resources/reanalysis-era5-land\n",
      "2022-10-28 20:26:49,675 INFO Request is queued\n"
     ]
    },
    {
     "name": "stdout",
     "output_type": "stream",
     "text": [
      "Canterbury [51.28, 1.08, 51.27, 1.07]\n"
     ]
    },
    {
     "name": "stderr",
     "output_type": "stream",
     "text": [
      "2022-10-28 20:26:50,720 INFO Request is running\n",
      "2022-10-28 20:41:08,896 INFO Request is completed\n",
      "2022-10-28 20:41:08,897 INFO Downloading https://download-0011-clone.copernicus-climate.eu/cache-compute-0011/cache/data3/adaptor.mars.internal-1666986015.7924814-3134-6-58e4d626-1e27-400e-9961-fa2f56659d44.nc to c:\\Users\\sceac10\\OneDrive - Cardiff University\\General\\data\\Canterbury_netcdf_data\\Canterbury_surface_net_solar_radiation_2022.nc (35M)\n",
      "2022-10-28 20:45:45,116 INFO Download rate 129.7K/s \n",
      "2022-10-28 20:45:45,344 INFO Welcome to the CDS\n",
      "2022-10-28 20:45:45,345 INFO Sending request to https://cds.climate.copernicus.eu/api/v2/resources/reanalysis-era5-land\n",
      "2022-10-28 20:45:45,395 INFO Request is queued\n"
     ]
    },
    {
     "name": "stdout",
     "output_type": "stream",
     "text": [
      "Dartford [51.44, 0.22, 51.43, 0.21]\n"
     ]
    },
    {
     "name": "stderr",
     "output_type": "stream",
     "text": [
      "2022-10-28 20:45:46,454 INFO Request is running\n",
      "2022-10-28 21:00:04,828 INFO Request is completed\n",
      "2022-10-28 21:00:04,829 INFO Downloading https://download-0012-clone.copernicus-climate.eu/cache-compute-0012/cache/data3/adaptor.mars.internal-1666987087.876412-12691-20-3d24d7d3-17ca-4eb6-9e4d-1f52a1c6d38e.nc to c:\\Users\\sceac10\\OneDrive - Cardiff University\\General\\data\\Dartford_netcdf_data\\Dartford_surface_net_solar_radiation_2022.nc (35M)\n",
      "2022-10-28 21:00:11,744 INFO Download rate 5.1M/s   \n",
      "2022-10-28 21:00:11,832 INFO Welcome to the CDS\n",
      "2022-10-28 21:00:11,832 INFO Sending request to https://cds.climate.copernicus.eu/api/v2/resources/reanalysis-era5-land\n",
      "2022-10-28 21:00:11,895 INFO Request is queued\n"
     ]
    },
    {
     "name": "stdout",
     "output_type": "stream",
     "text": [
      "Dover [51.13, 1.31, 51.12, 1.3]\n"
     ]
    },
    {
     "name": "stderr",
     "output_type": "stream",
     "text": [
      "2022-10-28 21:00:12,947 INFO Request is running\n",
      "2022-10-28 21:14:31,081 INFO Request is completed\n",
      "2022-10-28 21:14:31,081 INFO Downloading https://download-0016.copernicus-climate.eu/cache-compute-0016/cache/data8/adaptor.mars.internal-1666987942.555096-30620-7-9432fe71-506a-4a4b-bb5d-e947a55851e9.nc to c:\\Users\\sceac10\\OneDrive - Cardiff University\\General\\data\\Dover_netcdf_data\\Dover_surface_net_solar_radiation_2022.nc (35M)\n",
      "2022-10-28 21:14:39,849 INFO Download rate 4M/s     \n",
      "2022-10-28 21:14:39,949 INFO Welcome to the CDS\n",
      "2022-10-28 21:14:39,950 INFO Sending request to https://cds.climate.copernicus.eu/api/v2/resources/reanalysis-era5-land\n",
      "2022-10-28 21:14:40,047 INFO Request is queued\n"
     ]
    },
    {
     "name": "stdout",
     "output_type": "stream",
     "text": [
      "Gravesham [51.4, 0.4, 51.39, 0.39]\n"
     ]
    },
    {
     "name": "stderr",
     "output_type": "stream",
     "text": [
      "2022-10-28 21:14:41,098 INFO Request is running\n",
      "2022-10-28 21:28:59,334 INFO Request is completed\n",
      "2022-10-28 21:28:59,335 INFO Downloading https://download-0003-clone.copernicus-climate.eu/cache-compute-0003/cache/data7/adaptor.mars.internal-1666988826.5511546-16656-8-634c5002-2028-4c39-9547-a98d1869bc78.nc to c:\\Users\\sceac10\\OneDrive - Cardiff University\\General\\data\\Gravesham_netcdf_data\\Gravesham_surface_net_solar_radiation_2022.nc (35M)\n",
      "2022-10-28 21:29:06,344 INFO Download rate 5M/s     \n",
      "2022-10-28 21:29:06,431 INFO Welcome to the CDS\n",
      "2022-10-28 21:29:06,432 INFO Sending request to https://cds.climate.copernicus.eu/api/v2/resources/reanalysis-era5-land\n",
      "2022-10-28 21:29:06,486 INFO Request is queued\n"
     ]
    },
    {
     "name": "stdout",
     "output_type": "stream",
     "text": [
      "Maidstone [51.27, 0.52, 51.26, 0.51]\n"
     ]
    },
    {
     "name": "stderr",
     "output_type": "stream",
     "text": [
      "2022-10-28 21:29:07,531 INFO Request is running\n",
      "2022-10-28 21:43:25,577 INFO Request is completed\n",
      "2022-10-28 21:43:25,578 INFO Downloading https://download-0019.copernicus-climate.eu/cache-compute-0019/cache/data4/adaptor.mars.internal-1666989682.023211-2109-2-e15fb9f1-c0c4-4b6b-8f0a-ffde45909b69.nc to c:\\Users\\sceac10\\OneDrive - Cardiff University\\General\\data\\Maidstone_netcdf_data\\Maidstone_surface_net_solar_radiation_2022.nc (35M)\n",
      "2022-10-28 21:43:32,106 INFO Download rate 5.4M/s   \n",
      "2022-10-28 21:43:32,194 INFO Welcome to the CDS\n",
      "2022-10-28 21:43:32,195 INFO Sending request to https://cds.climate.copernicus.eu/api/v2/resources/reanalysis-era5-land\n",
      "2022-10-28 21:43:32,246 INFO Request is queued\n"
     ]
    },
    {
     "name": "stdout",
     "output_type": "stream",
     "text": [
      "Sevenoaks [51.27, 0.2, 51.26, 0.19]\n"
     ]
    },
    {
     "name": "stderr",
     "output_type": "stream",
     "text": [
      "2022-10-28 21:43:33,303 INFO Request is running\n",
      "2022-10-28 21:57:51,391 INFO Request is completed\n",
      "2022-10-28 21:57:51,391 INFO Downloading https://download-0015-clone.copernicus-climate.eu/cache-compute-0015/cache/data4/adaptor.mars.internal-1666990558.4550824-740-5-27fa75b1-f98f-469a-8291-d021d18ab4cf.nc to c:\\Users\\sceac10\\OneDrive - Cardiff University\\General\\data\\Sevenoaks_netcdf_data\\Sevenoaks_surface_net_solar_radiation_2022.nc (35M)\n",
      "2022-10-28 21:57:57,177 INFO Download rate 6M/s     \n",
      "2022-10-28 21:57:57,270 INFO Welcome to the CDS\n",
      "2022-10-28 21:57:57,271 INFO Sending request to https://cds.climate.copernicus.eu/api/v2/resources/reanalysis-era5-land\n",
      "2022-10-28 21:57:57,324 INFO Request is queued\n"
     ]
    },
    {
     "name": "stdout",
     "output_type": "stream",
     "text": [
      "Shepway [51.06, 1.01, 51.05, 1.0]\n"
     ]
    },
    {
     "name": "stderr",
     "output_type": "stream",
     "text": [
      "2022-10-28 21:57:58,382 INFO Request is running\n",
      "2022-10-28 22:12:16,470 INFO Request is completed\n",
      "2022-10-28 22:12:16,471 INFO Downloading https://download-0010-clone.copernicus-climate.eu/cache-compute-0010/cache/data2/adaptor.mars.internal-1666991405.580575-21955-10-f68209b4-2c4a-4c7f-9eb8-2eb116979cb7.nc to c:\\Users\\sceac10\\OneDrive - Cardiff University\\General\\data\\Shepway_netcdf_data\\Shepway_surface_net_solar_radiation_2022.nc (35M)\n",
      "2022-10-28 22:12:21,130 INFO Download rate 7.5M/s   \n",
      "2022-10-28 22:12:21,213 INFO Welcome to the CDS\n",
      "2022-10-28 22:12:21,214 INFO Sending request to https://cds.climate.copernicus.eu/api/v2/resources/reanalysis-era5-land\n",
      "2022-10-28 22:12:21,290 INFO Request is queued\n"
     ]
    },
    {
     "name": "stdout",
     "output_type": "stream",
     "text": [
      "Swale [51.34, 0.8, 51.33, 0.79]\n"
     ]
    },
    {
     "name": "stderr",
     "output_type": "stream",
     "text": [
      "2022-10-28 22:12:22,340 INFO Request is running\n",
      "2022-10-28 22:26:40,479 INFO Request is completed\n",
      "2022-10-28 22:26:40,480 INFO Downloading https://download-0018.copernicus-climate.eu/cache-compute-0018/cache/data0/adaptor.mars.internal-1666992277.6557012-26173-3-b7ba6a82-e111-4fa1-9b0d-6a6c34ec3e3a.nc to c:\\Users\\sceac10\\OneDrive - Cardiff University\\General\\data\\Swale_netcdf_data\\Swale_surface_net_solar_radiation_2022.nc (35M)\n",
      "2022-10-28 22:26:52,635 INFO Download rate 2.9M/s   \n",
      "2022-10-28 22:26:52,739 INFO Welcome to the CDS\n",
      "2022-10-28 22:26:52,740 INFO Sending request to https://cds.climate.copernicus.eu/api/v2/resources/reanalysis-era5-land\n",
      "2022-10-28 22:26:52,796 INFO Request is queued\n"
     ]
    },
    {
     "name": "stdout",
     "output_type": "stream",
     "text": [
      "Thanet [51.35, 1.33, 51.34, 1.32]\n"
     ]
    },
    {
     "name": "stderr",
     "output_type": "stream",
     "text": [
      "2022-10-28 22:26:53,858 INFO Request is running\n",
      "2022-10-28 22:41:12,122 INFO Request is completed\n",
      "2022-10-28 22:41:12,124 INFO Downloading https://download-0007-clone.copernicus-climate.eu/cache-compute-0007/cache/data8/adaptor.mars.internal-1666993176.5265698-14760-9-913abf94-2a18-4bcf-832e-0b4e280c18c2.nc to c:\\Users\\sceac10\\OneDrive - Cardiff University\\General\\data\\Thanet_netcdf_data\\Thanet_surface_net_solar_radiation_2022.nc (35M)\n",
      "2022-10-28 22:41:17,440 INFO Download rate 6.6M/s   \n",
      "2022-10-28 22:41:17,536 INFO Welcome to the CDS\n",
      "2022-10-28 22:41:17,537 INFO Sending request to https://cds.climate.copernicus.eu/api/v2/resources/reanalysis-era5-land\n",
      "2022-10-28 22:41:17,587 INFO Request is queued\n"
     ]
    },
    {
     "name": "stdout",
     "output_type": "stream",
     "text": [
      "Tonbridge and Malling [51.27, 0.36, 51.26, 0.35]\n"
     ]
    },
    {
     "name": "stderr",
     "output_type": "stream",
     "text": [
      "2022-10-28 22:41:18,633 INFO Request is running\n",
      "2022-10-28 22:55:36,854 INFO Request is completed\n",
      "2022-10-28 22:55:36,854 INFO Downloading https://download-0009-clone.copernicus-climate.eu/cache-compute-0009/cache/data3/adaptor.mars.internal-1666994025.1058023-14637-15-78657428-ab6a-4807-b645-3b1dca60e748.nc to c:\\Users\\sceac10\\OneDrive - Cardiff University\\General\\data\\Tonbridge and Malling_netcdf_data\\Tonbridge and Malling_surface_net_solar_radiation_2022.nc (35M)\n",
      "2022-10-28 22:55:44,785 INFO Download rate 4.4M/s   \n",
      "2022-10-28 22:55:44,887 INFO Welcome to the CDS\n",
      "2022-10-28 22:55:44,889 INFO Sending request to https://cds.climate.copernicus.eu/api/v2/resources/reanalysis-era5-land\n",
      "2022-10-28 22:55:44,967 INFO Request is queued\n"
     ]
    },
    {
     "name": "stdout",
     "output_type": "stream",
     "text": [
      "Tunbridge Wells [51.14, 0.27, 51.13, 0.26]\n"
     ]
    },
    {
     "name": "stderr",
     "output_type": "stream",
     "text": [
      "2022-10-28 22:55:46,026 INFO Request is running\n",
      "2022-10-28 23:08:04,084 INFO Request is completed\n",
      "2022-10-28 23:08:04,085 INFO Downloading https://download-0015-clone.copernicus-climate.eu/cache-compute-0015/cache/data9/adaptor.mars.internal-1666994868.4309573-7609-19-2d86ff10-a574-4570-83c8-a515bd22b1c2.nc to c:\\Users\\sceac10\\OneDrive - Cardiff University\\General\\data\\Tunbridge Wells_netcdf_data\\Tunbridge Wells_surface_net_solar_radiation_2022.nc (35M)\n",
      "2022-10-28 23:08:08,547 INFO Download rate 7.8M/s   \n",
      "2022-10-28 23:08:08,636 INFO Welcome to the CDS\n",
      "2022-10-28 23:08:08,637 INFO Sending request to https://cds.climate.copernicus.eu/api/v2/resources/reanalysis-era5-land\n",
      "2022-10-28 23:08:08,687 INFO Request is queued\n"
     ]
    },
    {
     "name": "stdout",
     "output_type": "stream",
     "text": [
      "Burnley [53.79, -2.24, 53.78, -2.23]\n"
     ]
    },
    {
     "name": "stderr",
     "output_type": "stream",
     "text": [
      "2022-10-28 23:08:09,734 INFO Request is running\n",
      "2022-10-28 23:20:27,741 INFO Request is completed\n",
      "2022-10-28 23:20:27,742 INFO Downloading https://download-0009-clone.copernicus-climate.eu/cache-compute-0009/cache/data7/adaptor.mars.internal-1666995607.9883034-880-4-9fd74c46-dbfc-420c-af17-966dfc1d089c.nc to c:\\Users\\sceac10\\OneDrive - Cardiff University\\General\\data\\Burnley_netcdf_data\\Burnley_surface_net_solar_radiation_2022.nc (30.9K)\n",
      "2022-10-28 23:20:27,965 INFO Download rate 139.4K/s\n",
      "2022-10-28 23:20:28,067 INFO Welcome to the CDS\n",
      "2022-10-28 23:20:28,067 INFO Sending request to https://cds.climate.copernicus.eu/api/v2/resources/reanalysis-era5-land\n",
      "2022-10-28 23:20:28,122 INFO Request is queued\n"
     ]
    },
    {
     "name": "stdout",
     "output_type": "stream",
     "text": [
      "Chorley [53.65, -2.63, 53.64, -2.62]\n"
     ]
    },
    {
     "name": "stderr",
     "output_type": "stream",
     "text": [
      "2022-10-28 23:20:29,171 INFO Request is running\n",
      "2022-10-28 23:34:47,410 INFO Request is completed\n",
      "2022-10-28 23:34:47,410 INFO Downloading https://download-0000-clone.copernicus-climate.eu/cache-compute-0000/cache/data5/adaptor.mars.internal-1666996363.2790122-9482-6-b21dffda-6a3e-4c48-a451-4c18e7beebac.nc to c:\\Users\\sceac10\\OneDrive - Cardiff University\\General\\data\\Chorley_netcdf_data\\Chorley_surface_net_solar_radiation_2022.nc (30.9K)\n",
      "2022-10-28 23:34:47,719 INFO Download rate 100.5K/s\n",
      "2022-10-28 23:34:47,888 INFO Welcome to the CDS\n",
      "2022-10-28 23:34:47,889 INFO Sending request to https://cds.climate.copernicus.eu/api/v2/resources/reanalysis-era5-land\n",
      "2022-10-28 23:34:47,941 INFO Request is queued\n"
     ]
    },
    {
     "name": "stdout",
     "output_type": "stream",
     "text": [
      "Fylde [53.79, -2.89, 53.78, -2.88]\n"
     ]
    },
    {
     "name": "stderr",
     "output_type": "stream",
     "text": [
      "2022-10-28 23:34:49,002 INFO Request is running\n",
      "2022-10-28 23:47:07,022 INFO Request is completed\n",
      "2022-10-28 23:47:07,023 INFO Downloading https://download-0020.copernicus-climate.eu/cache-compute-0020/cache/data7/adaptor.mars.internal-1666997207.3567843-8684-15-2519fc94-f3ea-4a25-9a52-f35c4f6b8a13.nc to c:\\Users\\sceac10\\OneDrive - Cardiff University\\General\\data\\Fylde_netcdf_data\\Fylde_surface_net_solar_radiation_2022.nc (30.9K)\n",
      "2022-10-28 23:47:07,245 INFO Download rate 140.4K/s\n",
      "2022-10-28 23:47:07,341 INFO Welcome to the CDS\n",
      "2022-10-28 23:47:07,342 INFO Sending request to https://cds.climate.copernicus.eu/api/v2/resources/reanalysis-era5-land\n",
      "2022-10-28 23:47:07,427 INFO Request is queued\n"
     ]
    },
    {
     "name": "stdout",
     "output_type": "stream",
     "text": [
      "Hyndburn [53.76, -2.39, 53.75, -2.38]\n"
     ]
    },
    {
     "name": "stderr",
     "output_type": "stream",
     "text": [
      "2022-10-28 23:47:08,481 INFO Request is running\n",
      "2022-10-28 23:53:25,849 INFO Request is queued\n",
      "2022-10-28 23:55:26,045 INFO Request is running\n",
      "2022-10-29 00:07:27,150 INFO Request is completed\n",
      "2022-10-29 00:07:27,151 INFO Downloading https://download-0014-clone.copernicus-climate.eu/cache-compute-0014/cache/data8/adaptor.mars.internal-1666998379.3137772-30952-12-5612fe04-6e5d-407b-92b0-55d15e81aa1d.nc to c:\\Users\\sceac10\\OneDrive - Cardiff University\\General\\data\\Hyndburn_netcdf_data\\Hyndburn_surface_net_solar_radiation_2022.nc (31K)\n",
      "2022-10-29 00:07:27,374 INFO Download rate 139.4K/s\n",
      "2022-10-29 00:07:27,506 INFO Welcome to the CDS\n",
      "2022-10-29 00:07:27,507 INFO Sending request to https://cds.climate.copernicus.eu/api/v2/resources/reanalysis-era5-land\n",
      "2022-10-29 00:07:27,578 INFO Request is queued\n"
     ]
    },
    {
     "name": "stdout",
     "output_type": "stream",
     "text": [
      "Lancaster [40.04, -76.31, 40.03, -76.3]\n"
     ]
    },
    {
     "name": "stderr",
     "output_type": "stream",
     "text": [
      "2022-10-29 00:07:28,634 INFO Request is running\n",
      "2022-10-29 00:21:46,869 INFO Request is completed\n",
      "2022-10-29 00:21:46,870 INFO Downloading https://download-0000-clone.copernicus-climate.eu/cache-compute-0000/cache/data9/adaptor.mars.internal-1666999179.8388116-9502-19-9054e2c8-3e5d-4bdb-8d19-5bd82c89cf6b.nc to c:\\Users\\sceac10\\OneDrive - Cardiff University\\General\\data\\Lancaster_netcdf_data\\Lancaster_surface_net_solar_radiation_2022.nc (30.9K)\n",
      "2022-10-29 00:21:47,092 INFO Download rate 140K/s\n",
      "2022-10-29 00:21:47,188 INFO Welcome to the CDS\n",
      "2022-10-29 00:21:47,189 INFO Sending request to https://cds.climate.copernicus.eu/api/v2/resources/reanalysis-era5-land\n",
      "2022-10-29 00:21:47,302 INFO Request is queued\n"
     ]
    },
    {
     "name": "stdout",
     "output_type": "stream",
     "text": [
      "Pendle [53.88, -2.17, 53.87, -2.16]\n"
     ]
    },
    {
     "name": "stderr",
     "output_type": "stream",
     "text": [
      "2022-10-29 00:21:48,359 INFO Request is running\n",
      "2022-10-29 00:36:06,554 INFO Request is completed\n",
      "2022-10-29 00:36:06,555 INFO Downloading https://download-0014-clone.copernicus-climate.eu/cache-compute-0014/cache/data0/adaptor.mars.internal-1667000040.0341187-4986-14-4208b32e-f2b4-4ca1-9fe0-42cb26c6eefc.nc to c:\\Users\\sceac10\\OneDrive - Cardiff University\\General\\data\\Pendle_netcdf_data\\Pendle_surface_net_solar_radiation_2022.nc (30.9K)\n",
      "2022-10-29 00:36:06,764 INFO Download rate 148.4K/s\n",
      "2022-10-29 00:36:06,849 INFO Welcome to the CDS\n",
      "2022-10-29 00:36:06,849 INFO Sending request to https://cds.climate.copernicus.eu/api/v2/resources/reanalysis-era5-land\n",
      "2022-10-29 00:36:06,938 INFO Request is queued\n"
     ]
    },
    {
     "name": "stdout",
     "output_type": "stream",
     "text": [
      "Preston [53.76, -2.7, 53.75, -2.69]\n"
     ]
    },
    {
     "name": "stderr",
     "output_type": "stream",
     "text": [
      "2022-10-29 00:36:07,993 INFO Request is running\n",
      "2022-10-29 00:50:26,103 INFO Request is completed\n",
      "2022-10-29 00:50:26,104 INFO Downloading https://download-0014-clone.copernicus-climate.eu/cache-compute-0014/cache/data0/adaptor.mars.internal-1667000938.0272331-30747-14-64765689-6b35-461e-98fd-788ac040be29.nc to c:\\Users\\sceac10\\OneDrive - Cardiff University\\General\\data\\Preston_netcdf_data\\Preston_surface_net_solar_radiation_2022.nc (31K)\n",
      "2022-10-29 00:50:26,308 INFO Download rate 152.5K/s\n",
      "2022-10-29 00:50:26,398 INFO Welcome to the CDS\n",
      "2022-10-29 00:50:26,399 INFO Sending request to https://cds.climate.copernicus.eu/api/v2/resources/reanalysis-era5-land\n",
      "2022-10-29 00:50:26,450 INFO Request is queued\n"
     ]
    },
    {
     "name": "stdout",
     "output_type": "stream",
     "text": [
      "Ribble Valley [53.9, -2.42, 53.89, -2.41]\n"
     ]
    },
    {
     "name": "stderr",
     "output_type": "stream",
     "text": [
      "2022-10-29 00:50:27,504 INFO Request is running\n",
      "2022-10-29 01:02:45,380 INFO Request is completed\n",
      "2022-10-29 01:02:45,381 INFO Downloading https://download-0018.copernicus-climate.eu/cache-compute-0018/cache/data2/adaptor.mars.internal-1667001734.0267227-918-8-13e72e5a-8dcd-4e4f-b082-d77fc60485b8.nc to c:\\Users\\sceac10\\OneDrive - Cardiff University\\General\\data\\Ribble Valley_netcdf_data\\Ribble Valley_surface_net_solar_radiation_2022.nc (30.9K)\n",
      "2022-10-29 01:02:45,605 INFO Download rate 138.7K/s\n",
      "2022-10-29 01:02:45,696 INFO Welcome to the CDS\n",
      "2022-10-29 01:02:45,697 INFO Sending request to https://cds.climate.copernicus.eu/api/v2/resources/reanalysis-era5-land\n",
      "2022-10-29 01:02:45,747 INFO Request is queued\n"
     ]
    },
    {
     "name": "stdout",
     "output_type": "stream",
     "text": [
      "Rossendale [53.68, -2.26, 53.67, -2.25]\n"
     ]
    },
    {
     "name": "stderr",
     "output_type": "stream",
     "text": [
      "2022-10-29 01:02:46,799 INFO Request is running\n",
      "2022-10-29 01:15:04,673 INFO Request is completed\n",
      "2022-10-29 01:15:04,674 INFO Downloading https://download-0017.copernicus-climate.eu/cache-compute-0017/cache/data1/adaptor.mars.internal-1667002486.4926703-19828-13-d1774cde-ca62-4afc-8986-42148b3b64b4.nc to c:\\Users\\sceac10\\OneDrive - Cardiff University\\General\\data\\Rossendale_netcdf_data\\Rossendale_surface_net_solar_radiation_2022.nc (30.9K)\n",
      "2022-10-29 01:15:04,879 INFO Download rate 151.7K/s\n",
      "2022-10-29 01:15:04,970 INFO Welcome to the CDS\n",
      "2022-10-29 01:15:04,971 INFO Sending request to https://cds.climate.copernicus.eu/api/v2/resources/reanalysis-era5-land\n",
      "2022-10-29 01:15:05,021 INFO Request is queued\n"
     ]
    },
    {
     "name": "stdout",
     "output_type": "stream",
     "text": [
      "South Ribble [53.73, -2.73, 53.72, -2.72]\n"
     ]
    },
    {
     "name": "stderr",
     "output_type": "stream",
     "text": [
      "2022-10-29 01:15:06,072 INFO Request is running\n",
      "2022-10-29 01:33:24,722 INFO Request is completed\n",
      "2022-10-29 01:33:24,723 INFO Downloading https://download-0004-clone.copernicus-climate.eu/cache-compute-0004/cache/data7/adaptor.mars.internal-1667003435.9035978-22873-1-ae7b90f3-45b7-4959-a00e-1667e081805d.nc to c:\\Users\\sceac10\\OneDrive - Cardiff University\\General\\data\\South Ribble_netcdf_data\\South Ribble_surface_net_solar_radiation_2022.nc (30.9K)\n",
      "2022-10-29 01:33:24,947 INFO Download rate 138.6K/s\n",
      "2022-10-29 01:33:25,046 INFO Welcome to the CDS\n",
      "2022-10-29 01:33:25,047 INFO Sending request to https://cds.climate.copernicus.eu/api/v2/resources/reanalysis-era5-land\n",
      "2022-10-29 01:33:25,113 INFO Request is queued\n"
     ]
    },
    {
     "name": "stdout",
     "output_type": "stream",
     "text": [
      "West Lancashire [53.61, -2.86, 53.6, -2.85]\n"
     ]
    },
    {
     "name": "stderr",
     "output_type": "stream",
     "text": [
      "2022-10-29 01:33:26,174 INFO Request is running\n",
      "2022-10-29 01:51:44,727 INFO Request is completed\n",
      "2022-10-29 01:51:44,728 INFO Downloading https://download-0021.copernicus-climate.eu/cache-compute-0021/cache/data9/adaptor.mars.internal-1667004576.262033-7906-1-a95b99b8-4866-491c-ab2c-1902c2d9fbd0.nc to c:\\Users\\sceac10\\OneDrive - Cardiff University\\General\\data\\West Lancashire_netcdf_data\\West Lancashire_surface_net_solar_radiation_2022.nc (30.9K)\n",
      "2022-10-29 01:51:44,964 INFO Download rate 131.5K/s\n",
      "2022-10-29 01:51:45,057 INFO Welcome to the CDS\n",
      "2022-10-29 01:51:45,057 INFO Sending request to https://cds.climate.copernicus.eu/api/v2/resources/reanalysis-era5-land\n",
      "2022-10-29 01:51:45,109 INFO Request is queued\n"
     ]
    },
    {
     "name": "stdout",
     "output_type": "stream",
     "text": [
      "Wyre [59.12, -2.97, 59.11, -2.96]\n"
     ]
    },
    {
     "name": "stderr",
     "output_type": "stream",
     "text": [
      "2022-10-29 01:51:46,158 INFO Request is running\n",
      "2022-10-29 02:12:04,907 INFO Request is queued\n",
      "2022-10-29 02:14:05,112 INFO Request is completed\n",
      "2022-10-29 02:14:05,113 INFO Downloading https://download-0018.copernicus-climate.eu/cache-compute-0018/cache/data9/adaptor.mars.internal-1667005638.0546703-12286-2-64a93929-e94e-4673-924e-517f9a4d6a38.nc to c:\\Users\\sceac10\\OneDrive - Cardiff University\\General\\data\\Wyre_netcdf_data\\Wyre_surface_net_solar_radiation_2022.nc (30.9K)\n",
      "2022-10-29 02:14:05,338 INFO Download rate 138.2K/s\n",
      "2022-10-29 02:14:05,433 INFO Welcome to the CDS\n",
      "2022-10-29 02:14:05,434 INFO Sending request to https://cds.climate.copernicus.eu/api/v2/resources/reanalysis-era5-land\n",
      "2022-10-29 02:14:05,496 INFO Request is queued\n"
     ]
    },
    {
     "name": "stdout",
     "output_type": "stream",
     "text": [
      "Blaby [52.57, -1.16, 52.56, -1.15]\n"
     ]
    },
    {
     "name": "stderr",
     "output_type": "stream",
     "text": [
      "2022-10-29 02:14:06,552 INFO Request is running\n",
      "2022-10-29 02:30:24,915 INFO Request is completed\n",
      "2022-10-29 02:30:24,916 INFO Downloading https://download-0020.copernicus-climate.eu/cache-compute-0020/cache/data2/adaptor.mars.internal-1667006917.4690576-15880-6-31b4e718-c1c3-4ac8-8826-9c729d039651.nc to c:\\Users\\sceac10\\OneDrive - Cardiff University\\General\\data\\Blaby_netcdf_data\\Blaby_surface_net_solar_radiation_2022.nc (30.9K)\n",
      "2022-10-29 02:30:25,155 INFO Download rate 130K/s\n",
      "2022-10-29 02:30:25,252 INFO Welcome to the CDS\n",
      "2022-10-29 02:30:25,253 INFO Sending request to https://cds.climate.copernicus.eu/api/v2/resources/reanalysis-era5-land\n",
      "2022-10-29 02:30:25,307 INFO Request is queued\n"
     ]
    },
    {
     "name": "stdout",
     "output_type": "stream",
     "text": [
      "Charnwood [52.74, -1.14, 52.73, -1.13]\n"
     ]
    },
    {
     "name": "stderr",
     "output_type": "stream",
     "text": [
      "2022-10-29 02:30:26,371 INFO Request is running\n",
      "2022-10-29 02:46:44,704 INFO Request is completed\n",
      "2022-10-29 02:46:44,705 INFO Downloading https://download-0001-clone.copernicus-climate.eu/cache-compute-0001/cache/data4/adaptor.mars.internal-1667007938.1984816-1827-8-f055ebfc-e7da-4f98-92cd-98c3ef9b8bd0.nc to c:\\Users\\sceac10\\OneDrive - Cardiff University\\General\\data\\Charnwood_netcdf_data\\Charnwood_surface_net_solar_radiation_2022.nc (30.9K)\n",
      "2022-10-29 02:46:44,935 INFO Download rate 135.2K/s\n",
      "2022-10-29 02:46:45,024 INFO Welcome to the CDS\n",
      "2022-10-29 02:46:45,025 INFO Sending request to https://cds.climate.copernicus.eu/api/v2/resources/reanalysis-era5-land\n",
      "2022-10-29 02:46:45,075 INFO Request is queued\n"
     ]
    },
    {
     "name": "stdout",
     "output_type": "stream",
     "text": [
      "Harborough [52.54, -0.92, 52.53, -0.91]\n"
     ]
    },
    {
     "name": "stderr",
     "output_type": "stream",
     "text": [
      "2022-10-29 02:46:46,122 INFO Request is running\n",
      "2022-10-29 02:59:04,059 INFO Request is completed\n",
      "2022-10-29 02:59:04,060 INFO Downloading https://download-0015-clone.copernicus-climate.eu/cache-compute-0015/cache/data7/adaptor.mars.internal-1667008726.3159528-20821-19-f089c6b9-924b-4c29-8e34-9cfb8b1f47ff.nc to c:\\Users\\sceac10\\OneDrive - Cardiff University\\General\\data\\Harborough_netcdf_data\\Harborough_surface_net_solar_radiation_2022.nc (31K)\n",
      "2022-10-29 02:59:04,295 INFO Download rate 131.7K/s\n",
      "2022-10-29 02:59:04,379 INFO Welcome to the CDS\n",
      "2022-10-29 02:59:04,381 INFO Sending request to https://cds.climate.copernicus.eu/api/v2/resources/reanalysis-era5-land\n",
      "2022-10-29 02:59:04,428 INFO Request is queued\n"
     ]
    },
    {
     "name": "stdout",
     "output_type": "stream",
     "text": [
      "Hinckley and Bosworth [52.61, -1.42, 52.6, -1.41]\n"
     ]
    },
    {
     "name": "stderr",
     "output_type": "stream",
     "text": [
      "2022-10-29 02:59:05,480 INFO Request is running\n",
      "2022-10-29 03:13:23,570 INFO Request is completed\n",
      "2022-10-29 03:13:23,571 INFO Downloading https://download-0000-clone.copernicus-climate.eu/cache-compute-0000/cache/data5/adaptor.mars.internal-1667009474.7651982-32388-6-9d712db4-39a7-483a-865b-f1bb3c8311ba.nc to c:\\Users\\sceac10\\OneDrive - Cardiff University\\General\\data\\Hinckley and Bosworth_netcdf_data\\Hinckley and Bosworth_surface_net_solar_radiation_2022.nc (30.9K)\n",
      "2022-10-29 03:13:23,802 INFO Download rate 134K/s\n",
      "2022-10-29 03:13:23,888 INFO Welcome to the CDS\n",
      "2022-10-29 03:13:23,888 INFO Sending request to https://cds.climate.copernicus.eu/api/v2/resources/reanalysis-era5-land\n",
      "2022-10-29 03:13:23,935 INFO Request is queued\n"
     ]
    },
    {
     "name": "stdout",
     "output_type": "stream",
     "text": [
      "Melton [52.81, -0.86, 52.8, -0.85]\n"
     ]
    },
    {
     "name": "stderr",
     "output_type": "stream",
     "text": [
      "2022-10-29 03:13:24,989 INFO Request is running\n",
      "2022-10-29 03:27:43,104 INFO Request is completed\n",
      "2022-10-29 03:27:43,105 INFO Downloading https://download-0016.copernicus-climate.eu/cache-compute-0016/cache/data2/adaptor.mars.internal-1667010359.4999816-16075-5-c9d67acc-e06c-4a55-a45c-283a1a7e6fd0.nc to c:\\Users\\sceac10\\OneDrive - Cardiff University\\General\\data\\Melton_netcdf_data\\Melton_surface_net_solar_radiation_2022.nc (30.9K)\n",
      "2022-10-29 03:27:43,316 INFO Download rate 147.4K/s\n",
      "2022-10-29 03:27:43,409 INFO Welcome to the CDS\n",
      "2022-10-29 03:27:43,410 INFO Sending request to https://cds.climate.copernicus.eu/api/v2/resources/reanalysis-era5-land\n",
      "2022-10-29 03:27:43,460 INFO Request is queued\n"
     ]
    },
    {
     "name": "stdout",
     "output_type": "stream",
     "text": [
      "North West Leicestershire [52.77, -1.4, 52.76, -1.39]\n"
     ]
    },
    {
     "name": "stderr",
     "output_type": "stream",
     "text": [
      "2022-10-29 03:27:44,512 INFO Request is running\n",
      "2022-10-29 03:42:02,660 INFO Request is completed\n",
      "2022-10-29 03:42:02,661 INFO Downloading https://download-0006-clone.copernicus-climate.eu/cache-compute-0006/cache/data8/adaptor.mars.internal-1667011218.6784976-10830-18-e8928f29-a0b4-4ef1-9b5a-323beb541f66.nc to c:\\Users\\sceac10\\OneDrive - Cardiff University\\General\\data\\North West Leicestershire_netcdf_data\\North West Leicestershire_surface_net_solar_radiation_2022.nc (31K)\n",
      "2022-10-29 03:42:03,019 INFO Download rate 86.6K/s\n",
      "2022-10-29 03:42:03,106 INFO Welcome to the CDS\n",
      "2022-10-29 03:42:03,107 INFO Sending request to https://cds.climate.copernicus.eu/api/v2/resources/reanalysis-era5-land\n",
      "2022-10-29 03:42:03,153 INFO Request is queued\n"
     ]
    },
    {
     "name": "stdout",
     "output_type": "stream",
     "text": [
      "Oadby and Wigston [52.59, -1.1, 52.58, -1.09]\n"
     ]
    },
    {
     "name": "stderr",
     "output_type": "stream",
     "text": [
      "2022-10-29 03:42:04,196 INFO Request is running\n",
      "2022-10-29 03:56:22,249 INFO Request is completed\n",
      "2022-10-29 03:56:22,250 INFO Downloading https://download-0004-clone.copernicus-climate.eu/cache-compute-0004/cache/data5/adaptor.mars.internal-1667012069.6055753-15587-14-cf9849ad-b85e-4530-b771-e902fb893cc1.nc to c:\\Users\\sceac10\\OneDrive - Cardiff University\\General\\data\\Oadby and Wigston_netcdf_data\\Oadby and Wigston_surface_net_solar_radiation_2022.nc (31K)\n",
      "2022-10-29 03:56:22,455 INFO Download rate 152.3K/s\n",
      "2022-10-29 03:56:22,549 INFO Welcome to the CDS\n",
      "2022-10-29 03:56:22,551 INFO Sending request to https://cds.climate.copernicus.eu/api/v2/resources/reanalysis-era5-land\n",
      "2022-10-29 03:56:22,605 INFO Request is queued\n"
     ]
    },
    {
     "name": "stdout",
     "output_type": "stream",
     "text": [
      "Boston [42.36, -71.06, 42.35, -71.05]\n"
     ]
    },
    {
     "name": "stderr",
     "output_type": "stream",
     "text": [
      "2022-10-29 03:56:23,656 INFO Request is running\n",
      "2022-10-29 04:10:41,822 INFO Request is completed\n",
      "2022-10-29 04:10:41,823 INFO Downloading https://download-0001-clone.copernicus-climate.eu/cache-compute-0001/cache/data9/adaptor.mars.internal-1667012986.729755-14048-3-c5e92b74-a6dd-4126-828c-d5ff4c32390b.nc to c:\\Users\\sceac10\\OneDrive - Cardiff University\\General\\data\\Boston_netcdf_data\\Boston_surface_net_solar_radiation_2022.nc (30.9K)\n",
      "2022-10-29 04:10:42,049 INFO Download rate 136.9K/s\n",
      "2022-10-29 04:10:42,139 INFO Welcome to the CDS\n",
      "2022-10-29 04:10:42,140 INFO Sending request to https://cds.climate.copernicus.eu/api/v2/resources/reanalysis-era5-land\n",
      "2022-10-29 04:10:42,196 INFO Request is queued\n"
     ]
    },
    {
     "name": "stdout",
     "output_type": "stream",
     "text": [
      "East Lindsey [53.27, 0.01, 53.26, 0.0]\n"
     ]
    },
    {
     "name": "stderr",
     "output_type": "stream",
     "text": [
      "2022-10-29 04:10:43,242 INFO Request is running\n",
      "2022-10-29 04:43:03,094 INFO Request is completed\n",
      "2022-10-29 04:43:03,095 INFO Downloading https://download-0002-clone.copernicus-climate.eu/cache-compute-0002/cache/data1/adaptor.mars.internal-1667014943.51127-18911-1-b13f04e0-6a92-4616-b99a-5232ab69924d.nc to c:\\Users\\sceac10\\OneDrive - Cardiff University\\General\\data\\East Lindsey_netcdf_data\\East Lindsey_surface_net_solar_radiation_2022.nc (35M)\n",
      "2022-10-29 04:43:07,771 INFO Download rate 7.5M/s   \n",
      "2022-10-29 04:43:07,865 INFO Welcome to the CDS\n",
      "2022-10-29 04:43:07,866 INFO Sending request to https://cds.climate.copernicus.eu/api/v2/resources/reanalysis-era5-land\n",
      "2022-10-29 04:43:07,945 INFO Request is queued\n"
     ]
    },
    {
     "name": "stdout",
     "output_type": "stream",
     "text": [
      "Lincoln [40.81, -96.71, 40.8, -96.7]\n"
     ]
    },
    {
     "name": "stderr",
     "output_type": "stream",
     "text": [
      "2022-10-29 04:43:08,998 INFO Request is running\n",
      "2022-10-29 04:57:27,200 INFO Request is completed\n",
      "2022-10-29 04:57:27,201 INFO Downloading https://download-0008-clone.copernicus-climate.eu/cache-compute-0008/cache/data5/adaptor.mars.internal-1667015731.2740076-3234-15-d0499122-213b-4c4c-a4c4-3d769f6e0787.nc to c:\\Users\\sceac10\\OneDrive - Cardiff University\\General\\data\\Lincoln_netcdf_data\\Lincoln_surface_net_solar_radiation_2022.nc (30.9K)\n",
      "2022-10-29 04:57:27,414 INFO Download rate 145.3K/s\n",
      "2022-10-29 04:57:27,509 INFO Welcome to the CDS\n",
      "2022-10-29 04:57:27,510 INFO Sending request to https://cds.climate.copernicus.eu/api/v2/resources/reanalysis-era5-land\n",
      "2022-10-29 04:57:27,563 INFO Request is queued\n"
     ]
    },
    {
     "name": "stdout",
     "output_type": "stream",
     "text": [
      "North Kesteven [53.07, -0.45, 53.06, -0.44]\n"
     ]
    },
    {
     "name": "stderr",
     "output_type": "stream",
     "text": [
      "2022-10-29 04:57:28,619 INFO Request is running\n",
      "2022-10-29 05:11:46,791 INFO Request is completed\n",
      "2022-10-29 05:11:46,792 INFO Downloading https://download-0015-clone.copernicus-climate.eu/cache-compute-0015/cache/data7/adaptor.mars.internal-1667016620.1334782-7017-7-6310d5db-01f6-45fd-9310-67f4a950377e.nc to c:\\Users\\sceac10\\OneDrive - Cardiff University\\General\\data\\North Kesteven_netcdf_data\\North Kesteven_surface_net_solar_radiation_2022.nc (30.9K)\n",
      "2022-10-29 05:11:47,006 INFO Download rate 145.3K/s\n",
      "2022-10-29 05:11:47,094 INFO Welcome to the CDS\n",
      "2022-10-29 05:11:47,095 INFO Sending request to https://cds.climate.copernicus.eu/api/v2/resources/reanalysis-era5-land\n",
      "2022-10-29 05:11:47,145 INFO Request is queued\n"
     ]
    },
    {
     "name": "stdout",
     "output_type": "stream",
     "text": [
      "South Holland [52.0, 4.56, 51.99, 4.55]\n"
     ]
    },
    {
     "name": "stderr",
     "output_type": "stream",
     "text": [
      "2022-10-29 05:11:48,198 INFO Request is running\n",
      "2022-10-29 05:26:06,351 INFO Request is completed\n",
      "2022-10-29 05:26:06,352 INFO Downloading https://download-0000-clone.copernicus-climate.eu/cache-compute-0000/cache/data5/adaptor.mars.internal-1667017432.6086502-4176-10-8871c236-2952-4e79-af6f-764b6bf24db7.nc to c:\\Users\\sceac10\\OneDrive - Cardiff University\\General\\data\\South Holland_netcdf_data\\South Holland_surface_net_solar_radiation_2022.nc (35M)\n",
      "2022-10-29 05:26:11,896 INFO Download rate 6.3M/s   \n",
      "2022-10-29 05:26:11,987 INFO Welcome to the CDS\n",
      "2022-10-29 05:26:11,988 INFO Sending request to https://cds.climate.copernicus.eu/api/v2/resources/reanalysis-era5-land\n",
      "2022-10-29 05:26:12,041 INFO Request is queued\n"
     ]
    },
    {
     "name": "stdout",
     "output_type": "stream",
     "text": [
      "South Kesteven [52.85, -0.5, 52.84, -0.49]\n"
     ]
    },
    {
     "name": "stderr",
     "output_type": "stream",
     "text": [
      "2022-10-29 05:26:13,095 INFO Request is running\n",
      "2022-10-29 05:40:31,301 INFO Request is completed\n",
      "2022-10-29 05:40:31,302 INFO Downloading https://download-0003-clone.copernicus-climate.eu/cache-compute-0003/cache/data3/adaptor.mars.internal-1667018303.1692436-26853-16-96e27c09-6a76-42cb-b2ac-8c289b62736a.nc to c:\\Users\\sceac10\\OneDrive - Cardiff University\\General\\data\\South Kesteven_netcdf_data\\South Kesteven_surface_net_solar_radiation_2022.nc (31K)\n",
      "2022-10-29 05:40:31,547 INFO Download rate 126.3K/s\n",
      "2022-10-29 05:40:31,639 INFO Welcome to the CDS\n",
      "2022-10-29 05:40:31,641 INFO Sending request to https://cds.climate.copernicus.eu/api/v2/resources/reanalysis-era5-land\n",
      "2022-10-29 05:40:31,691 INFO Request is queued\n"
     ]
    },
    {
     "name": "stdout",
     "output_type": "stream",
     "text": [
      "West Lindsey [53.4, -0.5, 53.39, -0.49]\n"
     ]
    },
    {
     "name": "stderr",
     "output_type": "stream",
     "text": [
      "2022-10-29 05:40:32,738 INFO Request is running\n",
      "2022-10-29 05:58:51,284 INFO Request is completed\n",
      "2022-10-29 05:58:51,285 INFO Downloading https://download-0012-clone.copernicus-climate.eu/cache-compute-0012/cache/data2/adaptor.mars.internal-1667019344.168946-31165-2-0d164923-acb4-45bd-b5e7-eefd8d6ca3e6.nc to c:\\Users\\sceac10\\OneDrive - Cardiff University\\General\\data\\West Lindsey_netcdf_data\\West Lindsey_surface_net_solar_radiation_2022.nc (30.9K)\n",
      "2022-10-29 05:58:51,513 INFO Download rate 136.5K/s\n",
      "2022-10-29 05:58:51,609 INFO Welcome to the CDS\n",
      "2022-10-29 05:58:51,610 INFO Sending request to https://cds.climate.copernicus.eu/api/v2/resources/reanalysis-era5-land\n",
      "2022-10-29 05:58:51,663 INFO Request is queued\n"
     ]
    },
    {
     "name": "stdout",
     "output_type": "stream",
     "text": [
      "Breckland [52.59, 0.76, 52.58, 0.75]\n"
     ]
    },
    {
     "name": "stderr",
     "output_type": "stream",
     "text": [
      "2022-10-29 05:58:52,722 INFO Request is running\n",
      "2022-10-29 06:13:10,928 INFO Request is completed\n",
      "2022-10-29 06:13:10,929 INFO Downloading https://download-0011-clone.copernicus-climate.eu/cache-compute-0011/cache/data2/adaptor.mars.internal-1667020260.889154-417-10-9595b079-2b8d-4767-9a8f-a7ad4a88c385.nc to c:\\Users\\sceac10\\OneDrive - Cardiff University\\General\\data\\Breckland_netcdf_data\\Breckland_surface_net_solar_radiation_2022.nc (35M)\n",
      "2022-10-29 06:13:17,711 INFO Download rate 5.2M/s   \n",
      "2022-10-29 06:13:17,797 INFO Welcome to the CDS\n",
      "2022-10-29 06:13:17,798 INFO Sending request to https://cds.climate.copernicus.eu/api/v2/resources/reanalysis-era5-land\n",
      "2022-10-29 06:13:17,854 INFO Request is queued\n"
     ]
    },
    {
     "name": "stdout",
     "output_type": "stream",
     "text": [
      "Broadland [52.69, 1.26, 52.68, 1.25]\n"
     ]
    },
    {
     "name": "stderr",
     "output_type": "stream",
     "text": [
      "2022-10-29 06:13:18,908 INFO Request is running\n",
      "2022-10-29 06:27:37,090 INFO Request is completed\n",
      "2022-10-29 06:27:37,091 INFO Downloading https://download-0020.copernicus-climate.eu/cache-compute-0020/cache/data3/adaptor.mars.internal-1667021147.1985705-7473-8-9e78369d-cf02-4d3f-ae94-93e6c5a1499a.nc to c:\\Users\\sceac10\\OneDrive - Cardiff University\\General\\data\\Broadland_netcdf_data\\Broadland_surface_net_solar_radiation_2022.nc (35M)\n",
      "2022-10-29 06:27:42,433 INFO Download rate 6.5M/s   \n",
      "2022-10-29 06:27:42,520 INFO Welcome to the CDS\n",
      "2022-10-29 06:27:42,522 INFO Sending request to https://cds.climate.copernicus.eu/api/v2/resources/reanalysis-era5-land\n",
      "2022-10-29 06:27:42,570 INFO Request is queued\n"
     ]
    },
    {
     "name": "stdout",
     "output_type": "stream",
     "text": [
      "Great Yarmouth [52.61, 1.73, 52.6, 1.72]\n"
     ]
    },
    {
     "name": "stderr",
     "output_type": "stream",
     "text": [
      "2022-10-29 06:27:43,616 INFO Request is running\n",
      "2022-10-29 06:40:01,582 INFO Request is completed\n",
      "2022-10-29 06:40:01,583 INFO Downloading https://download-0005-clone.copernicus-climate.eu/cache-compute-0005/cache/data4/adaptor.mars.internal-1667021982.8012412-30044-11-41eef717-bdc4-4b59-869c-e18bee3b1149.nc to c:\\Users\\sceac10\\OneDrive - Cardiff University\\General\\data\\Great Yarmouth_netcdf_data\\Great Yarmouth_surface_net_solar_radiation_2022.nc (35M)\n",
      "2022-10-29 06:40:10,321 INFO Download rate 4M/s     \n",
      "2022-10-29 06:40:10,412 INFO Welcome to the CDS\n",
      "2022-10-29 06:40:10,412 INFO Sending request to https://cds.climate.copernicus.eu/api/v2/resources/reanalysis-era5-land\n",
      "2022-10-29 06:40:10,499 INFO Request is queued\n"
     ]
    },
    {
     "name": "stdout",
     "output_type": "stream",
     "text": [
      "King's Lynn and West Norfolk [52.71, 0.43, 52.7, 0.42]\n"
     ]
    },
    {
     "name": "stderr",
     "output_type": "stream",
     "text": [
      "2022-10-29 06:40:11,544 INFO Request is running\n",
      "2022-10-29 06:54:29,700 INFO Request is completed\n",
      "2022-10-29 06:54:29,701 INFO Downloading https://download-0021.copernicus-climate.eu/cache-compute-0021/cache/data1/adaptor.mars.internal-1667022770.7688324-24495-11-0915fc2c-a4ae-42b2-997c-532d54d52c5d.nc to c:\\Users\\sceac10\\OneDrive - Cardiff University\\General\\data\\King's Lynn and West Norfolk_netcdf_data\\King's Lynn and West Norfolk_surface_net_solar_radiation_2022.nc (35M)\n",
      "2022-10-29 06:54:35,204 INFO Download rate 6.4M/s   \n",
      "2022-10-29 06:54:35,295 INFO Welcome to the CDS\n",
      "2022-10-29 06:54:35,296 INFO Sending request to https://cds.climate.copernicus.eu/api/v2/resources/reanalysis-era5-land\n",
      "2022-10-29 06:54:35,385 INFO Request is queued\n"
     ]
    },
    {
     "name": "stdout",
     "output_type": "stream",
     "text": [
      "North Norfolk [52.84, 1.13, 52.83, 1.12]\n"
     ]
    },
    {
     "name": "stderr",
     "output_type": "stream",
     "text": [
      "2022-10-29 06:54:36,433 INFO Request is running\n",
      "2022-10-29 07:06:54,405 INFO Request is completed\n",
      "2022-10-29 07:06:54,406 INFO Downloading https://download-0019.copernicus-climate.eu/cache-compute-0019/cache/data1/adaptor.mars.internal-1667023598.649994-9364-12-c08a8a33-5b7f-452f-a868-2cd7e77b5749.nc to c:\\Users\\sceac10\\OneDrive - Cardiff University\\General\\data\\North Norfolk_netcdf_data\\North Norfolk_surface_net_solar_radiation_2022.nc (35M)\n",
      "2022-10-29 07:06:59,919 INFO Download rate 6.3M/s   \n",
      "2022-10-29 07:07:00,016 INFO Welcome to the CDS\n",
      "2022-10-29 07:07:00,017 INFO Sending request to https://cds.climate.copernicus.eu/api/v2/resources/reanalysis-era5-land\n",
      "2022-10-29 07:07:00,128 INFO Request is queued\n"
     ]
    },
    {
     "name": "stdout",
     "output_type": "stream",
     "text": [
      "Norwich [52.63, 1.29, 52.62, 1.28]\n"
     ]
    },
    {
     "name": "stderr",
     "output_type": "stream",
     "text": [
      "2022-10-29 07:07:01,175 INFO Request is running\n",
      "2022-10-29 07:21:19,248 INFO Request is completed\n",
      "2022-10-29 07:21:19,249 INFO Downloading https://download-0021.copernicus-climate.eu/cache-compute-0021/cache/data2/adaptor.mars.internal-1667024382.3456342-17015-13-47062ea3-cd46-41f6-99e2-3ebefbecd054.nc to c:\\Users\\sceac10\\OneDrive - Cardiff University\\General\\data\\Norwich_netcdf_data\\Norwich_surface_net_solar_radiation_2022.nc (35M)\n",
      "2022-10-29 07:21:24,563 INFO Download rate 6.6M/s   \n",
      "2022-10-29 07:21:24,656 INFO Welcome to the CDS\n",
      "2022-10-29 07:21:24,657 INFO Sending request to https://cds.climate.copernicus.eu/api/v2/resources/reanalysis-era5-land\n",
      "2022-10-29 07:21:24,758 INFO Request is queued\n"
     ]
    },
    {
     "name": "stdout",
     "output_type": "stream",
     "text": [
      "South Norfolk [52.52, 1.37, 52.51, 1.36]\n"
     ]
    },
    {
     "name": "stderr",
     "output_type": "stream",
     "text": [
      "2022-10-29 07:21:25,812 INFO Request is running\n",
      "2022-10-29 07:35:43,986 INFO Request is completed\n",
      "2022-10-29 07:35:43,987 INFO Downloading https://download-0004-clone.copernicus-climate.eu/cache-compute-0004/cache/data9/adaptor.mars.internal-1667025260.2613835-29652-9-354d408b-e449-4bff-8d6b-cc706aae5cc9.nc to c:\\Users\\sceac10\\OneDrive - Cardiff University\\General\\data\\South Norfolk_netcdf_data\\South Norfolk_surface_net_solar_radiation_2022.nc (35M)\n",
      "2022-10-29 07:35:52,181 INFO Download rate 4.3M/s   \n",
      "2022-10-29 07:35:52,266 INFO Welcome to the CDS\n",
      "2022-10-29 07:35:52,267 INFO Sending request to https://cds.climate.copernicus.eu/api/v2/resources/reanalysis-era5-land\n",
      "2022-10-29 07:35:52,371 INFO Request is queued\n"
     ]
    },
    {
     "name": "stdout",
     "output_type": "stream",
     "text": [
      "Corby [52.49, -0.7, 52.48, -0.69]\n"
     ]
    },
    {
     "name": "stderr",
     "output_type": "stream",
     "text": [
      "2022-10-29 07:35:53,428 INFO Request is running\n",
      "2022-10-29 07:50:11,531 INFO Request is completed\n",
      "2022-10-29 07:50:11,532 INFO Downloading https://download-0005-clone.copernicus-climate.eu/cache-compute-0005/cache/data6/adaptor.mars.internal-1667026080.799819-594-15-6a456a07-20ba-4a6b-a150-4fda695d2903.nc to c:\\Users\\sceac10\\OneDrive - Cardiff University\\General\\data\\Corby_netcdf_data\\Corby_surface_net_solar_radiation_2022.nc (30.9K)\n",
      "2022-10-29 07:50:11,793 INFO Download rate 118.8K/s\n",
      "2022-10-29 07:50:11,888 INFO Welcome to the CDS\n",
      "2022-10-29 07:50:11,889 INFO Sending request to https://cds.climate.copernicus.eu/api/v2/resources/reanalysis-era5-land\n",
      "2022-10-29 07:50:11,957 INFO Request is queued\n"
     ]
    },
    {
     "name": "stdout",
     "output_type": "stream",
     "text": [
      "Daventry [52.26, -1.16, 52.25, -1.15]\n"
     ]
    },
    {
     "name": "stderr",
     "output_type": "stream",
     "text": [
      "2022-10-29 07:50:13,006 INFO Request is running\n",
      "2022-10-29 08:04:31,217 INFO Request is completed\n",
      "2022-10-29 08:04:31,218 INFO Downloading https://download-0006-clone.copernicus-climate.eu/cache-compute-0006/cache/data1/adaptor.mars.internal-1667026985.7733743-1216-8-f318938f-5459-49d1-a41a-ab1d5cf521f6.nc to c:\\Users\\sceac10\\OneDrive - Cardiff University\\General\\data\\Daventry_netcdf_data\\Daventry_surface_net_solar_radiation_2022.nc (30.9K)\n",
      "2022-10-29 08:04:31,459 INFO Download rate 129K/s\n",
      "2022-10-29 08:04:31,552 INFO Welcome to the CDS\n",
      "2022-10-29 08:04:31,553 INFO Sending request to https://cds.climate.copernicus.eu/api/v2/resources/reanalysis-era5-land\n",
      "2022-10-29 08:04:31,648 INFO Request is queued\n"
     ]
    },
    {
     "name": "stdout",
     "output_type": "stream",
     "text": [
      "East Northamptonshire [52.45, -0.51, 52.44, -0.5]\n"
     ]
    },
    {
     "name": "stderr",
     "output_type": "stream",
     "text": [
      "2022-10-29 08:04:32,705 INFO Request is running\n",
      "2022-10-29 08:18:50,817 INFO Request is completed\n",
      "2022-10-29 08:18:50,818 INFO Downloading https://download-0011-clone.copernicus-climate.eu/cache-compute-0011/cache/data4/adaptor.mars.internal-1667027822.4524963-9478-19-97d20ec4-6e11-4ac1-b4d8-9ae204f79d40.nc to c:\\Users\\sceac10\\OneDrive - Cardiff University\\General\\data\\East Northamptonshire_netcdf_data\\East Northamptonshire_surface_net_solar_radiation_2022.nc (30.9K)\n",
      "2022-10-29 08:18:51,019 INFO Download rate 154.7K/s\n",
      "2022-10-29 08:18:51,108 INFO Welcome to the CDS\n",
      "2022-10-29 08:18:51,110 INFO Sending request to https://cds.climate.copernicus.eu/api/v2/resources/reanalysis-era5-land\n",
      "2022-10-29 08:18:51,221 INFO Request is queued\n"
     ]
    },
    {
     "name": "stdout",
     "output_type": "stream",
     "text": [
      "Kettering [39.69, -84.17, 39.68, -84.16]\n"
     ]
    },
    {
     "name": "stderr",
     "output_type": "stream",
     "text": [
      "2022-10-29 08:18:52,275 INFO Request is running\n",
      "2022-10-29 08:31:10,272 INFO Request is completed\n",
      "2022-10-29 08:31:10,273 INFO Downloading https://download-0005-clone.copernicus-climate.eu/cache-compute-0005/cache/data7/adaptor.mars.internal-1667028650.8729844-8607-12-c9caa94f-dc3d-4ecf-af49-37aa243cc8a5.nc to c:\\Users\\sceac10\\OneDrive - Cardiff University\\General\\data\\Kettering_netcdf_data\\Kettering_surface_net_solar_radiation_2022.nc (30.9K)\n",
      "2022-10-29 08:31:10,502 INFO Download rate 135.7K/s\n",
      "2022-10-29 08:31:10,608 INFO Welcome to the CDS\n",
      "2022-10-29 08:31:10,609 INFO Sending request to https://cds.climate.copernicus.eu/api/v2/resources/reanalysis-era5-land\n",
      "2022-10-29 08:31:10,710 INFO Request is queued\n"
     ]
    },
    {
     "name": "stdout",
     "output_type": "stream",
     "text": [
      "Northampton [52.23, -0.9, 52.22, -0.89]\n"
     ]
    },
    {
     "name": "stderr",
     "output_type": "stream",
     "text": [
      "2022-10-29 08:31:11,754 INFO Request is running\n",
      "2022-10-29 08:45:29,910 INFO Request is completed\n",
      "2022-10-29 08:45:29,911 INFO Downloading https://download-0005-clone.copernicus-climate.eu/cache-compute-0005/cache/data5/adaptor.mars.internal-1667029414.2072926-9475-17-0a1db0b7-1c93-47e1-9586-53f0789ce54f.nc to c:\\Users\\sceac10\\OneDrive - Cardiff University\\General\\data\\Northampton_netcdf_data\\Northampton_surface_net_solar_radiation_2022.nc (30.9K)\n",
      "2022-10-29 08:45:30,145 INFO Download rate 132.8K/s\n",
      "2022-10-29 08:45:30,247 INFO Welcome to the CDS\n",
      "2022-10-29 08:45:30,248 INFO Sending request to https://cds.climate.copernicus.eu/api/v2/resources/reanalysis-era5-land\n",
      "2022-10-29 08:45:30,318 INFO Request is queued\n"
     ]
    },
    {
     "name": "stdout",
     "output_type": "stream",
     "text": [
      "South Northamptonshire [52.12, -1.08, 52.11, -1.07]\n"
     ]
    },
    {
     "name": "stderr",
     "output_type": "stream",
     "text": [
      "2022-10-29 08:45:31,377 INFO Request is running\n",
      "2022-10-29 08:59:49,600 INFO Request is completed\n",
      "2022-10-29 08:59:49,601 INFO Downloading https://download-0015-clone.copernicus-climate.eu/cache-compute-0015/cache/data7/adaptor.mars.internal-1667030272.8762505-28298-7-7090c28d-7e5e-4d9a-8375-4fa850568b17.nc to c:\\Users\\sceac10\\OneDrive - Cardiff University\\General\\data\\South Northamptonshire_netcdf_data\\South Northamptonshire_surface_net_solar_radiation_2022.nc (30.9K)\n",
      "2022-10-29 08:59:49,843 INFO Download rate 128.4K/s\n",
      "2022-10-29 08:59:49,937 INFO Welcome to the CDS\n",
      "2022-10-29 08:59:49,938 INFO Sending request to https://cds.climate.copernicus.eu/api/v2/resources/reanalysis-era5-land\n",
      "2022-10-29 08:59:50,022 INFO Request is queued\n"
     ]
    },
    {
     "name": "stdout",
     "output_type": "stream",
     "text": [
      "Wellingborough [52.3, -0.69, 52.29, -0.68]\n"
     ]
    },
    {
     "name": "stderr",
     "output_type": "stream",
     "text": [
      "2022-10-29 08:59:51,077 INFO Request is running\n",
      "2022-10-29 09:20:09,813 INFO Request is queued\n",
      "2022-10-29 09:22:10,002 INFO Request is completed\n",
      "2022-10-29 09:22:10,003 INFO Downloading https://download-0019.copernicus-climate.eu/cache-compute-0019/cache/data3/adaptor.mars.internal-1667031333.2257845-15371-1-2c1ea109-388c-497a-bd1c-9007771e6c5c.nc to c:\\Users\\sceac10\\OneDrive - Cardiff University\\General\\data\\Wellingborough_netcdf_data\\Wellingborough_surface_net_solar_radiation_2022.nc (30.9K)\n",
      "2022-10-29 09:22:10,220 INFO Download rate 143.2K/s\n",
      "2022-10-29 09:22:10,311 INFO Welcome to the CDS\n",
      "2022-10-29 09:22:10,312 INFO Sending request to https://cds.climate.copernicus.eu/api/v2/resources/reanalysis-era5-land\n",
      "2022-10-29 09:22:10,379 INFO Request is queued\n"
     ]
    },
    {
     "name": "stdout",
     "output_type": "stream",
     "text": [
      "Northumberland [55.25, -2.0, 55.24, -1.99]\n"
     ]
    },
    {
     "name": "stderr",
     "output_type": "stream",
     "text": [
      "2022-10-29 09:22:11,432 INFO Request is running\n",
      "2022-10-29 09:28:28,808 INFO Request is queued\n",
      "2022-10-29 09:30:29,010 INFO Request is running\n",
      "2022-10-29 09:42:30,118 INFO Request is completed\n",
      "2022-10-29 09:42:30,119 INFO Downloading https://download-0007-clone.copernicus-climate.eu/cache-compute-0007/cache/data2/adaptor.mars.internal-1667032858.1703336-24657-14-7dea648f-6d5a-4972-933a-b0bcf01689e6.nc to c:\\Users\\sceac10\\OneDrive - Cardiff University\\General\\data\\Northumberland_netcdf_data\\Northumberland_surface_net_solar_radiation_2022.nc (31K)\n",
      "2022-10-29 09:42:30,375 INFO Download rate 121.4K/s\n",
      "2022-10-29 09:42:30,466 INFO Welcome to the CDS\n",
      "2022-10-29 09:42:30,467 INFO Sending request to https://cds.climate.copernicus.eu/api/v2/resources/reanalysis-era5-land\n",
      "2022-10-29 09:42:30,518 INFO Request is queued\n"
     ]
    },
    {
     "name": "stdout",
     "output_type": "stream",
     "text": [
      "Craven [35.08, -77.04, 35.07, -77.03]\n"
     ]
    },
    {
     "name": "stderr",
     "output_type": "stream",
     "text": [
      "2022-10-29 09:42:31,570 INFO Request is running\n",
      "2022-10-29 09:54:49,526 INFO Request is completed\n",
      "2022-10-29 09:54:49,526 INFO Downloading https://download-0011-clone.copernicus-climate.eu/cache-compute-0011/cache/data5/adaptor.mars.internal-1667033675.3322244-3878-10-7755f809-37e1-4a21-9ef0-b3e4bdc02852.nc to c:\\Users\\sceac10\\OneDrive - Cardiff University\\General\\data\\Craven_netcdf_data\\Craven_surface_net_solar_radiation_2022.nc (30.9K)\n",
      "2022-10-29 09:54:49,755 INFO Download rate 135.7K/s\n",
      "2022-10-29 09:54:49,844 INFO Welcome to the CDS\n",
      "2022-10-29 09:54:49,845 INFO Sending request to https://cds.climate.copernicus.eu/api/v2/resources/reanalysis-era5-land\n",
      "2022-10-29 09:54:49,922 INFO Request is queued\n"
     ]
    },
    {
     "name": "stdout",
     "output_type": "stream",
     "text": [
      "Hambleton [54.25, -1.44, 54.24, -1.43]\n"
     ]
    },
    {
     "name": "stderr",
     "output_type": "stream",
     "text": [
      "2022-10-29 09:54:50,980 INFO Request is running\n",
      "2022-10-29 10:09:09,126 INFO Request is completed\n",
      "2022-10-29 10:09:09,127 INFO Downloading https://download-0001-clone.copernicus-climate.eu/cache-compute-0001/cache/data9/adaptor.mars.internal-1667034440.1101124-11197-7-f951e455-1c91-4a8f-89b8-8ac6de6638a5.nc to c:\\Users\\sceac10\\OneDrive - Cardiff University\\General\\data\\Hambleton_netcdf_data\\Hambleton_surface_net_solar_radiation_2022.nc (30.9K)\n",
      "2022-10-29 10:09:09,350 INFO Download rate 139.4K/s\n",
      "2022-10-29 10:09:09,441 INFO Welcome to the CDS\n",
      "2022-10-29 10:09:09,442 INFO Sending request to https://cds.climate.copernicus.eu/api/v2/resources/reanalysis-era5-land\n",
      "2022-10-29 10:09:09,500 INFO Request is queued\n"
     ]
    },
    {
     "name": "stdout",
     "output_type": "stream",
     "text": [
      "Harrogate [53.99, -1.54, 53.98, -1.53]\n"
     ]
    },
    {
     "name": "stderr",
     "output_type": "stream",
     "text": [
      "2022-10-29 10:09:10,551 INFO Request is running\n",
      "2022-10-29 10:23:28,719 INFO Request is completed\n",
      "2022-10-29 10:23:28,720 INFO Downloading https://download-0011-clone.copernicus-climate.eu/cache-compute-0011/cache/data6/adaptor.mars.internal-1667035300.8731768-16604-5-aa476cd0-ed41-4fd0-9b96-369ee88a466d.nc to c:\\Users\\sceac10\\OneDrive - Cardiff University\\General\\data\\Harrogate_netcdf_data\\Harrogate_surface_net_solar_radiation_2022.nc (30.9K)\n",
      "2022-10-29 10:23:28,966 INFO Download rate 126.3K/s\n",
      "2022-10-29 10:23:29,058 INFO Welcome to the CDS\n",
      "2022-10-29 10:23:29,059 INFO Sending request to https://cds.climate.copernicus.eu/api/v2/resources/reanalysis-era5-land\n",
      "2022-10-29 10:23:29,171 INFO Request is queued\n"
     ]
    },
    {
     "name": "stdout",
     "output_type": "stream",
     "text": [
      "Richmondshire [54.36, -1.98, 54.35, -1.97]\n"
     ]
    },
    {
     "name": "stderr",
     "output_type": "stream",
     "text": [
      "2022-10-29 10:23:30,229 INFO Request is running\n",
      "2022-10-29 10:37:48,297 INFO Request is completed\n",
      "2022-10-29 10:37:48,298 INFO Downloading https://download-0021.copernicus-climate.eu/cache-compute-0021/cache/data0/adaptor.mars.internal-1667036162.5607793-6738-18-02aa7664-ea30-4789-b793-6af9d9ecbc8f.nc to c:\\Users\\sceac10\\OneDrive - Cardiff University\\General\\data\\Richmondshire_netcdf_data\\Richmondshire_surface_net_solar_radiation_2022.nc (30.9K)\n",
      "2022-10-29 10:37:48,515 INFO Download rate 143.3K/s\n",
      "2022-10-29 10:37:48,601 INFO Welcome to the CDS\n",
      "2022-10-29 10:37:48,602 INFO Sending request to https://cds.climate.copernicus.eu/api/v2/resources/reanalysis-era5-land\n",
      "2022-10-29 10:37:48,650 INFO Request is queued\n"
     ]
    },
    {
     "name": "stdout",
     "output_type": "stream",
     "text": [
      "Ryedale [54.2, -0.86, 54.19, -0.85]\n"
     ]
    },
    {
     "name": "stderr",
     "output_type": "stream",
     "text": [
      "2022-10-29 10:37:49,703 INFO Request is running\n",
      "2022-10-29 10:52:07,800 INFO Request is completed\n",
      "2022-10-29 10:52:07,801 INFO Downloading https://download-0014-clone.copernicus-climate.eu/cache-compute-0014/cache/data3/adaptor.mars.internal-1667037002.7055573-23881-11-175fa741-78ff-4e89-b2a3-68d4f5c5b607.nc to c:\\Users\\sceac10\\OneDrive - Cardiff University\\General\\data\\Ryedale_netcdf_data\\Ryedale_surface_net_solar_radiation_2022.nc (31K)\n",
      "2022-10-29 10:52:08,017 INFO Download rate 144K/s\n",
      "2022-10-29 10:52:08,100 INFO Welcome to the CDS\n",
      "2022-10-29 10:52:08,101 INFO Sending request to https://cds.climate.copernicus.eu/api/v2/resources/reanalysis-era5-land\n",
      "2022-10-29 10:52:08,164 INFO Request is queued\n"
     ]
    },
    {
     "name": "stdout",
     "output_type": "stream",
     "text": [
      "Scarborough [54.28, -0.4, 54.27, -0.39]\n"
     ]
    },
    {
     "name": "stderr",
     "output_type": "stream",
     "text": [
      "2022-10-29 10:52:09,209 INFO Request is running\n",
      "2022-10-29 11:06:27,301 INFO Request is completed\n",
      "2022-10-29 11:06:27,302 INFO Downloading https://download-0014-clone.copernicus-climate.eu/cache-compute-0014/cache/data9/adaptor.mars.internal-1667037883.8920457-24703-15-4e134afd-b660-43cc-85c5-7df4c30a6cc0.nc to c:\\Users\\sceac10\\OneDrive - Cardiff University\\General\\data\\Scarborough_netcdf_data\\Scarborough_surface_net_solar_radiation_2022.nc (31K)\n",
      "2022-10-29 11:06:27,510 INFO Download rate 149.5K/s\n",
      "2022-10-29 11:06:27,602 INFO Welcome to the CDS\n",
      "2022-10-29 11:06:27,602 INFO Sending request to https://cds.climate.copernicus.eu/api/v2/resources/reanalysis-era5-land\n",
      "2022-10-29 11:06:27,670 INFO Request is queued\n"
     ]
    },
    {
     "name": "stdout",
     "output_type": "stream",
     "text": [
      "Selby [53.79, -1.1, 53.78, -1.09]\n"
     ]
    },
    {
     "name": "stderr",
     "output_type": "stream",
     "text": [
      "2022-10-29 11:06:28,730 INFO Request is running\n",
      "2022-10-29 11:20:46,836 INFO Request is completed\n",
      "2022-10-29 11:20:46,837 INFO Downloading https://download-0016.copernicus-climate.eu/cache-compute-0016/cache/data4/adaptor.mars.internal-1667038743.4252713-30908-15-5a15a23a-526e-4524-b230-4e19f8099878.nc to c:\\Users\\sceac10\\OneDrive - Cardiff University\\General\\data\\Selby_netcdf_data\\Selby_surface_net_solar_radiation_2022.nc (31K)\n",
      "2022-10-29 11:20:47,038 INFO Download rate 154K/s\n",
      "2022-10-29 11:20:47,134 INFO Welcome to the CDS\n",
      "2022-10-29 11:20:47,135 INFO Sending request to https://cds.climate.copernicus.eu/api/v2/resources/reanalysis-era5-land\n",
      "2022-10-29 11:20:47,187 INFO Request is queued\n"
     ]
    },
    {
     "name": "stdout",
     "output_type": "stream",
     "text": [
      "Ashfield [-33.89, 151.13, -33.88, 151.12]\n"
     ]
    },
    {
     "name": "stderr",
     "output_type": "stream",
     "text": [
      "2022-10-29 11:20:48,248 INFO Request is running\n",
      "2022-10-29 11:35:06,397 INFO Request is completed\n",
      "2022-10-29 11:35:06,398 INFO Downloading https://download-0002-clone.copernicus-climate.eu/cache-compute-0002/cache/data5/adaptor.mars.internal-1667039616.9278674-26733-17-f2ae72ae-80c1-4b05-85c7-4e482acf5861.nc to c:\\Users\\sceac10\\OneDrive - Cardiff University\\General\\data\\Ashfield_netcdf_data\\Ashfield_surface_net_solar_radiation_2022.nc (35M)\n",
      "2022-10-29 11:35:11,630 INFO Download rate 6.7M/s   \n",
      "2022-10-29 11:35:11,715 INFO Welcome to the CDS\n",
      "2022-10-29 11:35:11,715 INFO Sending request to https://cds.climate.copernicus.eu/api/v2/resources/reanalysis-era5-land\n",
      "2022-10-29 11:35:11,761 INFO Request is queued\n"
     ]
    },
    {
     "name": "stdout",
     "output_type": "stream",
     "text": [
      "Bassetlaw [53.35, -0.96, 53.34, -0.95]\n"
     ]
    },
    {
     "name": "stderr",
     "output_type": "stream",
     "text": [
      "2022-10-29 11:35:12,819 INFO Request is running\n",
      "2022-10-29 11:47:30,710 INFO Request is completed\n",
      "2022-10-29 11:47:30,711 INFO Downloading https://download-0012-clone.copernicus-climate.eu/cache-compute-0012/cache/data7/adaptor.mars.internal-1667040414.1810284-4698-3-dd7eb0de-d698-4aef-950f-28d68e1dc0d9.nc to c:\\Users\\sceac10\\OneDrive - Cardiff University\\General\\data\\Bassetlaw_netcdf_data\\Bassetlaw_surface_net_solar_radiation_2022.nc (30.9K)\n",
      "2022-10-29 11:47:30,909 INFO Download rate 157.1K/s\n",
      "2022-10-29 11:47:30,999 INFO Welcome to the CDS\n",
      "2022-10-29 11:47:31,001 INFO Sending request to https://cds.climate.copernicus.eu/api/v2/resources/reanalysis-era5-land\n",
      "2022-10-29 11:47:31,069 INFO Request is queued\n"
     ]
    },
    {
     "name": "stdout",
     "output_type": "stream",
     "text": [
      "Broxtowe [52.98, -1.22, 52.97, -1.21]\n"
     ]
    },
    {
     "name": "stderr",
     "output_type": "stream",
     "text": [
      "2022-10-29 11:47:32,121 INFO Request is running\n",
      "2022-10-29 12:01:50,214 INFO Request is completed\n",
      "2022-10-29 12:01:50,214 INFO Downloading https://download-0017.copernicus-climate.eu/cache-compute-0017/cache/data4/adaptor.mars.internal-1667041190.6130981-28225-2-2c7bdea9-cdef-4a13-b635-a085f20591ef.nc to c:\\Users\\sceac10\\OneDrive - Cardiff University\\General\\data\\Broxtowe_netcdf_data\\Broxtowe_surface_net_solar_radiation_2022.nc (30.9K)\n",
      "2022-10-29 12:01:50,477 INFO Download rate 118.1K/s\n",
      "2022-10-29 12:01:50,574 INFO Welcome to the CDS\n",
      "2022-10-29 12:01:50,575 INFO Sending request to https://cds.climate.copernicus.eu/api/v2/resources/reanalysis-era5-land\n",
      "2022-10-29 12:01:50,627 INFO Request is queued\n"
     ]
    },
    {
     "name": "stdout",
     "output_type": "stream",
     "text": [
      "Gedling [53.03, -1.11, 53.02, -1.1]\n"
     ]
    },
    {
     "name": "stderr",
     "output_type": "stream",
     "text": [
      "2022-10-29 12:01:51,677 INFO Request is running\n",
      "2022-10-29 12:16:09,818 INFO Request is completed\n",
      "2022-10-29 12:16:09,818 INFO Downloading https://download-0004-clone.copernicus-climate.eu/cache-compute-0004/cache/data3/adaptor.mars.internal-1667042052.349651-32136-2-fe3aeabc-c0b1-4f8d-904e-393a0bf03415.nc to c:\\Users\\sceac10\\OneDrive - Cardiff University\\General\\data\\Gedling_netcdf_data\\Gedling_surface_net_solar_radiation_2022.nc (30.9K)\n",
      "2022-10-29 12:16:10,050 INFO Download rate 134K/s\n",
      "2022-10-29 12:16:10,133 INFO Welcome to the CDS\n",
      "2022-10-29 12:16:10,134 INFO Sending request to https://cds.climate.copernicus.eu/api/v2/resources/reanalysis-era5-land\n",
      "2022-10-29 12:16:10,189 INFO Request is queued\n"
     ]
    },
    {
     "name": "stdout",
     "output_type": "stream",
     "text": [
      "Mansfield [40.76, -82.52, 40.75, -82.51]\n"
     ]
    },
    {
     "name": "stderr",
     "output_type": "stream",
     "text": [
      "2022-10-29 12:16:11,242 INFO Request is running\n",
      "2022-10-29 12:34:29,715 INFO Request is completed\n",
      "2022-10-29 12:34:29,716 INFO Downloading https://download-0009-clone.copernicus-climate.eu/cache-compute-0009/cache/data2/adaptor.mars.internal-1667043131.1499128-587-3-6cd9d157-4aea-49da-81e0-eb3ac6c59ed9.nc to c:\\Users\\sceac10\\OneDrive - Cardiff University\\General\\data\\Mansfield_netcdf_data\\Mansfield_surface_net_solar_radiation_2022.nc (30.9K)\n",
      "2022-10-29 12:34:29,945 INFO Download rate 135.7K/s\n",
      "2022-10-29 12:34:30,039 INFO Welcome to the CDS\n",
      "2022-10-29 12:34:30,039 INFO Sending request to https://cds.climate.copernicus.eu/api/v2/resources/reanalysis-era5-land\n",
      "2022-10-29 12:34:30,091 INFO Request is queued\n"
     ]
    },
    {
     "name": "stdout",
     "output_type": "stream",
     "text": [
      "Newark and Sherwood [53.11, -0.94, 53.1, -0.93]\n"
     ]
    },
    {
     "name": "stderr",
     "output_type": "stream",
     "text": [
      "2022-10-29 12:34:31,142 INFO Request is running\n",
      "2022-10-29 13:04:50,754 INFO Request is completed\n",
      "2022-10-29 13:04:50,755 INFO Downloading https://download-0011-clone.copernicus-climate.eu/cache-compute-0011/cache/data5/adaptor.mars.internal-1667045067.6882198-31770-1-d4ce0b92-f861-4c34-9cb7-47c27a3993c4.nc to c:\\Users\\sceac10\\OneDrive - Cardiff University\\General\\data\\Newark and Sherwood_netcdf_data\\Newark and Sherwood_surface_net_solar_radiation_2022.nc (30.9K)\n",
      "2022-10-29 13:04:50,986 INFO Download rate 134.6K/s\n",
      "2022-10-29 13:04:51,077 INFO Welcome to the CDS\n",
      "2022-10-29 13:04:51,078 INFO Sending request to https://cds.climate.copernicus.eu/api/v2/resources/reanalysis-era5-land\n",
      "2022-10-29 13:04:51,128 INFO Request is queued\n"
     ]
    },
    {
     "name": "stdout",
     "output_type": "stream",
     "text": [
      "Rushcliffe [52.91, -1.01, 52.9, -1.0]\n"
     ]
    },
    {
     "name": "stderr",
     "output_type": "stream",
     "text": [
      "2022-10-29 13:04:52,182 INFO Request is running\n",
      "2022-10-29 13:17:10,092 INFO Request is completed\n",
      "2022-10-29 13:17:10,093 INFO Downloading https://download-0019.copernicus-climate.eu/cache-compute-0019/cache/data1/adaptor.mars.internal-1667045795.7269642-9516-13-a0d83e86-4fa9-41a8-a248-ced57edc3fe3.nc to c:\\Users\\sceac10\\OneDrive - Cardiff University\\General\\data\\Rushcliffe_netcdf_data\\Rushcliffe_surface_net_solar_radiation_2022.nc (30.9K)\n",
      "2022-10-29 13:17:10,309 INFO Download rate 144K/s\n",
      "2022-10-29 13:17:10,397 INFO Welcome to the CDS\n",
      "2022-10-29 13:17:10,398 INFO Sending request to https://cds.climate.copernicus.eu/api/v2/resources/reanalysis-era5-land\n",
      "2022-10-29 13:17:10,446 INFO Request is queued\n"
     ]
    },
    {
     "name": "stdout",
     "output_type": "stream",
     "text": [
      "Cherwell [51.97, -1.23, 51.96, -1.22]\n"
     ]
    },
    {
     "name": "stderr",
     "output_type": "stream",
     "text": [
      "2022-10-29 13:17:11,490 INFO Request is running\n",
      "2022-10-29 13:31:29,638 INFO Request is completed\n",
      "2022-10-29 13:31:29,639 INFO Downloading https://download-0003-clone.copernicus-climate.eu/cache-compute-0003/cache/data7/adaptor.mars.internal-1667046581.8985722-4380-12-395e3a44-ee76-49f4-b986-b6e595ebc63c.nc to c:\\Users\\sceac10\\OneDrive - Cardiff University\\General\\data\\Cherwell_netcdf_data\\Cherwell_surface_net_solar_radiation_2022.nc (30.9K)\n",
      "2022-10-29 13:31:29,858 INFO Download rate 142.1K/s\n",
      "2022-10-29 13:31:29,948 INFO Welcome to the CDS\n",
      "2022-10-29 13:31:29,948 INFO Sending request to https://cds.climate.copernicus.eu/api/v2/resources/reanalysis-era5-land\n",
      "2022-10-29 13:31:30,000 INFO Request is queued\n"
     ]
    },
    {
     "name": "stdout",
     "output_type": "stream",
     "text": [
      "Oxford [51.75, -1.26, 51.74, -1.25]\n"
     ]
    },
    {
     "name": "stderr",
     "output_type": "stream",
     "text": [
      "2022-10-29 13:31:31,047 INFO Request is running\n",
      "2022-10-29 13:45:49,209 INFO Request is completed\n",
      "2022-10-29 13:45:49,210 INFO Downloading https://download-0009-clone.copernicus-climate.eu/cache-compute-0009/cache/data8/adaptor.mars.internal-1667047449.383619-12418-11-67f71387-c0c5-4dd7-bca7-4ca838bea196.nc to c:\\Users\\sceac10\\OneDrive - Cardiff University\\General\\data\\Oxford_netcdf_data\\Oxford_surface_net_solar_radiation_2022.nc (30.9K)\n",
      "2022-10-29 13:45:49,429 INFO Download rate 141.3K/s\n",
      "2022-10-29 13:45:49,521 INFO Welcome to the CDS\n",
      "2022-10-29 13:45:49,522 INFO Sending request to https://cds.climate.copernicus.eu/api/v2/resources/reanalysis-era5-land\n",
      "2022-10-29 13:45:49,570 INFO Request is queued\n"
     ]
    },
    {
     "name": "stdout",
     "output_type": "stream",
     "text": [
      "South Oxfordshire [51.64, -1.08, 51.63, -1.07]\n"
     ]
    },
    {
     "name": "stderr",
     "output_type": "stream",
     "text": [
      "2022-10-29 13:45:50,631 INFO Request is running\n",
      "2022-10-29 13:58:08,553 INFO Request is completed\n",
      "2022-10-29 13:58:08,554 INFO Downloading https://download-0015-clone.copernicus-climate.eu/cache-compute-0015/cache/data4/adaptor.mars.internal-1667048272.9083438-6011-8-7f542665-cae9-4ed9-8d6c-69417b9da285.nc to c:\\Users\\sceac10\\OneDrive - Cardiff University\\General\\data\\South Oxfordshire_netcdf_data\\South Oxfordshire_surface_net_solar_radiation_2022.nc (30.9K)\n",
      "2022-10-29 13:58:08,751 INFO Download rate 156.9K/s\n",
      "2022-10-29 13:58:08,838 INFO Welcome to the CDS\n",
      "2022-10-29 13:58:08,839 INFO Sending request to https://cds.climate.copernicus.eu/api/v2/resources/reanalysis-era5-land\n",
      "2022-10-29 13:58:08,914 INFO Request is queued\n"
     ]
    },
    {
     "name": "stdout",
     "output_type": "stream",
     "text": [
      "Vale of White Horse [51.65, -1.49, 51.64, -1.48]\n"
     ]
    },
    {
     "name": "stderr",
     "output_type": "stream",
     "text": [
      "2022-10-29 13:58:09,966 INFO Request is running\n",
      "2022-10-29 14:12:28,089 INFO Request is completed\n",
      "2022-10-29 14:12:28,090 INFO Downloading https://download-0011-clone.copernicus-climate.eu/cache-compute-0011/cache/data7/adaptor.mars.internal-1667049040.2080243-21443-3-8a8a5e9c-b1dd-4012-b12c-0cf8928b4b9f.nc to c:\\Users\\sceac10\\OneDrive - Cardiff University\\General\\data\\Vale of White Horse_netcdf_data\\Vale of White Horse_surface_net_solar_radiation_2022.nc (30.9K)\n",
      "2022-10-29 14:12:28,309 INFO Download rate 141.3K/s\n",
      "2022-10-29 14:12:28,403 INFO Welcome to the CDS\n",
      "2022-10-29 14:12:28,404 INFO Sending request to https://cds.climate.copernicus.eu/api/v2/resources/reanalysis-era5-land\n",
      "2022-10-29 14:12:28,457 INFO Request is queued\n"
     ]
    },
    {
     "name": "stdout",
     "output_type": "stream",
     "text": [
      "West Oxfordshire [51.84, -1.51, 51.83, -1.5]\n"
     ]
    },
    {
     "name": "stderr",
     "output_type": "stream",
     "text": [
      "2022-10-29 14:12:29,515 INFO Request is running\n",
      "2022-10-29 14:26:47,664 INFO Request is completed\n",
      "2022-10-29 14:26:47,665 INFO Downloading https://download-0009-clone.copernicus-climate.eu/cache-compute-0009/cache/data7/adaptor.mars.internal-1667049896.5489497-22222-15-56cbcfb4-fd0d-40c7-b2c0-95a2e8674321.nc to c:\\Users\\sceac10\\OneDrive - Cardiff University\\General\\data\\West Oxfordshire_netcdf_data\\West Oxfordshire_surface_net_solar_radiation_2022.nc (31K)\n",
      "2022-10-29 14:26:47,861 INFO Download rate 158.7K/s\n",
      "2022-10-29 14:26:47,966 INFO Welcome to the CDS\n",
      "2022-10-29 14:26:47,968 INFO Sending request to https://cds.climate.copernicus.eu/api/v2/resources/reanalysis-era5-land\n",
      "2022-10-29 14:26:48,018 INFO Request is queued\n"
     ]
    },
    {
     "name": "stdout",
     "output_type": "stream",
     "text": [
      "Shropshire [52.65, -2.64, 52.64, -2.63]\n"
     ]
    },
    {
     "name": "stderr",
     "output_type": "stream",
     "text": [
      "2022-10-29 14:26:49,067 INFO Request is running\n",
      "2022-10-29 14:41:07,198 INFO Request is completed\n",
      "2022-10-29 14:41:07,199 INFO Downloading https://download-0009-clone.copernicus-climate.eu/cache-compute-0009/cache/data3/adaptor.mars.internal-1667050768.1437364-13365-14-509dfde2-8a21-4aba-bd9c-2430300a3f2c.nc to c:\\Users\\sceac10\\OneDrive - Cardiff University\\General\\data\\Shropshire_netcdf_data\\Shropshire_surface_net_solar_radiation_2022.nc (31K)\n",
      "2022-10-29 14:41:07,398 INFO Download rate 156.3K/s\n",
      "2022-10-29 14:41:07,499 INFO Welcome to the CDS\n",
      "2022-10-29 14:41:07,500 INFO Sending request to https://cds.climate.copernicus.eu/api/v2/resources/reanalysis-era5-land\n",
      "2022-10-29 14:41:07,559 INFO Request is queued\n"
     ]
    },
    {
     "name": "stdout",
     "output_type": "stream",
     "text": [
      "Mendip [51.19, -2.54, 51.18, -2.53]\n"
     ]
    },
    {
     "name": "stderr",
     "output_type": "stream",
     "text": [
      "2022-10-29 14:41:08,620 INFO Request is running\n",
      "2022-10-29 14:55:26,799 INFO Request is completed\n",
      "2022-10-29 14:55:26,800 INFO Downloading https://download-0008-clone.copernicus-climate.eu/cache-compute-0008/cache/data5/adaptor.mars.internal-1667051611.252405-8692-13-39a54dcd-cd5e-45e8-895b-9e7e75d72c5d.nc to c:\\Users\\sceac10\\OneDrive - Cardiff University\\General\\data\\Mendip_netcdf_data\\Mendip_surface_net_solar_radiation_2022.nc (30.9K)\n",
      "2022-10-29 14:55:27,032 INFO Download rate 134K/s\n",
      "2022-10-29 14:55:27,121 INFO Welcome to the CDS\n",
      "2022-10-29 14:55:27,122 INFO Sending request to https://cds.climate.copernicus.eu/api/v2/resources/reanalysis-era5-land\n",
      "2022-10-29 14:55:27,185 INFO Request is queued\n"
     ]
    },
    {
     "name": "stdout",
     "output_type": "stream",
     "text": [
      "Sedgemoor [51.19, -2.97, 51.18, -2.96]\n"
     ]
    },
    {
     "name": "stderr",
     "output_type": "stream",
     "text": [
      "2022-10-29 14:55:28,234 INFO Request is running\n",
      "2022-10-29 15:09:46,410 INFO Request is completed\n",
      "2022-10-29 15:09:46,411 INFO Downloading https://download-0014-clone.copernicus-climate.eu/cache-compute-0014/cache/data0/adaptor.mars.internal-1667052463.0973833-26300-14-fee81a87-d1c0-4529-a1bc-306d48206ad7.nc to c:\\Users\\sceac10\\OneDrive - Cardiff University\\General\\data\\Sedgemoor_netcdf_data\\Sedgemoor_surface_net_solar_radiation_2022.nc (30.9K)\n",
      "2022-10-29 15:09:46,608 INFO Download rate 157.1K/s\n",
      "2022-10-29 15:09:46,703 INFO Welcome to the CDS\n",
      "2022-10-29 15:09:46,704 INFO Sending request to https://cds.climate.copernicus.eu/api/v2/resources/reanalysis-era5-land\n",
      "2022-10-29 15:09:46,754 INFO Request is queued\n"
     ]
    },
    {
     "name": "stdout",
     "output_type": "stream",
     "text": [
      "South Somerset [50.98, -2.78, 50.97, -2.77]\n"
     ]
    },
    {
     "name": "stderr",
     "output_type": "stream",
     "text": [
      "2022-10-29 15:09:47,802 INFO Request is running\n",
      "2022-10-29 15:24:05,925 INFO Request is completed\n",
      "2022-10-29 15:24:05,926 INFO Downloading https://download-0001-clone.copernicus-climate.eu/cache-compute-0001/cache/data6/adaptor.mars.internal-1667053330.3149529-1041-18-d364c81c-38c8-470f-bf31-3fa07341ff65.nc to c:\\Users\\sceac10\\OneDrive - Cardiff University\\General\\data\\South Somerset_netcdf_data\\South Somerset_surface_net_solar_radiation_2022.nc (30.9K)\n",
      "2022-10-29 15:24:06,141 INFO Download rate 144.6K/s\n",
      "2022-10-29 15:24:06,231 INFO Welcome to the CDS\n",
      "2022-10-29 15:24:06,232 INFO Sending request to https://cds.climate.copernicus.eu/api/v2/resources/reanalysis-era5-land\n",
      "2022-10-29 15:24:06,299 INFO Request is queued\n"
     ]
    },
    {
     "name": "stdout",
     "output_type": "stream",
     "text": [
      "Taunton Deane [51.0, -3.16, 50.99, -3.15]\n"
     ]
    },
    {
     "name": "stderr",
     "output_type": "stream",
     "text": [
      "2022-10-29 15:24:07,354 INFO Request is running\n",
      "2022-10-29 15:38:25,479 INFO Request is completed\n",
      "2022-10-29 15:38:25,480 INFO Downloading https://download-0021.copernicus-climate.eu/cache-compute-0021/cache/data5/adaptor.mars.internal-1667054197.2429237-9985-16-949733c0-7a4b-406c-b42a-bc99deb4a080.nc to c:\\Users\\sceac10\\OneDrive - Cardiff University\\General\\data\\Taunton Deane_netcdf_data\\Taunton Deane_surface_net_solar_radiation_2022.nc (30.9K)\n",
      "2022-10-29 15:38:25,715 INFO Download rate 132.3K/s\n",
      "2022-10-29 15:38:25,800 INFO Welcome to the CDS\n",
      "2022-10-29 15:38:25,801 INFO Sending request to https://cds.climate.copernicus.eu/api/v2/resources/reanalysis-era5-land\n",
      "2022-10-29 15:38:25,848 INFO Request is queued\n"
     ]
    },
    {
     "name": "stdout",
     "output_type": "stream",
     "text": [
      "West Somerset [51.12, -3.5, 51.11, -3.49]\n"
     ]
    },
    {
     "name": "stderr",
     "output_type": "stream",
     "text": [
      "2022-10-29 15:38:26,904 INFO Request is running\n",
      "2022-10-29 15:56:45,398 INFO Request is completed\n",
      "2022-10-29 15:56:45,399 INFO Downloading https://download-0015-clone.copernicus-climate.eu/cache-compute-0015/cache/data3/adaptor.mars.internal-1667055272.4813626-17715-2-81cb4f2d-4acf-4d3f-8985-0150ba368dac.nc to c:\\Users\\sceac10\\OneDrive - Cardiff University\\General\\data\\West Somerset_netcdf_data\\West Somerset_surface_net_solar_radiation_2022.nc (30.9K)\n",
      "2022-10-29 15:56:45,643 INFO Download rate 127.4K/s\n",
      "2022-10-29 15:56:45,735 INFO Welcome to the CDS\n",
      "2022-10-29 15:56:45,736 INFO Sending request to https://cds.climate.copernicus.eu/api/v2/resources/reanalysis-era5-land\n",
      "2022-10-29 15:56:45,788 INFO Request is queued\n"
     ]
    },
    {
     "name": "stdout",
     "output_type": "stream",
     "text": [
      "Cannock Chase [52.71, -1.98, 52.7, -1.97]\n"
     ]
    },
    {
     "name": "stderr",
     "output_type": "stream",
     "text": [
      "2022-10-29 15:56:46,845 INFO Request is running\n",
      "2022-10-29 16:11:04,911 INFO Request is completed\n",
      "2022-10-29 16:11:04,912 INFO Downloading https://download-0006-clone.copernicus-climate.eu/cache-compute-0006/cache/data4/adaptor.mars.internal-1667056141.453033-24977-12-a9b2bf73-b38b-430d-acd2-e70ba9e1e673.nc to c:\\Users\\sceac10\\OneDrive - Cardiff University\\General\\data\\Cannock Chase_netcdf_data\\Cannock Chase_surface_net_solar_radiation_2022.nc (30.9K)\n",
      "2022-10-29 16:11:05,168 INFO Download rate 121.4K/s\n",
      "2022-10-29 16:11:05,251 INFO Welcome to the CDS\n",
      "2022-10-29 16:11:05,252 INFO Sending request to https://cds.climate.copernicus.eu/api/v2/resources/reanalysis-era5-land\n",
      "2022-10-29 16:11:05,300 INFO Request is queued\n"
     ]
    },
    {
     "name": "stdout",
     "output_type": "stream",
     "text": [
      "East Staffordshire [52.89, -1.9, 52.88, -1.89]\n"
     ]
    },
    {
     "name": "stderr",
     "output_type": "stream",
     "text": [
      "2022-10-29 16:11:06,344 INFO Request is running\n",
      "2022-10-29 16:29:24,776 INFO Request is completed\n",
      "2022-10-29 16:29:24,778 INFO Downloading https://download-0004-clone.copernicus-climate.eu/cache-compute-0004/cache/data2/adaptor.mars.internal-1667057218.1180458-32521-2-ed1a93a9-cabe-4311-ba08-1ca5b5f23038.nc to c:\\Users\\sceac10\\OneDrive - Cardiff University\\General\\data\\East Staffordshire_netcdf_data\\East Staffordshire_surface_net_solar_radiation_2022.nc (30.9K)\n",
      "2022-10-29 16:29:25,003 INFO Download rate 137.6K/s\n",
      "2022-10-29 16:29:25,088 INFO Welcome to the CDS\n",
      "2022-10-29 16:29:25,089 INFO Sending request to https://cds.climate.copernicus.eu/api/v2/resources/reanalysis-era5-land\n",
      "2022-10-29 16:29:25,168 INFO Request is queued\n"
     ]
    },
    {
     "name": "stdout",
     "output_type": "stream",
     "text": [
      "Lichfield [52.68, -1.82, 52.67, -1.81]\n"
     ]
    },
    {
     "name": "stderr",
     "output_type": "stream",
     "text": [
      "2022-10-29 16:29:26,217 INFO Request is running\n",
      "2022-10-29 16:43:44,366 INFO Request is completed\n",
      "2022-10-29 16:43:44,367 INFO Downloading https://download-0009-clone.copernicus-climate.eu/cache-compute-0009/cache/data4/adaptor.mars.internal-1667058101.2808273-29625-1-24a3e130-cc2b-4d85-9026-a359b4b6994a.nc to c:\\Users\\sceac10\\OneDrive - Cardiff University\\General\\data\\Lichfield_netcdf_data\\Lichfield_surface_net_solar_radiation_2022.nc (30.9K)\n",
      "2022-10-29 16:43:44,593 INFO Download rate 137.6K/s\n",
      "2022-10-29 16:43:44,679 INFO Welcome to the CDS\n",
      "2022-10-29 16:43:44,679 INFO Sending request to https://cds.climate.copernicus.eu/api/v2/resources/reanalysis-era5-land\n"
     ]
    },
    {
     "name": "stdout",
     "output_type": "stream",
     "text": [
      "Newcastle-under-Lyme [53.01, -2.23, 53.0, -2.22]\n"
     ]
    },
    {
     "name": "stderr",
     "output_type": "stream",
     "text": [
      "2022-10-29 16:43:44,845 INFO Request is queued\n",
      "2022-10-29 16:43:45,890 INFO Request is running\n",
      "2022-10-29 16:58:04,072 INFO Request is completed\n",
      "2022-10-29 16:58:04,072 INFO Downloading https://download-0008-clone.copernicus-climate.eu/cache-compute-0008/cache/data7/adaptor.mars.internal-1667058960.6456623-32442-8-63f51444-bb2b-47e6-9803-d2bfedf7b8a6.nc to c:\\Users\\sceac10\\OneDrive - Cardiff University\\General\\data\\Newcastle-under-Lyme_netcdf_data\\Newcastle-under-Lyme_surface_net_solar_radiation_2022.nc (30.9K)\n",
      "2022-10-29 16:58:04,305 INFO Download rate 133.4K/s\n",
      "2022-10-29 16:58:04,401 INFO Welcome to the CDS\n",
      "2022-10-29 16:58:04,402 INFO Sending request to https://cds.climate.copernicus.eu/api/v2/resources/reanalysis-era5-land\n",
      "2022-10-29 16:58:04,471 INFO Request is queued\n"
     ]
    },
    {
     "name": "stdout",
     "output_type": "stream",
     "text": [
      "South Staffordshire [52.6, -2.26, 52.59, -2.25]\n"
     ]
    },
    {
     "name": "stderr",
     "output_type": "stream",
     "text": [
      "2022-10-29 16:58:05,530 INFO Request is running\n",
      "2022-10-29 17:12:23,737 INFO Request is completed\n",
      "2022-10-29 17:12:23,738 INFO Downloading https://download-0015-clone.copernicus-climate.eu/cache-compute-0015/cache/data0/adaptor.mars.internal-1667059844.31235-25264-16-68d3505e-fb67-4e9d-8408-42738db792a0.nc to c:\\Users\\sceac10\\OneDrive - Cardiff University\\General\\data\\South Staffordshire_netcdf_data\\South Staffordshire_surface_net_solar_radiation_2022.nc (30.9K)\n",
      "2022-10-29 17:12:23,960 INFO Download rate 139.7K/s\n",
      "2022-10-29 17:12:24,056 INFO Welcome to the CDS\n",
      "2022-10-29 17:12:24,057 INFO Sending request to https://cds.climate.copernicus.eu/api/v2/resources/reanalysis-era5-land\n",
      "2022-10-29 17:12:24,131 INFO Request is queued\n"
     ]
    },
    {
     "name": "stdout",
     "output_type": "stream",
     "text": [
      "Stafford [52.81, -2.12, 52.8, -2.11]\n"
     ]
    },
    {
     "name": "stderr",
     "output_type": "stream",
     "text": [
      "2022-10-29 17:12:25,186 INFO Request is running\n",
      "2022-10-29 17:26:43,384 INFO Request is completed\n",
      "2022-10-29 17:26:43,385 INFO Downloading https://download-0004-clone.copernicus-climate.eu/cache-compute-0004/cache/data8/adaptor.mars.internal-1667060692.1910079-5072-12-02d2a806-985c-4075-bbbc-2783456bd16c.nc to c:\\Users\\sceac10\\OneDrive - Cardiff University\\General\\data\\Stafford_netcdf_data\\Stafford_surface_net_solar_radiation_2022.nc (30.9K)\n",
      "2022-10-29 17:26:43,625 INFO Download rate 129.5K/s\n",
      "2022-10-29 17:26:43,717 INFO Welcome to the CDS\n",
      "2022-10-29 17:26:43,718 INFO Sending request to https://cds.climate.copernicus.eu/api/v2/resources/reanalysis-era5-land\n",
      "2022-10-29 17:26:43,769 INFO Request is queued\n"
     ]
    },
    {
     "name": "stdout",
     "output_type": "stream",
     "text": [
      "Staffordshire Moorlands [53.07, -1.97, 53.06, -1.96]\n"
     ]
    },
    {
     "name": "stderr",
     "output_type": "stream",
     "text": [
      "2022-10-29 17:26:44,815 INFO Request is running\n",
      "2022-10-29 17:41:03,116 INFO Request is completed\n",
      "2022-10-29 17:41:03,117 INFO Downloading https://download-0015-clone.copernicus-climate.eu/cache-compute-0015/cache/data7/adaptor.mars.internal-1667061540.7566836-29411-10-9da0564c-70e0-4c7b-bce7-8242ec0ff5d8.nc to c:\\Users\\sceac10\\OneDrive - Cardiff University\\General\\data\\Staffordshire Moorlands_netcdf_data\\Staffordshire Moorlands_surface_net_solar_radiation_2022.nc (31K)\n",
      "2022-10-29 17:41:03,371 INFO Download rate 121.9K/s\n",
      "2022-10-29 17:41:03,470 INFO Welcome to the CDS\n",
      "2022-10-29 17:41:03,471 INFO Sending request to https://cds.climate.copernicus.eu/api/v2/resources/reanalysis-era5-land\n",
      "2022-10-29 17:41:03,537 INFO Request is queued\n"
     ]
    },
    {
     "name": "stdout",
     "output_type": "stream",
     "text": [
      "Tamworth [-31.09, 150.93, -31.08, 150.92]\n"
     ]
    },
    {
     "name": "stderr",
     "output_type": "stream",
     "text": [
      "2022-10-29 17:41:04,598 INFO Request is running\n",
      "2022-10-29 17:55:22,806 INFO Request is completed\n",
      "2022-10-29 17:55:22,807 INFO Downloading https://download-0002-clone.copernicus-climate.eu/cache-compute-0002/cache/data2/adaptor.mars.internal-1667062407.413505-23340-9-ae274551-f1ba-4009-a46f-14e69ce28f82.nc to c:\\Users\\sceac10\\OneDrive - Cardiff University\\General\\data\\Tamworth_netcdf_data\\Tamworth_surface_net_solar_radiation_2022.nc (35M)\n",
      "2022-10-29 17:55:28,808 INFO Download rate 5.8M/s   \n",
      "2022-10-29 17:55:28,894 INFO Welcome to the CDS\n",
      "2022-10-29 17:55:28,895 INFO Sending request to https://cds.climate.copernicus.eu/api/v2/resources/reanalysis-era5-land\n",
      "2022-10-29 17:55:28,997 INFO Request is queued\n"
     ]
    },
    {
     "name": "stdout",
     "output_type": "stream",
     "text": [
      "Babergh [52.06, 0.91, 52.05, 0.9]\n"
     ]
    },
    {
     "name": "stderr",
     "output_type": "stream",
     "text": [
      "2022-10-29 17:55:30,049 INFO Request is running\n",
      "2022-10-29 18:07:48,025 INFO Request is completed\n",
      "2022-10-29 18:07:48,026 INFO Downloading https://download-0018.copernicus-climate.eu/cache-compute-0018/cache/data3/adaptor.mars.internal-1667063245.133648-7184-6-b7c3c587-40f3-408f-ab7f-fc733b8d903e.nc to c:\\Users\\sceac10\\OneDrive - Cardiff University\\General\\data\\Babergh_netcdf_data\\Babergh_surface_net_solar_radiation_2022.nc (35M)\n",
      "2022-10-29 18:07:52,104 INFO Download rate 8.6M/s   \n",
      "2022-10-29 18:07:52,209 INFO Welcome to the CDS\n",
      "2022-10-29 18:07:52,210 INFO Sending request to https://cds.climate.copernicus.eu/api/v2/resources/reanalysis-era5-land\n",
      "2022-10-29 18:07:52,264 INFO Request is queued\n"
     ]
    },
    {
     "name": "stdout",
     "output_type": "stream",
     "text": [
      "Forest Heath [52.33, 0.54, 52.32, 0.53]\n"
     ]
    },
    {
     "name": "stderr",
     "output_type": "stream",
     "text": [
      "2022-10-29 18:07:53,321 INFO Request is running\n",
      "2022-10-29 18:20:11,330 INFO Request is completed\n",
      "2022-10-29 18:20:11,331 INFO Downloading https://download-0007-clone.copernicus-climate.eu/cache-compute-0007/cache/data1/adaptor.mars.internal-1667063988.4317224-30452-3-03a1eed1-339a-4caa-b06d-232ca36476f8.nc to c:\\Users\\sceac10\\OneDrive - Cardiff University\\General\\data\\Forest Heath_netcdf_data\\Forest Heath_surface_net_solar_radiation_2022.nc (35M)\n",
      "2022-10-29 18:20:20,828 INFO Download rate 3.7M/s   \n",
      "2022-10-29 18:20:20,931 INFO Welcome to the CDS\n",
      "2022-10-29 18:20:20,932 INFO Sending request to https://cds.climate.copernicus.eu/api/v2/resources/reanalysis-era5-land\n",
      "2022-10-29 18:20:21,009 INFO Request is queued\n"
     ]
    },
    {
     "name": "stdout",
     "output_type": "stream",
     "text": [
      "Ipswich [52.06, 1.15, 52.05, 1.14]\n"
     ]
    },
    {
     "name": "stderr",
     "output_type": "stream",
     "text": [
      "2022-10-29 18:20:22,057 INFO Request is running\n",
      "2022-10-29 18:34:40,257 INFO Request is completed\n",
      "2022-10-29 18:34:40,258 INFO Downloading https://download-0008-clone.copernicus-climate.eu/cache-compute-0008/cache/data6/adaptor.mars.internal-1667064762.5424662-6628-5-7f6a0970-4bd3-4e36-99dc-33e99c5a2a18.nc to c:\\Users\\sceac10\\OneDrive - Cardiff University\\General\\data\\Ipswich_netcdf_data\\Ipswich_surface_net_solar_radiation_2022.nc (35M)\n",
      "2022-10-29 18:34:46,426 INFO Download rate 5.7M/s   \n",
      "2022-10-29 18:34:46,527 INFO Welcome to the CDS\n",
      "2022-10-29 18:34:46,528 INFO Sending request to https://cds.climate.copernicus.eu/api/v2/resources/reanalysis-era5-land\n",
      "2022-10-29 18:34:46,584 INFO Request is queued\n"
     ]
    },
    {
     "name": "stdout",
     "output_type": "stream",
     "text": [
      "Mid Suffolk [52.23, 1.05, 52.22, 1.04]\n"
     ]
    },
    {
     "name": "stderr",
     "output_type": "stream",
     "text": [
      "2022-10-29 18:34:47,649 INFO Request is running\n",
      "2022-10-29 19:03:07,348 INFO Request is completed\n",
      "2022-10-29 19:03:07,349 INFO Downloading https://download-0013-clone.copernicus-climate.eu/cache-compute-0013/cache/data0/adaptor.mars.internal-1667066540.3401525-13157-1-f2d3e058-361f-4442-b209-1f9d3b44ecb3.nc to c:\\Users\\sceac10\\OneDrive - Cardiff University\\General\\data\\Mid Suffolk_netcdf_data\\Mid Suffolk_surface_net_solar_radiation_2022.nc (35M)\n",
      "2022-10-29 19:03:16,371 INFO Download rate 3.9M/s   \n",
      "2022-10-29 19:03:16,456 INFO Welcome to the CDS\n",
      "2022-10-29 19:03:16,457 INFO Sending request to https://cds.climate.copernicus.eu/api/v2/resources/reanalysis-era5-land\n",
      "2022-10-29 19:03:16,532 INFO Request is queued\n"
     ]
    },
    {
     "name": "stdout",
     "output_type": "stream",
     "text": [
      "St Edmundsbury [52.23, 0.69, 52.22, 0.68]\n"
     ]
    },
    {
     "name": "stderr",
     "output_type": "stream",
     "text": [
      "2022-10-29 19:03:17,585 INFO Request is running\n",
      "2022-10-29 19:19:35,936 INFO Request is completed\n",
      "2022-10-29 19:19:35,937 INFO Downloading https://download-0001-clone.copernicus-climate.eu/cache-compute-0001/cache/data7/adaptor.mars.internal-1667067462.2702203-18357-13-510ad1ba-fb01-4f84-bddd-6bf1279e2aee.nc to c:\\Users\\sceac10\\OneDrive - Cardiff University\\General\\data\\St Edmundsbury_netcdf_data\\St Edmundsbury_surface_net_solar_radiation_2022.nc (35M)\n",
      "2022-10-29 19:19:43,611 INFO Download rate 4.6M/s   \n",
      "2022-10-29 19:19:43,709 INFO Welcome to the CDS\n",
      "2022-10-29 19:19:43,710 INFO Sending request to https://cds.climate.copernicus.eu/api/v2/resources/reanalysis-era5-land\n",
      "2022-10-29 19:19:43,780 INFO Request is queued\n"
     ]
    },
    {
     "name": "stdout",
     "output_type": "stream",
     "text": [
      "Suffolk Coastal [52.15, 1.4, 52.14, 1.39]\n"
     ]
    },
    {
     "name": "stderr",
     "output_type": "stream",
     "text": [
      "2022-10-29 19:19:44,844 INFO Request is running\n",
      "2022-10-29 19:34:03,054 INFO Request is completed\n",
      "2022-10-29 19:34:03,055 INFO Downloading https://download-0021.copernicus-climate.eu/cache-compute-0021/cache/data4/adaptor.mars.internal-1667068332.1439896-754-2-05750835-5b4e-4c70-9461-1b571ac1ebc9.nc to c:\\Users\\sceac10\\OneDrive - Cardiff University\\General\\data\\Suffolk Coastal_netcdf_data\\Suffolk Coastal_surface_net_solar_radiation_2022.nc (35M)\n",
      "2022-10-29 19:34:13,394 INFO Download rate 3.4M/s   \n",
      "2022-10-29 19:34:13,491 INFO Welcome to the CDS\n",
      "2022-10-29 19:34:13,493 INFO Sending request to https://cds.climate.copernicus.eu/api/v2/resources/reanalysis-era5-land\n",
      "2022-10-29 19:34:13,545 INFO Request is queued\n"
     ]
    },
    {
     "name": "stdout",
     "output_type": "stream",
     "text": [
      "Waveney [52.43, 1.55, 52.42, 1.54]\n"
     ]
    },
    {
     "name": "stderr",
     "output_type": "stream",
     "text": [
      "2022-10-29 19:34:14,606 INFO Request is running\n",
      "2022-10-29 19:48:32,805 INFO Request is completed\n",
      "2022-10-29 19:48:32,806 INFO Downloading https://download-0020.copernicus-climate.eu/cache-compute-0020/cache/data6/adaptor.mars.internal-1667069182.753073-21039-12-9ded1eab-c387-4e0f-9bd1-5950d5abce60.nc to c:\\Users\\sceac10\\OneDrive - Cardiff University\\General\\data\\Waveney_netcdf_data\\Waveney_surface_net_solar_radiation_2022.nc (35M)\n",
      "2022-10-29 19:48:43,516 INFO Download rate 3.3M/s   \n",
      "2022-10-29 19:48:43,617 INFO Welcome to the CDS\n",
      "2022-10-29 19:48:43,618 INFO Sending request to https://cds.climate.copernicus.eu/api/v2/resources/reanalysis-era5-land\n",
      "2022-10-29 19:48:43,710 INFO Request is queued\n"
     ]
    },
    {
     "name": "stdout",
     "output_type": "stream",
     "text": [
      "Elmbridge [52.31, -2.15, 52.3, -2.14]\n"
     ]
    },
    {
     "name": "stderr",
     "output_type": "stream",
     "text": [
      "2022-10-29 19:48:44,777 INFO Request is running\n",
      "2022-10-29 20:03:03,067 INFO Request is completed\n",
      "2022-10-29 20:03:03,068 INFO Downloading https://download-0015-clone.copernicus-climate.eu/cache-compute-0015/cache/data7/adaptor.mars.internal-1667070052.2997422-31287-9-094face2-bfb9-4720-9a7e-d80cb2a541c9.nc to c:\\Users\\sceac10\\OneDrive - Cardiff University\\General\\data\\Elmbridge_netcdf_data\\Elmbridge_surface_net_solar_radiation_2022.nc (30.9K)\n",
      "2022-10-29 20:03:03,314 INFO Download rate 126.3K/s\n",
      "2022-10-29 20:03:03,408 INFO Welcome to the CDS\n",
      "2022-10-29 20:03:03,409 INFO Sending request to https://cds.climate.copernicus.eu/api/v2/resources/reanalysis-era5-land\n",
      "2022-10-29 20:03:03,490 INFO Request is queued\n"
     ]
    },
    {
     "name": "stdout",
     "output_type": "stream",
     "text": [
      "Epsom and Ewell [51.34, -0.27, 51.33, -0.26]\n"
     ]
    },
    {
     "name": "stderr",
     "output_type": "stream",
     "text": [
      "2022-10-29 20:03:04,550 INFO Request is running\n",
      "2022-10-29 20:17:22,798 INFO Request is completed\n",
      "2022-10-29 20:17:22,799 INFO Downloading https://download-0020.copernicus-climate.eu/cache-compute-0020/cache/data7/adaptor.mars.internal-1667070910.655523-21039-16-87382ee8-3785-4df8-9b69-6747d3f868b6.nc to c:\\Users\\sceac10\\OneDrive - Cardiff University\\General\\data\\Epsom and Ewell_netcdf_data\\Epsom and Ewell_surface_net_solar_radiation_2022.nc (30.9K)\n",
      "2022-10-29 20:17:23,028 INFO Download rate 135.7K/s\n",
      "2022-10-29 20:17:23,118 INFO Welcome to the CDS\n",
      "2022-10-29 20:17:23,119 INFO Sending request to https://cds.climate.copernicus.eu/api/v2/resources/reanalysis-era5-land\n",
      "2022-10-29 20:17:23,205 INFO Request is queued\n"
     ]
    },
    {
     "name": "stdout",
     "output_type": "stream",
     "text": [
      "Guildford [51.24, -0.57, 51.23, -0.56]\n"
     ]
    },
    {
     "name": "stderr",
     "output_type": "stream",
     "text": [
      "2022-10-29 20:17:24,253 INFO Request is running\n",
      "2022-10-29 20:31:42,503 INFO Request is completed\n",
      "2022-10-29 20:31:42,504 INFO Downloading https://download-0004-clone.copernicus-climate.eu/cache-compute-0004/cache/data5/adaptor.mars.internal-1667071772.3908634-32127-18-d0e9e8c0-2b3b-4d73-b9a9-c0fe0da4aa06.nc to c:\\Users\\sceac10\\OneDrive - Cardiff University\\General\\data\\Guildford_netcdf_data\\Guildford_surface_net_solar_radiation_2022.nc (30.9K)\n",
      "2022-10-29 20:31:42,858 INFO Download rate 87.7K/s\n",
      "2022-10-29 20:31:42,955 INFO Welcome to the CDS\n",
      "2022-10-29 20:31:42,956 INFO Sending request to https://cds.climate.copernicus.eu/api/v2/resources/reanalysis-era5-land\n",
      "2022-10-29 20:31:43,030 INFO Request is queued\n"
     ]
    },
    {
     "name": "stdout",
     "output_type": "stream",
     "text": [
      "Mole Valley [51.22, -0.33, 51.21, -0.32]\n"
     ]
    },
    {
     "name": "stderr",
     "output_type": "stream",
     "text": [
      "2022-10-29 20:31:44,087 INFO Request is running\n",
      "2022-10-29 20:42:01,925 INFO Request is queued\n",
      "2022-10-29 20:44:02,124 INFO Request is running\n",
      "2022-10-29 20:56:03,306 INFO Request is completed\n",
      "2022-10-29 20:56:03,307 INFO Downloading https://download-0018.copernicus-climate.eu/cache-compute-0018/cache/data8/adaptor.mars.internal-1667073249.5843167-30359-17-b7aacec0-b9db-4afb-ac70-ff5879398870.nc to c:\\Users\\sceac10\\OneDrive - Cardiff University\\General\\data\\Mole Valley_netcdf_data\\Mole Valley_surface_net_solar_radiation_2022.nc (31K)\n",
      "2022-10-29 20:56:03,519 INFO Download rate 146K/s\n",
      "2022-10-29 20:56:03,666 INFO Welcome to the CDS\n",
      "2022-10-29 20:56:03,667 INFO Sending request to https://cds.climate.copernicus.eu/api/v2/resources/reanalysis-era5-land\n",
      "2022-10-29 20:56:03,732 INFO Request is queued\n"
     ]
    },
    {
     "name": "stdout",
     "output_type": "stream",
     "text": [
      "Reigate and Banstead [51.25, -0.19, 51.24, -0.18]\n"
     ]
    },
    {
     "name": "stderr",
     "output_type": "stream",
     "text": [
      "2022-10-29 20:56:04,789 INFO Request is running\n",
      "2022-10-29 21:10:22,972 INFO Request is completed\n",
      "2022-10-29 21:10:22,973 INFO Downloading https://download-0017.copernicus-climate.eu/cache-compute-0017/cache/data7/adaptor.mars.internal-1667074096.771124-16690-3-9c576a47-eb96-4614-b0f7-87a77d81338d.nc to c:\\Users\\sceac10\\OneDrive - Cardiff University\\General\\data\\Reigate and Banstead_netcdf_data\\Reigate and Banstead_surface_net_solar_radiation_2022.nc (30.9K)\n",
      "2022-10-29 21:10:23,219 INFO Download rate 125.8K/s\n",
      "2022-10-29 21:10:23,314 INFO Welcome to the CDS\n",
      "2022-10-29 21:10:23,315 INFO Sending request to https://cds.climate.copernicus.eu/api/v2/resources/reanalysis-era5-land\n",
      "2022-10-29 21:10:23,368 INFO Request is queued\n"
     ]
    },
    {
     "name": "stdout",
     "output_type": "stream",
     "text": [
      "Runnymede [51.39, -0.55, 51.38, -0.54]\n"
     ]
    },
    {
     "name": "stderr",
     "output_type": "stream",
     "text": [
      "2022-10-29 21:10:24,430 INFO Request is running\n",
      "2022-10-29 21:22:42,372 INFO Request is completed\n",
      "2022-10-29 21:22:42,373 INFO Downloading https://download-0009-clone.copernicus-climate.eu/cache-compute-0009/cache/data8/adaptor.mars.internal-1667074933.56257-4163-8-de382eb5-3ca9-41ec-978c-93a939149497.nc to c:\\Users\\sceac10\\OneDrive - Cardiff University\\General\\data\\Runnymede_netcdf_data\\Runnymede_surface_net_solar_radiation_2022.nc (30.9K)\n",
      "2022-10-29 21:22:42,592 INFO Download rate 142K/s\n",
      "2022-10-29 21:22:42,689 INFO Welcome to the CDS\n",
      "2022-10-29 21:22:42,689 INFO Sending request to https://cds.climate.copernicus.eu/api/v2/resources/reanalysis-era5-land\n",
      "2022-10-29 21:22:42,749 INFO Request is queued\n"
     ]
    },
    {
     "name": "stdout",
     "output_type": "stream",
     "text": [
      "Spelthorne [51.43, -0.46, 51.42, -0.45]\n"
     ]
    },
    {
     "name": "stderr",
     "output_type": "stream",
     "text": [
      "2022-10-29 21:22:43,803 INFO Request is running\n",
      "2022-10-29 21:35:01,768 INFO Request is completed\n",
      "2022-10-29 21:35:01,769 INFO Downloading https://download-0018.copernicus-climate.eu/cache-compute-0018/cache/data0/adaptor.mars.internal-1667075673.60347-1847-3-d2d595f7-c236-4a83-89bc-bdc5ce23d4f5.nc to c:\\Users\\sceac10\\OneDrive - Cardiff University\\General\\data\\Spelthorne_netcdf_data\\Spelthorne_surface_net_solar_radiation_2022.nc (30.9K)\n",
      "2022-10-29 21:35:01,980 INFO Download rate 147.3K/s\n",
      "2022-10-29 21:35:02,076 INFO Welcome to the CDS\n",
      "2022-10-29 21:35:02,077 INFO Sending request to https://cds.climate.copernicus.eu/api/v2/resources/reanalysis-era5-land\n",
      "2022-10-29 21:35:02,147 INFO Request is queued\n"
     ]
    },
    {
     "name": "stdout",
     "output_type": "stream",
     "text": [
      "Surrey Heath [51.34, -0.69, 51.33, -0.68]\n"
     ]
    },
    {
     "name": "stderr",
     "output_type": "stream",
     "text": [
      "2022-10-29 21:35:03,206 INFO Request is running\n",
      "2022-10-29 21:47:21,185 INFO Request is completed\n",
      "2022-10-29 21:47:21,186 INFO Downloading https://download-0002-clone.copernicus-climate.eu/cache-compute-0002/cache/data4/adaptor.mars.internal-1667076409.8593388-867-6-a70a6a85-067a-4075-9405-869a08f68f1d.nc to c:\\Users\\sceac10\\OneDrive - Cardiff University\\General\\data\\Surrey Heath_netcdf_data\\Surrey Heath_surface_net_solar_radiation_2022.nc (30.9K)\n",
      "2022-10-29 21:47:21,417 INFO Download rate 134.8K/s\n",
      "2022-10-29 21:47:21,507 INFO Welcome to the CDS\n",
      "2022-10-29 21:47:21,508 INFO Sending request to https://cds.climate.copernicus.eu/api/v2/resources/reanalysis-era5-land\n",
      "2022-10-29 21:47:21,557 INFO Request is queued\n"
     ]
    },
    {
     "name": "stdout",
     "output_type": "stream",
     "text": [
      "Tandridge [51.24, -0.03, 51.23, -0.02]\n"
     ]
    },
    {
     "name": "stderr",
     "output_type": "stream",
     "text": [
      "2022-10-29 21:47:22,606 INFO Request is running\n",
      "2022-10-29 21:59:40,563 INFO Request is completed\n",
      "2022-10-29 21:59:40,564 INFO Downloading https://download-0005-clone.copernicus-climate.eu/cache-compute-0005/cache/data5/adaptor.mars.internal-1667077163.5777903-28418-17-d89ee1ca-3a1a-466e-8d86-6448a7e495e5.nc to c:\\Users\\sceac10\\OneDrive - Cardiff University\\General\\data\\Tandridge_netcdf_data\\Tandridge_surface_net_solar_radiation_2022.nc (31K)\n",
      "2022-10-29 21:59:40,792 INFO Download rate 136.4K/s\n",
      "2022-10-29 21:59:40,891 INFO Welcome to the CDS\n",
      "2022-10-29 21:59:40,891 INFO Sending request to https://cds.climate.copernicus.eu/api/v2/resources/reanalysis-era5-land\n",
      "2022-10-29 21:59:40,971 INFO Request is queued\n"
     ]
    },
    {
     "name": "stdout",
     "output_type": "stream",
     "text": [
      "Waverley [55.95, -3.19, 55.94, -3.18]\n"
     ]
    },
    {
     "name": "stderr",
     "output_type": "stream",
     "text": [
      "2022-10-29 21:59:42,028 INFO Request is running\n",
      "2022-10-29 22:14:00,222 INFO Request is completed\n",
      "2022-10-29 22:14:00,223 INFO Downloading https://download-0004-clone.copernicus-climate.eu/cache-compute-0004/cache/data6/adaptor.mars.internal-1667077915.7532115-14651-12-17bfaff7-4497-4b04-a37f-3396ad58891b.nc to c:\\Users\\sceac10\\OneDrive - Cardiff University\\General\\data\\Waverley_netcdf_data\\Waverley_surface_net_solar_radiation_2022.nc (31K)\n",
      "2022-10-29 22:14:00,453 INFO Download rate 135.5K/s\n",
      "2022-10-29 22:14:00,538 INFO Welcome to the CDS\n",
      "2022-10-29 22:14:00,539 INFO Sending request to https://cds.climate.copernicus.eu/api/v2/resources/reanalysis-era5-land\n",
      "2022-10-29 22:14:00,602 INFO Request is queued\n"
     ]
    },
    {
     "name": "stdout",
     "output_type": "stream",
     "text": [
      "Woking [51.32, -0.56, 51.31, -0.55]\n"
     ]
    },
    {
     "name": "stderr",
     "output_type": "stream",
     "text": [
      "2022-10-29 22:14:01,649 INFO Request is running\n",
      "2022-10-29 22:26:19,548 INFO Request is completed\n",
      "2022-10-29 22:26:19,549 INFO Downloading https://download-0005-clone.copernicus-climate.eu/cache-compute-0005/cache/data6/adaptor.mars.internal-1667078760.814751-10965-4-68f0fc2a-9fdd-40e9-9663-dcaf781d6494.nc to c:\\Users\\sceac10\\OneDrive - Cardiff University\\General\\data\\Woking_netcdf_data\\Woking_surface_net_solar_radiation_2022.nc (30.9K)\n",
      "2022-10-29 22:26:19,760 INFO Download rate 147.4K/s\n",
      "2022-10-29 22:26:19,849 INFO Welcome to the CDS\n",
      "2022-10-29 22:26:19,851 INFO Sending request to https://cds.climate.copernicus.eu/api/v2/resources/reanalysis-era5-land\n",
      "2022-10-29 22:26:19,924 INFO Request is queued\n"
     ]
    },
    {
     "name": "stdout",
     "output_type": "stream",
     "text": [
      "North Warwickshire [52.56, -1.63, 52.55, -1.62]\n"
     ]
    },
    {
     "name": "stderr",
     "output_type": "stream",
     "text": [
      "2022-10-29 22:26:20,977 INFO Request is running\n",
      "2022-10-29 22:38:38,950 INFO Request is completed\n",
      "2022-10-29 22:38:38,951 INFO Downloading https://download-0009-clone.copernicus-climate.eu/cache-compute-0009/cache/data2/adaptor.mars.internal-1667079495.2615588-7096-3-d0c68b68-7495-4508-8c29-a32f894f8f8c.nc to c:\\Users\\sceac10\\OneDrive - Cardiff University\\General\\data\\North Warwickshire_netcdf_data\\North Warwickshire_surface_net_solar_radiation_2022.nc (30.9K)\n",
      "2022-10-29 22:38:39,178 INFO Download rate 136.5K/s\n",
      "2022-10-29 22:38:39,269 INFO Welcome to the CDS\n",
      "2022-10-29 22:38:39,269 INFO Sending request to https://cds.climate.copernicus.eu/api/v2/resources/reanalysis-era5-land\n",
      "2022-10-29 22:38:39,321 INFO Request is queued\n"
     ]
    },
    {
     "name": "stdout",
     "output_type": "stream",
     "text": [
      "Nuneaton and Bedworth [52.5, -1.47, 52.49, -1.46]\n"
     ]
    },
    {
     "name": "stderr",
     "output_type": "stream",
     "text": [
      "2022-10-29 22:38:40,381 INFO Request is running\n",
      "2022-10-29 22:52:58,557 INFO Request is completed\n",
      "2022-10-29 22:52:58,557 INFO Downloading https://download-0020.copernicus-climate.eu/cache-compute-0020/cache/data3/adaptor.mars.internal-1667080256.0661275-30983-8-6c6ae1fb-fde1-4091-8490-eacfe9488a7d.nc to c:\\Users\\sceac10\\OneDrive - Cardiff University\\General\\data\\Nuneaton and Bedworth_netcdf_data\\Nuneaton and Bedworth_surface_net_solar_radiation_2022.nc (30.9K)\n",
      "2022-10-29 22:52:58,775 INFO Download rate 142.6K/s\n",
      "2022-10-29 22:52:58,866 INFO Welcome to the CDS\n",
      "2022-10-29 22:52:58,867 INFO Sending request to https://cds.climate.copernicus.eu/api/v2/resources/reanalysis-era5-land\n",
      "2022-10-29 22:52:58,939 INFO Request is queued\n"
     ]
    },
    {
     "name": "stdout",
     "output_type": "stream",
     "text": [
      "Rugby [52.37, -1.26, 52.36, -1.25]\n"
     ]
    },
    {
     "name": "stderr",
     "output_type": "stream",
     "text": [
      "2022-10-29 22:52:59,996 INFO Request is running\n",
      "2022-10-29 23:05:17,873 INFO Request is completed\n",
      "2022-10-29 23:05:17,874 INFO Downloading https://download-0013-clone.copernicus-climate.eu/cache-compute-0013/cache/data9/adaptor.mars.internal-1667081074.5417852-10682-2-b4b3f174-17a3-4b79-9861-a8e458fed30b.nc to c:\\Users\\sceac10\\OneDrive - Cardiff University\\General\\data\\Rugby_netcdf_data\\Rugby_surface_net_solar_radiation_2022.nc (30.9K)\n",
      "2022-10-29 23:05:18,130 INFO Download rate 121.3K/s\n",
      "2022-10-29 23:05:18,220 INFO Welcome to the CDS\n",
      "2022-10-29 23:05:18,220 INFO Sending request to https://cds.climate.copernicus.eu/api/v2/resources/reanalysis-era5-land\n",
      "2022-10-29 23:05:18,298 INFO Request is queued\n"
     ]
    },
    {
     "name": "stdout",
     "output_type": "stream",
     "text": [
      "Stratford-on-Avon [52.19, -1.71, 52.18, -1.7]\n"
     ]
    },
    {
     "name": "stderr",
     "output_type": "stream",
     "text": [
      "2022-10-29 23:05:19,348 INFO Request is running\n",
      "2022-10-29 23:19:37,480 INFO Request is completed\n",
      "2022-10-29 23:19:37,481 INFO Downloading https://download-0021.copernicus-climate.eu/cache-compute-0021/cache/data6/adaptor.mars.internal-1667081869.8517861-18648-3-5c865672-aa02-4900-9497-e359c2fba693.nc to c:\\Users\\sceac10\\OneDrive - Cardiff University\\General\\data\\Stratford-on-Avon_netcdf_data\\Stratford-on-Avon_surface_net_solar_radiation_2022.nc (30.9K)\n",
      "2022-10-29 23:19:37,716 INFO Download rate 131.7K/s\n",
      "2022-10-29 23:19:37,799 INFO Welcome to the CDS\n",
      "2022-10-29 23:19:37,800 INFO Sending request to https://cds.climate.copernicus.eu/api/v2/resources/reanalysis-era5-land\n",
      "2022-10-29 23:19:37,847 INFO Request is queued\n"
     ]
    },
    {
     "name": "stdout",
     "output_type": "stream",
     "text": [
      "Warwick [52.28, -1.58, 52.27, -1.57]\n"
     ]
    },
    {
     "name": "stderr",
     "output_type": "stream",
     "text": [
      "2022-10-29 23:19:38,895 INFO Request is running\n",
      "2022-10-29 23:37:57,411 INFO Request is completed\n",
      "2022-10-29 23:37:57,412 INFO Downloading https://download-0007-clone.copernicus-climate.eu/cache-compute-0007/cache/data1/adaptor.mars.internal-1667082917.001733-21660-3-aaa5e2ed-50d1-45c3-aab0-d332c9aa7d79.nc to c:\\Users\\sceac10\\OneDrive - Cardiff University\\General\\data\\Warwick_netcdf_data\\Warwick_surface_net_solar_radiation_2022.nc (30.9K)\n",
      "2022-10-29 23:37:57,629 INFO Download rate 143.3K/s\n",
      "2022-10-29 23:37:57,726 INFO Welcome to the CDS\n",
      "2022-10-29 23:37:57,727 INFO Sending request to https://cds.climate.copernicus.eu/api/v2/resources/reanalysis-era5-land\n",
      "2022-10-29 23:37:57,779 INFO Request is queued\n"
     ]
    },
    {
     "name": "stdout",
     "output_type": "stream",
     "text": [
      "Adur [50.85, -0.29, 50.84, -0.28]\n"
     ]
    },
    {
     "name": "stderr",
     "output_type": "stream",
     "text": [
      "2022-10-29 23:37:58,836 INFO Request is running\n",
      "2022-10-29 23:50:16,881 INFO Request is completed\n",
      "2022-10-29 23:50:16,882 INFO Downloading https://download-0017.copernicus-climate.eu/cache-compute-0017/cache/data1/adaptor.mars.internal-1667083785.6472473-30022-4-1c615db8-b9fb-4092-ad4c-f68ecf3df1f9.nc to c:\\Users\\sceac10\\OneDrive - Cardiff University\\General\\data\\Adur_netcdf_data\\Adur_surface_net_solar_radiation_2022.nc (30.9K)\n",
      "2022-10-29 23:50:17,102 INFO Download rate 141.5K/s\n",
      "2022-10-29 23:50:17,202 INFO Welcome to the CDS\n",
      "2022-10-29 23:50:17,203 INFO Sending request to https://cds.climate.copernicus.eu/api/v2/resources/reanalysis-era5-land\n",
      "2022-10-29 23:50:17,255 INFO Request is queued\n"
     ]
    },
    {
     "name": "stdout",
     "output_type": "stream",
     "text": [
      "Arun [27.19, 87.21, 27.18, 87.2]\n"
     ]
    },
    {
     "name": "stderr",
     "output_type": "stream",
     "text": [
      "2022-10-29 23:50:18,308 INFO Request is running\n",
      "2022-10-30 00:02:36,278 INFO Request is completed\n",
      "2022-10-30 00:02:36,279 INFO Downloading https://download-0018.copernicus-climate.eu/cache-compute-0018/cache/data2/adaptor.mars.internal-1667084508.3965793-22089-18-3d373fe9-3ee1-4c15-acf5-aba34a0901bb.nc to c:\\Users\\sceac10\\OneDrive - Cardiff University\\General\\data\\Arun_netcdf_data\\Arun_surface_net_solar_radiation_2022.nc (35M)\n",
      "2022-10-30 00:02:41,628 INFO Download rate 6.5M/s   \n",
      "2022-10-30 00:02:41,721 INFO Welcome to the CDS\n",
      "2022-10-30 00:02:41,722 INFO Sending request to https://cds.climate.copernicus.eu/api/v2/resources/reanalysis-era5-land\n",
      "2022-10-30 00:02:41,789 INFO Request is queued\n"
     ]
    },
    {
     "name": "stdout",
     "output_type": "stream",
     "text": [
      "Chichester [50.84, -0.78, 50.83, -0.77]\n"
     ]
    },
    {
     "name": "stderr",
     "output_type": "stream",
     "text": [
      "2022-10-30 00:02:42,836 INFO Request is running\n",
      "2022-10-30 00:21:01,359 INFO Request is completed\n",
      "2022-10-30 00:21:01,360 INFO Downloading https://download-0000-clone.copernicus-climate.eu/cache-compute-0000/cache/data3/adaptor.mars.internal-1667085469.309703-12891-1-d7ce8bde-e503-4610-95c5-bc10ee190df2.nc to c:\\Users\\sceac10\\OneDrive - Cardiff University\\General\\data\\Chichester_netcdf_data\\Chichester_surface_net_solar_radiation_2022.nc (30.9K)\n",
      "2022-10-30 00:21:01,590 INFO Download rate 134.6K/s\n",
      "2022-10-30 00:21:01,684 INFO Welcome to the CDS\n",
      "2022-10-30 00:21:01,686 INFO Sending request to https://cds.climate.copernicus.eu/api/v2/resources/reanalysis-era5-land\n",
      "2022-10-30 00:21:01,739 INFO Request is queued\n"
     ]
    },
    {
     "name": "stdout",
     "output_type": "stream",
     "text": [
      "Crawley [51.11, -0.18, 51.1, -0.17]\n"
     ]
    },
    {
     "name": "stderr",
     "output_type": "stream",
     "text": [
      "2022-10-30 00:21:02,788 INFO Request is running\n",
      "2022-10-30 00:33:20,811 INFO Request is completed\n",
      "2022-10-30 00:33:20,812 INFO Downloading https://download-0012-clone.copernicus-climate.eu/cache-compute-0012/cache/data4/adaptor.mars.internal-1667086362.649348-17947-8-377f08da-e8b6-48fa-bcfb-2e76a20ce859.nc to c:\\Users\\sceac10\\OneDrive - Cardiff University\\General\\data\\Crawley_netcdf_data\\Crawley_surface_net_solar_radiation_2022.nc (30.9K)\n",
      "2022-10-30 00:33:21,097 INFO Download rate 109.1K/s\n",
      "2022-10-30 00:33:21,182 INFO Welcome to the CDS\n",
      "2022-10-30 00:33:21,183 INFO Sending request to https://cds.climate.copernicus.eu/api/v2/resources/reanalysis-era5-land\n",
      "2022-10-30 00:33:21,230 INFO Request is queued\n"
     ]
    },
    {
     "name": "stdout",
     "output_type": "stream",
     "text": [
      "Horsham [51.06, -0.33, 51.05, -0.32]\n"
     ]
    },
    {
     "name": "stderr",
     "output_type": "stream",
     "text": [
      "2022-10-30 00:33:22,284 INFO Request is running\n",
      "2022-10-30 00:47:40,438 INFO Request is completed\n",
      "2022-10-30 00:47:40,438 INFO Downloading https://download-0010-clone.copernicus-climate.eu/cache-compute-0010/cache/data5/adaptor.mars.internal-1667087134.7491245-29289-4-61938712-1e03-4b82-a8f5-c79cc37f27e2.nc to c:\\Users\\sceac10\\OneDrive - Cardiff University\\General\\data\\Horsham_netcdf_data\\Horsham_surface_net_solar_radiation_2022.nc (30.9K)\n",
      "2022-10-30 00:47:40,652 INFO Download rate 145.5K/s\n",
      "2022-10-30 00:47:40,750 INFO Welcome to the CDS\n",
      "2022-10-30 00:47:40,751 INFO Sending request to https://cds.climate.copernicus.eu/api/v2/resources/reanalysis-era5-land\n",
      "2022-10-30 00:47:40,804 INFO Request is queued\n"
     ]
    },
    {
     "name": "stdout",
     "output_type": "stream",
     "text": [
      "Mid Sussex [51.01, -0.13, 51.0, -0.12]\n"
     ]
    },
    {
     "name": "stderr",
     "output_type": "stream",
     "text": [
      "2022-10-30 00:47:41,862 INFO Request is running\n",
      "2022-10-30 00:59:59,815 INFO Request is completed\n",
      "2022-10-30 00:59:59,816 INFO Downloading https://download-0014-clone.copernicus-climate.eu/cache-compute-0014/cache/data0/adaptor.mars.internal-1667087966.8074555-26297-13-37fcf49c-ee9a-496f-b065-50c20da0087c.nc to c:\\Users\\sceac10\\OneDrive - Cardiff University\\General\\data\\Mid Sussex_netcdf_data\\Mid Sussex_surface_net_solar_radiation_2022.nc (31K)\n",
      "2022-10-30 01:00:00,058 INFO Download rate 127.9K/s\n",
      "2022-10-30 01:00:00,154 INFO Welcome to the CDS\n",
      "2022-10-30 01:00:00,155 INFO Sending request to https://cds.climate.copernicus.eu/api/v2/resources/reanalysis-era5-land\n",
      "2022-10-30 01:00:00,251 INFO Request is queued\n"
     ]
    },
    {
     "name": "stdout",
     "output_type": "stream",
     "text": [
      "Worthing [50.81, -0.37, 50.8, -0.36]\n"
     ]
    },
    {
     "name": "stderr",
     "output_type": "stream",
     "text": [
      "2022-10-30 01:00:01,303 INFO Request is running\n",
      "2022-10-30 01:12:19,276 INFO Request is completed\n",
      "2022-10-30 01:12:19,277 INFO Downloading https://download-0006-clone.copernicus-climate.eu/cache-compute-0006/cache/data0/adaptor.mars.internal-1667088694.7125957-31332-14-6aecdb4a-c88a-416d-b6a0-1a6cf97c3bd9.nc to c:\\Users\\sceac10\\OneDrive - Cardiff University\\General\\data\\Worthing_netcdf_data\\Worthing_surface_net_solar_radiation_2022.nc (31K)\n",
      "2022-10-30 01:12:19,509 INFO Download rate 134.6K/s\n",
      "2022-10-30 01:12:19,605 INFO Welcome to the CDS\n",
      "2022-10-30 01:12:19,605 INFO Sending request to https://cds.climate.copernicus.eu/api/v2/resources/reanalysis-era5-land\n",
      "2022-10-30 01:12:19,683 INFO Request is queued\n"
     ]
    },
    {
     "name": "stdout",
     "output_type": "stream",
     "text": [
      "Wiltshire [51.25, -1.92, 51.24, -1.91]\n"
     ]
    },
    {
     "name": "stderr",
     "output_type": "stream",
     "text": [
      "2022-10-30 01:12:20,736 INFO Request is running\n",
      "2022-10-30 01:26:38,942 INFO Request is completed\n",
      "2022-10-30 01:26:38,943 INFO Downloading https://download-0003-clone.copernicus-climate.eu/cache-compute-0003/cache/data4/adaptor.mars.internal-1667089492.6572032-335-3-7091d07b-de6d-43df-bc27-853dda9ad918.nc to c:\\Users\\sceac10\\OneDrive - Cardiff University\\General\\data\\Wiltshire_netcdf_data\\Wiltshire_surface_net_solar_radiation_2022.nc (30.9K)\n",
      "2022-10-30 01:26:39,177 INFO Download rate 132.8K/s\n",
      "2022-10-30 01:26:39,260 INFO Welcome to the CDS\n",
      "2022-10-30 01:26:39,261 INFO Sending request to https://cds.climate.copernicus.eu/api/v2/resources/reanalysis-era5-land\n",
      "2022-10-30 01:26:39,310 INFO Request is queued\n"
     ]
    },
    {
     "name": "stdout",
     "output_type": "stream",
     "text": [
      "Bromsgrove [52.34, -2.05, 52.33, -2.04]\n"
     ]
    },
    {
     "name": "stderr",
     "output_type": "stream",
     "text": [
      "2022-10-30 01:26:40,365 INFO Request is running\n",
      "2022-10-30 01:38:58,263 INFO Request is completed\n",
      "2022-10-30 01:38:58,264 INFO Downloading https://download-0006-clone.copernicus-climate.eu/cache-compute-0006/cache/data6/adaptor.mars.internal-1667090316.5498266-6632-17-1eed806a-dd86-46e3-b7ee-76308098d369.nc to c:\\Users\\sceac10\\OneDrive - Cardiff University\\General\\data\\Bromsgrove_netcdf_data\\Bromsgrove_surface_net_solar_radiation_2022.nc (30.9K)\n",
      "2022-10-30 01:38:58,486 INFO Download rate 140K/s\n",
      "2022-10-30 01:38:58,585 INFO Welcome to the CDS\n",
      "2022-10-30 01:38:58,587 INFO Sending request to https://cds.climate.copernicus.eu/api/v2/resources/reanalysis-era5-land\n",
      "2022-10-30 01:38:58,707 INFO Request is queued\n"
     ]
    },
    {
     "name": "stdout",
     "output_type": "stream",
     "text": [
      "Malvern Hills [52.17, -2.33, 52.16, -2.32]\n"
     ]
    },
    {
     "name": "stderr",
     "output_type": "stream",
     "text": [
      "2022-10-30 01:38:59,762 INFO Request is running\n",
      "2022-10-30 01:51:17,747 INFO Request is completed\n",
      "2022-10-30 01:51:17,748 INFO Downloading https://download-0014-clone.copernicus-climate.eu/cache-compute-0014/cache/data2/adaptor.mars.internal-1667091031.8477762-29242-9-8be0c1fb-0a27-41cb-b16a-c615edd087f4.nc to c:\\Users\\sceac10\\OneDrive - Cardiff University\\General\\data\\Malvern Hills_netcdf_data\\Malvern Hills_surface_net_solar_radiation_2022.nc (30.9K)\n",
      "2022-10-30 01:51:17,977 INFO Download rate 135.2K/s\n",
      "2022-10-30 01:51:18,059 INFO Welcome to the CDS\n",
      "2022-10-30 01:51:18,060 INFO Sending request to https://cds.climate.copernicus.eu/api/v2/resources/reanalysis-era5-land\n",
      "2022-10-30 01:51:18,107 INFO Request is queued\n"
     ]
    },
    {
     "name": "stdout",
     "output_type": "stream",
     "text": [
      "Redditch [52.31, -1.94, 52.3, -1.93]\n"
     ]
    },
    {
     "name": "stderr",
     "output_type": "stream",
     "text": [
      "2022-10-30 01:51:19,149 INFO Request is running\n",
      "2022-10-30 01:05:37,268 INFO Request is completed\n",
      "2022-10-30 01:05:37,269 INFO Downloading https://download-0011-clone.copernicus-climate.eu/cache-compute-0011/cache/data7/adaptor.mars.internal-1667091802.0775218-13078-3-cb5bd0ac-7cb0-4196-a65f-c5ca61ebe96e.nc to c:\\Users\\sceac10\\OneDrive - Cardiff University\\General\\data\\Redditch_netcdf_data\\Redditch_surface_net_solar_radiation_2022.nc (30.9K)\n",
      "2022-10-30 01:05:37,483 INFO Download rate 145.3K/s\n",
      "2022-10-30 01:05:37,582 INFO Welcome to the CDS\n",
      "2022-10-30 01:05:37,583 INFO Sending request to https://cds.climate.copernicus.eu/api/v2/resources/reanalysis-era5-land\n",
      "2022-10-30 01:05:37,638 INFO Request is queued\n"
     ]
    },
    {
     "name": "stdout",
     "output_type": "stream",
     "text": [
      "Worcester [42.26, -71.8, 42.25, -71.79]\n"
     ]
    },
    {
     "name": "stderr",
     "output_type": "stream",
     "text": [
      "2022-10-30 01:05:38,699 INFO Request is running\n",
      "2022-10-30 01:19:56,898 INFO Request is completed\n",
      "2022-10-30 01:19:56,899 INFO Downloading https://download-0013-clone.copernicus-climate.eu/cache-compute-0013/cache/data4/adaptor.mars.internal-1667092687.9644983-28089-14-46395f38-0cc3-4bda-9bfb-26e273c50861.nc to c:\\Users\\sceac10\\OneDrive - Cardiff University\\General\\data\\Worcester_netcdf_data\\Worcester_surface_net_solar_radiation_2022.nc (31K)\n",
      "2022-10-30 01:19:57,133 INFO Download rate 132.8K/s\n",
      "2022-10-30 01:19:57,216 INFO Welcome to the CDS\n",
      "2022-10-30 01:19:57,217 INFO Sending request to https://cds.climate.copernicus.eu/api/v2/resources/reanalysis-era5-land\n",
      "2022-10-30 01:19:57,314 INFO Request is queued\n"
     ]
    },
    {
     "name": "stdout",
     "output_type": "stream",
     "text": [
      "Wychavon [52.18, -2.06, 52.17, -2.05]\n"
     ]
    },
    {
     "name": "stderr",
     "output_type": "stream",
     "text": [
      "2022-10-30 01:19:58,357 INFO Request is running\n",
      "2022-10-30 01:34:16,476 INFO Request is completed\n",
      "2022-10-30 01:34:16,477 INFO Downloading https://download-0019.copernicus-climate.eu/cache-compute-0019/cache/data6/adaptor.mars.internal-1667093536.1690364-2717-16-f66fd3d0-2396-40d8-9d9d-d30c1d9ff80c.nc to c:\\Users\\sceac10\\OneDrive - Cardiff University\\General\\data\\Wychavon_netcdf_data\\Wychavon_surface_net_solar_radiation_2022.nc (30.9K)\n",
      "2022-10-30 01:34:16,715 INFO Download rate 130.1K/s\n",
      "2022-10-30 01:34:16,806 INFO Welcome to the CDS\n",
      "2022-10-30 01:34:16,807 INFO Sending request to https://cds.climate.copernicus.eu/api/v2/resources/reanalysis-era5-land\n",
      "2022-10-30 01:34:16,855 INFO Request is queued\n"
     ]
    },
    {
     "name": "stdout",
     "output_type": "stream",
     "text": [
      "Wyre Forest [52.39, -2.23, 52.38, -2.22]\n"
     ]
    },
    {
     "name": "stderr",
     "output_type": "stream",
     "text": [
      "2022-10-30 01:34:17,907 INFO Request is running\n",
      "2022-10-30 01:46:35,839 INFO Request is completed\n",
      "2022-10-30 01:46:35,840 INFO Downloading https://download-0002-clone.copernicus-climate.eu/cache-compute-0002/cache/data4/adaptor.mars.internal-1667094367.6015627-24802-13-27b0cb05-b4e0-4620-9fd2-261822814dc8.nc to c:\\Users\\sceac10\\OneDrive - Cardiff University\\General\\data\\Wyre Forest_netcdf_data\\Wyre Forest_surface_net_solar_radiation_2022.nc (31K)\n",
      "2022-10-30 01:46:36,059 INFO Download rate 142K/s\n",
      "2022-10-30 01:46:36,155 INFO Welcome to the CDS\n",
      "2022-10-30 01:46:36,156 INFO Sending request to https://cds.climate.copernicus.eu/api/v2/resources/reanalysis-era5-land\n",
      "2022-10-30 01:46:36,207 INFO Request is queued\n"
     ]
    },
    {
     "name": "stdout",
     "output_type": "stream",
     "text": [
      "Isle of Anglesey [53.28, -4.35, 53.27, -4.34]\n"
     ]
    },
    {
     "name": "stderr",
     "output_type": "stream",
     "text": [
      "2022-10-30 01:46:37,259 INFO Request is running\n",
      "2022-10-30 01:58:55,247 INFO Request is completed\n",
      "2022-10-30 01:58:55,248 INFO Downloading https://download-0011-clone.copernicus-climate.eu/cache-compute-0011/cache/data3/adaptor.mars.internal-1667095121.7798917-3646-2-909acb24-0086-432f-b6d8-fa1987d85cd7.nc to c:\\Users\\sceac10\\OneDrive - Cardiff University\\General\\data\\Isle of Anglesey_netcdf_data\\Isle of Anglesey_surface_net_solar_radiation_2022.nc (30.9K)\n",
      "2022-10-30 01:58:55,469 INFO Download rate 141.3K/s\n",
      "2022-10-30 01:58:55,555 INFO Welcome to the CDS\n",
      "2022-10-30 01:58:55,556 INFO Sending request to https://cds.climate.copernicus.eu/api/v2/resources/reanalysis-era5-land\n",
      "2022-10-30 01:58:55,622 INFO Request is queued\n"
     ]
    },
    {
     "name": "stdout",
     "output_type": "stream",
     "text": [
      "Gwynedd [52.91, -3.83, 52.9, -3.82]\n"
     ]
    },
    {
     "name": "stderr",
     "output_type": "stream",
     "text": [
      "2022-10-30 01:58:56,676 INFO Request is running\n",
      "2022-10-30 02:13:14,785 INFO Request is completed\n",
      "2022-10-30 02:13:14,785 INFO Downloading https://download-0001-clone.copernicus-climate.eu/cache-compute-0001/cache/data6/adaptor.mars.internal-1667095882.5750341-17661-11-e7e8da95-5ba6-4476-90bb-6686bc43ff7a.nc to c:\\Users\\sceac10\\OneDrive - Cardiff University\\General\\data\\Gwynedd_netcdf_data\\Gwynedd_surface_net_solar_radiation_2022.nc (30.9K)\n",
      "2022-10-30 02:13:15,033 INFO Download rate 125.3K/s\n",
      "2022-10-30 02:13:15,117 INFO Welcome to the CDS\n",
      "2022-10-30 02:13:15,118 INFO Sending request to https://cds.climate.copernicus.eu/api/v2/resources/reanalysis-era5-land\n",
      "2022-10-30 02:13:15,164 INFO Request is queued\n"
     ]
    },
    {
     "name": "stdout",
     "output_type": "stream",
     "text": [
      "Conwy [53.15, -3.76, 53.14, -3.75]\n"
     ]
    },
    {
     "name": "stderr",
     "output_type": "stream",
     "text": [
      "2022-10-30 02:13:16,219 INFO Request is running\n",
      "2022-10-30 02:27:34,279 INFO Request is completed\n",
      "2022-10-30 02:27:34,280 INFO Downloading https://download-0011-clone.copernicus-climate.eu/cache-compute-0011/cache/data2/adaptor.mars.internal-1667096731.5001185-30172-13-03892d60-5ce0-40c9-b438-a9f641711d22.nc to c:\\Users\\sceac10\\OneDrive - Cardiff University\\General\\data\\Conwy_netcdf_data\\Conwy_surface_net_solar_radiation_2022.nc (31K)\n",
      "2022-10-30 02:27:34,475 INFO Download rate 159.6K/s\n",
      "2022-10-30 02:27:34,562 INFO Welcome to the CDS\n",
      "2022-10-30 02:27:34,563 INFO Sending request to https://cds.climate.copernicus.eu/api/v2/resources/reanalysis-era5-land\n",
      "2022-10-30 02:27:34,625 INFO Request is queued\n"
     ]
    },
    {
     "name": "stdout",
     "output_type": "stream",
     "text": [
      "Denbighshire [53.11, -3.37, 53.1, -3.36]\n"
     ]
    },
    {
     "name": "stderr",
     "output_type": "stream",
     "text": [
      "2022-10-30 02:27:35,682 INFO Request is running\n",
      "2022-10-30 02:41:53,822 INFO Request is completed\n",
      "2022-10-30 02:41:53,822 INFO Downloading https://download-0009-clone.copernicus-climate.eu/cache-compute-0009/cache/data8/adaptor.mars.internal-1667097592.38471-20588-17-8e6de20a-5511-4e75-bbcd-c54a62ba5806.nc to c:\\Users\\sceac10\\OneDrive - Cardiff University\\General\\data\\Denbighshire_netcdf_data\\Denbighshire_surface_net_solar_radiation_2022.nc (30.9K)\n",
      "2022-10-30 02:41:54,051 INFO Download rate 135.7K/s\n",
      "2022-10-30 02:41:54,142 INFO Welcome to the CDS\n",
      "2022-10-30 02:41:54,143 INFO Sending request to https://cds.climate.copernicus.eu/api/v2/resources/reanalysis-era5-land\n",
      "2022-10-30 02:41:54,233 INFO Request is queued\n"
     ]
    },
    {
     "name": "stdout",
     "output_type": "stream",
     "text": [
      "Flintshire [53.22, -3.14, 53.21, -3.13]\n"
     ]
    },
    {
     "name": "stderr",
     "output_type": "stream",
     "text": [
      "2022-10-30 02:41:55,285 INFO Request is running\n",
      "2022-10-30 02:56:13,465 INFO Request is completed\n",
      "2022-10-30 02:56:13,466 INFO Downloading https://download-0014-clone.copernicus-climate.eu/cache-compute-0014/cache/data8/adaptor.mars.internal-1667098471.4728377-19638-2-066f7126-2238-4c04-ac5d-d252342e1446.nc to c:\\Users\\sceac10\\OneDrive - Cardiff University\\General\\data\\Flintshire_netcdf_data\\Flintshire_surface_net_solar_radiation_2022.nc (30.9K)\n",
      "2022-10-30 02:56:13,688 INFO Download rate 139.4K/s\n",
      "2022-10-30 02:56:13,783 INFO Welcome to the CDS\n",
      "2022-10-30 02:56:13,784 INFO Sending request to https://cds.climate.copernicus.eu/api/v2/resources/reanalysis-era5-land\n",
      "2022-10-30 02:56:13,852 INFO Request is queued\n"
     ]
    },
    {
     "name": "stdout",
     "output_type": "stream",
     "text": [
      "Wrexham [53.05, -2.99, 53.04, -2.98]\n"
     ]
    },
    {
     "name": "stderr",
     "output_type": "stream",
     "text": [
      "2022-10-30 02:56:14,907 INFO Request is running\n",
      "2022-10-30 03:10:33,037 INFO Request is completed\n",
      "2022-10-30 03:10:33,038 INFO Downloading https://download-0009-clone.copernicus-climate.eu/cache-compute-0009/cache/data7/adaptor.mars.internal-1667099302.9716733-8831-10-1e220a52-e97a-45c8-ae39-1ade4679c31e.nc to c:\\Users\\sceac10\\OneDrive - Cardiff University\\General\\data\\Wrexham_netcdf_data\\Wrexham_surface_net_solar_radiation_2022.nc (30.9K)\n",
      "2022-10-30 03:10:33,238 INFO Download rate 155.4K/s\n",
      "2022-10-30 03:10:33,323 INFO Welcome to the CDS\n",
      "2022-10-30 03:10:33,323 INFO Sending request to https://cds.climate.copernicus.eu/api/v2/resources/reanalysis-era5-land\n",
      "2022-10-30 03:10:33,370 INFO Request is queued\n"
     ]
    },
    {
     "name": "stdout",
     "output_type": "stream",
     "text": [
      "Powys [52.33, -3.36, 52.32, -3.35]\n"
     ]
    },
    {
     "name": "stderr",
     "output_type": "stream",
     "text": [
      "2022-10-30 03:10:34,423 INFO Request is running\n",
      "2022-10-30 03:22:52,392 INFO Request is completed\n",
      "2022-10-30 03:22:52,393 INFO Downloading https://download-0006-clone.copernicus-climate.eu/cache-compute-0006/cache/data9/adaptor.mars.internal-1667100153.4781058-7152-13-56e0a625-a3e6-431f-a50e-ba775412257e.nc to c:\\Users\\sceac10\\OneDrive - Cardiff University\\General\\data\\Powys_netcdf_data\\Powys_surface_net_solar_radiation_2022.nc (30.9K)\n",
      "2022-10-30 03:22:52,605 INFO Download rate 146.7K/s\n",
      "2022-10-30 03:22:52,702 INFO Welcome to the CDS\n",
      "2022-10-30 03:22:52,702 INFO Sending request to https://cds.climate.copernicus.eu/api/v2/resources/reanalysis-era5-land\n",
      "2022-10-30 03:22:52,754 INFO Request is queued\n"
     ]
    },
    {
     "name": "stdout",
     "output_type": "stream",
     "text": [
      "Ceredigion [52.29, -3.95, 52.28, -3.94]\n"
     ]
    },
    {
     "name": "stderr",
     "output_type": "stream",
     "text": [
      "2022-10-30 03:22:53,807 INFO Request is running\n",
      "2022-10-30 03:35:11,725 INFO Request is completed\n",
      "2022-10-30 03:35:11,726 INFO Downloading https://download-0013-clone.copernicus-climate.eu/cache-compute-0013/cache/data0/adaptor.mars.internal-1667100894.8219342-21327-8-811395ae-76ea-4429-9e1f-8e2fe91e0b5a.nc to c:\\Users\\sceac10\\OneDrive - Cardiff University\\General\\data\\Ceredigion_netcdf_data\\Ceredigion_surface_net_solar_radiation_2022.nc (30.9K)\n",
      "2022-10-30 03:35:12,000 INFO Download rate 113.4K/s\n",
      "2022-10-30 03:35:12,089 INFO Welcome to the CDS\n",
      "2022-10-30 03:35:12,090 INFO Sending request to https://cds.climate.copernicus.eu/api/v2/resources/reanalysis-era5-land\n",
      "2022-10-30 03:35:12,150 INFO Request is queued\n"
     ]
    },
    {
     "name": "stdout",
     "output_type": "stream",
     "text": [
      "Pembrokeshire [51.83, -4.92, 51.82, -4.91]\n"
     ]
    },
    {
     "name": "stderr",
     "output_type": "stream",
     "text": [
      "2022-10-30 03:35:13,196 INFO Request is running\n",
      "2022-10-30 03:49:31,232 INFO Request is completed\n",
      "2022-10-30 03:49:31,234 INFO Downloading https://download-0007-clone.copernicus-climate.eu/cache-compute-0007/cache/data6/adaptor.mars.internal-1667101647.0796762-29089-6-d73a906d-314e-4e96-abf4-e58173c9640d.nc to c:\\Users\\sceac10\\OneDrive - Cardiff University\\General\\data\\Pembrokeshire_netcdf_data\\Pembrokeshire_surface_net_solar_radiation_2022.nc (30.9K)\n",
      "2022-10-30 03:49:31,464 INFO Download rate 134.4K/s\n",
      "2022-10-30 03:49:31,555 INFO Welcome to the CDS\n",
      "2022-10-30 03:49:31,556 INFO Sending request to https://cds.climate.copernicus.eu/api/v2/resources/reanalysis-era5-land\n",
      "2022-10-30 03:49:31,606 INFO Request is queued\n"
     ]
    },
    {
     "name": "stdout",
     "output_type": "stream",
     "text": [
      "Carmarthenshire [51.89, -4.22, 51.88, -4.21]\n"
     ]
    },
    {
     "name": "stderr",
     "output_type": "stream",
     "text": [
      "2022-10-30 03:49:32,655 INFO Request is running\n",
      "2022-10-30 04:03:50,805 INFO Request is completed\n",
      "2022-10-30 04:03:50,806 INFO Downloading https://download-0007-clone.copernicus-climate.eu/cache-compute-0007/cache/data2/adaptor.mars.internal-1667102514.9860463-10230-4-0fcdbfc7-9198-4866-85ad-27e1453182ad.nc to c:\\Users\\sceac10\\OneDrive - Cardiff University\\General\\data\\Carmarthenshire_netcdf_data\\Carmarthenshire_surface_net_solar_radiation_2022.nc (30.9K)\n",
      "2022-10-30 04:03:51,063 INFO Download rate 120.9K/s\n",
      "2022-10-30 04:03:51,153 INFO Welcome to the CDS\n",
      "2022-10-30 04:03:51,154 INFO Sending request to https://cds.climate.copernicus.eu/api/v2/resources/reanalysis-era5-land\n",
      "2022-10-30 04:03:51,207 INFO Request is queued\n"
     ]
    },
    {
     "name": "stdout",
     "output_type": "stream",
     "text": [
      "Swansea [51.62, -3.95, 51.61, -3.94]\n"
     ]
    },
    {
     "name": "stderr",
     "output_type": "stream",
     "text": [
      "2022-10-30 04:03:52,263 INFO Request is running\n",
      "2022-10-30 04:18:10,406 INFO Request is completed\n",
      "2022-10-30 04:18:10,408 INFO Downloading https://download-0012-clone.copernicus-climate.eu/cache-compute-0012/cache/data4/adaptor.mars.internal-1667103364.65987-18676-15-d30201a4-a229-4def-a492-f79b90e25907.nc to c:\\Users\\sceac10\\OneDrive - Cardiff University\\General\\data\\Swansea_netcdf_data\\Swansea_surface_net_solar_radiation_2022.nc (30.9K)\n",
      "2022-10-30 04:18:10,639 INFO Download rate 134K/s\n",
      "2022-10-30 04:18:10,725 INFO Welcome to the CDS\n",
      "2022-10-30 04:18:10,726 INFO Sending request to https://cds.climate.copernicus.eu/api/v2/resources/reanalysis-era5-land\n",
      "2022-10-30 04:18:10,793 INFO Request is queued\n"
     ]
    },
    {
     "name": "stdout",
     "output_type": "stream",
     "text": [
      "Neath Port Talbot [51.67, -3.72, 51.66, -3.71]\n"
     ]
    },
    {
     "name": "stderr",
     "output_type": "stream",
     "text": [
      "2022-10-30 04:18:11,838 INFO Request is running\n",
      "2022-10-30 04:32:29,993 INFO Request is completed\n",
      "2022-10-30 04:32:29,994 INFO Downloading https://download-0009-clone.copernicus-climate.eu/cache-compute-0009/cache/data2/adaptor.mars.internal-1667104229.6160164-17147-3-48d6512b-f3fb-4a22-bf34-e7ef84919b0f.nc to c:\\Users\\sceac10\\OneDrive - Cardiff University\\General\\data\\Neath Port Talbot_netcdf_data\\Neath Port Talbot_surface_net_solar_radiation_2022.nc (30.9K)\n",
      "2022-10-30 04:32:30,205 INFO Download rate 147.4K/s\n",
      "2022-10-30 04:32:30,302 INFO Welcome to the CDS\n",
      "2022-10-30 04:32:30,303 INFO Sending request to https://cds.climate.copernicus.eu/api/v2/resources/reanalysis-era5-land\n",
      "2022-10-30 04:32:30,355 INFO Request is queued\n"
     ]
    },
    {
     "name": "stdout",
     "output_type": "stream",
     "text": [
      "Bridgend [51.5, -3.58, 51.49, -3.57]\n"
     ]
    },
    {
     "name": "stderr",
     "output_type": "stream",
     "text": [
      "2022-10-30 04:32:31,419 INFO Request is running\n",
      "2022-10-30 04:46:49,603 INFO Request is completed\n",
      "2022-10-30 04:46:49,604 INFO Downloading https://download-0016.copernicus-climate.eu/cache-compute-0016/cache/data4/adaptor.mars.internal-1667105125.4621916-25964-17-61c5ea98-d393-4d9a-bfc6-b2db73801c46.nc to c:\\Users\\sceac10\\OneDrive - Cardiff University\\General\\data\\Bridgend_netcdf_data\\Bridgend_surface_net_solar_radiation_2022.nc (31K)\n",
      "2022-10-30 04:46:49,846 INFO Download rate 127.9K/s\n",
      "2022-10-30 04:46:49,933 INFO Welcome to the CDS\n",
      "2022-10-30 04:46:49,934 INFO Sending request to https://cds.climate.copernicus.eu/api/v2/resources/reanalysis-era5-land\n",
      "2022-10-30 04:46:50,016 INFO Request is queued\n"
     ]
    },
    {
     "name": "stdout",
     "output_type": "stream",
     "text": [
      "The Vale of Glamorgan [51.4, -3.53, 51.39, -3.52]\n"
     ]
    },
    {
     "name": "stderr",
     "output_type": "stream",
     "text": [
      "2022-10-30 04:46:51,062 INFO Request is running\n",
      "2022-10-30 05:01:09,203 INFO Request is completed\n",
      "2022-10-30 05:01:09,203 INFO Downloading https://download-0017.copernicus-climate.eu/cache-compute-0017/cache/data6/adaptor.mars.internal-1667105964.08021-1816-3-0a90bfa2-a6b9-49fe-8309-bdc690d2e3a7.nc to c:\\Users\\sceac10\\OneDrive - Cardiff University\\General\\data\\The Vale of Glamorgan_netcdf_data\\The Vale of Glamorgan_surface_net_solar_radiation_2022.nc (30.9K)\n",
      "2022-10-30 05:01:09,408 INFO Download rate 151.7K/s\n",
      "2022-10-30 05:01:09,499 INFO Welcome to the CDS\n",
      "2022-10-30 05:01:09,500 INFO Sending request to https://cds.climate.copernicus.eu/api/v2/resources/reanalysis-era5-land\n",
      "2022-10-30 05:01:09,550 INFO Request is queued\n"
     ]
    },
    {
     "name": "stdout",
     "output_type": "stream",
     "text": [
      "Rhondda Cynon Taf [51.67, -3.46, 51.66, -3.45]\n"
     ]
    },
    {
     "name": "stderr",
     "output_type": "stream",
     "text": [
      "2022-10-30 05:01:12,158 INFO Request is running\n",
      "2022-10-30 05:15:28,744 INFO Request is completed\n",
      "2022-10-30 05:15:28,745 INFO Downloading https://download-0000-clone.copernicus-climate.eu/cache-compute-0000/cache/data3/adaptor.mars.internal-1667106832.6466663-1554-1-58af1235-607a-44e5-bbc1-b9e9829c529a.nc to c:\\Users\\sceac10\\OneDrive - Cardiff University\\General\\data\\Rhondda Cynon Taf_netcdf_data\\Rhondda Cynon Taf_surface_net_solar_radiation_2022.nc (30.9K)\n",
      "2022-10-30 05:15:28,944 INFO Download rate 156.3K/s\n",
      "2022-10-30 05:15:29,033 INFO Welcome to the CDS\n",
      "2022-10-30 05:15:29,034 INFO Sending request to https://cds.climate.copernicus.eu/api/v2/resources/reanalysis-era5-land\n",
      "2022-10-30 05:15:29,125 INFO Request is queued\n"
     ]
    },
    {
     "name": "stdout",
     "output_type": "stream",
     "text": [
      "Merthyr Tydfil [51.75, -3.38, 51.74, -3.37]\n"
     ]
    },
    {
     "name": "stderr",
     "output_type": "stream",
     "text": [
      "2022-10-30 05:15:30,179 INFO Request is running\n",
      "2022-10-30 05:29:48,290 INFO Request is completed\n",
      "2022-10-30 05:29:48,292 INFO Downloading https://download-0018.copernicus-climate.eu/cache-compute-0018/cache/data9/adaptor.mars.internal-1667107664.171678-29731-10-9d142ee2-bf28-40bb-8326-c5bbceb04945.nc to c:\\Users\\sceac10\\OneDrive - Cardiff University\\General\\data\\Merthyr Tydfil_netcdf_data\\Merthyr Tydfil_surface_net_solar_radiation_2022.nc (30.9K)\n",
      "2022-10-30 05:29:48,512 INFO Download rate 141.3K/s\n",
      "2022-10-30 05:29:48,604 INFO Welcome to the CDS\n",
      "2022-10-30 05:29:48,604 INFO Sending request to https://cds.climate.copernicus.eu/api/v2/resources/reanalysis-era5-land\n",
      "2022-10-30 05:29:48,684 INFO Request is queued\n"
     ]
    },
    {
     "name": "stdout",
     "output_type": "stream",
     "text": [
      "Caerphilly [51.67, -3.18, 51.66, -3.17]\n"
     ]
    },
    {
     "name": "stderr",
     "output_type": "stream",
     "text": [
      "2022-10-30 05:29:49,732 INFO Request is running\n",
      "2022-10-30 05:44:07,836 INFO Request is completed\n",
      "2022-10-30 05:44:07,837 INFO Downloading https://download-0017.copernicus-climate.eu/cache-compute-0017/cache/data5/adaptor.mars.internal-1667108542.7599013-27542-8-d7931f1c-eea6-4fd8-9f9b-ff6f5353db95.nc to c:\\Users\\sceac10\\OneDrive - Cardiff University\\General\\data\\Caerphilly_netcdf_data\\Caerphilly_surface_net_solar_radiation_2022.nc (30.9K)\n",
      "2022-10-30 05:44:08,051 INFO Download rate 144.6K/s\n",
      "2022-10-30 05:44:08,145 INFO Welcome to the CDS\n",
      "2022-10-30 05:44:08,146 INFO Sending request to https://cds.climate.copernicus.eu/api/v2/resources/reanalysis-era5-land\n",
      "2022-10-30 05:44:08,229 INFO Request is queued\n"
     ]
    },
    {
     "name": "stdout",
     "output_type": "stream",
     "text": [
      "Blaenau Gwent [51.75, -3.18, 51.74, -3.17]\n"
     ]
    },
    {
     "name": "stderr",
     "output_type": "stream",
     "text": [
      "2022-10-30 05:44:09,283 INFO Request is running\n",
      "2022-10-30 05:58:27,416 INFO Request is completed\n",
      "2022-10-30 05:58:27,416 INFO Downloading https://download-0015-clone.copernicus-climate.eu/cache-compute-0015/cache/data9/adaptor.mars.internal-1667109383.3972776-12470-20-45c16da7-8923-4c84-b238-ae12421b2b6d.nc to c:\\Users\\sceac10\\OneDrive - Cardiff University\\General\\data\\Blaenau Gwent_netcdf_data\\Blaenau Gwent_surface_net_solar_radiation_2022.nc (31K)\n",
      "2022-10-30 05:58:27,637 INFO Download rate 140.7K/s\n",
      "2022-10-30 05:58:27,734 INFO Welcome to the CDS\n",
      "2022-10-30 05:58:27,734 INFO Sending request to https://cds.climate.copernicus.eu/api/v2/resources/reanalysis-era5-land\n",
      "2022-10-30 05:58:27,788 INFO Request is queued\n"
     ]
    },
    {
     "name": "stdout",
     "output_type": "stream",
     "text": [
      "Torfaen [51.7, -3.05, 51.69, -3.04]\n"
     ]
    },
    {
     "name": "stderr",
     "output_type": "stream",
     "text": [
      "2022-10-30 05:58:28,841 INFO Request is running\n",
      "2022-10-30 06:10:46,838 INFO Request is completed\n",
      "2022-10-30 06:10:46,839 INFO Downloading https://download-0013-clone.copernicus-climate.eu/cache-compute-0013/cache/data6/adaptor.mars.internal-1667110219.1057894-9521-14-f6b29c99-cef6-4d8a-a6d3-b6b041fb040e.nc to c:\\Users\\sceac10\\OneDrive - Cardiff University\\General\\data\\Torfaen_netcdf_data\\Torfaen_surface_net_solar_radiation_2022.nc (30.9K)\n",
      "2022-10-30 06:10:47,057 INFO Download rate 142K/s\n",
      "2022-10-30 06:10:47,142 INFO Welcome to the CDS\n",
      "2022-10-30 06:10:47,144 INFO Sending request to https://cds.climate.copernicus.eu/api/v2/resources/reanalysis-era5-land\n",
      "2022-10-30 06:10:47,191 INFO Request is queued\n"
     ]
    },
    {
     "name": "stdout",
     "output_type": "stream",
     "text": [
      "Monmouthshire [51.75, -2.83, 51.74, -2.82]\n"
     ]
    },
    {
     "name": "stderr",
     "output_type": "stream",
     "text": [
      "2022-10-30 06:10:48,239 INFO Request is running\n",
      "2022-10-30 06:23:06,139 INFO Request is completed\n",
      "2022-10-30 06:23:06,139 INFO Downloading https://download-0020.copernicus-climate.eu/cache-compute-0020/cache/data5/adaptor.mars.internal-1667110971.3434258-20118-5-e9603ac1-e117-4adb-b049-2855089cc093.nc to c:\\Users\\sceac10\\OneDrive - Cardiff University\\General\\data\\Monmouthshire_netcdf_data\\Monmouthshire_surface_net_solar_radiation_2022.nc (30.9K)\n",
      "2022-10-30 06:23:06,374 INFO Download rate 132.4K/s\n",
      "2022-10-30 06:23:06,474 INFO Welcome to the CDS\n",
      "2022-10-30 06:23:06,475 INFO Sending request to https://cds.climate.copernicus.eu/api/v2/resources/reanalysis-era5-land\n",
      "2022-10-30 06:23:06,594 INFO Request is queued\n"
     ]
    },
    {
     "name": "stdout",
     "output_type": "stream",
     "text": [
      "Newport [41.49, -71.31, 41.48, -71.3]\n"
     ]
    },
    {
     "name": "stderr",
     "output_type": "stream",
     "text": [
      "2022-10-30 06:23:07,644 INFO Request is running\n",
      "2022-10-30 06:35:25,633 INFO Request is completed\n",
      "2022-10-30 06:35:25,634 INFO Downloading https://download-0002-clone.copernicus-climate.eu/cache-compute-0002/cache/data7/adaptor.mars.internal-1667111695.4284554-12582-12-e8f586f2-3ef3-4d0e-ad9e-b805c2d5f903.nc to c:\\Users\\sceac10\\OneDrive - Cardiff University\\General\\data\\Newport_netcdf_data\\Newport_surface_net_solar_radiation_2022.nc (30.9K)\n",
      "2022-10-30 06:35:25,829 INFO Download rate 159.5K/s\n",
      "2022-10-30 06:35:25,919 INFO Welcome to the CDS\n",
      "2022-10-30 06:35:25,920 INFO Sending request to https://cds.climate.copernicus.eu/api/v2/resources/reanalysis-era5-land\n",
      "2022-10-30 06:35:26,007 INFO Request is queued\n"
     ]
    },
    {
     "name": "stdout",
     "output_type": "stream",
     "text": [
      "Cardiff [51.48, -3.18, 51.47, -3.17]\n"
     ]
    },
    {
     "name": "stderr",
     "output_type": "stream",
     "text": [
      "2022-10-30 06:35:27,066 INFO Request is running\n",
      "2022-10-30 06:47:45,065 INFO Request is completed\n",
      "2022-10-30 06:47:45,066 INFO Downloading https://download-0017.copernicus-climate.eu/cache-compute-0017/cache/data8/adaptor.mars.internal-1667112436.036181-19994-10-0bfccea7-719a-4c2f-8236-6b86c689415a.nc to c:\\Users\\sceac10\\OneDrive - Cardiff University\\General\\data\\Cardiff_netcdf_data\\Cardiff_surface_net_solar_radiation_2022.nc (30.9K)\n",
      "2022-10-30 06:47:45,322 INFO Download rate 121.4K/s\n",
      "2022-10-30 06:47:45,421 INFO Welcome to the CDS\n",
      "2022-10-30 06:47:45,422 INFO Sending request to https://cds.climate.copernicus.eu/api/v2/resources/reanalysis-era5-land\n",
      "2022-10-30 06:47:45,496 INFO Request is queued\n"
     ]
    },
    {
     "name": "stdout",
     "output_type": "stream",
     "text": [
      "City of London [51.52, -0.09, 51.51, -0.08]\n"
     ]
    },
    {
     "name": "stderr",
     "output_type": "stream",
     "text": [
      "2022-10-30 06:47:46,570 INFO Request is running\n",
      "2022-10-30 07:02:04,778 INFO Request is completed\n",
      "2022-10-30 07:02:04,778 INFO Downloading https://download-0013-clone.copernicus-climate.eu/cache-compute-0013/cache/data0/adaptor.mars.internal-1667113198.9777832-6836-4-86f93281-a50e-4926-abf5-e41b3bfbee9d.nc to c:\\Users\\sceac10\\OneDrive - Cardiff University\\General\\data\\City of London_netcdf_data\\City of London_surface_net_solar_radiation_2022.nc (30.9K)\n",
      "2022-10-30 07:02:05,008 INFO Download rate 135.2K/s\n",
      "2022-10-30 07:02:05,105 INFO Welcome to the CDS\n",
      "2022-10-30 07:02:05,106 INFO Sending request to https://cds.climate.copernicus.eu/api/v2/resources/reanalysis-era5-land\n",
      "2022-10-30 07:02:05,182 INFO Request is queued\n"
     ]
    },
    {
     "name": "stdout",
     "output_type": "stream",
     "text": [
      "Barking and Dagenham [51.55, 0.15, 51.54, 0.14]\n"
     ]
    },
    {
     "name": "stderr",
     "output_type": "stream",
     "text": [
      "2022-10-30 07:02:06,238 INFO Request is running\n",
      "2022-10-30 07:14:24,390 INFO Request is completed\n",
      "2022-10-30 07:14:24,391 INFO Downloading https://download-0020.copernicus-climate.eu/cache-compute-0020/cache/data9/adaptor.mars.internal-1667114045.7847779-1103-17-3c46ae77-1723-4404-8975-9b28e03dbc26.nc to c:\\Users\\sceac10\\OneDrive - Cardiff University\\General\\data\\Barking and Dagenham_netcdf_data\\Barking and Dagenham_surface_net_solar_radiation_2022.nc (35M)\n",
      "2022-10-30 07:14:30,558 INFO Download rate 5.7M/s   \n"
     ]
    }
   ],
   "source": [
    "# http://bboxfinder.com/#0.000000,0.000000,0.000000,0.000000 was used to get the coordinates of the location, the input coordinate data is a box [N, W, E,S] \n",
    "# where N the latitude of the top of the box, W the longitude of the left of the box, E the longitude of the left of the box and S the bottom of the box.\n",
    "# https://cds.climate.copernicus.eu/cdsapp#!/dataset/reanalysis-era5-land?tab=form was used to generate the code\n",
    "# select netcdf format\n",
    "c = cdsapi.Client()\n",
    "\n",
    "list_las= list(coordinates_LA_df.index)\n",
    "for LA in list_las:\n",
    "    box_coordinates = coordinates_LA_df.loc[LA].to_list() + [x-0.01 if x>0 else x+0.01 for x in coordinates_LA_df.loc[LA].to_list()]\n",
    "    box_coordinates = [round(x, 2) for x in box_coordinates]\n",
    "    print(LA, box_coordinates)\n",
    "    path_project:str = str(Path().absolute()).split(\"code\")[0]\n",
    "\n",
    "    path_netcdf_files = Path(path_project)/\"data\"/f\"{LA}_netcdf_data\"\n",
    "    path_netcdf_files.mkdir(parents=True, exist_ok=True)\n",
    "\n",
    "\n",
    "    list_years = [2022]# np.arange(2010, 2022)\n",
    "\n",
    "    list_variables = ['surface_net_solar_radiation', '2m_temperature']#,  '10m_u_component_of_wind', '10m_v_component_of_wind' #\n",
    "\n",
    "\n",
    "    for year in list_years:\n",
    "        for variable in list_variables:\n",
    "            filename = f'{LA}_{variable}_{year}.nc'\n",
    "            temp_full_path = path_netcdf_files/filename\n",
    "            temp_result = c.retrieve(\n",
    "                'reanalysis-era5-land',\n",
    "                {\n",
    "                    'format': 'netcdf',\n",
    "                    'variable': f'{variable}',\n",
    "                    'year': f'{year}',\n",
    "                    'month': [\n",
    "                        '01','02', '03',\n",
    "                        '04', '05', '06',\n",
    "                        '07', '08', '09',\n",
    "                        '10', '11', '12',\n",
    "                    ],\n",
    "                    'day': [\n",
    "                        '01', '02', '03',\n",
    "                        '04', '05', '06',\n",
    "                        '07', '08', '09',\n",
    "                        '10', '11', '12',\n",
    "                        '13', '14', '15',\n",
    "                        '16', '17', '18',\n",
    "                        '19', '20', '21',\n",
    "                        '22', '23', '24',\n",
    "                        '25', '26', '27',\n",
    "                        '28', '29', '30',\n",
    "                        '31',\n",
    "                    ],\n",
    "                    'time': [\n",
    "                        '00:00', '01:00', '02:00',\n",
    "                        '03:00', '04:00', '05:00',\n",
    "                        '06:00', '07:00', '08:00',\n",
    "                        '09:00', '10:00', '11:00',\n",
    "                        '12:00', '13:00', '14:00',\n",
    "                        '15:00', '16:00', '17:00',\n",
    "                        '18:00', '19:00', '20:00',\n",
    "                        '21:00', '22:00', '23:00',\n",
    "                    ],\n",
    "                    'area': box_coordinates,\n",
    "                },\n",
    "                f'{temp_full_path}')"
   ]
  }
 ],
 "metadata": {
  "kernelspec": {
   "display_name": "Python 3.10.7 ('degree_days': venv)",
   "language": "python",
   "name": "python3"
  },
  "language_info": {
   "codemirror_mode": {
    "name": "ipython",
    "version": 3
   },
   "file_extension": ".py",
   "mimetype": "text/x-python",
   "name": "python",
   "nbconvert_exporter": "python",
   "pygments_lexer": "ipython3",
   "version": "3.10.7"
  },
  "orig_nbformat": 4,
  "vscode": {
   "interpreter": {
    "hash": "4dee939fb3b4de230198db21b7ca14f383f52f4aba21cf97569bc855125f1cdf"
   }
  }
 },
 "nbformat": 4,
 "nbformat_minor": 2
}
