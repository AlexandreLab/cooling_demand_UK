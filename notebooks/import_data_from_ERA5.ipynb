{
 "cells": [
  {
   "cell_type": "code",
   "execution_count": 1,
   "metadata": {},
   "outputs": [],
   "source": [
    "import numpy as np\n",
    "import cdsapi\n",
    "from pathlib import Path\n",
    "import pandas as pd"
   ]
  },
  {
   "cell_type": "code",
   "execution_count": null,
   "metadata": {},
   "outputs": [],
   "source": [
    "path_thermal_data = Path(\"../data/input_data/Thermal_characteristics_beforeEE.csv\")\n",
    "residential_data = pd.read_csv(path_thermal_data, index_col=0)\n",
    "residential_data"
   ]
  },
  {
   "cell_type": "code",
   "execution_count": 3,
   "metadata": {},
   "outputs": [],
   "source": [
    "## Import the required library\n",
    "# from geopy.geocoders import Nominatim\n",
    "# coordinates_LA = {}\n",
    "\n",
    "# for LA in residential_data[\"Local Authority\"].unique():\n",
    "#     # Initialize Nominatim API\n",
    "#     geolocator = Nominatim(user_agent=\"MyApp\")\n",
    "#     location = geolocator.geocode(LA)\n",
    "#     coordinates_LA[LA] = (location.latitude, location.longitude)\n",
    "#     # print(f\"{LA} -- the latitude is: {location.latitude} and the longitude is: {location.longitude}.\")\n",
    "\n",
    "# coordinates_LA_df = pd.DataFrame(coordinates_LA).T\n",
    "# coordinates_LA_df.columns = [\"Latitude\", \"Longitude\"]\n",
    "# coordinates_LA_df.to_csv(r\"../data/intermediary/coordinates_LA.csv\")\n",
    "# coordinates_LA_df.head()"
   ]
  },
  {
   "cell_type": "code",
   "execution_count": null,
   "metadata": {},
   "outputs": [],
   "source": [
    "## Load coordinates data\n",
    "\n",
    "coordinates_LA_df = pd.read_csv(r\"../data/intermediary/coordinates_LA.csv\", index_col = 0)\n",
    "coordinates_LA_df"
   ]
  },
  {
   "cell_type": "code",
   "execution_count": null,
   "metadata": {},
   "outputs": [],
   "source": []
  },
  {
   "cell_type": "code",
   "execution_count": null,
   "metadata": {},
   "outputs": [],
   "source": [
    "# http://bboxfinder.com/#0.000000,0.000000,0.000000,0.000000 was used to get the coordinates of the location, the input coordinate data is a box [N, W, E,S] \n",
    "# where N the latitude of the top of the box, W the longitude of the left of the box, E the longitude of the left of the box and S the bottom of the box.\n",
    "# https://cds.climate.copernicus.eu/cdsapp#!/dataset/reanalysis-era5-land?tab=form was used to generate the code\n",
    "# select netcdf format\n",
    "c = cdsapi.Client()\n",
    "\n",
    "list_las= list(coordinates_LA_df.index)\n",
    "for LA in list_las:\n",
    "    box_coordinates = coordinates_LA_df.loc[LA].to_list() + [x-0.01 if x>0 else x+0.01 for x in coordinates_LA_df.loc[LA].to_list()]\n",
    "    box_coordinates = [round(x, 2) for x in box_coordinates]\n",
    "    print(LA, box_coordinates)\n",
    "    path_project:str = str(Path().absolute()).split(\"code\")[0]\n",
    "\n",
    "    path_netcdf_files = Path(path_project)/\"data\"/f\"{LA}_netcdf_data\"\n",
    "    path_netcdf_files.mkdir(parents=True, exist_ok=True)\n",
    "\n",
    "\n",
    "    list_years = [2022]# np.arange(2010, 2022)\n",
    "\n",
    "    list_variables = ['surface_net_solar_radiation', '2m_temperature']#,  '10m_u_component_of_wind', '10m_v_component_of_wind' #\n",
    "\n",
    "\n",
    "    for year in list_years:\n",
    "        for variable in list_variables:\n",
    "            filename = f'{LA}_{variable}_{year}.nc'\n",
    "            temp_full_path = path_netcdf_files/filename\n",
    "            temp_result = c.retrieve(\n",
    "                'reanalysis-era5-land',\n",
    "                {\n",
    "                    'format': 'netcdf',\n",
    "                    'variable': f'{variable}',\n",
    "                    'year': f'{year}',\n",
    "                    'month': [\n",
    "                        '01','02', '03',\n",
    "                        '04', '05', '06',\n",
    "                        '07', '08', '09',\n",
    "                        '10', '11', '12',\n",
    "                    ],\n",
    "                    'day': [\n",
    "                        '01', '02', '03',\n",
    "                        '04', '05', '06',\n",
    "                        '07', '08', '09',\n",
    "                        '10', '11', '12',\n",
    "                        '13', '14', '15',\n",
    "                        '16', '17', '18',\n",
    "                        '19', '20', '21',\n",
    "                        '22', '23', '24',\n",
    "                        '25', '26', '27',\n",
    "                        '28', '29', '30',\n",
    "                        '31',\n",
    "                    ],\n",
    "                    'time': [\n",
    "                        '00:00', '01:00', '02:00',\n",
    "                        '03:00', '04:00', '05:00',\n",
    "                        '06:00', '07:00', '08:00',\n",
    "                        '09:00', '10:00', '11:00',\n",
    "                        '12:00', '13:00', '14:00',\n",
    "                        '15:00', '16:00', '17:00',\n",
    "                        '18:00', '19:00', '20:00',\n",
    "                        '21:00', '22:00', '23:00',\n",
    "                    ],\n",
    "                    'area': box_coordinates,\n",
    "                },\n",
    "                f'{temp_full_path}')"
   ]
  }
 ],
 "metadata": {
  "kernelspec": {
   "display_name": "Python 3.10.7 ('degree_days': venv)",
   "language": "python",
   "name": "python3"
  },
  "language_info": {
   "codemirror_mode": {
    "name": "ipython",
    "version": 3
   },
   "file_extension": ".py",
   "mimetype": "text/x-python",
   "name": "python",
   "nbconvert_exporter": "python",
   "pygments_lexer": "ipython3",
   "version": "3.10.7"
  },
  "orig_nbformat": 4,
  "vscode": {
   "interpreter": {
    "hash": "4dee939fb3b4de230198db21b7ca14f383f52f4aba21cf97569bc855125f1cdf"
   }
  }
 },
 "nbformat": 4,
 "nbformat_minor": 2
}
