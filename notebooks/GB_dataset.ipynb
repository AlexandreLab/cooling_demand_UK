{
 "cells": [
  {
   "cell_type": "code",
   "execution_count": null,
   "id": "121ce942",
   "metadata": {},
   "outputs": [],
   "source": [
    "%load_ext autoreload\n",
    "%autoreload 2"
   ]
  },
  {
   "cell_type": "code",
   "execution_count": null,
   "id": "73832dd1-220b-43df-9d83-c3dec37f1734",
   "metadata": {},
   "outputs": [],
   "source": [
    "import sys\n",
    "sys.path.insert(0, '..//src/')\n",
    "import pandas as pd\n",
    "import numpy as np\n",
    "import seaborn as sns\n",
    "import matplotlib.pyplot as plt\n",
    "import matplotlib.ticker as tkr\n",
    "import main\n",
    "from pathlib import Path\n",
    "\n",
    "\n",
    "sns.set_palette(sns.color_palette(\"colorblind\", 15))\n",
    "plt.rcParams['font.family'] = 'Times New Roman'\n",
    "font_size = 12\n",
    "params = {'axes.labelsize': font_size+2,\n",
    "          'axes.titlesize':font_size+4,\n",
    "          'legend.fontsize': font_size, \n",
    "          'xtick.labelsize': font_size,\n",
    "          'ytick.labelsize': font_size,\n",
    "          'font.size': font_size}\n",
    "plt.rcParams.update(params)\n",
    "sns.set_style(\"whitegrid\")\n",
    "fig_format = \"pdf\"\n",
    "dpi = 300\n",
    "figsize = (12, 3.5)\n",
    "figsize_map = (16, 8)\n",
    "sns.palplot(sns.color_palette())"
   ]
  },
  {
   "cell_type": "code",
   "execution_count": 176,
   "id": "175868ed",
   "metadata": {},
   "outputs": [],
   "source": [
    "PATH_ONEDRIVE = Path(r'D:\\Profile data Cardiff\\OneDrive - Cardiff University')\n",
    "path_saving_results = PATH_ONEDRIVE / r'04 - Projects\\25 - Geothermal district heating\\04 - Data\\viable_lsoas'\n",
    "path_scotland_results = PATH_ONEDRIVE / r'04 - Projects\\22 - Heat demand scotland\\data'\n",
    "# path_ukerc_england_wales_df = Path(r\"C:\\Users\\sceac10\\Cardiff University\\National Grid Project - Documents\\General\\Paper\\data for UKERC\")\n",
    "path_england_wales_df = PATH_ONEDRIVE / r'04 - Projects\\03 - PhD\\03 - Analysis\\03 - LSOAs\\00 - Data'\n",
    "ukerc_save_data =PATH_ONEDRIVE / r'04 - Projects\\20 - UKERC\\03 - Code\\flexibilitydwellings\\data\\UKERC\\01 - Thermal_Characteristics'\n",
    "\n",
    "path_scotland_la_region_lookup = PATH_ONEDRIVE / r'04 - Projects\\00 - Final data\\Geo_lookup_tables\\Scotland_LAregionlookup.csv'\n",
    "\n",
    "path_gb_data = PATH_ONEDRIVE / r'04 - Projects\\00 - Final data\\Annual_demand'"
   ]
  },
  {
   "cell_type": "code",
   "execution_count": null,
   "id": "7916e359",
   "metadata": {},
   "outputs": [],
   "source": []
  },
  {
   "cell_type": "code",
   "execution_count": null,
   "id": "6beb5d94",
   "metadata": {},
   "outputs": [],
   "source": [
    "# thermal characteristics LSOA data\n",
    "lookup_geolocation_df = pd.read_csv(ukerc_save_data/f\"Thermal_characteristics_afterEE.csv\", index_col=0)\n",
    "lookup_geolocation_df.head()\n"
   ]
  },
  {
   "cell_type": "code",
   "execution_count": 178,
   "id": "d6b89d47",
   "metadata": {},
   "outputs": [],
   "source": [
    "\n",
    "lookup_lsoa_LA = dict(zip(lookup_geolocation_df['LSOA_code'].values, lookup_geolocation_df['Local Authority'].values))\n",
    "lookup_lsoa_Region = dict(zip(lookup_geolocation_df['LSOA_code'].values, lookup_geolocation_df['Region'].values))\n"
   ]
  },
  {
   "cell_type": "code",
   "execution_count": null,
   "id": "1bc45216",
   "metadata": {},
   "outputs": [],
   "source": [
    "scenario = 'before'\n",
    "england_wales_df = pd.read_csv(path_england_wales_df/f\"LSOAs_in_England_Wales_{scenario}_EE_heat_demand.csv\")\n",
    "england_wales_df.columns = [x.lower() for x in england_wales_df.columns]\n",
    "england_wales_df.head()"
   ]
  },
  {
   "cell_type": "code",
   "execution_count": null,
   "id": "9f4b2c18",
   "metadata": {},
   "outputs": [],
   "source": [
    "england_wales_df.columns = [x+\" (m2)\" if \"average floor area\" in x else x for x in england_wales_df.columns ]\n",
    "for x in england_wales_df.columns:\n",
    "  print(x)"
   ]
  },
  {
   "cell_type": "code",
   "execution_count": null,
   "id": "365bb976",
   "metadata": {},
   "outputs": [],
   "source": [
    "scotland_df = pd.read_csv(path_scotland_results/\"full_scotland_results.csv\", index_col=0)\n",
    "scotland_df.columns = [x.lower() for x in scotland_df.columns]\n",
    "scotland_df.columns = [c.replace('resistance', 'resistance heating') for c in scotland_df.columns]\n",
    "scotland_df.columns = [c.replace('solid fuel boiler', 'biomass boiler') for c in scotland_df.columns]\n",
    "scotland_df.head()"
   ]
  },
  {
   "cell_type": "code",
   "execution_count": 182,
   "id": "36dbc178",
   "metadata": {},
   "outputs": [],
   "source": [
    "lookup_lsoa_LA_scotland = dict(scotland_df[['lsoa11cd', 'ladnm']].values)\n",
    "\n",
    "lookup_la_region_scotland = pd.read_csv(path_scotland_la_region_lookup, index_col=0)\n",
    "lookup_la_region_scotland = dict(lookup_la_region_scotland.values)"
   ]
  },
  {
   "cell_type": "code",
   "execution_count": 183,
   "id": "3e2384a8",
   "metadata": {},
   "outputs": [],
   "source": [
    "gb_df = pd.concat([scotland_df, england_wales_df], axis=0)#.dropna(axis=1)"
   ]
  },
  {
   "cell_type": "code",
   "execution_count": null,
   "id": "4a67dd77",
   "metadata": {},
   "outputs": [],
   "source": [
    "cols_to_keep = ['lsoa11cd', 'msoa11cd', 'road length (m)', 'area (km2)']\n",
    "cols_to_keep = cols_to_keep + [x for x in gb_df.columns if f\"average heat demand {scenario} energy efficiency measures for\" in x]\n",
    "cols_to_keep = cols_to_keep + [x for x in gb_df.columns if \"average floor area\" in x]\n",
    "cols_to_keep = cols_to_keep + [x for x in gb_df.columns if \"number of\" in x and 'in 2018' in x and 'total' not in x]\n",
    "cols_to_keep = cols_to_keep + [x for x in gb_df.columns if \"number of\" in x and 'in 2011' in x and 'total' not in x]\n",
    "cols_to_keep"
   ]
  },
  {
   "cell_type": "code",
   "execution_count": null,
   "id": "7f5ca084",
   "metadata": {},
   "outputs": [],
   "source": [
    "gb_df = gb_df[cols_to_keep]\n",
    "gb_df['Region'] = gb_df['lsoa11cd'].map(lookup_lsoa_Region)\n",
    "gb_df['Local Authority'] = gb_df['lsoa11cd'].map(lookup_lsoa_LA)\n",
    "gb_df['Local Authority'] = gb_df['Local Authority'].fillna(gb_df['lsoa11cd'].map(lookup_lsoa_LA_scotland))\n",
    "gb_df['Region'] = gb_df['Region'].fillna(gb_df['Local Authority'].map(lookup_la_region_scotland))\n",
    "gb_df.head()"
   ]
  },
  {
   "cell_type": "code",
   "execution_count": 186,
   "id": "88f84fec",
   "metadata": {},
   "outputs": [],
   "source": [
    "floor_area_cols = [x for x in gb_df.columns if \"average floor area\" in x]\n",
    "gb_df[floor_area_cols] = gb_df[floor_area_cols].fillna(gb_df[floor_area_cols].mean())"
   ]
  },
  {
   "cell_type": "code",
   "execution_count": 187,
   "id": "5b8e0de6",
   "metadata": {},
   "outputs": [],
   "source": [
    "gb_df.columns = [x.capitalize().replace('kwh', 'kWh') for x in gb_df.columns]"
   ]
  },
  {
   "cell_type": "code",
   "execution_count": null,
   "id": "9bc082a0",
   "metadata": {},
   "outputs": [],
   "source": [
    "gb_df.head()"
   ]
  },
  {
   "cell_type": "code",
   "execution_count": 189,
   "id": "957a0ec3",
   "metadata": {},
   "outputs": [],
   "source": [
    "for c in gb_df.columns:\n",
    "  if len(gb_df[gb_df[c].isna()]) > 0:\n",
    "    print(f'{c} for {len(gb_df[gb_df[c].isna()])}')"
   ]
  },
  {
   "cell_type": "code",
   "execution_count": 190,
   "id": "4ffa7c46",
   "metadata": {},
   "outputs": [],
   "source": [
    "gb_df.reset_index(inplace=True, drop=True)\n",
    "gb_df.to_csv(path_gb_data/f\"GB_Annual_heat_demand_{scenario}_EE_LSOA.csv\")"
   ]
  },
  {
   "cell_type": "code",
   "execution_count": null,
   "id": "60322928",
   "metadata": {},
   "outputs": [],
   "source": []
  },
  {
   "cell_type": "code",
   "execution_count": null,
   "id": "f6284d35",
   "metadata": {},
   "outputs": [],
   "source": []
  },
  {
   "cell_type": "code",
   "execution_count": null,
   "id": "b0756f13",
   "metadata": {},
   "outputs": [],
   "source": []
  }
 ],
 "metadata": {
  "kernelspec": {
   "display_name": "Python 3.10.7 ('demand-estimation': venv)",
   "language": "python",
   "name": "python3"
  },
  "language_info": {
   "codemirror_mode": {
    "name": "ipython",
    "version": 3
   },
   "file_extension": ".py",
   "mimetype": "text/x-python",
   "name": "python",
   "nbconvert_exporter": "python",
   "pygments_lexer": "ipython3",
   "version": "3.10.7"
  },
  "vscode": {
   "interpreter": {
    "hash": "a6d68ac37bed0a7bc33aef7847dc8cbc6f1b67df2eba538a10ea8d1feb2c9512"
   }
  }
 },
 "nbformat": 4,
 "nbformat_minor": 5
}
