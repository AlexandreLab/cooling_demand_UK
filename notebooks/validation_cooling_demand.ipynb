{
 "cells": [
  {
   "cell_type": "code",
   "execution_count": 1,
   "id": "ed6a6a76",
   "metadata": {},
   "outputs": [],
   "source": [
    "%load_ext autoreload\n",
    "%autoreload 2"
   ]
  },
  {
   "cell_type": "code",
   "execution_count": 5,
   "id": "73832dd1-220b-43df-9d83-c3dec37f1734",
   "metadata": {},
   "outputs": [],
   "source": [
    "import sys\n",
    "sys.path.insert(0, '..//src/')\n",
    "\n",
    "import pandas as pd\n",
    "import numpy as np\n",
    "from datetime import datetime\n",
    "import xarray as xr\n",
    "import matplotlib.pyplot as plt\n",
    "import seaborn as sns\n",
    "from pathlib import Path\n",
    "import itertools\n",
    "import main\n",
    "\n",
    "sns.set_palette(sns.color_palette(\"colorblind\", 15))\n",
    "plt.rcParams['font.family'] = 'Times New Roman'\n",
    "font_size = 12\n",
    "params = {'axes.labelsize': font_size+2,\n",
    "          'axes.titlesize':font_size+4,\n",
    "          'legend.fontsize': font_size,\n",
    "          'xtick.labelsize': font_size,\n",
    "          'ytick.labelsize': font_size,\n",
    "          'font.size': font_size}\n",
    "plt.rcParams.update(params)\n",
    "sns.set_style(\"whitegrid\")\n",
    "export_fig_format = \"pdf\"\n",
    "fig_format = \"png\"\n",
    "dpi = 300\n",
    "figsize = (12, 3.5)\n",
    "figsize_map = (16, 8)\n",
    "\n",
    "markers = ['P', 'o', '^', 's', '*', 'v']\n",
    "linewidth = 0.1\n",
    "edgecolor = 'black'\n",
    "\n",
    "from models import thermal_model, validation\n",
    "from common import functions, enums, schema\n",
    "from data import source\n"
   ]
  },
  {
   "cell_type": "code",
   "execution_count": 6,
   "id": "5d3cdef8",
   "metadata": {},
   "outputs": [],
   "source": [
    "path_OAT = main.PATH_ORG / r'General\\resources\\prediction of overheating data\\Weather_16Jun-6Jul_2017.xlsx'\n",
    "path_measured_IAT =  main.PATH_ORG / r'General\\resources\\prediction of overheating data\\MeasuredTemperature_16Jun-6Jul_2017.xlsx'\n",
    "path_IES_data = main.PATH_ORG / r'General\\resources\\prediction of overheating data\\Loughborough Output.xlsx'\n",
    "sheet_name_IES = \"IES\""
   ]
  },
  {
   "cell_type": "code",
   "execution_count": 7,
   "id": "f3ad2838",
   "metadata": {},
   "outputs": [],
   "source": [
    "solar_radiation_data = pd.read_excel(path_OAT, sheet_name=\"1. Weather (16 Jun to 6 Jul)\", parse_dates=True, header=[0,1])\n",
    "solar_radiation_data.set_index((\"Label\",\"Units\"), inplace=True)"
   ]
  },
  {
   "cell_type": "code",
   "execution_count": null,
   "id": "e1c7e11c",
   "metadata": {},
   "outputs": [],
   "source": [
    "input_data = pd.read_excel(path_OAT, sheet_name=\"2. Dry-bulb (16 Jun to 6 Jul)\", parse_dates=True)\n",
    "input_data.set_index(\"Timestamp\", inplace=True)\n",
    "input_data = input_data.resample('60min').mean()\n",
    "input_data.index.name = schema.OutputDataSchema.DATEINDEX\n",
    "input_data.index = input_data.index.tz_localize(\"utc\")\n",
    "input_data.columns = [schema.OutputDataSchema.OAT]\n",
    "input_data[schema.OutputDataSchema.SOLARRADIATION] = solar_radiation_data[\"Total(SPN1).Avg1\"].resample('60min').mean().values\n",
    "input_data.head()"
   ]
  },
  {
   "cell_type": "code",
   "execution_count": 15,
   "id": "484a43cd",
   "metadata": {},
   "outputs": [],
   "source": [
    "THERMAL_CAPACITY_LEVEL = {\n",
    "  \"low\":100,\n",
    "  \"medium\":250,\n",
    "  \"high\":450,\n",
    "}\n",
    "\n",
    "\n",
    "def calculate_thermal_capacity(floor_area:float, level:str=\"medium\") -> float:\n",
    "  if level in THERMAL_CAPACITY_LEVEL:\n",
    "    return THERMAL_CAPACITY_LEVEL[level]*floor_area\n",
    "  else:\n",
    "    print(f\"thermal capacity level {level} not recognized.\")\n",
    "  return 0.\n",
    "\n",
    "# Create models\n",
    "def create_dwelling(dwelling_param:dict[str, float])->thermal_model.ThermalModel:\n",
    "  R = dwelling_param['R']\n",
    "  C = dwelling_param['C']\n",
    "  # initial_indoor_air_temperature = dwelling_param['initial_indoor_air_temperature']\n",
    "  dwelling = thermal_model.ThermalModel(R=R, C=C)\n",
    "  dwelling.g_t = dwelling_param['g_t']\n",
    "  return dwelling\n",
    "\n",
    "\n",
    "def run_simulation(\n",
    "    param_dwelling: dict,\n",
    "    weather_data: pd.DataFrame,\n",
    ") -> pd.DataFrame:\n",
    "  dwelling = create_dwelling(param_dwelling)\n",
    "  dwelling.cooling_design_temperature = 0\n",
    "  data_source = source.SimulationData(dwelling,\n",
    "                                      weather_data,\n",
    "                                      timestep_simulation=3600)\n",
    "\n",
    "  rcmodel_dataf = data_source.create_era5_based_simulation_data(\n",
    "      estimate_solar_gains=param_dwelling['solar_gains'])\n",
    "  rcmodel_dataf[schema.DataSchema.TOTALGAINS] = rcmodel_dataf[\n",
    "      schema.DataSchema.TOTALGAINS]\n",
    "  dwelling.model_data = rcmodel_dataf\n",
    "  rcmodel_dataf = dwelling.run_model()\n",
    "  # resampled_rcmodel_dataf = data_source.resample_modelling_results(\n",
    "  #     rcmodel_dataf)\n",
    "  # resampled_rcmodel_dataf.index.name = schema.DataSchema.TIME_HOURS\n",
    "  functions.print_heating_and_cooling_demand(rcmodel_dataf)\n",
    "\n",
    "  return rcmodel_dataf\n"
   ]
  },
  {
   "cell_type": "code",
   "execution_count": 10,
   "id": "dcbbb496",
   "metadata": {},
   "outputs": [],
   "source": [
    "def get_dwelling_parameters(dwelling_name:str, thermal_capacity_level:str, transmittance_factor:float)->dict:\n",
    "  \"\"\"Return a dictionnary with the dwelling parameters\"\"\"\n",
    "  floor_area = 3.8+0.8+5.6+4.2+14.4+14+14.2+5.7+13.6\n",
    "\n",
    "  common_dwelling_parameters = {\n",
    "    'solar_gains' : True,\n",
    "    'max_IAT' : 24,\n",
    "    'g_t' : transmittance_factor, # Transmittance factors for glazing 0.85 (single glazed) to 0.57 (triple glazed), 0.76 double glazed Table 6b p216.\n",
    "    'thermal_capacity_level':thermal_capacity_level,\n",
    "    'list_rooms' : [\"Living room\", \"Kitchen\", \"Front bedroom\", \"Rear bedroom\",\"Small bedroom\"]\n",
    "  }\n",
    "  if dwelling_name == 'west dwelling':\n",
    "\n",
    "    dwelling_parameters = {\n",
    "      'name' : 'west dwelling',\n",
    "      'floor_area' : floor_area, # total floor area excluding total floor area\n",
    "      'R' : 1/(0.223), #K/kW\n",
    "      'C':calculate_thermal_capacity(floor_area, thermal_capacity_level),  #kJ/K\n",
    "      'initial_indoor_air_temperature': 22.467323,\n",
    "      'sheet_names' : [\"W.1 Living room (West house)\", \"W.2 Kitchen (West house)\", \"W.3 FB (West house)\", \"W.4 RB (West house)\", \"W.5 SB (West house)\"],\n",
    "      'volume_rooms' : {\n",
    "        \"W.1 Living room (West house)\":34, \n",
    "        \"W.2 Kitchen (West house)\":14.3, \n",
    "        \"W.3 FB (West house)\": 33.6, \n",
    "        \"W.4 RB (West house)\": 34.6, \n",
    "        \"W.5 SB (West house)\": 10},\n",
    "    }\n",
    "  elif dwelling_name == 'east dwelling':\n",
    "\n",
    "    dwelling_parameters = {\n",
    "      'name' : 'east dwelling',\n",
    "      'floor_area' : floor_area, # total floor area excluding total floor area\n",
    "      'R' : 1/(0.216), #K/kW 1/(0.216)\n",
    "      'C':calculate_thermal_capacity(floor_area, thermal_capacity_level),  #kJ/K\n",
    "      'initial_indoor_air_temperature': 22.467323,\n",
    "      'sheet_names' : [\"E.1 Living room (East house)\", \"E.2 Kitchen (East house)\", \"E.3 FB (East house)\", \"E.4 RB (East house)\", \"E.5 SB (East house)\"],\n",
    "      'volume_rooms' : {\n",
    "        \"E.1 Living room (East house)\":34, \n",
    "        \"E.2 Kitchen (East house)\":14.3, \n",
    "        \"E.3 FB (East house)\": 33.6, \n",
    "        \"E.4 RB (East house)\": 34.6, \n",
    "        \"E.5 SB (East house)\": 10},\n",
    "    }\n",
    "  else:\n",
    "    dwelling_parameters = {}\n",
    "  return common_dwelling_parameters | dwelling_parameters\n",
    "\n",
    "def get_scenario_name(param_dict:dict)->str:\n",
    "  \"\"\"Return the scenario name based on the input parameters to the model.\"\"\"\n",
    "  return f\"{param_dict['name']} ({param_dict['thermal_capacity_level']}, {param_dict['g_t']})\""
   ]
  },
  {
   "cell_type": "code",
   "execution_count": 11,
   "id": "70dca788",
   "metadata": {},
   "outputs": [],
   "source": [
    "combined_results = pd.DataFrame()"
   ]
  },
  {
   "cell_type": "code",
   "execution_count": null,
   "id": "951c92df",
   "metadata": {},
   "outputs": [],
   "source": [
    "transmittance_factors = [0.76] #[0.85, 0.57, 0.76]\n",
    "thermal_capacity_levels = ['high'] #['low', 'high', 'medium']\n",
    "combinations = list(itertools.product(transmittance_factors, thermal_capacity_levels))\n",
    "\n",
    "for temp_transmittance, temp_thermal_capacity in combinations:\n",
    "  parameters_dwelling_to_model = get_dwelling_parameters('east dwelling', temp_thermal_capacity, temp_transmittance)\n",
    "  temp_result_simulation = run_simulation(parameters_dwelling_to_model, input_data)\n",
    "  scenario_name = get_scenario_name(parameters_dwelling_to_model)\n",
    "  combined_results[scenario_name] = temp_result_simulation[schema.DataSchema.IAT].values"
   ]
  },
  {
   "cell_type": "code",
   "execution_count": null,
   "id": "7f8d51a6",
   "metadata": {},
   "outputs": [],
   "source": []
  },
  {
   "cell_type": "code",
   "execution_count": null,
   "id": "812a2228",
   "metadata": {},
   "outputs": [],
   "source": [
    "ies_data = pd.read_excel(path_IES_data, sheet_name=sheet_name_IES, usecols=[x for x in range(2, 11)])\n",
    "ies_data = ies_data.iloc[:len(temp_result_simulation), :]\n",
    "ies_data.index = temp_result_simulation.index\n",
    "ies_data.head()"
   ]
  },
  {
   "cell_type": "code",
   "execution_count": null,
   "id": "12b1ce0d",
   "metadata": {},
   "outputs": [],
   "source": [
    "### Visualisations"
   ]
  },
  {
   "cell_type": "code",
   "execution_count": null,
   "id": "c8364da1",
   "metadata": {},
   "outputs": [],
   "source": [
    "temp_result_simulation.to_csv(Path(r\"../data/results/temp_results_RC_model.csv\"))"
   ]
  },
  {
   "cell_type": "code",
   "execution_count": null,
   "id": "2b8a5e2a",
   "metadata": {},
   "outputs": [],
   "source": [
    "fig, ax = plt.subplots(figsize=figsize)\n",
    "gains_cols = [schema.DataSchema.SOLARGAINS, schema.DataSchema.OCCUPANCYGAINS, schema.DataSchema.APPLIANCESGAINS]\n",
    "temp_result_simulation[gains_cols].plot(ax=ax)\n",
    "ax.margins(0, None)\n",
    "ax.set_ylabel(schema.VisualisationSchema.GAINS)"
   ]
  },
  {
   "cell_type": "code",
   "execution_count": null,
   "id": "a5f330ac",
   "metadata": {},
   "outputs": [],
   "source": []
  },
  {
   "cell_type": "code",
   "execution_count": null,
   "id": "64dd98f3",
   "metadata": {},
   "outputs": [],
   "source": [
    "viz_results = validation.validation_RC_model(temp_result_simulation, parameters_dwelling_to_model)"
   ]
  },
  {
   "cell_type": "code",
   "execution_count": null,
   "id": "d3c1ff1d",
   "metadata": {},
   "outputs": [],
   "source": [
    "# fig, ax = plt.subplots(figsize=figsize)\n",
    "# fig, ax = viz_results.plot_measured_data(fig, ax, plot_all_rooms=True)\n",
    "# ax.get_legend_handles_labels()"
   ]
  },
  {
   "cell_type": "code",
   "execution_count": null,
   "id": "54d08fb7",
   "metadata": {},
   "outputs": [],
   "source": [
    "fig, ax = plt.subplots(figsize=figsize)\n",
    "fig, ax = viz_results.plot_results(fig, ax, plot_all_rooms=True)\n",
    "ax.legend()\n",
    "viz_results.calculate_metrics()"
   ]
  },
  {
   "cell_type": "code",
   "execution_count": null,
   "id": "d37deca8",
   "metadata": {},
   "outputs": [],
   "source": [
    "dadawdq"
   ]
  },
  {
   "cell_type": "code",
   "execution_count": null,
   "id": "fe72b69d",
   "metadata": {},
   "outputs": [],
   "source": []
  },
  {
   "cell_type": "code",
   "execution_count": null,
   "id": "eb041521",
   "metadata": {},
   "outputs": [],
   "source": [
    "fig, ax = plt.subplots(figsize=figsize)\n",
    "fig, ax = viz_results.plot_measured_data(fig, ax)\n",
    "ax.legend().remove()\n",
    "\n",
    "for c in combined_results.columns:\n",
    "    combined_results[c].plot(ax=ax,\n",
    "                            color='red',\n",
    "                            linewidth=1)\n",
    "\n",
    "upper_arrs = combined_results.max(axis=1)\n",
    "lower_arrs = combined_results.min(axis=1)\n",
    "x_arr = combined_results.index\n",
    "ax.fill_between(x_arr, upper_arrs, lower_arrs, alpha=0.3, color='red')\n",
    "\n",
    "max_cdh = validation.calculate_cooling_degree_hours(upper_arrs, 24)\n",
    "min_cdh = validation.calculate_cooling_degree_hours(lower_arrs, 24)\n",
    "print(f'max_cdh = {max_cdh} and min_cdh = {min_cdh}')"
   ]
  },
  {
   "cell_type": "code",
   "execution_count": null,
   "id": "0f6cf7e3",
   "metadata": {},
   "outputs": [],
   "source": [
    "ies_avg_iat = viz_results.weighted_average_measured_IAT_dwelling(ies_data[parameters_dwelling_to_model['sheet_names']])\n",
    "ies_avg_iat.columns = [enums.DataSource.IES.value]\n",
    "fig, ax = plt.subplots(figsize=figsize)\n",
    "fig, ax = viz_results.plot_results(fig, ax)\n",
    "ies_avg_iat.plot(\n",
    "    ax=ax,\n",
    "    kind='line',\n",
    "    color='blue',\n",
    "    marker='x',\n",
    "    markevery=20,\n",
    "    linewidth=1)\n",
    "ax.legend()\n"
   ]
  },
  {
   "cell_type": "code",
   "execution_count": null,
   "id": "ef2c3643",
   "metadata": {},
   "outputs": [],
   "source": [
    "viz_results.calculate_metrics()\n",
    "validation.calculate_cooling_degree_hours(ies_avg_iat[enums.DataSource.IES.value], 24)"
   ]
  },
  {
   "cell_type": "code",
   "execution_count": null,
   "id": "22c61b47",
   "metadata": {},
   "outputs": [],
   "source": []
  },
  {
   "cell_type": "code",
   "execution_count": null,
   "id": "67be1ba9",
   "metadata": {},
   "outputs": [],
   "source": [
    "fig, ax = plt.subplots(figsize=figsize)\n",
    "ax2 = ax.twinx()\n",
    "dataf[schema.OutputDataSchema.SOLARRADIATION].plot(ax=ax2, color=sns.color_palette()[1])\n",
    "ax2.set_ylabel(schema.OutputDataSchema.SOLARRADIATION, color=sns.color_palette()[1])\n",
    "dataf[schema.OutputDataSchema.OAT].plot(ax=ax, color=sns.color_palette()[0])\n",
    "ax.set_ylabel(schema.OutputDataSchema.OAT, color=sns.color_palette()[0])\n",
    "\n",
    "ax2.grid(False)\n",
    "ax.legend().remove()\n",
    "ax.margins(0, None)"
   ]
  },
  {
   "cell_type": "code",
   "execution_count": null,
   "id": "61f0caf5",
   "metadata": {},
   "outputs": [],
   "source": [
    "fig, ax = plt.subplots(figsize=figsize)\n",
    "dataf[schema.OutputDataSchema.HEATINGSEASON].plot(ax=ax)\n",
    "ax.set_ylabel(schema.OutputDataSchema.HEATINGSEASON)"
   ]
  },
  {
   "cell_type": "code",
   "execution_count": null,
   "id": "d0d87fd2",
   "metadata": {},
   "outputs": [],
   "source": [
    "fig, ax = plt.subplots(figsize=figsize)\n",
    "ax2 = ax.twinx()\n",
    "resampled_rcmodel_dataf[schema.DataSchema.HEATINGOUTPUT].plot(ax=ax, color=sns.color_palette()[0])\n",
    "ax.set_ylabel(schema.DataSchema.HEATINGOUTPUT, color=sns.color_palette()[0])\n",
    "resampled_rcmodel_dataf[schema.DataSchema.IAT].plot(ax=ax2, color=sns.color_palette()[1])\n",
    "ax2.set_ylabel(schema.DataSchema.IAT, color=sns.color_palette()[1])\n",
    "ax2.set_ylim(0, 30)\n",
    "ax2.grid(False)\n",
    "ax.margins(0, None)"
   ]
  },
  {
   "cell_type": "code",
   "execution_count": null,
   "id": "946f5dc6",
   "metadata": {},
   "outputs": [],
   "source": [
    "resampled_rcmodel_dataf.head()"
   ]
  },
  {
   "cell_type": "code",
   "execution_count": null,
   "id": "9b345a76",
   "metadata": {},
   "outputs": [],
   "source": [
    "fig, ax = plt.subplots(figsize=figsize)\n",
    "\n",
    "measured_IAT[schema.DataSchema.IAT].plot(ax=ax, color='black', linewidth=0.8)\n",
    "resampled_rcmodel_dataf[schema.DataSchema.IAT].plot(ax=ax, color='red', marker='*', markevery=20, linewidth=1)\n",
    "\n",
    "for ii, room in enumerate(individual_rooms_IAT.columns):\n",
    "  individual_rooms_IAT[room].plot(ax=ax, color=sns.color_palette()[ii], linewidth=0.5)\n",
    "list_rooms = [\"Living room\", \"Kitchen\", \"Front bedroom\", \"Rear bedroom\", \"Small bedroom\"]\n",
    "\n",
    "ax.set_ylabel(schema.DataSchema.IAT)\n",
    "\n",
    "ax.set_ylim(0, 35)\n",
    "\n",
    "# ax.grid(False)\n",
    "ax.margins(0, None)\n",
    "handles, labels = ax.get_legend_handles_labels()\n",
    "labels = [\"Measured data\", \"RC model data\"] + list_rooms\n",
    "ax.legend(handles=handles, labels=labels)\n",
    "\n",
    "MAE_results = functions.calculate_MAE(measured_IAT[schema.DataSchema.IAT], resampled_rcmodel_dataf[schema.DataSchema.IAT])\n",
    "print(f\"The MAE of the model compared to measured data is {MAE_results:.2f} degreeC.\")\n",
    "\n",
    "modelled_cooling_degree_hours = calculate_cooling_degree_hours(resampled_rcmodel_dataf[schema.DataSchema.IAT], 24)\n",
    "measured_cooling_degree_hours = calculate_cooling_degree_hours(measured_IAT[schema.DataSchema.IAT], 24)\n",
    "error_cooling_degree_hours = (modelled_cooling_degree_hours-measured_cooling_degree_hours)/measured_cooling_degree_hours\n",
    "print(f'number of modelled cooling degree hours {modelled_cooling_degree_hours}')\n",
    "print(f'number of measured cooling degree hours {measured_cooling_degree_hours}')\n",
    "print(f\"The error in cooling degree hours of the model compared to measured data is {error_cooling_degree_hours:.2%}.\")"
   ]
  },
  {
   "cell_type": "code",
   "execution_count": null,
   "id": "130df1dc",
   "metadata": {},
   "outputs": [],
   "source": []
  },
  {
   "cell_type": "code",
   "execution_count": null,
   "id": "486f6f6c",
   "metadata": {},
   "outputs": [],
   "source": []
  },
  {
   "cell_type": "code",
   "execution_count": null,
   "id": "39c33eec",
   "metadata": {},
   "outputs": [],
   "source": []
  },
  {
   "cell_type": "code",
   "execution_count": null,
   "id": "4cd8627f",
   "metadata": {},
   "outputs": [],
   "source": [
    "fhfgfh\n",
    "\n"
   ]
  },
  {
   "cell_type": "code",
   "execution_count": null,
   "id": "bd59fb54",
   "metadata": {},
   "outputs": [],
   "source": []
  },
  {
   "cell_type": "code",
   "execution_count": null,
   "id": "c6a5c3b2",
   "metadata": {},
   "outputs": [],
   "source": [
    "# Parameters \n",
    "path_results:Path = Path().absolute().parent/\"data\"\n",
    "target_area:enums.Area = enums.Area.CARDIFF\n",
    "target_year:int = 2020\n",
    "CDD_ref_temperature:float = 24\n",
    "solar_gains = True\n",
    "timestep:int = 3600\n",
    "\n",
    "# Dwelling parameters\n",
    "R_dwelling = 1/0.2 #K/kW\n",
    "C_dwelling = 20_000 #kJ/K\n",
    "floor_area = 50 #m2\n",
    "initial_indoor_air_temperature = 21"
   ]
  },
  {
   "cell_type": "code",
   "execution_count": null,
   "id": "2ba3c6c0",
   "metadata": {},
   "outputs": [],
   "source": [
    "# Load outdoor air temperature data for Cardiff\n",
    "input_data = pd.read_csv(path_results/\"raw\"/f\"{target_area.value}_degree_days.csv\", index_col=0, parse_dates=True)\n",
    "input_data"
   ]
  },
  {
   "cell_type": "code",
   "execution_count": null,
   "id": "3d4785de",
   "metadata": {},
   "outputs": [],
   "source": [
    "# Load outdoor air temperature data for Cardiff\n",
    "input_data = pd.read_csv(path_results/\"raw\"/f\"{target_area.value}_degree_days.csv\", index_col=0, parse_dates=True)\n",
    "\n",
    "# Create models\n",
    "dwelling = thermal_model.ThermalModel(R=R_dwelling, C=C_dwelling, initial_indoor_air_temperature=initial_indoor_air_temperature)\n",
    "data_source = source.SimulationData(dwelling, input_data, timestep_simulation=3600)"
   ]
  },
  {
   "cell_type": "code",
   "execution_count": null,
   "id": "ddc062df",
   "metadata": {},
   "outputs": [],
   "source": [
    "fig, ax = plt.subplots(figsize=figsize)\n",
    "dataf = data_source.filter_era5_data(list_years=[target_year])\n",
    "ax2 = ax.twinx()\n",
    "dataf[schema.OutputDataSchema.SOLARRADIATION].plot(ax=ax2, color=sns.color_palette()[1])\n",
    "ax2.set_ylabel(schema.OutputDataSchema.SOLARRADIATION, color=sns.color_palette()[1])\n",
    "dataf[schema.OutputDataSchema.OAT].plot(ax=ax, color=sns.color_palette()[0])\n",
    "ax.set_ylabel(schema.OutputDataSchema.OAT, color=sns.color_palette()[0])\n",
    "\n",
    "ax2.grid(False)\n",
    "ax.set_title(f\"{target_area.value}\")\n",
    "ax.legend().remove()\n",
    "ax.margins(0, None)"
   ]
  },
  {
   "cell_type": "code",
   "execution_count": null,
   "id": "22375d68",
   "metadata": {},
   "outputs": [],
   "source": [
    "fig, ax = plt.subplots(figsize=figsize)\n",
    "dataf[schema.OutputDataSchema.HEATINGSEASON].plot(ax=ax)\n",
    "ax.set_ylabel(schema.OutputDataSchema.HEATINGSEASON)"
   ]
  },
  {
   "cell_type": "code",
   "execution_count": null,
   "id": "7c158f2b",
   "metadata": {},
   "outputs": [],
   "source": [
    "rcmodel_dataf=data_source.create_era5_based_simulation_data(estimate_solar_gains=solar_gains, list_years=[target_year])\n",
    "rcmodel_dataf = dwelling.estimate_heating_demand(rcmodel_dataf)\n",
    "resampled_rcmodel_dataf = data_source.resample_modelling_results(rcmodel_dataf)\n",
    "functions.print_heating_and_cooling_demand(resampled_rcmodel_dataf)"
   ]
  },
  {
   "cell_type": "code",
   "execution_count": null,
   "id": "2f525b96",
   "metadata": {},
   "outputs": [],
   "source": [
    "fig, ax = plt.subplots(figsize=figsize)\n",
    "resampled_rcmodel_dataf[schema.DataSchema.SOLARGAINS].plot(ax=ax, color=sns.color_palette()[0])\n",
    "ax.set_ylabel(schema.DataSchema.SOLARGAINS, color=sns.color_palette()[0])\n",
    "ax.margins(0, None)"
   ]
  },
  {
   "cell_type": "code",
   "execution_count": null,
   "id": "9a51f71f",
   "metadata": {},
   "outputs": [],
   "source": [
    "fig, ax = plt.subplots(figsize=figsize)\n",
    "ax2 = ax.twinx()\n",
    "resampled_rcmodel_dataf[schema.DataSchema.HEATINGOUTPUT].plot(ax=ax, color=sns.color_palette()[0])\n",
    "ax.set_ylabel(schema.DataSchema.HEATINGOUTPUT, color=sns.color_palette()[0])\n",
    "resampled_rcmodel_dataf[schema.DataSchema.IAT].plot(ax=ax2, color=sns.color_palette()[1])\n",
    "ax2.set_ylabel(schema.DataSchema.IAT, color=sns.color_palette()[1])\n",
    "ax2.set_ylim(0, 30)\n",
    "ax2.grid(False)\n",
    "ax.margins(0, None)"
   ]
  },
  {
   "cell_type": "code",
   "execution_count": null,
   "id": "8bb2eb48",
   "metadata": {},
   "outputs": [],
   "source": [
    "resampled_rcmodel_dataf.index= dataf.index\n",
    "resampled_rcmodel_dataf.to_csv(r\"../data/demo_dwelling_results/simulation_results.csv\")"
   ]
  },
  {
   "cell_type": "code",
   "execution_count": null,
   "id": "37617f19",
   "metadata": {},
   "outputs": [],
   "source": [
    "\n",
    "functions.add_time_features(resampled_rcmodel_dataf)\n",
    "\n",
    "resampled_rcmodel_dataf[schema.OutputDataSchema.HEATINGSEASON] = dataf[schema.OutputDataSchema.HEATINGSEASON] \n",
    "resampled_rcmodel_dataf[schema.OutputDataSchema.SOLARRADIATION] = dataf[schema.OutputDataSchema.SOLARRADIATION] "
   ]
  },
  {
   "cell_type": "code",
   "execution_count": null,
   "id": "ff1d66b4",
   "metadata": {},
   "outputs": [],
   "source": []
  },
  {
   "cell_type": "code",
   "execution_count": null,
   "id": "0748c5d7",
   "metadata": {},
   "outputs": [],
   "source": [
    "fig, ax = plt.subplots(figsize=figsize)\n",
    "ax2 = ax.twinx()\n",
    "filt = (resampled_rcmodel_dataf[schema.OutputDataSchema.HEATINGSEASON]==0)\n",
    "\n",
    "(resampled_rcmodel_dataf.loc[filt].groupby(\"Hour\").agg({schema.OutputDataSchema.SOLARRADIATION:\"mean\"})).plot(ax=ax2, color=sns.color_palette()[1])\n",
    "(-resampled_rcmodel_dataf.loc[filt].groupby(\"Hour\").agg({schema.DataSchema.HEATINGOUTPUT:\"mean\"})).plot(ax=ax, color=sns.color_palette()[0])\n",
    "ax.set_ylabel(\"Cooling output (kW)\", color=sns.color_palette()[0])\n",
    "ax.legend().remove()\n",
    "ax2.set_ylabel(schema.OutputDataSchema.SOLARRADIATION, color=sns.color_palette()[1])\n",
    "ax2.grid(False)\n",
    "ax.margins(0, None)"
   ]
  },
  {
   "cell_type": "code",
   "execution_count": null,
   "id": "a376d9db",
   "metadata": {},
   "outputs": [],
   "source": []
  },
  {
   "cell_type": "code",
   "execution_count": null,
   "id": "8d6edb5d",
   "metadata": {},
   "outputs": [],
   "source": [
    "fig, ax = plt.subplots(figsize=figsize)\n",
    "ax2 = ax.twinx()\n",
    "filt = (resampled_rcmodel_dataf[schema.OutputDataSchema.HEATINGSEASON]==0)\n",
    "\n",
    "resampled_rcmodel_dataf.loc[filt].groupby(\"Hour\").agg({schema.DataSchema.IAT:\"mean\"}).plot(ax=ax2, color=sns.color_palette()[1])\n",
    "resampled_rcmodel_dataf.loc[filt].groupby(\"Hour\").agg({schema.DataSchema.OAT:\"mean\"}).plot(ax=ax2, color=sns.color_palette()[2])\n",
    "(-resampled_rcmodel_dataf.loc[filt].groupby(\"Hour\").agg({schema.DataSchema.HEATINGOUTPUT:\"mean\"})).plot(ax=ax, color=sns.color_palette()[0])\n",
    "ax.set_ylabel(\"Cooling output (kW)\", color=sns.color_palette()[0])\n",
    "ax.legend().remove()\n",
    "ax2.set_ylabel(\"Temperature\")\n",
    "ax2.grid(False)\n",
    "ax.margins(0, None)\n",
    "\n"
   ]
  },
  {
   "cell_type": "code",
   "execution_count": null,
   "id": "930d4e5f",
   "metadata": {},
   "outputs": [],
   "source": [
    "resampled_rcmodel_dataf"
   ]
  },
  {
   "cell_type": "code",
   "execution_count": null,
   "id": "f288b50b",
   "metadata": {},
   "outputs": [],
   "source": [
    "dataf"
   ]
  },
  {
   "cell_type": "code",
   "execution_count": null,
   "id": "e5e64b9e",
   "metadata": {},
   "outputs": [],
   "source": [
    "results_dict = {}\n",
    "heating_demand_dict = {}\n",
    "for year in data_source.all_years[5:]:\n",
    "    print(year)\n",
    "    rcmodel_dataf=data_source.create_era5_based_simulation_data(estimate_solar_gains=solar_gains,list_years=[year])\n",
    "    rcmodel_dataf = dwelling.estimate_heating_demand(rcmodel_dataf)\n",
    "    resampled_rcmodel_dataf = data_source.resample_modelling_results(rcmodel_dataf)\n",
    "    heating_demand, cooling_demand = functions.print_heating_and_cooling_demand(resampled_rcmodel_dataf)\n",
    "    results_dict[year] = (heating_demand, cooling_demand)\n",
    "    heating_demand_dict[year] = resampled_rcmodel_dataf.loc[:5088, schema.DataSchema.HEATINGOUTPUT].values\n",
    "results_df = pd.DataFrame(results_dict, index=[schema.ResultSchema.HEATINGDEMAND, schema.ResultSchema.COOLINGDEMAND])\n",
    "results_df.columns.names = [schema.ResultSchema.YEAR]"
   ]
  },
  {
   "cell_type": "code",
   "execution_count": null,
   "id": "29d59110",
   "metadata": {},
   "outputs": [],
   "source": []
  },
  {
   "cell_type": "code",
   "execution_count": null,
   "id": "f488fa26",
   "metadata": {},
   "outputs": [],
   "source": [
    "profiles_df = pd.DataFrame.from_dict(heating_demand_dict)\n"
   ]
  },
  {
   "cell_type": "code",
   "execution_count": null,
   "id": "10b70a72",
   "metadata": {},
   "outputs": [],
   "source": [
    "fig, ax = plt.subplots(figsize=figsize)\n",
    "for c in profiles_df.columns:\n",
    "\n",
    "    profiles_df.loc[3500:, c].rolling(window=48).mean().plot(ax=ax)\n",
    "\n",
    "ax.legend()"
   ]
  },
  {
   "cell_type": "code",
   "execution_count": null,
   "id": "868f27ee",
   "metadata": {},
   "outputs": [],
   "source": [
    "fig, ax = plt.subplots(figsize=figsize)\n",
    "ax2 = ax.twinx()\n",
    "results_df.T[schema.ResultSchema.HEATINGDEMAND].plot(ax=ax, color=sns.color_palette()[0])\n",
    "ax.set_ylabel(schema.ResultSchema.HEATINGDEMAND, color=sns.color_palette()[0])\n",
    "\n",
    "\n",
    "x_arr = results_df.columns\n",
    "y_mean = [results_df.T[schema.ResultSchema.COOLINGDEMAND].mean()]*len(x_arr)\n",
    "ax2.plot(x_arr, y_mean, label=f\"Mean {schema.ResultSchema.COOLINGDEMAND}\", color='red')\n",
    "results_df.T[schema.ResultSchema.COOLINGDEMAND].plot(ax=ax2, color=sns.color_palette()[1])\n",
    "ax2.set_ylabel(schema.ResultSchema.COOLINGDEMAND, color=sns.color_palette()[1])\n",
    "ax2.set_ylim(None, 0)\n",
    "ax.set_ylim(0, None)\n",
    "ax2.grid(False)\n",
    "ax.margins(0, None)\n",
    "lines, labels = ax.get_legend_handles_labels()\n",
    "lines2, labels2 = ax2.get_legend_handles_labels()\n",
    "ax2.legend(lines + lines2, labels + labels2, loc=0)"
   ]
  }
 ],
 "metadata": {
  "kernelspec": {
   "display_name": "Python 3.10.7 ('degree_days': venv)",
   "language": "python",
   "name": "python3"
  },
  "language_info": {
   "codemirror_mode": {
    "name": "ipython",
    "version": 3
   },
   "file_extension": ".py",
   "mimetype": "text/x-python",
   "name": "python",
   "nbconvert_exporter": "python",
   "pygments_lexer": "ipython3",
   "version": "3.10.7"
  },
  "vscode": {
   "interpreter": {
    "hash": "4dee939fb3b4de230198db21b7ca14f383f52f4aba21cf97569bc855125f1cdf"
   }
  }
 },
 "nbformat": 4,
 "nbformat_minor": 5
}
